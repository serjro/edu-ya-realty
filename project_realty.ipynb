{
 "cells": [
  {
   "cell_type": "markdown",
   "metadata": {},
   "source": [
    "# Исследование надёжности заёмщиков\n",
    "\n",
    "Заказчик — кредитный отдел банка. Нужно разобраться, влияет ли семейное положение и количество детей клиента на факт погашения кредита в срок. Входные данные от банка — статистика о платёжеспособности клиентов.\n",
    "\n",
    "Результаты исследования будут учтены при построении модели **кредитного скоринга** — специальной системы, которая оценивает способность потенциального заёмщика вернуть кредит банку."
   ]
  },
  {
   "cell_type": "code",
   "execution_count": 1,
   "metadata": {},
   "outputs": [],
   "source": [
    "# Импортируем используемые библиотеки\n",
    "import pandas as pd\n",
    "import numpy as np\n",
    "import matplotlib.pyplot as plt\n",
    "from pymystem3 import Mystem\n",
    "from collections import Counter\n",
    "import warnings\n",
    "m = Mystem() "
   ]
  },
  {
   "cell_type": "markdown",
   "metadata": {},
   "source": [
    "## Шаг 1. Откройте файл с данными и изучите общую информацию"
   ]
  },
  {
   "cell_type": "code",
   "execution_count": 2,
   "metadata": {},
   "outputs": [
    {
     "name": "stdout",
     "output_type": "stream",
     "text": [
      "<class 'pandas.core.frame.DataFrame'>\n",
      "RangeIndex: 21525 entries, 0 to 21524\n",
      "Data columns (total 12 columns):\n",
      "children            21525 non-null int64\n",
      "days_employed       19351 non-null float64\n",
      "dob_years           21525 non-null int64\n",
      "education           21525 non-null object\n",
      "education_id        21525 non-null int64\n",
      "family_status       21525 non-null object\n",
      "family_status_id    21525 non-null int64\n",
      "gender              21525 non-null object\n",
      "income_type         21525 non-null object\n",
      "debt                21525 non-null int64\n",
      "total_income        19351 non-null float64\n",
      "purpose             21525 non-null object\n",
      "dtypes: float64(2), int64(5), object(5)\n",
      "memory usage: 2.0+ MB\n"
     ]
    }
   ],
   "source": [
    "# Считывание файла data.csv в датафрейм df и вывод информации о его структуре\n",
    "df=pd.read_csv('/datasets/data.csv')\n",
    "df.info()"
   ]
  },
  {
   "cell_type": "code",
   "execution_count": 3,
   "metadata": {},
   "outputs": [
    {
     "data": {
      "text/html": [
       "<div>\n",
       "<style scoped>\n",
       "    .dataframe tbody tr th:only-of-type {\n",
       "        vertical-align: middle;\n",
       "    }\n",
       "\n",
       "    .dataframe tbody tr th {\n",
       "        vertical-align: top;\n",
       "    }\n",
       "\n",
       "    .dataframe thead th {\n",
       "        text-align: right;\n",
       "    }\n",
       "</style>\n",
       "<table border=\"1\" class=\"dataframe\">\n",
       "  <thead>\n",
       "    <tr style=\"text-align: right;\">\n",
       "      <th></th>\n",
       "      <th>children</th>\n",
       "      <th>days_employed</th>\n",
       "      <th>dob_years</th>\n",
       "      <th>education</th>\n",
       "      <th>education_id</th>\n",
       "      <th>family_status</th>\n",
       "      <th>family_status_id</th>\n",
       "      <th>gender</th>\n",
       "      <th>income_type</th>\n",
       "      <th>debt</th>\n",
       "      <th>total_income</th>\n",
       "      <th>purpose</th>\n",
       "    </tr>\n",
       "  </thead>\n",
       "  <tbody>\n",
       "    <tr>\n",
       "      <td>0</td>\n",
       "      <td>1</td>\n",
       "      <td>-8437.673028</td>\n",
       "      <td>42</td>\n",
       "      <td>высшее</td>\n",
       "      <td>0</td>\n",
       "      <td>женат / замужем</td>\n",
       "      <td>0</td>\n",
       "      <td>F</td>\n",
       "      <td>сотрудник</td>\n",
       "      <td>0</td>\n",
       "      <td>253875.639453</td>\n",
       "      <td>покупка жилья</td>\n",
       "    </tr>\n",
       "    <tr>\n",
       "      <td>1</td>\n",
       "      <td>1</td>\n",
       "      <td>-4024.803754</td>\n",
       "      <td>36</td>\n",
       "      <td>среднее</td>\n",
       "      <td>1</td>\n",
       "      <td>женат / замужем</td>\n",
       "      <td>0</td>\n",
       "      <td>F</td>\n",
       "      <td>сотрудник</td>\n",
       "      <td>0</td>\n",
       "      <td>112080.014102</td>\n",
       "      <td>приобретение автомобиля</td>\n",
       "    </tr>\n",
       "    <tr>\n",
       "      <td>2</td>\n",
       "      <td>0</td>\n",
       "      <td>-5623.422610</td>\n",
       "      <td>33</td>\n",
       "      <td>Среднее</td>\n",
       "      <td>1</td>\n",
       "      <td>женат / замужем</td>\n",
       "      <td>0</td>\n",
       "      <td>M</td>\n",
       "      <td>сотрудник</td>\n",
       "      <td>0</td>\n",
       "      <td>145885.952297</td>\n",
       "      <td>покупка жилья</td>\n",
       "    </tr>\n",
       "    <tr>\n",
       "      <td>3</td>\n",
       "      <td>3</td>\n",
       "      <td>-4124.747207</td>\n",
       "      <td>32</td>\n",
       "      <td>среднее</td>\n",
       "      <td>1</td>\n",
       "      <td>женат / замужем</td>\n",
       "      <td>0</td>\n",
       "      <td>M</td>\n",
       "      <td>сотрудник</td>\n",
       "      <td>0</td>\n",
       "      <td>267628.550329</td>\n",
       "      <td>дополнительное образование</td>\n",
       "    </tr>\n",
       "    <tr>\n",
       "      <td>4</td>\n",
       "      <td>0</td>\n",
       "      <td>340266.072047</td>\n",
       "      <td>53</td>\n",
       "      <td>среднее</td>\n",
       "      <td>1</td>\n",
       "      <td>гражданский брак</td>\n",
       "      <td>1</td>\n",
       "      <td>F</td>\n",
       "      <td>пенсионер</td>\n",
       "      <td>0</td>\n",
       "      <td>158616.077870</td>\n",
       "      <td>сыграть свадьбу</td>\n",
       "    </tr>\n",
       "  </tbody>\n",
       "</table>\n",
       "</div>"
      ],
      "text/plain": [
       "   children  days_employed  dob_years education  education_id  \\\n",
       "0         1   -8437.673028         42    высшее             0   \n",
       "1         1   -4024.803754         36   среднее             1   \n",
       "2         0   -5623.422610         33   Среднее             1   \n",
       "3         3   -4124.747207         32   среднее             1   \n",
       "4         0  340266.072047         53   среднее             1   \n",
       "\n",
       "      family_status  family_status_id gender income_type  debt   total_income  \\\n",
       "0   женат / замужем                 0      F   сотрудник     0  253875.639453   \n",
       "1   женат / замужем                 0      F   сотрудник     0  112080.014102   \n",
       "2   женат / замужем                 0      M   сотрудник     0  145885.952297   \n",
       "3   женат / замужем                 0      M   сотрудник     0  267628.550329   \n",
       "4  гражданский брак                 1      F   пенсионер     0  158616.077870   \n",
       "\n",
       "                      purpose  \n",
       "0               покупка жилья  \n",
       "1     приобретение автомобиля  \n",
       "2               покупка жилья  \n",
       "3  дополнительное образование  \n",
       "4             сыграть свадьбу  "
      ]
     },
     "execution_count": 3,
     "metadata": {},
     "output_type": "execute_result"
    }
   ],
   "source": [
    "# Вывод первых 5 строк датафрейма\n",
    "df.head()"
   ]
  },
  {
   "cell_type": "markdown",
   "metadata": {},
   "source": [
    "**Вывод**"
   ]
  },
  {
   "cell_type": "markdown",
   "metadata": {},
   "source": [
    "Датасет состоит из 12 столбцов на 21525 строк. Два столбца имеют тип float64, по 5 int64 и object. Два столбца имеют пропуски в количестве 2174."
   ]
  },
  {
   "cell_type": "markdown",
   "metadata": {},
   "source": [
    "## Шаг 2. Предобработка данных"
   ]
  },
  {
   "cell_type": "markdown",
   "metadata": {},
   "source": [
    "### Обработка пропусков"
   ]
  },
  {
   "cell_type": "markdown",
   "metadata": {},
   "source": [
    "Выведем столбцы с пропущенными значениями в процентном соотношении к общему обьему"
   ]
  },
  {
   "cell_type": "code",
   "execution_count": 4,
   "metadata": {},
   "outputs": [
    {
     "name": "stdout",
     "output_type": "stream",
     "text": [
      "all_data size is : (21525, 12)\n"
     ]
    },
    {
     "data": {
      "text/html": [
       "<div>\n",
       "<style scoped>\n",
       "    .dataframe tbody tr th:only-of-type {\n",
       "        vertical-align: middle;\n",
       "    }\n",
       "\n",
       "    .dataframe tbody tr th {\n",
       "        vertical-align: top;\n",
       "    }\n",
       "\n",
       "    .dataframe thead th {\n",
       "        text-align: right;\n",
       "    }\n",
       "</style>\n",
       "<table border=\"1\" class=\"dataframe\">\n",
       "  <thead>\n",
       "    <tr style=\"text-align: right;\">\n",
       "      <th></th>\n",
       "      <th>Missing Ratio</th>\n",
       "    </tr>\n",
       "  </thead>\n",
       "  <tbody>\n",
       "    <tr>\n",
       "      <td>total_income</td>\n",
       "      <td>10.099884</td>\n",
       "    </tr>\n",
       "    <tr>\n",
       "      <td>days_employed</td>\n",
       "      <td>10.099884</td>\n",
       "    </tr>\n",
       "  </tbody>\n",
       "</table>\n",
       "</div>"
      ],
      "text/plain": [
       "               Missing Ratio\n",
       "total_income       10.099884\n",
       "days_employed      10.099884"
      ]
     },
     "execution_count": 4,
     "metadata": {},
     "output_type": "execute_result"
    }
   ],
   "source": [
    "all_data = df.reset_index(drop=True)\n",
    "print(f'all_data size is : {all_data.shape}')\n",
    "all_data_na = (all_data.isna().sum() / len(all_data)) * 100\n",
    "all_data_na = all_data_na.drop(\n",
    "    all_data_na[all_data_na == 0].index).sort_values(ascending=False)\n",
    "missing_data = pd.DataFrame({'Missing Ratio': all_data_na})\n",
    "missing_data"
   ]
  },
  {
   "cell_type": "markdown",
   "metadata": {},
   "source": [
    "Пропущены значения по доходу и трудовой стаж\n",
    "Выведем строки с пропущенными значениями"
   ]
  },
  {
   "cell_type": "code",
   "execution_count": 5,
   "metadata": {},
   "outputs": [
    {
     "data": {
      "text/html": [
       "<div>\n",
       "<style scoped>\n",
       "    .dataframe tbody tr th:only-of-type {\n",
       "        vertical-align: middle;\n",
       "    }\n",
       "\n",
       "    .dataframe tbody tr th {\n",
       "        vertical-align: top;\n",
       "    }\n",
       "\n",
       "    .dataframe thead th {\n",
       "        text-align: right;\n",
       "    }\n",
       "</style>\n",
       "<table border=\"1\" class=\"dataframe\">\n",
       "  <thead>\n",
       "    <tr style=\"text-align: right;\">\n",
       "      <th></th>\n",
       "      <th>children</th>\n",
       "      <th>days_employed</th>\n",
       "      <th>dob_years</th>\n",
       "      <th>education</th>\n",
       "      <th>education_id</th>\n",
       "      <th>family_status</th>\n",
       "      <th>family_status_id</th>\n",
       "      <th>gender</th>\n",
       "      <th>income_type</th>\n",
       "      <th>debt</th>\n",
       "      <th>total_income</th>\n",
       "      <th>purpose</th>\n",
       "    </tr>\n",
       "  </thead>\n",
       "  <tbody>\n",
       "    <tr>\n",
       "      <td>12</td>\n",
       "      <td>0</td>\n",
       "      <td>NaN</td>\n",
       "      <td>65</td>\n",
       "      <td>среднее</td>\n",
       "      <td>1</td>\n",
       "      <td>гражданский брак</td>\n",
       "      <td>1</td>\n",
       "      <td>M</td>\n",
       "      <td>пенсионер</td>\n",
       "      <td>0</td>\n",
       "      <td>NaN</td>\n",
       "      <td>сыграть свадьбу</td>\n",
       "    </tr>\n",
       "    <tr>\n",
       "      <td>26</td>\n",
       "      <td>0</td>\n",
       "      <td>NaN</td>\n",
       "      <td>41</td>\n",
       "      <td>среднее</td>\n",
       "      <td>1</td>\n",
       "      <td>женат / замужем</td>\n",
       "      <td>0</td>\n",
       "      <td>M</td>\n",
       "      <td>госслужащий</td>\n",
       "      <td>0</td>\n",
       "      <td>NaN</td>\n",
       "      <td>образование</td>\n",
       "    </tr>\n",
       "    <tr>\n",
       "      <td>29</td>\n",
       "      <td>0</td>\n",
       "      <td>NaN</td>\n",
       "      <td>63</td>\n",
       "      <td>среднее</td>\n",
       "      <td>1</td>\n",
       "      <td>Не женат / не замужем</td>\n",
       "      <td>4</td>\n",
       "      <td>F</td>\n",
       "      <td>пенсионер</td>\n",
       "      <td>0</td>\n",
       "      <td>NaN</td>\n",
       "      <td>строительство жилой недвижимости</td>\n",
       "    </tr>\n",
       "    <tr>\n",
       "      <td>41</td>\n",
       "      <td>0</td>\n",
       "      <td>NaN</td>\n",
       "      <td>50</td>\n",
       "      <td>среднее</td>\n",
       "      <td>1</td>\n",
       "      <td>женат / замужем</td>\n",
       "      <td>0</td>\n",
       "      <td>F</td>\n",
       "      <td>госслужащий</td>\n",
       "      <td>0</td>\n",
       "      <td>NaN</td>\n",
       "      <td>сделка с подержанным автомобилем</td>\n",
       "    </tr>\n",
       "    <tr>\n",
       "      <td>55</td>\n",
       "      <td>0</td>\n",
       "      <td>NaN</td>\n",
       "      <td>54</td>\n",
       "      <td>среднее</td>\n",
       "      <td>1</td>\n",
       "      <td>гражданский брак</td>\n",
       "      <td>1</td>\n",
       "      <td>F</td>\n",
       "      <td>пенсионер</td>\n",
       "      <td>1</td>\n",
       "      <td>NaN</td>\n",
       "      <td>сыграть свадьбу</td>\n",
       "    </tr>\n",
       "    <tr>\n",
       "      <td>65</td>\n",
       "      <td>0</td>\n",
       "      <td>NaN</td>\n",
       "      <td>21</td>\n",
       "      <td>среднее</td>\n",
       "      <td>1</td>\n",
       "      <td>Не женат / не замужем</td>\n",
       "      <td>4</td>\n",
       "      <td>M</td>\n",
       "      <td>компаньон</td>\n",
       "      <td>0</td>\n",
       "      <td>NaN</td>\n",
       "      <td>операции с коммерческой недвижимостью</td>\n",
       "    </tr>\n",
       "    <tr>\n",
       "      <td>67</td>\n",
       "      <td>0</td>\n",
       "      <td>NaN</td>\n",
       "      <td>52</td>\n",
       "      <td>высшее</td>\n",
       "      <td>0</td>\n",
       "      <td>женат / замужем</td>\n",
       "      <td>0</td>\n",
       "      <td>F</td>\n",
       "      <td>пенсионер</td>\n",
       "      <td>0</td>\n",
       "      <td>NaN</td>\n",
       "      <td>покупка жилья для семьи</td>\n",
       "    </tr>\n",
       "    <tr>\n",
       "      <td>72</td>\n",
       "      <td>1</td>\n",
       "      <td>NaN</td>\n",
       "      <td>32</td>\n",
       "      <td>высшее</td>\n",
       "      <td>0</td>\n",
       "      <td>женат / замужем</td>\n",
       "      <td>0</td>\n",
       "      <td>M</td>\n",
       "      <td>госслужащий</td>\n",
       "      <td>0</td>\n",
       "      <td>NaN</td>\n",
       "      <td>операции с коммерческой недвижимостью</td>\n",
       "    </tr>\n",
       "    <tr>\n",
       "      <td>82</td>\n",
       "      <td>2</td>\n",
       "      <td>NaN</td>\n",
       "      <td>50</td>\n",
       "      <td>высшее</td>\n",
       "      <td>0</td>\n",
       "      <td>женат / замужем</td>\n",
       "      <td>0</td>\n",
       "      <td>F</td>\n",
       "      <td>сотрудник</td>\n",
       "      <td>0</td>\n",
       "      <td>NaN</td>\n",
       "      <td>жилье</td>\n",
       "    </tr>\n",
       "    <tr>\n",
       "      <td>83</td>\n",
       "      <td>0</td>\n",
       "      <td>NaN</td>\n",
       "      <td>52</td>\n",
       "      <td>среднее</td>\n",
       "      <td>1</td>\n",
       "      <td>женат / замужем</td>\n",
       "      <td>0</td>\n",
       "      <td>M</td>\n",
       "      <td>сотрудник</td>\n",
       "      <td>0</td>\n",
       "      <td>NaN</td>\n",
       "      <td>жилье</td>\n",
       "    </tr>\n",
       "  </tbody>\n",
       "</table>\n",
       "</div>"
      ],
      "text/plain": [
       "    children  days_employed  dob_years education  education_id  \\\n",
       "12         0            NaN         65   среднее             1   \n",
       "26         0            NaN         41   среднее             1   \n",
       "29         0            NaN         63   среднее             1   \n",
       "41         0            NaN         50   среднее             1   \n",
       "55         0            NaN         54   среднее             1   \n",
       "65         0            NaN         21   среднее             1   \n",
       "67         0            NaN         52    высшее             0   \n",
       "72         1            NaN         32    высшее             0   \n",
       "82         2            NaN         50    высшее             0   \n",
       "83         0            NaN         52   среднее             1   \n",
       "\n",
       "            family_status  family_status_id gender  income_type  debt  \\\n",
       "12       гражданский брак                 1      M    пенсионер     0   \n",
       "26        женат / замужем                 0      M  госслужащий     0   \n",
       "29  Не женат / не замужем                 4      F    пенсионер     0   \n",
       "41        женат / замужем                 0      F  госслужащий     0   \n",
       "55       гражданский брак                 1      F    пенсионер     1   \n",
       "65  Не женат / не замужем                 4      M    компаньон     0   \n",
       "67        женат / замужем                 0      F    пенсионер     0   \n",
       "72        женат / замужем                 0      M  госслужащий     0   \n",
       "82        женат / замужем                 0      F    сотрудник     0   \n",
       "83        женат / замужем                 0      M    сотрудник     0   \n",
       "\n",
       "    total_income                                purpose  \n",
       "12           NaN                        сыграть свадьбу  \n",
       "26           NaN                            образование  \n",
       "29           NaN       строительство жилой недвижимости  \n",
       "41           NaN       сделка с подержанным автомобилем  \n",
       "55           NaN                        сыграть свадьбу  \n",
       "65           NaN  операции с коммерческой недвижимостью  \n",
       "67           NaN                покупка жилья для семьи  \n",
       "72           NaN  операции с коммерческой недвижимостью  \n",
       "82           NaN                                  жилье  \n",
       "83           NaN                                  жилье  "
      ]
     },
     "execution_count": 5,
     "metadata": {},
     "output_type": "execute_result"
    }
   ],
   "source": [
    "df[df['total_income'].isna()].head(10)"
   ]
  },
  {
   "cell_type": "markdown",
   "metadata": {},
   "source": [
    "Возможные причины пропуска: технологический сбои или отсутствие данных по клиентам\n",
    "Сравним количество пропусков"
   ]
  },
  {
   "cell_type": "code",
   "execution_count": 6,
   "metadata": {},
   "outputs": [
    {
     "data": {
      "text/plain": [
       "children               0\n",
       "days_employed       2174\n",
       "dob_years              0\n",
       "education              0\n",
       "education_id           0\n",
       "family_status          0\n",
       "family_status_id       0\n",
       "gender                 0\n",
       "income_type            0\n",
       "debt                   0\n",
       "total_income        2174\n",
       "purpose                0\n",
       "dtype: int64"
      ]
     },
     "execution_count": 6,
     "metadata": {},
     "output_type": "execute_result"
    }
   ],
   "source": [
    "df.isna().sum()"
   ]
  },
  {
   "cell_type": "markdown",
   "metadata": {},
   "source": [
    "Выведем список по типу занятости"
   ]
  },
  {
   "cell_type": "code",
   "execution_count": 7,
   "metadata": {},
   "outputs": [
    {
     "data": {
      "text/plain": [
       "array(['сотрудник', 'пенсионер', 'компаньон', 'госслужащий',\n",
       "       'безработный', 'предприниматель', 'студент', 'в декрете'],\n",
       "      dtype=object)"
      ]
     },
     "execution_count": 7,
     "metadata": {},
     "output_type": "execute_result"
    }
   ],
   "source": [
    "df['income_type'].unique()"
   ]
  },
  {
   "cell_type": "code",
   "execution_count": 8,
   "metadata": {},
   "outputs": [
    {
     "data": {
      "text/html": [
       "<div>\n",
       "<style scoped>\n",
       "    .dataframe tbody tr th:only-of-type {\n",
       "        vertical-align: middle;\n",
       "    }\n",
       "\n",
       "    .dataframe tbody tr th {\n",
       "        vertical-align: top;\n",
       "    }\n",
       "\n",
       "    .dataframe thead th {\n",
       "        text-align: right;\n",
       "    }\n",
       "</style>\n",
       "<table border=\"1\" class=\"dataframe\">\n",
       "  <thead>\n",
       "    <tr style=\"text-align: right;\">\n",
       "      <th></th>\n",
       "      <th>children</th>\n",
       "      <th>days_employed</th>\n",
       "      <th>dob_years</th>\n",
       "      <th>education</th>\n",
       "      <th>education_id</th>\n",
       "      <th>family_status</th>\n",
       "      <th>family_status_id</th>\n",
       "      <th>gender</th>\n",
       "      <th>income_type</th>\n",
       "      <th>debt</th>\n",
       "      <th>total_income</th>\n",
       "      <th>purpose</th>\n",
       "    </tr>\n",
       "  </thead>\n",
       "  <tbody>\n",
       "    <tr>\n",
       "      <td>3133</td>\n",
       "      <td>1</td>\n",
       "      <td>337524.466835</td>\n",
       "      <td>31</td>\n",
       "      <td>среднее</td>\n",
       "      <td>1</td>\n",
       "      <td>женат / замужем</td>\n",
       "      <td>0</td>\n",
       "      <td>M</td>\n",
       "      <td>безработный</td>\n",
       "      <td>1</td>\n",
       "      <td>59956.991984</td>\n",
       "      <td>покупка жилья для сдачи</td>\n",
       "    </tr>\n",
       "    <tr>\n",
       "      <td>14798</td>\n",
       "      <td>0</td>\n",
       "      <td>395302.838654</td>\n",
       "      <td>45</td>\n",
       "      <td>Высшее</td>\n",
       "      <td>0</td>\n",
       "      <td>гражданский брак</td>\n",
       "      <td>1</td>\n",
       "      <td>F</td>\n",
       "      <td>безработный</td>\n",
       "      <td>0</td>\n",
       "      <td>202722.511368</td>\n",
       "      <td>ремонт жилью</td>\n",
       "    </tr>\n",
       "  </tbody>\n",
       "</table>\n",
       "</div>"
      ],
      "text/plain": [
       "       children  days_employed  dob_years education  education_id  \\\n",
       "3133          1  337524.466835         31   среднее             1   \n",
       "14798         0  395302.838654         45    Высшее             0   \n",
       "\n",
       "          family_status  family_status_id gender  income_type  debt  \\\n",
       "3133    женат / замужем                 0      M  безработный     1   \n",
       "14798  гражданский брак                 1      F  безработный     0   \n",
       "\n",
       "        total_income                  purpose  \n",
       "3133    59956.991984  покупка жилья для сдачи  \n",
       "14798  202722.511368             ремонт жилью  "
      ]
     },
     "execution_count": 8,
     "metadata": {},
     "output_type": "execute_result"
    }
   ],
   "source": [
    "df[df['income_type']=='безработный']"
   ]
  },
  {
   "cell_type": "markdown",
   "metadata": {},
   "source": [
    "Просмотр используемых значений по столбцам"
   ]
  },
  {
   "cell_type": "code",
   "execution_count": 9,
   "metadata": {
    "scrolled": false
   },
   "outputs": [
    {
     "data": {
      "text/plain": [
       " 0     14149\n",
       " 1      4818\n",
       " 2      2055\n",
       " 3       330\n",
       " 20       76\n",
       "-1        47\n",
       " 4        41\n",
       " 5         9\n",
       "Name: children, dtype: int64"
      ]
     },
     "execution_count": 9,
     "metadata": {},
     "output_type": "execute_result"
    }
   ],
   "source": [
    "df['children'].value_counts()"
   ]
  },
  {
   "cell_type": "markdown",
   "metadata": {},
   "source": [
    "Заменим выбросы по children на возможные значения\n",
    "Возможно допущена опечатка"
   ]
  },
  {
   "cell_type": "code",
   "execution_count": 10,
   "metadata": {},
   "outputs": [],
   "source": [
    "df.loc[df['children'] == 20, 'children'] = 2\n",
    "df.loc[df['children'] == -1, 'children'] = 1"
   ]
  },
  {
   "cell_type": "markdown",
   "metadata": {},
   "source": [
    "Замена пропусков на медианные и средние значения\n",
    "Проверим количество пропусков"
   ]
  },
  {
   "cell_type": "code",
   "execution_count": 11,
   "metadata": {},
   "outputs": [
    {
     "data": {
      "text/plain": [
       "2174"
      ]
     },
     "execution_count": 11,
     "metadata": {},
     "output_type": "execute_result"
    }
   ],
   "source": [
    "df['total_income'].isnull().sum()"
   ]
  },
  {
   "cell_type": "code",
   "execution_count": 12,
   "metadata": {},
   "outputs": [
    {
     "data": {
      "text/plain": [
       "135339.832421    284\n",
       "112586.162231    162\n",
       "138620.816715    125\n",
       "138048.623570     97\n",
       "161806.370168     90\n",
       "                ... \n",
       "158637.693529      1\n",
       "163856.100529      1\n",
       "50468.619944       1\n",
       "240127.623122      1\n",
       "150014.128510      1\n",
       "Name: total_income, Length: 19416, dtype: int64"
      ]
     },
     "execution_count": 12,
     "metadata": {},
     "output_type": "execute_result"
    }
   ],
   "source": [
    "# Использован перебор по уникальным значениям, чтобы предотвратить большое количество дубликатов при замене на среднее\n",
    "with warnings.catch_warnings():\n",
    "    warnings.simplefilter(\"ignore\", category=RuntimeWarning)\n",
    "    for i in df['income_type'].unique():\n",
    "        for j in df['education_id'].unique():\n",
    "            for n in df['family_status_id'].unique():\n",
    "                for p in df['children'].unique():\n",
    "                    try:\n",
    "                        df.loc[(df['children']==p) & (df['family_status_id']==n) & (df['income_type']==i) & (df['education_id']==j) ,'total_income']=\\\n",
    "                        df.loc[(df['children']==p) & (df['family_status_id']==n) & (df['income_type']==i) & (df['education_id']==j) ,'total_income'].\\\n",
    "                        fillna(df.loc[(df['children']==p) & (df['family_status_id']==n) & (df['income_type']==i) & (df['education_id']==j) ,'total_income'].median())\n",
    "                    except:\n",
    "                        pass\n",
    "# Заменяем на медиану, чтобы уменьшить смещение средних значений\n",
    "df['total_income'].fillna(df['total_income'].median(), inplace=True)\n",
    "df['total_income'].value_counts()      "
   ]
  },
  {
   "cell_type": "markdown",
   "metadata": {},
   "source": [
    "Созданные ниже дубликаты можно полностью нивелировать, подключив расчет среднего\n",
    "значения по возрасту, но тогда пересчет и заполнение займет значительное время"
   ]
  },
  {
   "cell_type": "code",
   "execution_count": 13,
   "metadata": {},
   "outputs": [
    {
     "data": {
      "text/plain": [
       "0"
      ]
     },
     "execution_count": 13,
     "metadata": {},
     "output_type": "execute_result"
    }
   ],
   "source": [
    "df['total_income'].isnull().sum()"
   ]
  },
  {
   "cell_type": "markdown",
   "metadata": {},
   "source": [
    "Проверка по days_employed"
   ]
  },
  {
   "cell_type": "code",
   "execution_count": 14,
   "metadata": {},
   "outputs": [
    {
     "name": "stdout",
     "output_type": "stream",
     "text": [
      "-18388.949900568383 401755.40047533\n"
     ]
    },
    {
     "data": {
      "text/plain": [
       "2174"
      ]
     },
     "execution_count": 14,
     "metadata": {},
     "output_type": "execute_result"
    }
   ],
   "source": [
    "print(df['days_employed'].min(),df['days_employed'].max())\n",
    "df[df['days_employed'].isna()]['children'].count()"
   ]
  },
  {
   "cell_type": "markdown",
   "metadata": {},
   "source": [
    "Возьмем за основу, что стаж не может быть больше, чем  'возраст-16' и заменим пропуски по возрасту\n",
    "при отсутсвии возраста на среднее значение"
   ]
  },
  {
   "cell_type": "code",
   "execution_count": 15,
   "metadata": {},
   "outputs": [],
   "source": [
    "df.loc[df['dob_years']==0,'days_employed'].fillna(df['days_employed'].mean(), inplace=True)\n",
    "df['days_employed'].fillna(((df['dob_years']-16)*365).mean(), inplace=True)"
   ]
  },
  {
   "cell_type": "code",
   "execution_count": 16,
   "metadata": {},
   "outputs": [
    {
     "data": {
      "text/plain": [
       "<matplotlib.axes._subplots.AxesSubplot at 0x7f54e6e6ce90>"
      ]
     },
     "execution_count": 16,
     "metadata": {},
     "output_type": "execute_result"
    },
    {
     "data": {
      "image/png": "[encoded data removed]",
      "text/plain": [
       "<Figure size 432x288 with 1 Axes>"
      ]
     },
     "metadata": {
      "needs_background": "light"
     },
     "output_type": "display_data"
    }
   ],
   "source": [
    "df[df['days_employed']>0]['days_employed'].plot(kind=\"hist\")\n",
    "# Значения не входят в допустимые нормы трудового стажа 0<X<20000, где 0-отсутствие, 20к-стаж более 50 лет"
   ]
  },
  {
   "cell_type": "markdown",
   "metadata": {},
   "source": [
    "Но если самый верхний диапозон значений представить в часах, мы получим корректные значения в рамках возможного диапазона лет"
   ]
  },
  {
   "cell_type": "code",
   "execution_count": 17,
   "metadata": {},
   "outputs": [
    {
     "data": {
      "text/plain": [
       "<matplotlib.axes._subplots.AxesSubplot at 0x7f54dea3bd90>"
      ]
     },
     "execution_count": 17,
     "metadata": {},
     "output_type": "execute_result"
    },
    {
     "data": {
      "image/png": "[encoded data removed]",
      "text/plain": [
       "<Figure size 432x288 with 1 Axes>"
      ]
     },
     "metadata": {
      "needs_background": "light"
     },
     "output_type": "display_data"
    }
   ],
   "source": [
    "(df[df['days_employed']>100000]['days_employed']/365/24).plot(kind=\"hist\")"
   ]
  },
  {
   "cell_type": "markdown",
   "metadata": {},
   "source": [
    "Как видим средний диапазон это дубликаты появившиесие вследствие наличия пропусков сразу по двум столбцам, поэтому\n",
    "оставим их без изменений"
   ]
  },
  {
   "cell_type": "code",
   "execution_count": 18,
   "metadata": {},
   "outputs": [
    {
     "name": "stdout",
     "output_type": "stream",
     "text": [
      "Уникальные значения: [9962.08362369]\n"
     ]
    },
    {
     "data": {
      "image/png": "[encoded data removed]",
      "text/plain": [
       "<Figure size 432x288 with 1 Axes>"
      ]
     },
     "metadata": {
      "needs_background": "light"
     },
     "output_type": "display_data"
    }
   ],
   "source": [
    "df.loc[(df['days_employed']>0) & (df['days_employed']<100000)]['days_employed'].plot(kind=\"hist\")\n",
    "print(\"Уникальные значения:\",df.loc[(df['days_employed']>0) & (df['days_employed']<100000)]['days_employed'].unique())"
   ]
  },
  {
   "cell_type": "markdown",
   "metadata": {},
   "source": [
    "Исправим выбросы по days_employed"
   ]
  },
  {
   "cell_type": "code",
   "execution_count": 19,
   "metadata": {},
   "outputs": [
    {
     "name": "stdout",
     "output_type": "stream",
     "text": [
      "Минимальный трудовой стаж(лет): 0\n",
      "Максимальный трудовой стаж(лет): 50\n"
     ]
    }
   ],
   "source": [
    "df['days_employed']=df['days_employed'].abs()\n",
    "df.loc[df['days_employed']>50000,'days_employed']=df['days_employed']/24\n",
    "print(\"Минимальный трудовой стаж(лет):\",(df['days_employed'].min()/365).astype('int'))\n",
    "print(\"Максимальный трудовой стаж(лет):\",(df['days_employed'].max()/365).astype('int'))"
   ]
  },
  {
   "cell_type": "markdown",
   "metadata": {},
   "source": [
    "Диаграмма распределения стажа в годах"
   ]
  },
  {
   "cell_type": "code",
   "execution_count": 20,
   "metadata": {},
   "outputs": [
    {
     "data": {
      "text/plain": [
       "[]"
      ]
     },
     "execution_count": 20,
     "metadata": {},
     "output_type": "execute_result"
    },
    {
     "data": {
      "image/png": "[encoded data removed]",
      "text/plain": [
       "<Figure size 432x288 with 1 Axes>"
      ]
     },
     "metadata": {
      "needs_background": "light"
     },
     "output_type": "display_data"
    }
   ],
   "source": [
    "(df['days_employed']/365).plot(kind=\"hist\").plot(kind=\"hist\")"
   ]
  },
  {
   "cell_type": "markdown",
   "metadata": {},
   "source": [
    "Диаграмма распределения стажа до 5 лет"
   ]
  },
  {
   "cell_type": "code",
   "execution_count": 21,
   "metadata": {},
   "outputs": [
    {
     "data": {
      "text/plain": [
       "[]"
      ]
     },
     "execution_count": 21,
     "metadata": {},
     "output_type": "execute_result"
    },
    {
     "data": {
      "image/png": "[encoded data removed]",
      "text/plain": [
       "<Figure size 432x288 with 1 Axes>"
      ]
     },
     "metadata": {
      "needs_background": "light"
     },
     "output_type": "display_data"
    }
   ],
   "source": [
    "(df[df['days_employed']<5*365]['days_employed']/365).plot(kind=\"hist\").plot(kind=\"hist\")"
   ]
  },
  {
   "cell_type": "markdown",
   "metadata": {},
   "source": [
    "dob_years"
   ]
  },
  {
   "cell_type": "code",
   "execution_count": 22,
   "metadata": {},
   "outputs": [
    {
     "data": {
      "text/plain": [
       "'0, 19, 20, 21, 22, 23, 24, 25, 26, 27, 28, 29, 30, 31, 32, 33, 34, 35, 36, 37, 38, 39, 40, 41, 42, 43, 44, 45, 46, 47, 48, 49, 50, 51, 52, 53, 54, 55, 56, 57, 58, 59, 60, 61, 62, 63, 64, 65, 66, 67, 68, 69, 70, 71, 72, 73, 74, 75'"
      ]
     },
     "execution_count": 22,
     "metadata": {},
     "output_type": "execute_result"
    }
   ],
   "source": [
    "\", \".join(str(x) for x in sorted(df['dob_years'].unique()))"
   ]
  },
  {
   "cell_type": "markdown",
   "metadata": {},
   "source": [
    "Заменим выбросы по dob_years=0 на возможные значения"
   ]
  },
  {
   "cell_type": "code",
   "execution_count": 23,
   "metadata": {},
   "outputs": [
    {
     "data": {
      "text/plain": [
       "'108.96704186614716, 162.9369524996826, 176.40448651346043, 202.60050760136468, 223.70954465671744, 229.5609334617141, 260.9927218209444, 334.8372846817857, 368.83819395863634, 401.4612616684065, 457.249346910462, 477.3243601995604, 681.9073586027741, 731.3967940070198, 742.201082195978, 794.876230496055, 866.2739905539978, 899.6856813830016, 906.5194461676692, 908.172636778831, 913.1532094617396, 934.6548535237537, 947.2752580327997, 986.789229581294, 1015.3954505009738, 1018.5252830182484, 1036.6440005843424, 1095.3866218238682, 1146.6895862897618, 1158.0295614096926, 1245.6582439567308, 1268.4877281976171, 1371.2072224675173, 1409.5001778464111, 1478.0924671735675, 1524.8692995442475, 1551.3804023242892, 1570.4204596222814, 1572.0521360877215, 1605.5061613215619, 1611.3606094753068, 1641.3412835634408, 1653.9728450158661, 1720.866869827683, 1753.4482654685287, 1759.0380334153665, 1872.663186426345, 1875.9720125305307, 1935.4022510749105, 2156.3902731736016, 2161.5915186437733, 2356.2506149193273, 2442.7635202104666, 2497.754414051813, 2502.8917978265904, 2613.538371140341, 2664.273168317157, 3208.7327187502724, 3218.732156676867, 3533.403832252578, 3549.1173327955407, 4221.8665974185105, 4288.714409674496, 4294.221864622239, 4774.34334655098, 4847.111204243342, 4852.175654465849, 5000.830629888028, 5043.219890246479, 5944.466834239165, 6683.979250584001, 8035.487285283257, 9962.08362369338, 10637.001568924656, 10689.250498030664, 13814.939623694487, 13822.552977305311, 13841.056437965022, 14021.50024447364, 14113.952855838403, 14439.23412062174, 14796.238577327707, 14826.803525857447, 15252.824209599328, 15269.078025555007, 15422.689042537366, 15453.312833407495, 15486.053275935637, 16456.2227021454, 16495.575556943484, 16577.356875523827, 16708.015654321774'"
      ]
     },
     "execution_count": 23,
     "metadata": {},
     "output_type": "execute_result"
    }
   ],
   "source": [
    "\", \".join(str(x) for x in sorted(df.loc[df['dob_years']==0,'days_employed'].unique()))\n",
    "# Из многочисленнных выбрпосов по days_employed все попадают в допустимые значения для расчета возраста клиента\n",
    "# и не являются исключительно дубликатами"
   ]
  },
  {
   "cell_type": "code",
   "execution_count": 24,
   "metadata": {},
   "outputs": [
    {
     "data": {
      "text/plain": [
       "<matplotlib.axes._subplots.AxesSubplot at 0x7f54e6b50410>"
      ]
     },
     "execution_count": 24,
     "metadata": {},
     "output_type": "execute_result"
    },
    {
     "data": {
      "image/png": "[encoded data removed]",
      "text/plain": [
       "<Figure size 432x288 with 1 Axes>"
      ]
     },
     "metadata": {
      "needs_background": "light"
     },
     "output_type": "display_data"
    }
   ],
   "source": [
    "df.loc[df['dob_years']==0,'days_employed'].plot(kind=\"hist\")"
   ]
  },
  {
   "cell_type": "code",
   "execution_count": 25,
   "metadata": {},
   "outputs": [],
   "source": [
    "df.loc[df['dob_years']==0,'dob_years']=(df['days_employed']/365)+16"
   ]
  },
  {
   "cell_type": "markdown",
   "metadata": {},
   "source": [
    "Проверим значения gender"
   ]
  },
  {
   "cell_type": "code",
   "execution_count": 26,
   "metadata": {},
   "outputs": [
    {
     "data": {
      "text/plain": [
       "F      14236\n",
       "M       7288\n",
       "XNA        1\n",
       "Name: gender, dtype: int64"
      ]
     },
     "execution_count": 26,
     "metadata": {},
     "output_type": "execute_result"
    }
   ],
   "source": [
    "df['gender'].value_counts()"
   ]
  },
  {
   "cell_type": "markdown",
   "metadata": {},
   "source": [
    "XNA - возможно имелось введу - \"Цисгендерность not available\", т.е заменяем на наиболее частый"
   ]
  },
  {
   "cell_type": "code",
   "execution_count": 27,
   "metadata": {},
   "outputs": [
    {
     "data": {
      "text/plain": [
       "F    14237\n",
       "M     7288\n",
       "Name: gender, dtype: int64"
      ]
     },
     "execution_count": 27,
     "metadata": {},
     "output_type": "execute_result"
    }
   ],
   "source": [
    "df.loc[df['gender'] == 'XNA', 'gender'] = 'F'\n",
    "df['gender'].value_counts()"
   ]
  },
  {
   "cell_type": "markdown",
   "metadata": {},
   "source": [
    "**Вывод**"
   ]
  },
  {
   "cell_type": "markdown",
   "metadata": {},
   "source": [
    "Столбцы days_employed и income_type имеют пропуски в одних и тех же строках - это может говорить о том, что клиент не имеет дохода или не трудоустроен, но отсутствие корелляции не позволяет сделать такие выводы. Для обработки пропусков лучшим вариантом будет дозапрос пропущенных данных, но при его отсутствии был выбран вариант восстановления данных, т.к удаление 10% датефрейма является довольно существенным.  \n",
    "Били исправлены выбросы по столбцам без удаления строк, а также минимизировано использование средних значений путем пересчета значений из соседних столбцов."
   ]
  },
  {
   "cell_type": "markdown",
   "metadata": {},
   "source": [
    "### Замена типа данных"
   ]
  },
  {
   "cell_type": "markdown",
   "metadata": {},
   "source": [
    "Изучим используемые типы"
   ]
  },
  {
   "cell_type": "code",
   "execution_count": 28,
   "metadata": {},
   "outputs": [
    {
     "data": {
      "text/plain": [
       "children              int64\n",
       "days_employed       float64\n",
       "dob_years           float64\n",
       "education            object\n",
       "education_id          int64\n",
       "family_status        object\n",
       "family_status_id      int64\n",
       "gender               object\n",
       "income_type          object\n",
       "debt                  int64\n",
       "total_income        float64\n",
       "purpose              object\n",
       "dtype: object"
      ]
     },
     "execution_count": 28,
     "metadata": {},
     "output_type": "execute_result"
    }
   ],
   "source": [
    "df.dtypes"
   ]
  },
  {
   "cell_type": "markdown",
   "metadata": {},
   "source": [
    "Избавимся от значения с плавающей запятой для целых значений\n",
    "Выбран метод astype() для четкого указания типа значений"
   ]
  },
  {
   "cell_type": "code",
   "execution_count": 29,
   "metadata": {},
   "outputs": [],
   "source": [
    "df['days_employed']=df['days_employed'].astype('uint16')\n",
    "df['dob_years']=df['dob_years'].astype('uint8')\n",
    "df['total_income']=df['total_income'].astype('int')"
   ]
  },
  {
   "cell_type": "markdown",
   "metadata": {},
   "source": [
    "Проведем оптимизацию типов столбцов по типу данных и выведем результат"
   ]
  },
  {
   "cell_type": "code",
   "execution_count": 30,
   "metadata": {},
   "outputs": [
    {
     "data": {
      "text/plain": [
       "children               uint8\n",
       "days_employed         uint16\n",
       "dob_years              uint8\n",
       "education           category\n",
       "education_id           uint8\n",
       "family_status       category\n",
       "family_status_id       uint8\n",
       "gender              category\n",
       "income_type         category\n",
       "debt                   uint8\n",
       "total_income          uint32\n",
       "purpose             category\n",
       "dtype: object"
      ]
     },
     "execution_count": 30,
     "metadata": {},
     "output_type": "execute_result"
    }
   ],
   "source": [
    "# Метод позволяет определить наименьший тип данных, для ускорения вычислений датафрейма и уменьшения занимаемой памяти\n",
    "for col in df.columns:\n",
    "    if df[col].dtypes.kind == 'i' or df[col].dtypes.kind == 'u':\n",
    "        if df[col].min() >= 0:\n",
    "            df[col] = pd.to_numeric(df[col], downcast='unsigned')\n",
    "        else:\n",
    "            df[col] = pd.to_numeric(df[col], downcast='integer')\n",
    "\n",
    "    elif df[col].dtypes.kind == 'f' or df[col].dtypes.kind == 'c':\n",
    "        df[col] = pd.to_numeric(df[col], downcast='float')\n",
    "\n",
    "    elif df[col].dtypes.kind == 'O':\n",
    "        num_unique_values = len(df[col].unique())\n",
    "        num_total_values = len(df[col])\n",
    "        if num_unique_values / num_total_values < 0.5:\n",
    "            df[col] = df[col].astype('category')\n",
    "\n",
    "\n",
    "df.dtypes"
   ]
  },
  {
   "cell_type": "markdown",
   "metadata": {},
   "source": [
    "**Вывод**"
   ]
  },
  {
   "cell_type": "markdown",
   "metadata": {},
   "source": [
    "Привели типы столбцов количество дней и доход к целочисленным значениям и оптимизировали по типам данных."
   ]
  },
  {
   "cell_type": "markdown",
   "metadata": {},
   "source": [
    "### Обработка дубликатов"
   ]
  },
  {
   "cell_type": "markdown",
   "metadata": {},
   "source": [
    "Проверим и исправим столбцы при наличии повторяющихся значений"
   ]
  },
  {
   "cell_type": "code",
   "execution_count": 31,
   "metadata": {},
   "outputs": [
    {
     "data": {
      "text/plain": [
       "среднее                13750\n",
       "высшее                  4718\n",
       "СРЕДНЕЕ                  772\n",
       "Среднее                  711\n",
       "неоконченное высшее      668\n",
       "ВЫСШЕЕ                   274\n",
       "Высшее                   268\n",
       "начальное                250\n",
       "Неоконченное высшее       47\n",
       "НЕОКОНЧЕННОЕ ВЫСШЕЕ       29\n",
       "НАЧАЛЬНОЕ                 17\n",
       "Начальное                 15\n",
       "ученая степень             4\n",
       "Ученая степень             1\n",
       "УЧЕНАЯ СТЕПЕНЬ             1\n",
       "Name: education, dtype: int64"
      ]
     },
     "execution_count": 31,
     "metadata": {},
     "output_type": "execute_result"
    }
   ],
   "source": [
    "df['education'].value_counts()"
   ]
  },
  {
   "cell_type": "markdown",
   "metadata": {},
   "source": [
    "Используем метод понижающего регистра"
   ]
  },
  {
   "cell_type": "code",
   "execution_count": 32,
   "metadata": {},
   "outputs": [],
   "source": [
    "df['education']=df['education'].str.lower().astype('category')"
   ]
  },
  {
   "cell_type": "code",
   "execution_count": 33,
   "metadata": {},
   "outputs": [
    {
     "data": {
      "text/plain": [
       "женат / замужем          12380\n",
       "гражданский брак          4177\n",
       "Не женат / не замужем     2813\n",
       "в разводе                 1195\n",
       "вдовец / вдова             960\n",
       "Name: family_status, dtype: int64"
      ]
     },
     "execution_count": 33,
     "metadata": {},
     "output_type": "execute_result"
    }
   ],
   "source": [
    "df['family_status'].value_counts()"
   ]
  },
  {
   "cell_type": "code",
   "execution_count": 34,
   "metadata": {},
   "outputs": [],
   "source": [
    "df['family_status']=df['family_status'].str.lower().astype('category')"
   ]
  },
  {
   "cell_type": "code",
   "execution_count": 35,
   "metadata": {},
   "outputs": [
    {
     "data": {
      "text/plain": [
       "F    14237\n",
       "M     7288\n",
       "Name: gender, dtype: int64"
      ]
     },
     "execution_count": 35,
     "metadata": {},
     "output_type": "execute_result"
    }
   ],
   "source": [
    "df['gender'].value_counts()"
   ]
  },
  {
   "cell_type": "code",
   "execution_count": 36,
   "metadata": {},
   "outputs": [
    {
     "data": {
      "text/plain": [
       "[сотрудник, пенсионер, компаньон, госслужащий, безработный, предприниматель, студент, в декрете]\n",
       "Categories (8, object): [сотрудник, пенсионер, компаньон, госслужащий, безработный, предприниматель, студент, в декрете]"
      ]
     },
     "execution_count": 36,
     "metadata": {},
     "output_type": "execute_result"
    }
   ],
   "source": [
    "df['income_type'].unique()"
   ]
  },
  {
   "cell_type": "markdown",
   "metadata": {},
   "source": [
    "Проверим количество дубликатов строк"
   ]
  },
  {
   "cell_type": "code",
   "execution_count": 37,
   "metadata": {},
   "outputs": [
    {
     "data": {
      "text/plain": [
       "71"
      ]
     },
     "execution_count": 37,
     "metadata": {},
     "output_type": "execute_result"
    }
   ],
   "source": [
    "df.duplicated().sum()"
   ]
  },
  {
   "cell_type": "code",
   "execution_count": 38,
   "metadata": {},
   "outputs": [
    {
     "data": {
      "text/html": [
       "<div>\n",
       "<style scoped>\n",
       "    .dataframe tbody tr th:only-of-type {\n",
       "        vertical-align: middle;\n",
       "    }\n",
       "\n",
       "    .dataframe tbody tr th {\n",
       "        vertical-align: top;\n",
       "    }\n",
       "\n",
       "    .dataframe thead th {\n",
       "        text-align: right;\n",
       "    }\n",
       "</style>\n",
       "<table border=\"1\" class=\"dataframe\">\n",
       "  <thead>\n",
       "    <tr style=\"text-align: right;\">\n",
       "      <th></th>\n",
       "      <th>children</th>\n",
       "      <th>days_employed</th>\n",
       "      <th>dob_years</th>\n",
       "      <th>education</th>\n",
       "      <th>education_id</th>\n",
       "      <th>family_status</th>\n",
       "      <th>family_status_id</th>\n",
       "      <th>gender</th>\n",
       "      <th>income_type</th>\n",
       "      <th>debt</th>\n",
       "      <th>total_income</th>\n",
       "      <th>purpose</th>\n",
       "    </tr>\n",
       "  </thead>\n",
       "  <tbody>\n",
       "    <tr>\n",
       "      <td>20297</td>\n",
       "      <td>1</td>\n",
       "      <td>9962</td>\n",
       "      <td>23</td>\n",
       "      <td>среднее</td>\n",
       "      <td>1</td>\n",
       "      <td>гражданский брак</td>\n",
       "      <td>1</td>\n",
       "      <td>F</td>\n",
       "      <td>сотрудник</td>\n",
       "      <td>0</td>\n",
       "      <td>138442</td>\n",
       "      <td>сыграть свадьбу</td>\n",
       "    </tr>\n",
       "    <tr>\n",
       "      <td>8853</td>\n",
       "      <td>1</td>\n",
       "      <td>9962</td>\n",
       "      <td>23</td>\n",
       "      <td>среднее</td>\n",
       "      <td>1</td>\n",
       "      <td>гражданский брак</td>\n",
       "      <td>1</td>\n",
       "      <td>F</td>\n",
       "      <td>сотрудник</td>\n",
       "      <td>0</td>\n",
       "      <td>138442</td>\n",
       "      <td>сыграть свадьбу</td>\n",
       "    </tr>\n",
       "    <tr>\n",
       "      <td>15892</td>\n",
       "      <td>0</td>\n",
       "      <td>9962</td>\n",
       "      <td>23</td>\n",
       "      <td>среднее</td>\n",
       "      <td>1</td>\n",
       "      <td>не женат / не замужем</td>\n",
       "      <td>4</td>\n",
       "      <td>F</td>\n",
       "      <td>сотрудник</td>\n",
       "      <td>0</td>\n",
       "      <td>130990</td>\n",
       "      <td>сделка с подержанным автомобилем</td>\n",
       "    </tr>\n",
       "    <tr>\n",
       "      <td>19321</td>\n",
       "      <td>0</td>\n",
       "      <td>9962</td>\n",
       "      <td>23</td>\n",
       "      <td>среднее</td>\n",
       "      <td>1</td>\n",
       "      <td>не женат / не замужем</td>\n",
       "      <td>4</td>\n",
       "      <td>F</td>\n",
       "      <td>сотрудник</td>\n",
       "      <td>0</td>\n",
       "      <td>130990</td>\n",
       "      <td>сделка с подержанным автомобилем</td>\n",
       "    </tr>\n",
       "    <tr>\n",
       "      <td>3452</td>\n",
       "      <td>0</td>\n",
       "      <td>9962</td>\n",
       "      <td>29</td>\n",
       "      <td>высшее</td>\n",
       "      <td>0</td>\n",
       "      <td>женат / замужем</td>\n",
       "      <td>0</td>\n",
       "      <td>M</td>\n",
       "      <td>сотрудник</td>\n",
       "      <td>0</td>\n",
       "      <td>171859</td>\n",
       "      <td>покупка жилой недвижимости</td>\n",
       "    </tr>\n",
       "    <tr>\n",
       "      <td>18328</td>\n",
       "      <td>0</td>\n",
       "      <td>9962</td>\n",
       "      <td>29</td>\n",
       "      <td>высшее</td>\n",
       "      <td>0</td>\n",
       "      <td>женат / замужем</td>\n",
       "      <td>0</td>\n",
       "      <td>M</td>\n",
       "      <td>сотрудник</td>\n",
       "      <td>0</td>\n",
       "      <td>171859</td>\n",
       "      <td>покупка жилой недвижимости</td>\n",
       "    </tr>\n",
       "    <tr>\n",
       "      <td>4216</td>\n",
       "      <td>0</td>\n",
       "      <td>9962</td>\n",
       "      <td>30</td>\n",
       "      <td>среднее</td>\n",
       "      <td>1</td>\n",
       "      <td>женат / замужем</td>\n",
       "      <td>0</td>\n",
       "      <td>M</td>\n",
       "      <td>сотрудник</td>\n",
       "      <td>0</td>\n",
       "      <td>135339</td>\n",
       "      <td>строительство жилой недвижимости</td>\n",
       "    </tr>\n",
       "    <tr>\n",
       "      <td>6312</td>\n",
       "      <td>0</td>\n",
       "      <td>9962</td>\n",
       "      <td>30</td>\n",
       "      <td>среднее</td>\n",
       "      <td>1</td>\n",
       "      <td>женат / замужем</td>\n",
       "      <td>0</td>\n",
       "      <td>M</td>\n",
       "      <td>сотрудник</td>\n",
       "      <td>0</td>\n",
       "      <td>135339</td>\n",
       "      <td>строительство жилой недвижимости</td>\n",
       "    </tr>\n",
       "    <tr>\n",
       "      <td>18349</td>\n",
       "      <td>1</td>\n",
       "      <td>9962</td>\n",
       "      <td>30</td>\n",
       "      <td>высшее</td>\n",
       "      <td>0</td>\n",
       "      <td>женат / замужем</td>\n",
       "      <td>0</td>\n",
       "      <td>F</td>\n",
       "      <td>госслужащий</td>\n",
       "      <td>0</td>\n",
       "      <td>152420</td>\n",
       "      <td>покупка жилья для семьи</td>\n",
       "    </tr>\n",
       "    <tr>\n",
       "      <td>8629</td>\n",
       "      <td>1</td>\n",
       "      <td>9962</td>\n",
       "      <td>30</td>\n",
       "      <td>высшее</td>\n",
       "      <td>0</td>\n",
       "      <td>женат / замужем</td>\n",
       "      <td>0</td>\n",
       "      <td>F</td>\n",
       "      <td>сотрудник</td>\n",
       "      <td>0</td>\n",
       "      <td>165009</td>\n",
       "      <td>покупка коммерческой недвижимости</td>\n",
       "    </tr>\n",
       "  </tbody>\n",
       "</table>\n",
       "</div>"
      ],
      "text/plain": [
       "       children  days_employed  dob_years education  education_id  \\\n",
       "20297         1           9962         23   среднее             1   \n",
       "8853          1           9962         23   среднее             1   \n",
       "15892         0           9962         23   среднее             1   \n",
       "19321         0           9962         23   среднее             1   \n",
       "3452          0           9962         29    высшее             0   \n",
       "18328         0           9962         29    высшее             0   \n",
       "4216          0           9962         30   среднее             1   \n",
       "6312          0           9962         30   среднее             1   \n",
       "18349         1           9962         30    высшее             0   \n",
       "8629          1           9962         30    высшее             0   \n",
       "\n",
       "               family_status  family_status_id gender  income_type  debt  \\\n",
       "20297       гражданский брак                 1      F    сотрудник     0   \n",
       "8853        гражданский брак                 1      F    сотрудник     0   \n",
       "15892  не женат / не замужем                 4      F    сотрудник     0   \n",
       "19321  не женат / не замужем                 4      F    сотрудник     0   \n",
       "3452         женат / замужем                 0      M    сотрудник     0   \n",
       "18328        женат / замужем                 0      M    сотрудник     0   \n",
       "4216         женат / замужем                 0      M    сотрудник     0   \n",
       "6312         женат / замужем                 0      M    сотрудник     0   \n",
       "18349        женат / замужем                 0      F  госслужащий     0   \n",
       "8629         женат / замужем                 0      F    сотрудник     0   \n",
       "\n",
       "       total_income                            purpose  \n",
       "20297        138442                    сыграть свадьбу  \n",
       "8853         138442                    сыграть свадьбу  \n",
       "15892        130990   сделка с подержанным автомобилем  \n",
       "19321        130990   сделка с подержанным автомобилем  \n",
       "3452         171859         покупка жилой недвижимости  \n",
       "18328        171859         покупка жилой недвижимости  \n",
       "4216         135339   строительство жилой недвижимости  \n",
       "6312         135339   строительство жилой недвижимости  \n",
       "18349        152420            покупка жилья для семьи  \n",
       "8629         165009  покупка коммерческой недвижимости  "
      ]
     },
     "execution_count": 38,
     "metadata": {},
     "output_type": "execute_result"
    }
   ],
   "source": [
    "df[df.duplicated(keep=False)].sort_values(by='dob_years').head(10)"
   ]
  },
  {
   "cell_type": "markdown",
   "metadata": {},
   "source": [
    "Исправим имеющиеся дубликаты путем удаления, т.к не содержат полезной информации"
   ]
  },
  {
   "cell_type": "code",
   "execution_count": 39,
   "metadata": {},
   "outputs": [],
   "source": [
    "df=df.drop_duplicates().reset_index(drop= True)"
   ]
  },
  {
   "cell_type": "markdown",
   "metadata": {},
   "source": [
    "**Вывод**"
   ]
  },
  {
   "cell_type": "markdown",
   "metadata": {},
   "source": [
    "Были обнаружены дубликаты при использовании различных типов регистра, а также повторяющиеся записи строк. Путем использованием метода str.lower внесли исправления в повторяющиеся записи и удалили дубликаты drop_duplicates().\n",
    "Возможная причина появления дубликатов - технологическая ошибка."
   ]
  },
  {
   "cell_type": "markdown",
   "metadata": {},
   "source": [
    "### Лемматизация"
   ]
  },
  {
   "cell_type": "markdown",
   "metadata": {},
   "source": [
    "Выведем список целей кредита"
   ]
  },
  {
   "cell_type": "code",
   "execution_count": 40,
   "metadata": {},
   "outputs": [
    {
     "name": "stdout",
     "output_type": "stream",
     "text": [
      "свадьба                                   791\n",
      "на проведение свадьбы                     768\n",
      "сыграть свадьбу                           765\n",
      "операции с недвижимостью                  675\n",
      "покупка коммерческой недвижимости         661\n",
      "операции с жильем                         652\n",
      "покупка жилья для сдачи                   651\n",
      "операции с коммерческой недвижимостью     650\n",
      "жилье                                     646\n",
      "покупка жилья                             646\n",
      "покупка жилья для семьи                   638\n",
      "строительство собственной недвижимости    635\n",
      "недвижимость                              633\n",
      "операции со своей недвижимостью           627\n",
      "строительство жилой недвижимости          624\n",
      "покупка недвижимости                      621\n",
      "покупка своего жилья                      620\n",
      "строительство недвижимости                619\n",
      "ремонт жилью                              607\n",
      "покупка жилой недвижимости                606\n",
      "на покупку своего автомобиля              505\n",
      "заняться высшим образованием              496\n",
      "автомобиль                                494\n",
      "сделка с подержанным автомобилем          486\n",
      "на покупку подержанного автомобиля        478\n",
      "автомобили                                478\n",
      "свой автомобиль                           478\n",
      "на покупку автомобиля                     471\n",
      "приобретение автомобиля                   461\n",
      "дополнительное образование                460\n",
      "сделка с автомобилем                      455\n",
      "высшее образование                        452\n",
      "образование                               447\n",
      "получение дополнительного образования     446\n",
      "получение образования                     442\n",
      "профильное образование                    436\n",
      "получение высшего образования             426\n",
      "заняться образованием                     408\n",
      "Name: purpose, dtype: int64\n"
     ]
    }
   ],
   "source": [
    "p=df['purpose'].value_counts()\n",
    "print(p)"
   ]
  },
  {
   "cell_type": "markdown",
   "metadata": {},
   "source": [
    "Лемматизируем цели кредита по уникадьным значениям"
   ]
  },
  {
   "cell_type": "code",
   "execution_count": 41,
   "metadata": {},
   "outputs": [
    {
     "name": "stdout",
     "output_type": "stream",
     "text": [
      "Counter({' ': 96, 'покупка': 10, 'недвижимость': 10, 'автомобиль': 9, 'образование': 9, 'жилье': 7, 'с': 5, 'операция': 4, 'на': 4, 'свой': 4, 'свадьба': 3, 'строительство': 3, 'получение': 3, 'высокий': 3, 'дополнительный': 2, 'для': 2, 'коммерческий': 2, 'жилой': 2, 'подержать': 2, 'заниматься': 2, 'сделка': 2, 'приобретение': 1, 'сыграть': 1, 'проведение': 1, 'семья': 1, 'собственный': 1, 'со': 1, 'профильный': 1, 'сдача': 1, 'ремонт': 1, '\\n': 1})\n"
     ]
    }
   ],
   "source": [
    "lemmas = m.lemmatize(' '.join(df['purpose'].unique()))\n",
    "print(Counter(lemmas))"
   ]
  },
  {
   "cell_type": "markdown",
   "metadata": {},
   "source": [
    "Выделим основные цели из проведенной лемматизации"
   ]
  },
  {
   "cell_type": "code",
   "execution_count": 42,
   "metadata": {},
   "outputs": [],
   "source": [
    "purpose={'недвижимость/жилье':0,'автомобиль':0,'образование':0,'свадьба':0}"
   ]
  },
  {
   "cell_type": "markdown",
   "metadata": {},
   "source": [
    "Проверим точность выделенных целей кредита"
   ]
  },
  {
   "cell_type": "code",
   "execution_count": 43,
   "metadata": {},
   "outputs": [
    {
     "data": {
      "text/plain": [
       "свадьба --- \u001b[31mсвадьба\u001b[0m                                              791\n",
       "свадьба --- на проведение \u001b[31mсвадьбы\u001b[0m                                768\n",
       "свадьба --- сыграть \u001b[31mсвадьбу\u001b[0m                                      765\n",
       "недвижимость/жилье --- операции с \u001b[31mнедвижимостью\u001b[0m                  675\n",
       "недвижимость/жилье --- покупка коммерческой \u001b[31mнедвижимости\u001b[0m         661\n",
       "недвижимость/жилье --- операции с \u001b[31mжильем\u001b[0m                         652\n",
       "недвижимость/жилье --- покупка \u001b[31mжилья\u001b[0m для сдачи                   651\n",
       "недвижимость/жилье --- операции с коммерческой \u001b[31mнедвижимостью\u001b[0m     650\n",
       "недвижимость/жилье --- \u001b[31mжилье\u001b[0m                                     646\n",
       "недвижимость/жилье --- покупка \u001b[31mжилья\u001b[0m                             646\n",
       "недвижимость/жилье --- покупка \u001b[31mжилья\u001b[0m для семьи                   638\n",
       "недвижимость/жилье --- строительство собственной \u001b[31mнедвижимости\u001b[0m    635\n",
       "недвижимость/жилье --- \u001b[31mнедвижимость\u001b[0m                              633\n",
       "недвижимость/жилье --- операции со своей \u001b[31mнедвижимостью\u001b[0m           627\n",
       "недвижимость/жилье --- строительство жилой \u001b[31mнедвижимости\u001b[0m          624\n",
       "недвижимость/жилье --- покупка \u001b[31mнедвижимости\u001b[0m                      621\n",
       "недвижимость/жилье --- покупка своего \u001b[31mжилья\u001b[0m                      620\n",
       "недвижимость/жилье --- строительство \u001b[31mнедвижимости\u001b[0m                619\n",
       "недвижимость/жилье --- ремонт \u001b[31mжилью\u001b[0m                              607\n",
       "недвижимость/жилье --- покупка жилой \u001b[31mнедвижимости\u001b[0m                606\n",
       "автомобиль --- на покупку своего \u001b[31mавтомобиля\u001b[0m                      505\n",
       "образование --- заняться высшим \u001b[31mобразованием\u001b[0m                     496\n",
       "автомобиль --- \u001b[31mавтомобиль\u001b[0m                                        494\n",
       "автомобиль --- сделка с подержанным \u001b[31mавтомобилем\u001b[0m                  486\n",
       "автомобиль --- на покупку подержанного \u001b[31mавтомобиля\u001b[0m                478\n",
       "автомобиль --- \u001b[31mавтомобили\u001b[0m                                        478\n",
       "автомобиль --- свой \u001b[31mавтомобиль\u001b[0m                                   478\n",
       "автомобиль --- на покупку \u001b[31mавтомобиля\u001b[0m                             471\n",
       "автомобиль --- приобретение \u001b[31mавтомобиля\u001b[0m                           461\n",
       "образование --- дополнительное \u001b[31mобразование\u001b[0m                       460\n",
       "автомобиль --- сделка с \u001b[31mавтомобилем\u001b[0m                              455\n",
       "образование --- высшее \u001b[31mобразование\u001b[0m                               452\n",
       "образование --- \u001b[31mобразование\u001b[0m                                      447\n",
       "образование --- получение дополнительного \u001b[31mобразования\u001b[0m            446\n",
       "образование --- получение \u001b[31mобразования\u001b[0m                            442\n",
       "образование --- профильное \u001b[31mобразование\u001b[0m                           436\n",
       "образование --- получение высшего \u001b[31mобразования\u001b[0m                    426\n",
       "образование --- заняться \u001b[31mобразованием\u001b[0m                            408\n",
       "Name: purpose, dtype: int64"
      ]
     },
     "execution_count": 43,
     "metadata": {},
     "output_type": "execute_result"
    }
   ],
   "source": [
    "# Функция подсвечивает леммы для проверки и возвращает категорию в числе\n",
    "str_lst=[]\n",
    "def purpose_type(index):\n",
    "    for item in purpose.keys():\n",
    "        for word in item.split(\"/\"):\n",
    "            wr=' '.join(list(filter(lambda x: word in m.lemmatize(x), index.split())))\n",
    "            if len(wr)>0:\n",
    "                ret=list(purpose.keys()).index(item)\n",
    "                purpose[item]+=value\n",
    "                str_val=(str(index[:index.find(wr)]+\"\\033[31m\"+index[index.find(wr):index.find(wr)+len(wr)]+\"\\033[0m\"+\\\n",
    "                            index[index.find(wr)+len(wr):]))\n",
    "                str_val=(\"{0} --- {1}\").format(item,str_val)\n",
    "    return str(ret)+\"*\"+str_val\n",
    "\n",
    "for index, value in p.items():\n",
    "    str_lst.append(purpose_type(index).split(\"*\")[1])\n",
    "p.index=str_lst\n",
    "p"
   ]
  },
  {
   "cell_type": "markdown",
   "metadata": {},
   "source": [
    "Подсчитаем частоту использования целей и визуализируем соотношение"
   ]
  },
  {
   "cell_type": "code",
   "execution_count": 44,
   "metadata": {},
   "outputs": [
    {
     "data": {
      "text/plain": [
       "{'недвижимость/жилье': 10811,\n",
       " 'автомобиль': 4306,\n",
       " 'образование': 4013,\n",
       " 'свадьба': 2324}"
      ]
     },
     "execution_count": 44,
     "metadata": {},
     "output_type": "execute_result"
    },
    {
     "data": {
      "image/png": "[encoded data removed]",
      "text/plain": [
       "<Figure size 648x648 with 1 Axes>"
      ]
     },
     "metadata": {},
     "output_type": "display_data"
    }
   ],
   "source": [
    "pd.DataFrame.from_dict(purpose, orient='index').plot(kind=\"pie\", subplots=True, figsize=(9, 9))\n",
    "purpose"
   ]
  },
  {
   "cell_type": "markdown",
   "metadata": {},
   "source": [
    "**Вывод**"
   ]
  },
  {
   "cell_type": "markdown",
   "metadata": {},
   "source": [
    "Провели лемматизацию всех используемых целей кредита по уникальным значениям и выделили основные направления. В основные направления входят: недвижимость/жилье, автомобиль, образование, свадьба. "
   ]
  },
  {
   "cell_type": "markdown",
   "metadata": {},
   "source": [
    "### Категоризация данных"
   ]
  },
  {
   "cell_type": "markdown",
   "metadata": {},
   "source": [
    "Категоризация по children: 0 - нет детей, 1 - есть дети"
   ]
  },
  {
   "cell_type": "code",
   "execution_count": 45,
   "metadata": {},
   "outputs": [],
   "source": [
    "df.insert(1, 'children_id',0)\n",
    "df['children_id'] = (df['children']>0).astype('uint8')"
   ]
  },
  {
   "cell_type": "markdown",
   "metadata": {},
   "source": [
    "Категоризация по gender, 0/1 - пол"
   ]
  },
  {
   "cell_type": "code",
   "execution_count": 46,
   "metadata": {},
   "outputs": [],
   "source": [
    "df.insert(9, 'gender_id',0)\n",
    "df['gender_id']=df['gender'].map({\"F\":0,\"M\":1}).astype('uint8')"
   ]
  },
  {
   "cell_type": "markdown",
   "metadata": {},
   "source": [
    "Категоризация по income_type, нумерация уникальных значений"
   ]
  },
  {
   "cell_type": "code",
   "execution_count": 47,
   "metadata": {},
   "outputs": [
    {
     "data": {
      "text/plain": [
       "сотрудник          11084\n",
       "компаньон           5078\n",
       "пенсионер           3829\n",
       "госслужащий         1457\n",
       "предприниматель        2\n",
       "безработный            2\n",
       "студент                1\n",
       "в декрете              1\n",
       "Name: income_type, dtype: int64"
      ]
     },
     "execution_count": 47,
     "metadata": {},
     "output_type": "execute_result"
    }
   ],
   "source": [
    "df.insert(11, 'income_type_id',0)\n",
    "df['income_type'].value_counts()"
   ]
  },
  {
   "cell_type": "code",
   "execution_count": 48,
   "metadata": {},
   "outputs": [],
   "source": [
    "un_val=dict(enumerate(df['income_type'].unique()))\n",
    "df['income_type_id'] = df['income_type'].map(dict(zip(un_val.values(),un_val.keys()))).astype('uint8')"
   ]
  },
  {
   "cell_type": "markdown",
   "metadata": {},
   "source": [
    "Категоризация по total_income, нумерация 0-5 по диапазонам дохода\n",
    "Необходима для дальнейшей работы с корреляцией"
   ]
  },
  {
   "cell_type": "code",
   "execution_count": 49,
   "metadata": {},
   "outputs": [],
   "source": [
    "df.insert(14, 'total_income_id',0)\n",
    "def income(income):\n",
    "    if income <= 50000:\n",
    "        return 0\n",
    "    elif income <= 100000:\n",
    "        return 1\n",
    "    elif income <= 150000:\n",
    "        return 2\n",
    "    elif income <= 200000:\n",
    "        return 3    \n",
    "    elif income <= 250000:\n",
    "        return 4   \n",
    "    else:\n",
    "        return 5\n",
    "df['total_income_id'] = df['total_income'].apply(income)"
   ]
  },
  {
   "cell_type": "markdown",
   "metadata": {},
   "source": [
    "Категоризация по purpose, нумерация 0-3 по основным целям"
   ]
  },
  {
   "cell_type": "code",
   "execution_count": 50,
   "metadata": {},
   "outputs": [],
   "source": [
    "# Использована ранее оописанная функция определения категории\n",
    "df.insert(16, 'purpose_id',0)\n",
    "df['purpose_id']=df['purpose'].map(purpose_type).str.split(\"*\", n=1, expand=True)\n",
    "df['purpose_id']=df['purpose_id'].astype('uint8')"
   ]
  },
  {
   "cell_type": "code",
   "execution_count": 51,
   "metadata": {},
   "outputs": [
    {
     "data": {
      "text/html": [
       "<div>\n",
       "<style scoped>\n",
       "    .dataframe tbody tr th:only-of-type {\n",
       "        vertical-align: middle;\n",
       "    }\n",
       "\n",
       "    .dataframe tbody tr th {\n",
       "        vertical-align: top;\n",
       "    }\n",
       "\n",
       "    .dataframe thead th {\n",
       "        text-align: right;\n",
       "    }\n",
       "</style>\n",
       "<table border=\"1\" class=\"dataframe\">\n",
       "  <thead>\n",
       "    <tr style=\"text-align: right;\">\n",
       "      <th></th>\n",
       "      <th>children</th>\n",
       "      <th>children_id</th>\n",
       "      <th>days_employed</th>\n",
       "      <th>dob_years</th>\n",
       "      <th>education</th>\n",
       "      <th>education_id</th>\n",
       "      <th>family_status</th>\n",
       "      <th>family_status_id</th>\n",
       "      <th>gender</th>\n",
       "      <th>gender_id</th>\n",
       "      <th>income_type</th>\n",
       "      <th>income_type_id</th>\n",
       "      <th>debt</th>\n",
       "      <th>total_income</th>\n",
       "      <th>total_income_id</th>\n",
       "      <th>purpose</th>\n",
       "      <th>purpose_id</th>\n",
       "    </tr>\n",
       "  </thead>\n",
       "  <tbody>\n",
       "    <tr>\n",
       "      <td>0</td>\n",
       "      <td>1</td>\n",
       "      <td>1</td>\n",
       "      <td>8437</td>\n",
       "      <td>42</td>\n",
       "      <td>высшее</td>\n",
       "      <td>0</td>\n",
       "      <td>женат / замужем</td>\n",
       "      <td>0</td>\n",
       "      <td>F</td>\n",
       "      <td>0</td>\n",
       "      <td>сотрудник</td>\n",
       "      <td>0</td>\n",
       "      <td>0</td>\n",
       "      <td>253875</td>\n",
       "      <td>5</td>\n",
       "      <td>покупка жилья</td>\n",
       "      <td>0</td>\n",
       "    </tr>\n",
       "    <tr>\n",
       "      <td>1</td>\n",
       "      <td>1</td>\n",
       "      <td>1</td>\n",
       "      <td>4024</td>\n",
       "      <td>36</td>\n",
       "      <td>среднее</td>\n",
       "      <td>1</td>\n",
       "      <td>женат / замужем</td>\n",
       "      <td>0</td>\n",
       "      <td>F</td>\n",
       "      <td>0</td>\n",
       "      <td>сотрудник</td>\n",
       "      <td>0</td>\n",
       "      <td>0</td>\n",
       "      <td>112080</td>\n",
       "      <td>2</td>\n",
       "      <td>приобретение автомобиля</td>\n",
       "      <td>1</td>\n",
       "    </tr>\n",
       "    <tr>\n",
       "      <td>2</td>\n",
       "      <td>0</td>\n",
       "      <td>0</td>\n",
       "      <td>5623</td>\n",
       "      <td>33</td>\n",
       "      <td>среднее</td>\n",
       "      <td>1</td>\n",
       "      <td>женат / замужем</td>\n",
       "      <td>0</td>\n",
       "      <td>M</td>\n",
       "      <td>1</td>\n",
       "      <td>сотрудник</td>\n",
       "      <td>0</td>\n",
       "      <td>0</td>\n",
       "      <td>145885</td>\n",
       "      <td>2</td>\n",
       "      <td>покупка жилья</td>\n",
       "      <td>0</td>\n",
       "    </tr>\n",
       "    <tr>\n",
       "      <td>3</td>\n",
       "      <td>3</td>\n",
       "      <td>1</td>\n",
       "      <td>4124</td>\n",
       "      <td>32</td>\n",
       "      <td>среднее</td>\n",
       "      <td>1</td>\n",
       "      <td>женат / замужем</td>\n",
       "      <td>0</td>\n",
       "      <td>M</td>\n",
       "      <td>1</td>\n",
       "      <td>сотрудник</td>\n",
       "      <td>0</td>\n",
       "      <td>0</td>\n",
       "      <td>267628</td>\n",
       "      <td>5</td>\n",
       "      <td>дополнительное образование</td>\n",
       "      <td>2</td>\n",
       "    </tr>\n",
       "    <tr>\n",
       "      <td>4</td>\n",
       "      <td>0</td>\n",
       "      <td>0</td>\n",
       "      <td>14177</td>\n",
       "      <td>53</td>\n",
       "      <td>среднее</td>\n",
       "      <td>1</td>\n",
       "      <td>гражданский брак</td>\n",
       "      <td>1</td>\n",
       "      <td>F</td>\n",
       "      <td>0</td>\n",
       "      <td>пенсионер</td>\n",
       "      <td>1</td>\n",
       "      <td>0</td>\n",
       "      <td>158616</td>\n",
       "      <td>3</td>\n",
       "      <td>сыграть свадьбу</td>\n",
       "      <td>3</td>\n",
       "    </tr>\n",
       "    <tr>\n",
       "      <td>5</td>\n",
       "      <td>0</td>\n",
       "      <td>0</td>\n",
       "      <td>926</td>\n",
       "      <td>27</td>\n",
       "      <td>высшее</td>\n",
       "      <td>0</td>\n",
       "      <td>гражданский брак</td>\n",
       "      <td>1</td>\n",
       "      <td>M</td>\n",
       "      <td>1</td>\n",
       "      <td>компаньон</td>\n",
       "      <td>2</td>\n",
       "      <td>0</td>\n",
       "      <td>255763</td>\n",
       "      <td>5</td>\n",
       "      <td>покупка жилья</td>\n",
       "      <td>0</td>\n",
       "    </tr>\n",
       "    <tr>\n",
       "      <td>6</td>\n",
       "      <td>0</td>\n",
       "      <td>0</td>\n",
       "      <td>2879</td>\n",
       "      <td>43</td>\n",
       "      <td>высшее</td>\n",
       "      <td>0</td>\n",
       "      <td>женат / замужем</td>\n",
       "      <td>0</td>\n",
       "      <td>F</td>\n",
       "      <td>0</td>\n",
       "      <td>компаньон</td>\n",
       "      <td>2</td>\n",
       "      <td>0</td>\n",
       "      <td>240525</td>\n",
       "      <td>4</td>\n",
       "      <td>операции с жильем</td>\n",
       "      <td>0</td>\n",
       "    </tr>\n",
       "    <tr>\n",
       "      <td>7</td>\n",
       "      <td>0</td>\n",
       "      <td>0</td>\n",
       "      <td>152</td>\n",
       "      <td>50</td>\n",
       "      <td>среднее</td>\n",
       "      <td>1</td>\n",
       "      <td>женат / замужем</td>\n",
       "      <td>0</td>\n",
       "      <td>M</td>\n",
       "      <td>1</td>\n",
       "      <td>сотрудник</td>\n",
       "      <td>0</td>\n",
       "      <td>0</td>\n",
       "      <td>135823</td>\n",
       "      <td>2</td>\n",
       "      <td>образование</td>\n",
       "      <td>2</td>\n",
       "    </tr>\n",
       "    <tr>\n",
       "      <td>8</td>\n",
       "      <td>2</td>\n",
       "      <td>1</td>\n",
       "      <td>6929</td>\n",
       "      <td>35</td>\n",
       "      <td>высшее</td>\n",
       "      <td>0</td>\n",
       "      <td>гражданский брак</td>\n",
       "      <td>1</td>\n",
       "      <td>F</td>\n",
       "      <td>0</td>\n",
       "      <td>сотрудник</td>\n",
       "      <td>0</td>\n",
       "      <td>0</td>\n",
       "      <td>95856</td>\n",
       "      <td>1</td>\n",
       "      <td>на проведение свадьбы</td>\n",
       "      <td>3</td>\n",
       "    </tr>\n",
       "    <tr>\n",
       "      <td>9</td>\n",
       "      <td>0</td>\n",
       "      <td>0</td>\n",
       "      <td>2188</td>\n",
       "      <td>41</td>\n",
       "      <td>среднее</td>\n",
       "      <td>1</td>\n",
       "      <td>женат / замужем</td>\n",
       "      <td>0</td>\n",
       "      <td>M</td>\n",
       "      <td>1</td>\n",
       "      <td>сотрудник</td>\n",
       "      <td>0</td>\n",
       "      <td>0</td>\n",
       "      <td>144425</td>\n",
       "      <td>2</td>\n",
       "      <td>покупка жилья для семьи</td>\n",
       "      <td>0</td>\n",
       "    </tr>\n",
       "  </tbody>\n",
       "</table>\n",
       "</div>"
      ],
      "text/plain": [
       "   children  children_id  days_employed  dob_years education  education_id  \\\n",
       "0         1            1           8437         42    высшее             0   \n",
       "1         1            1           4024         36   среднее             1   \n",
       "2         0            0           5623         33   среднее             1   \n",
       "3         3            1           4124         32   среднее             1   \n",
       "4         0            0          14177         53   среднее             1   \n",
       "5         0            0            926         27    высшее             0   \n",
       "6         0            0           2879         43    высшее             0   \n",
       "7         0            0            152         50   среднее             1   \n",
       "8         2            1           6929         35    высшее             0   \n",
       "9         0            0           2188         41   среднее             1   \n",
       "\n",
       "      family_status  family_status_id gender  gender_id income_type  \\\n",
       "0   женат / замужем                 0      F          0   сотрудник   \n",
       "1   женат / замужем                 0      F          0   сотрудник   \n",
       "2   женат / замужем                 0      M          1   сотрудник   \n",
       "3   женат / замужем                 0      M          1   сотрудник   \n",
       "4  гражданский брак                 1      F          0   пенсионер   \n",
       "5  гражданский брак                 1      M          1   компаньон   \n",
       "6   женат / замужем                 0      F          0   компаньон   \n",
       "7   женат / замужем                 0      M          1   сотрудник   \n",
       "8  гражданский брак                 1      F          0   сотрудник   \n",
       "9   женат / замужем                 0      M          1   сотрудник   \n",
       "\n",
       "   income_type_id  debt  total_income  total_income_id  \\\n",
       "0               0     0        253875                5   \n",
       "1               0     0        112080                2   \n",
       "2               0     0        145885                2   \n",
       "3               0     0        267628                5   \n",
       "4               1     0        158616                3   \n",
       "5               2     0        255763                5   \n",
       "6               2     0        240525                4   \n",
       "7               0     0        135823                2   \n",
       "8               0     0         95856                1   \n",
       "9               0     0        144425                2   \n",
       "\n",
       "                      purpose  purpose_id  \n",
       "0               покупка жилья           0  \n",
       "1     приобретение автомобиля           1  \n",
       "2               покупка жилья           0  \n",
       "3  дополнительное образование           2  \n",
       "4             сыграть свадьбу           3  \n",
       "5               покупка жилья           0  \n",
       "6           операции с жильем           0  \n",
       "7                 образование           2  \n",
       "8       на проведение свадьбы           3  \n",
       "9     покупка жилья для семьи           0  "
      ]
     },
     "execution_count": 51,
     "metadata": {},
     "output_type": "execute_result"
    }
   ],
   "source": [
    "df.head(10)"
   ]
  },
  {
   "cell_type": "markdown",
   "metadata": {},
   "source": [
    "**Вывод**"
   ]
  },
  {
   "cell_type": "markdown",
   "metadata": {},
   "source": [
    "Провели категорирование по количеству детей, полу, типу занятости, цели получения кредита и доходу. Добавлены соответствующие столбцы."
   ]
  },
  {
   "cell_type": "markdown",
   "metadata": {},
   "source": [
    "## Шаг 3. Ответьте на вопросы"
   ]
  },
  {
   "cell_type": "markdown",
   "metadata": {},
   "source": [
    "Мзучим children по dept"
   ]
  },
  {
   "cell_type": "code",
   "execution_count": 52,
   "metadata": {},
   "outputs": [
    {
     "data": {
      "text/html": [
       "<div>\n",
       "<style scoped>\n",
       "    .dataframe tbody tr th:only-of-type {\n",
       "        vertical-align: middle;\n",
       "    }\n",
       "\n",
       "    .dataframe tbody tr th {\n",
       "        vertical-align: top;\n",
       "    }\n",
       "\n",
       "    .dataframe thead tr th {\n",
       "        text-align: left;\n",
       "    }\n",
       "\n",
       "    .dataframe thead tr:last-of-type th {\n",
       "        text-align: right;\n",
       "    }\n",
       "</style>\n",
       "<table border=\"1\" class=\"dataframe\">\n",
       "  <thead>\n",
       "    <tr>\n",
       "      <th></th>\n",
       "      <th colspan=\"2\" halign=\"left\">debt</th>\n",
       "    </tr>\n",
       "    <tr>\n",
       "      <th></th>\n",
       "      <th>count</th>\n",
       "      <th>sum</th>\n",
       "    </tr>\n",
       "    <tr>\n",
       "      <th>children_id</th>\n",
       "      <th></th>\n",
       "      <th></th>\n",
       "    </tr>\n",
       "  </thead>\n",
       "  <tbody>\n",
       "    <tr>\n",
       "      <td>0</td>\n",
       "      <td>14091</td>\n",
       "      <td>1063.0</td>\n",
       "    </tr>\n",
       "    <tr>\n",
       "      <td>1</td>\n",
       "      <td>7363</td>\n",
       "      <td>678.0</td>\n",
       "    </tr>\n",
       "  </tbody>\n",
       "</table>\n",
       "</div>"
      ],
      "text/plain": [
       "              debt        \n",
       "             count     sum\n",
       "children_id               \n",
       "0            14091  1063.0\n",
       "1             7363   678.0"
      ]
     },
     "metadata": {},
     "output_type": "display_data"
    },
    {
     "data": {
      "text/html": [
       "<div>\n",
       "<style scoped>\n",
       "    .dataframe tbody tr th:only-of-type {\n",
       "        vertical-align: middle;\n",
       "    }\n",
       "\n",
       "    .dataframe tbody tr th {\n",
       "        vertical-align: top;\n",
       "    }\n",
       "\n",
       "    .dataframe thead tr th {\n",
       "        text-align: left;\n",
       "    }\n",
       "\n",
       "    .dataframe thead tr:last-of-type th {\n",
       "        text-align: right;\n",
       "    }\n",
       "</style>\n",
       "<table border=\"1\" class=\"dataframe\">\n",
       "  <thead>\n",
       "    <tr>\n",
       "      <th></th>\n",
       "      <th colspan=\"2\" halign=\"left\">debt</th>\n",
       "    </tr>\n",
       "    <tr>\n",
       "      <th></th>\n",
       "      <th>count</th>\n",
       "      <th>sum</th>\n",
       "    </tr>\n",
       "    <tr>\n",
       "      <th>children</th>\n",
       "      <th></th>\n",
       "      <th></th>\n",
       "    </tr>\n",
       "  </thead>\n",
       "  <tbody>\n",
       "    <tr>\n",
       "      <td>0</td>\n",
       "      <td>14091</td>\n",
       "      <td>1063.0</td>\n",
       "    </tr>\n",
       "    <tr>\n",
       "      <td>1</td>\n",
       "      <td>4855</td>\n",
       "      <td>445.0</td>\n",
       "    </tr>\n",
       "    <tr>\n",
       "      <td>2</td>\n",
       "      <td>2128</td>\n",
       "      <td>202.0</td>\n",
       "    </tr>\n",
       "    <tr>\n",
       "      <td>3</td>\n",
       "      <td>330</td>\n",
       "      <td>27.0</td>\n",
       "    </tr>\n",
       "    <tr>\n",
       "      <td>4</td>\n",
       "      <td>41</td>\n",
       "      <td>4.0</td>\n",
       "    </tr>\n",
       "    <tr>\n",
       "      <td>5</td>\n",
       "      <td>9</td>\n",
       "      <td>0.0</td>\n",
       "    </tr>\n",
       "  </tbody>\n",
       "</table>\n",
       "</div>"
      ],
      "text/plain": [
       "           debt        \n",
       "          count     sum\n",
       "children               \n",
       "0         14091  1063.0\n",
       "1          4855   445.0\n",
       "2          2128   202.0\n",
       "3           330    27.0\n",
       "4            41     4.0\n",
       "5             9     0.0"
      ]
     },
     "execution_count": 52,
     "metadata": {},
     "output_type": "execute_result"
    }
   ],
   "source": [
    "display(df.groupby('children_id').agg({'debt': ['count', 'sum']}))\n",
    "df.groupby('children').agg({'debt': ['count', 'sum']})"
   ]
  },
  {
   "cell_type": "markdown",
   "metadata": {},
   "source": [
    "Корреляция по количеству детей"
   ]
  },
  {
   "cell_type": "code",
   "execution_count": 53,
   "metadata": {},
   "outputs": [
    {
     "data": {
      "text/plain": [
       "<matplotlib.axes._subplots.AxesSubplot at 0x7f54de1644d0>"
      ]
     },
     "execution_count": 53,
     "metadata": {},
     "output_type": "execute_result"
    },
    {
     "data": {
      "image/png": "[encoded data removed]",
      "text/plain": [
       "<Figure size 432x288 with 1 Axes>"
      ]
     },
     "metadata": {
      "needs_background": "light"
     },
     "output_type": "display_data"
    }
   ],
   "source": [
    "df.groupby(['children']).debt.mean().plot(kind=\"barh\")"
   ]
  },
  {
   "cell_type": "markdown",
   "metadata": {},
   "source": [
    "Рассчитаем вероятность просрочки"
   ]
  },
  {
   "cell_type": "code",
   "execution_count": 54,
   "metadata": {},
   "outputs": [
    {
     "data": {
      "text/plain": [
       "children\n",
       "0    0.075438\n",
       "1    0.091658\n",
       "2    0.094925\n",
       "3    0.081818\n",
       "4    0.097561\n",
       "5    0.000000\n",
       "Name: debt, dtype: float64"
      ]
     },
     "execution_count": 54,
     "metadata": {},
     "output_type": "execute_result"
    }
   ],
   "source": [
    "df.groupby(['children']).debt.mean()"
   ]
  },
  {
   "cell_type": "markdown",
   "metadata": {},
   "source": [
    "**Вывод**"
   ]
  },
  {
   "cell_type": "markdown",
   "metadata": {},
   "source": [
    "Наименьшая вероятность просрочки у клиентов без детей, наибольшая у имеющих 4 ребенка."
   ]
  },
  {
   "cell_type": "markdown",
   "metadata": {},
   "source": [
    "Мзучим family_status по dept"
   ]
  },
  {
   "cell_type": "code",
   "execution_count": 55,
   "metadata": {},
   "outputs": [
    {
     "data": {
      "text/plain": [
       "женат / замужем          931\n",
       "гражданский брак         388\n",
       "не женат / не замужем    274\n",
       "в разводе                 85\n",
       "вдовец / вдова            63\n",
       "Name: family_status, dtype: int64"
      ]
     },
     "execution_count": 55,
     "metadata": {},
     "output_type": "execute_result"
    }
   ],
   "source": [
    "df.loc[df['debt']==1,'family_status'].value_counts()"
   ]
  },
  {
   "cell_type": "markdown",
   "metadata": {},
   "source": [
    "Корреляция по семейному положению"
   ]
  },
  {
   "cell_type": "code",
   "execution_count": 56,
   "metadata": {},
   "outputs": [
    {
     "data": {
      "text/plain": [
       "<matplotlib.axes._subplots.AxesSubplot at 0x7f55309cab50>"
      ]
     },
     "execution_count": 56,
     "metadata": {},
     "output_type": "execute_result"
    },
    {
     "data": {
      "image/png": "[encoded data removed]",
      "text/plain": [
       "<Figure size 432x288 with 1 Axes>"
      ]
     },
     "metadata": {
      "needs_background": "light"
     },
     "output_type": "display_data"
    }
   ],
   "source": [
    "df.groupby(['family_status']).debt.mean().plot(kind=\"barh\")"
   ]
  },
  {
   "cell_type": "markdown",
   "metadata": {},
   "source": [
    "Рассчитаем вероятность просрочки"
   ]
  },
  {
   "cell_type": "code",
   "execution_count": 57,
   "metadata": {},
   "outputs": [
    {
     "data": {
      "text/plain": [
       "family_status\n",
       "в разводе                0.071130\n",
       "вдовец / вдова           0.065693\n",
       "гражданский брак         0.093471\n",
       "женат / замужем          0.075452\n",
       "не женат / не замужем    0.097509\n",
       "Name: debt, dtype: float64"
      ]
     },
     "execution_count": 57,
     "metadata": {},
     "output_type": "execute_result"
    }
   ],
   "source": [
    "df.groupby(['family_status']).debt.mean()"
   ]
  },
  {
   "cell_type": "markdown",
   "metadata": {},
   "source": [
    "**Вывод**"
   ]
  },
  {
   "cell_type": "markdown",
   "metadata": {},
   "source": [
    "Наименьшая вероятность просрочки у вдовцов, наибольшая у неженатых/незамужних и в гражданском браке."
   ]
  },
  {
   "cell_type": "markdown",
   "metadata": {},
   "source": [
    "Изучим корреляцию по доходу. Рассчитаем вероятность просрочки"
   ]
  },
  {
   "cell_type": "code",
   "execution_count": 58,
   "metadata": {},
   "outputs": [
    {
     "data": {
      "text/plain": [
       "<matplotlib.axes._subplots.AxesSubplot at 0x7f553093b990>"
      ]
     },
     "execution_count": 58,
     "metadata": {},
     "output_type": "execute_result"
    },
    {
     "data": {
      "image/png": "[encoded data removed]",
      "text/plain": [
       "<Figure size 432x288 with 1 Axes>"
      ]
     },
     "metadata": {
      "needs_background": "light"
     },
     "output_type": "display_data"
    }
   ],
   "source": [
    "df.groupby(['total_income_id']).debt.mean().plot(kind=\"barh\")"
   ]
  },
  {
   "cell_type": "code",
   "execution_count": 59,
   "metadata": {},
   "outputs": [
    {
     "data": {
      "text/plain": [
       "total_income_id\n",
       "0    0.061828\n",
       "1    0.081035\n",
       "2    0.087500\n",
       "3    0.084882\n",
       "4    0.072574\n",
       "5    0.068966\n",
       "Name: debt, dtype: float64"
      ]
     },
     "execution_count": 59,
     "metadata": {},
     "output_type": "execute_result"
    }
   ],
   "source": [
    "df.groupby(['total_income_id']).debt.mean()"
   ]
  },
  {
   "cell_type": "markdown",
   "metadata": {},
   "source": [
    "**Вывод**"
   ]
  },
  {
   "cell_type": "markdown",
   "metadata": {},
   "source": [
    "Наименьшая вероятность просрочки у доходов до 50к, наибольшая 100-150к."
   ]
  },
  {
   "cell_type": "markdown",
   "metadata": {},
   "source": [
    "Мзучим purpose по dept"
   ]
  },
  {
   "cell_type": "code",
   "execution_count": 60,
   "metadata": {},
   "outputs": [
    {
     "name": "stdout",
     "output_type": "stream",
     "text": [
      "{0: 'недвижимость/жилье', 1: 'автомобиль', 2: 'образование', 3: 'свадьба'}\n"
     ]
    },
    {
     "data": {
      "text/plain": [
       "0    782\n",
       "1    403\n",
       "2    370\n",
       "3    186\n",
       "Name: purpose_id, dtype: int64"
      ]
     },
     "execution_count": 60,
     "metadata": {},
     "output_type": "execute_result"
    }
   ],
   "source": [
    "print(dict(enumerate(purpose.keys())))\n",
    "df.loc[df['debt']==1,'purpose_id'].value_counts()"
   ]
  },
  {
   "cell_type": "markdown",
   "metadata": {},
   "source": [
    "Корреляция по цели кредита"
   ]
  },
  {
   "cell_type": "code",
   "execution_count": 61,
   "metadata": {},
   "outputs": [
    {
     "data": {
      "text/plain": [
       "<matplotlib.axes._subplots.AxesSubplot at 0x7f55308b9910>"
      ]
     },
     "execution_count": 61,
     "metadata": {},
     "output_type": "execute_result"
    },
    {
     "data": {
      "image/png": "[encoded data removed]",
      "text/plain": [
       "<Figure size 432x288 with 1 Axes>"
      ]
     },
     "metadata": {
      "needs_background": "light"
     },
     "output_type": "display_data"
    }
   ],
   "source": [
    "df.groupby(['purpose_id']).debt.mean().plot(kind=\"barh\")"
   ]
  },
  {
   "cell_type": "markdown",
   "metadata": {},
   "source": [
    "Рассчитаем вероятность просрочки"
   ]
  },
  {
   "cell_type": "code",
   "execution_count": 62,
   "metadata": {},
   "outputs": [
    {
     "data": {
      "text/plain": [
       "purpose_id\n",
       "0    0.072334\n",
       "1    0.093590\n",
       "2    0.092200\n",
       "3    0.080034\n",
       "Name: debt, dtype: float64"
      ]
     },
     "execution_count": 62,
     "metadata": {},
     "output_type": "execute_result"
    }
   ],
   "source": [
    "df.groupby(['purpose_id']).debt.mean()"
   ]
  },
  {
   "cell_type": "markdown",
   "metadata": {},
   "source": [
    "**Вывод**"
   ]
  },
  {
   "cell_type": "markdown",
   "metadata": {},
   "source": [
    "Наименьшая вероятность у недвижемости, наибольшая у авто и образования."
   ]
  },
  {
   "cell_type": "markdown",
   "metadata": {},
   "source": [
    "## Шаг 4. Общий вывод"
   ]
  },
  {
   "cell_type": "markdown",
   "metadata": {},
   "source": [
    "Подготовлен датафрейм с информацией о заемщиках, проведена предобработка данных.\n",
    "Составлены критерии влияющие на возврат кредита в срок.\n",
    "\n",
    "Идеальный клиент:\n",
    "- не имеет детей;\n",
    "- вдовец/вдова или разведены;\n",
    "- имеет небольшой доход;\n",
    "- берет деньги на покупку недвижимости\n",
    "\n",
    "Клиент с высоким риска не возврата:\n",
    "- имеет много детей;\n",
    "- не состоит в браке;\n",
    "- имеет доход 100-150к;\n",
    "- берет деньги на авто или образование;"
   ]
  }
 ],
 "metadata": {
  "ExecuteTimeLog": [
   {
    "duration": 311,
    "start_time": "2021-12-20T18:21:47.865Z"
   },
   {
    "duration": 266,
    "start_time": "2021-12-20T18:21:55.085Z"
   },
   {
    "duration": 736,
    "start_time": "2021-12-20T18:21:59.942Z"
   },
   {
    "duration": 70,
    "start_time": "2021-12-20T18:22:01.475Z"
   },
   {
    "duration": 19,
    "start_time": "2021-12-20T18:24:16.143Z"
   },
   {
    "duration": 3,
    "start_time": "2021-12-20T18:34:39.535Z"
   },
   {
    "duration": 13,
    "start_time": "2021-12-20T18:37:45.098Z"
   },
   {
    "duration": 13,
    "start_time": "2021-12-20T18:40:08.235Z"
   },
   {
    "duration": 29,
    "start_time": "2021-12-20T18:40:51.603Z"
   },
   {
    "duration": 19,
    "start_time": "2021-12-20T18:43:10.515Z"
   },
   {
    "duration": 6,
    "start_time": "2021-12-20T18:48:52.493Z"
   },
   {
    "duration": 16,
    "start_time": "2021-12-20T18:49:17.992Z"
   },
   {
    "duration": 18,
    "start_time": "2021-12-20T18:53:00.908Z"
   },
   {
    "duration": 9,
    "start_time": "2021-12-20T18:54:19.637Z"
   },
   {
    "duration": 8,
    "start_time": "2021-12-20T18:55:30.779Z"
   },
   {
    "duration": 9,
    "start_time": "2021-12-20T18:55:37.945Z"
   },
   {
    "duration": 277,
    "start_time": "2021-12-20T18:56:06.459Z"
   },
   {
    "duration": 11,
    "start_time": "2021-12-20T18:56:16.285Z"
   },
   {
    "duration": 11,
    "start_time": "2021-12-20T18:56:31.446Z"
   },
   {
    "duration": 9,
    "start_time": "2021-12-20T18:57:07.450Z"
   },
   {
    "duration": 9,
    "start_time": "2021-12-20T18:57:24.127Z"
   },
   {
    "duration": 16,
    "start_time": "2021-12-20T18:57:58.347Z"
   },
   {
    "duration": 7,
    "start_time": "2021-12-20T19:03:27.099Z"
   },
   {
    "duration": 249,
    "start_time": "2021-12-20T19:05:26.198Z"
   },
   {
    "duration": 15,
    "start_time": "2021-12-20T19:06:00.032Z"
   },
   {
    "duration": 6,
    "start_time": "2021-12-20T19:21:59.871Z"
   },
   {
    "duration": 41,
    "start_time": "2021-12-20T19:44:01.546Z"
   },
   {
    "duration": 13,
    "start_time": "2021-12-20T19:44:15.062Z"
   },
   {
    "duration": 18,
    "start_time": "2021-12-20T19:44:18.046Z"
   },
   {
    "duration": 17,
    "start_time": "2021-12-20T19:48:00.972Z"
   },
   {
    "duration": 12,
    "start_time": "2021-12-20T19:48:06.584Z"
   },
   {
    "duration": 5,
    "start_time": "2021-12-20T19:56:04.394Z"
   },
   {
    "duration": 8,
    "start_time": "2021-12-20T19:57:09.707Z"
   },
   {
    "duration": 267,
    "start_time": "2021-12-20T19:57:32.145Z"
   },
   {
    "duration": 6,
    "start_time": "2021-12-20T20:07:52.521Z"
   },
   {
    "duration": 7,
    "start_time": "2021-12-20T20:09:03.260Z"
   },
   {
    "duration": 3458,
    "start_time": "2021-12-20T20:11:07.227Z"
   },
   {
    "duration": 3705,
    "start_time": "2021-12-20T20:11:59.873Z"
   },
   {
    "duration": 2,
    "start_time": "2021-12-20T20:12:11.388Z"
   },
   {
    "duration": 72,
    "start_time": "2021-12-20T20:12:12.436Z"
   },
   {
    "duration": 13,
    "start_time": "2021-12-20T20:12:13.229Z"
   },
   {
    "duration": 32,
    "start_time": "2021-12-20T20:12:19.039Z"
   },
   {
    "duration": 30,
    "start_time": "2021-12-20T20:12:19.729Z"
   },
   {
    "duration": 18,
    "start_time": "2021-12-20T20:12:24.839Z"
   },
   {
    "duration": 6,
    "start_time": "2021-12-20T20:12:29.265Z"
   },
   {
    "duration": 23,
    "start_time": "2021-12-20T20:12:30.232Z"
   },
   {
    "duration": 3640,
    "start_time": "2021-12-20T20:12:31.401Z"
   },
   {
    "duration": 3211,
    "start_time": "2021-12-20T20:13:10.271Z"
   },
   {
    "duration": 3371,
    "start_time": "2021-12-20T20:13:31.302Z"
   },
   {
    "duration": 3232,
    "start_time": "2021-12-20T20:14:43.430Z"
   },
   {
    "duration": 3849,
    "start_time": "2021-12-20T20:15:26.324Z"
   },
   {
    "duration": 4788,
    "start_time": "2021-12-20T20:16:35.102Z"
   },
   {
    "duration": 3687,
    "start_time": "2021-12-20T20:16:52.196Z"
   },
   {
    "duration": 4109,
    "start_time": "2021-12-20T20:17:21.384Z"
   },
   {
    "duration": 3952,
    "start_time": "2021-12-20T20:18:49.043Z"
   },
   {
    "duration": 3,
    "start_time": "2021-12-20T20:19:03.556Z"
   },
   {
    "duration": 71,
    "start_time": "2021-12-20T20:19:04.009Z"
   },
   {
    "duration": 13,
    "start_time": "2021-12-20T20:19:04.207Z"
   },
   {
    "duration": 22,
    "start_time": "2021-12-20T20:19:08.333Z"
   },
   {
    "duration": 19,
    "start_time": "2021-12-20T20:19:09.129Z"
   },
   {
    "duration": 9,
    "start_time": "2021-12-20T20:19:11.619Z"
   },
   {
    "duration": 5,
    "start_time": "2021-12-20T20:19:17.015Z"
   },
   {
    "duration": 15,
    "start_time": "2021-12-20T20:19:21.872Z"
   },
   {
    "duration": 6,
    "start_time": "2021-12-20T20:19:35.498Z"
   },
   {
    "duration": 7,
    "start_time": "2021-12-20T20:20:02.963Z"
   },
   {
    "duration": 61,
    "start_time": "2021-12-20T20:29:57.242Z"
   },
   {
    "duration": 16,
    "start_time": "2021-12-20T20:30:17.177Z"
   },
   {
    "duration": 20,
    "start_time": "2021-12-20T20:30:25.413Z"
   },
   {
    "duration": 22,
    "start_time": "2021-12-20T20:31:18.425Z"
   },
   {
    "duration": 636,
    "start_time": "2021-12-20T20:32:05.958Z"
   },
   {
    "duration": 71,
    "start_time": "2021-12-20T20:32:06.596Z"
   },
   {
    "duration": 19,
    "start_time": "2021-12-20T20:32:06.670Z"
   },
   {
    "duration": 20,
    "start_time": "2021-12-20T20:32:06.691Z"
   },
   {
    "duration": 46,
    "start_time": "2021-12-20T20:32:06.712Z"
   },
   {
    "duration": 11,
    "start_time": "2021-12-20T20:32:06.761Z"
   },
   {
    "duration": 7,
    "start_time": "2021-12-20T20:32:06.774Z"
   },
   {
    "duration": 14,
    "start_time": "2021-12-20T20:32:06.785Z"
   },
   {
    "duration": 45,
    "start_time": "2021-12-20T20:32:06.802Z"
   },
   {
    "duration": 39,
    "start_time": "2021-12-20T20:32:06.852Z"
   },
   {
    "duration": 18,
    "start_time": "2021-12-20T20:32:31.318Z"
   },
   {
    "duration": 18,
    "start_time": "2021-12-20T20:33:48.025Z"
   },
   {
    "duration": 20,
    "start_time": "2021-12-20T20:38:49.823Z"
   },
   {
    "duration": 351,
    "start_time": "2021-12-20T20:40:22.044Z"
   },
   {
    "duration": 5,
    "start_time": "2021-12-20T20:40:40.174Z"
   },
   {
    "duration": 26,
    "start_time": "2021-12-20T20:40:45.059Z"
   },
   {
    "duration": 19,
    "start_time": "2021-12-20T20:40:49.669Z"
   },
   {
    "duration": 7,
    "start_time": "2021-12-20T20:43:28.775Z"
   },
   {
    "duration": 30,
    "start_time": "2021-12-20T20:43:35.955Z"
   },
   {
    "duration": 6,
    "start_time": "2021-12-20T20:56:36.642Z"
   },
   {
    "duration": 9,
    "start_time": "2021-12-20T21:00:10.863Z"
   },
   {
    "duration": 5,
    "start_time": "2021-12-20T21:04:27.854Z"
   },
   {
    "duration": 6,
    "start_time": "2021-12-20T21:04:32.744Z"
   },
   {
    "duration": 7,
    "start_time": "2021-12-20T21:06:41.560Z"
   },
   {
    "duration": 12,
    "start_time": "2021-12-20T21:07:40.414Z"
   },
   {
    "duration": 6,
    "start_time": "2021-12-20T21:07:42.754Z"
   },
   {
    "duration": 6,
    "start_time": "2021-12-20T21:08:07.427Z"
   },
   {
    "duration": 6,
    "start_time": "2021-12-20T21:08:10.117Z"
   },
   {
    "duration": 13,
    "start_time": "2021-12-20T21:08:23.053Z"
   },
   {
    "duration": 6,
    "start_time": "2021-12-20T21:09:04.622Z"
   },
   {
    "duration": 7,
    "start_time": "2021-12-20T21:10:19.069Z"
   },
   {
    "duration": 7,
    "start_time": "2021-12-20T21:11:02.146Z"
   },
   {
    "duration": 5,
    "start_time": "2021-12-20T21:11:30.850Z"
   },
   {
    "duration": 6,
    "start_time": "2021-12-20T21:11:55.388Z"
   },
   {
    "duration": 295,
    "start_time": "2021-12-20T21:12:06.069Z"
   },
   {
    "duration": 7,
    "start_time": "2021-12-20T21:12:22.075Z"
   },
   {
    "duration": 8,
    "start_time": "2021-12-20T21:13:14.087Z"
   },
   {
    "duration": 8,
    "start_time": "2021-12-20T21:16:44.506Z"
   },
   {
    "duration": 17,
    "start_time": "2021-12-20T21:18:59.692Z"
   },
   {
    "duration": 18,
    "start_time": "2021-12-20T21:19:05.556Z"
   },
   {
    "duration": 7,
    "start_time": "2021-12-20T21:19:16.833Z"
   },
   {
    "duration": 9,
    "start_time": "2021-12-20T21:19:54.924Z"
   },
   {
    "duration": 22,
    "start_time": "2021-12-20T21:20:40.578Z"
   },
   {
    "duration": 835,
    "start_time": "2021-12-21T19:00:15.190Z"
   },
   {
    "duration": 84,
    "start_time": "2021-12-21T19:00:16.028Z"
   },
   {
    "duration": 34,
    "start_time": "2021-12-21T19:00:16.606Z"
   },
   {
    "duration": 28,
    "start_time": "2021-12-21T19:00:21.325Z"
   },
   {
    "duration": 23,
    "start_time": "2021-12-21T19:00:22.214Z"
   },
   {
    "duration": 7,
    "start_time": "2021-12-21T19:00:27.062Z"
   },
   {
    "duration": 18,
    "start_time": "2021-12-21T19:00:38.002Z"
   },
   {
    "duration": 429,
    "start_time": "2021-12-21T19:09:38.161Z"
   },
   {
    "duration": 33,
    "start_time": "2021-12-21T19:09:44.716Z"
   },
   {
    "duration": 7,
    "start_time": "2021-12-21T19:10:08.057Z"
   },
   {
    "duration": 298,
    "start_time": "2021-12-21T19:17:48.826Z"
   },
   {
    "duration": 11,
    "start_time": "2021-12-21T19:17:56.992Z"
   },
   {
    "duration": 306,
    "start_time": "2021-12-21T19:20:06.781Z"
   },
   {
    "duration": 14,
    "start_time": "2021-12-21T19:20:16.963Z"
   },
   {
    "duration": 8,
    "start_time": "2021-12-21T19:22:23.976Z"
   },
   {
    "duration": 10,
    "start_time": "2021-12-21T19:22:36.102Z"
   },
   {
    "duration": 8,
    "start_time": "2021-12-21T19:23:09.575Z"
   },
   {
    "duration": 770,
    "start_time": "2021-12-21T19:23:45.870Z"
   },
   {
    "duration": 80,
    "start_time": "2021-12-21T19:23:46.643Z"
   },
   {
    "duration": 43,
    "start_time": "2021-12-21T19:23:46.727Z"
   },
   {
    "duration": 29,
    "start_time": "2021-12-21T19:23:46.773Z"
   },
   {
    "duration": 23,
    "start_time": "2021-12-21T19:23:46.805Z"
   },
   {
    "duration": 41,
    "start_time": "2021-12-21T19:23:46.831Z"
   },
   {
    "duration": 6,
    "start_time": "2021-12-21T19:23:46.875Z"
   },
   {
    "duration": 20,
    "start_time": "2021-12-21T19:23:46.886Z"
   },
   {
    "duration": 8,
    "start_time": "2021-12-21T19:23:46.909Z"
   },
   {
    "duration": 53,
    "start_time": "2021-12-21T19:23:46.920Z"
   },
   {
    "duration": 14,
    "start_time": "2021-12-21T19:23:46.976Z"
   },
   {
    "duration": 7,
    "start_time": "2021-12-21T19:23:46.993Z"
   },
   {
    "duration": 9,
    "start_time": "2021-12-21T19:23:47.003Z"
   },
   {
    "duration": 52,
    "start_time": "2021-12-21T19:23:47.015Z"
   },
   {
    "duration": 51,
    "start_time": "2021-12-21T19:23:47.070Z"
   },
   {
    "duration": 10,
    "start_time": "2021-12-21T19:23:47.124Z"
   },
   {
    "duration": 8,
    "start_time": "2021-12-21T19:23:47.168Z"
   },
   {
    "duration": 12,
    "start_time": "2021-12-21T19:23:47.179Z"
   },
   {
    "duration": 10,
    "start_time": "2021-12-21T19:23:47.193Z"
   },
   {
    "duration": 7,
    "start_time": "2021-12-21T19:23:47.206Z"
   },
   {
    "duration": 14,
    "start_time": "2021-12-21T19:23:47.215Z"
   },
   {
    "duration": 13,
    "start_time": "2021-12-21T19:23:47.268Z"
   },
   {
    "duration": 896,
    "start_time": "2021-12-21T19:24:11.097Z"
   },
   {
    "duration": 85,
    "start_time": "2021-12-21T19:24:11.996Z"
   },
   {
    "duration": 29,
    "start_time": "2021-12-21T19:24:12.087Z"
   },
   {
    "duration": 54,
    "start_time": "2021-12-21T19:24:12.119Z"
   },
   {
    "duration": 24,
    "start_time": "2021-12-21T19:24:12.176Z"
   },
   {
    "duration": 13,
    "start_time": "2021-12-21T19:24:12.203Z"
   },
   {
    "duration": 49,
    "start_time": "2021-12-21T19:24:12.220Z"
   },
   {
    "duration": 20,
    "start_time": "2021-12-21T19:24:12.272Z"
   },
   {
    "duration": 21,
    "start_time": "2021-12-21T19:24:12.295Z"
   },
   {
    "duration": 18,
    "start_time": "2021-12-21T19:24:12.318Z"
   },
   {
    "duration": 35,
    "start_time": "2021-12-21T19:24:12.339Z"
   },
   {
    "duration": 13,
    "start_time": "2021-12-21T19:24:12.376Z"
   },
   {
    "duration": 11,
    "start_time": "2021-12-21T19:24:12.392Z"
   },
   {
    "duration": 12,
    "start_time": "2021-12-21T19:24:12.405Z"
   },
   {
    "duration": 79,
    "start_time": "2021-12-21T19:24:12.420Z"
   },
   {
    "duration": 9,
    "start_time": "2021-12-21T19:24:12.501Z"
   },
   {
    "duration": 13,
    "start_time": "2021-12-21T19:24:12.514Z"
   },
   {
    "duration": 39,
    "start_time": "2021-12-21T19:24:12.530Z"
   },
   {
    "duration": 10,
    "start_time": "2021-12-21T19:24:12.573Z"
   },
   {
    "duration": 9,
    "start_time": "2021-12-21T19:24:12.586Z"
   },
   {
    "duration": 8,
    "start_time": "2021-12-21T19:24:12.598Z"
   },
   {
    "duration": 13,
    "start_time": "2021-12-21T19:24:12.611Z"
   },
   {
    "duration": 6,
    "start_time": "2021-12-21T19:24:46.058Z"
   },
   {
    "duration": 4,
    "start_time": "2021-12-21T19:28:11.014Z"
   },
   {
    "duration": 4,
    "start_time": "2021-12-21T19:35:12.182Z"
   },
   {
    "duration": 4,
    "start_time": "2021-12-21T19:37:28.271Z"
   },
   {
    "duration": 5,
    "start_time": "2021-12-21T19:48:26.550Z"
   },
   {
    "duration": 20,
    "start_time": "2021-12-21T19:48:27.169Z"
   },
   {
    "duration": 13,
    "start_time": "2021-12-21T19:52:19.897Z"
   },
   {
    "duration": 374,
    "start_time": "2021-12-21T19:54:07.924Z"
   },
   {
    "duration": 18,
    "start_time": "2021-12-21T19:54:14.259Z"
   },
   {
    "duration": 19,
    "start_time": "2021-12-21T19:54:29.932Z"
   },
   {
    "duration": 320,
    "start_time": "2021-12-21T19:55:05.676Z"
   },
   {
    "duration": 7,
    "start_time": "2021-12-21T19:55:11.795Z"
   },
   {
    "duration": 6,
    "start_time": "2021-12-21T19:55:37.635Z"
   },
   {
    "duration": 335,
    "start_time": "2021-12-21T19:55:55.865Z"
   },
   {
    "duration": 83,
    "start_time": "2021-12-21T19:56:12.984Z"
   },
   {
    "duration": 11,
    "start_time": "2021-12-21T19:56:28.746Z"
   },
   {
    "duration": 9,
    "start_time": "2021-12-21T19:56:53.024Z"
   },
   {
    "duration": 269,
    "start_time": "2021-12-21T19:57:19.576Z"
   },
   {
    "duration": 312,
    "start_time": "2021-12-21T19:59:20.332Z"
   },
   {
    "duration": 4,
    "start_time": "2021-12-21T19:59:41.118Z"
   },
   {
    "duration": 503,
    "start_time": "2021-12-21T19:59:47.373Z"
   },
   {
    "duration": 438,
    "start_time": "2021-12-21T20:01:27.819Z"
   },
   {
    "duration": 7,
    "start_time": "2021-12-21T20:02:13.785Z"
   },
   {
    "duration": 250,
    "start_time": "2021-12-21T20:02:32.261Z"
   },
   {
    "duration": 7,
    "start_time": "2021-12-21T20:03:35.964Z"
   },
   {
    "duration": 7,
    "start_time": "2021-12-21T20:03:46.566Z"
   },
   {
    "duration": 4,
    "start_time": "2021-12-21T20:04:53.145Z"
   },
   {
    "duration": 15,
    "start_time": "2021-12-21T20:09:15.891Z"
   },
   {
    "duration": 22,
    "start_time": "2021-12-21T20:09:38.414Z"
   },
   {
    "duration": 14,
    "start_time": "2021-12-21T20:16:29.885Z"
   },
   {
    "duration": 634,
    "start_time": "2021-12-21T20:18:45.219Z"
   },
   {
    "duration": 273,
    "start_time": "2021-12-21T20:20:02.716Z"
   },
   {
    "duration": 16,
    "start_time": "2021-12-21T20:21:03.410Z"
   },
   {
    "duration": 15,
    "start_time": "2021-12-21T20:21:43.675Z"
   },
   {
    "duration": 106,
    "start_time": "2021-12-21T20:22:38.709Z"
   },
   {
    "duration": 813,
    "start_time": "2021-12-21T20:22:52.938Z"
   },
   {
    "duration": 18,
    "start_time": "2021-12-21T20:23:38.063Z"
   },
   {
    "duration": 13,
    "start_time": "2021-12-21T20:23:43.705Z"
   },
   {
    "duration": 13,
    "start_time": "2021-12-21T20:24:11.862Z"
   },
   {
    "duration": 16,
    "start_time": "2021-12-21T20:24:19.386Z"
   },
   {
    "duration": 754,
    "start_time": "2021-12-21T20:25:26.989Z"
   },
   {
    "duration": 82,
    "start_time": "2021-12-21T20:25:27.746Z"
   },
   {
    "duration": 44,
    "start_time": "2021-12-21T20:25:27.831Z"
   },
   {
    "duration": 35,
    "start_time": "2021-12-21T20:25:27.879Z"
   },
   {
    "duration": 56,
    "start_time": "2021-12-21T20:25:27.917Z"
   },
   {
    "duration": 15,
    "start_time": "2021-12-21T20:25:27.976Z"
   },
   {
    "duration": 10,
    "start_time": "2021-12-21T20:25:27.993Z"
   },
   {
    "duration": 61,
    "start_time": "2021-12-21T20:25:28.006Z"
   },
   {
    "duration": 9,
    "start_time": "2021-12-21T20:25:28.071Z"
   },
   {
    "duration": 9,
    "start_time": "2021-12-21T20:25:28.084Z"
   },
   {
    "duration": 12,
    "start_time": "2021-12-21T20:25:28.096Z"
   },
   {
    "duration": 55,
    "start_time": "2021-12-21T20:25:28.112Z"
   },
   {
    "duration": 3,
    "start_time": "2021-12-21T20:25:28.170Z"
   },
   {
    "duration": 24,
    "start_time": "2021-12-21T20:25:28.176Z"
   },
   {
    "duration": 7,
    "start_time": "2021-12-21T20:25:28.203Z"
   },
   {
    "duration": 6,
    "start_time": "2021-12-21T20:25:28.212Z"
   },
   {
    "duration": 46,
    "start_time": "2021-12-21T20:25:28.221Z"
   },
   {
    "duration": 22,
    "start_time": "2021-12-21T20:25:28.270Z"
   },
   {
    "duration": 9,
    "start_time": "2021-12-21T20:25:28.295Z"
   },
   {
    "duration": 60,
    "start_time": "2021-12-21T20:25:28.307Z"
   },
   {
    "duration": 67,
    "start_time": "2021-12-21T20:25:28.370Z"
   },
   {
    "duration": 34,
    "start_time": "2021-12-21T20:25:28.441Z"
   },
   {
    "duration": 10,
    "start_time": "2021-12-21T20:25:28.477Z"
   },
   {
    "duration": 8,
    "start_time": "2021-12-21T20:25:28.490Z"
   },
   {
    "duration": 11,
    "start_time": "2021-12-21T20:25:28.501Z"
   },
   {
    "duration": 58,
    "start_time": "2021-12-21T20:25:28.515Z"
   },
   {
    "duration": 10,
    "start_time": "2021-12-21T20:25:28.578Z"
   },
   {
    "duration": 14,
    "start_time": "2021-12-21T20:25:28.591Z"
   },
   {
    "duration": 88,
    "start_time": "2021-12-21T20:33:28.423Z"
   },
   {
    "duration": 17,
    "start_time": "2021-12-21T20:33:37.224Z"
   },
   {
    "duration": 4,
    "start_time": "2021-12-21T20:33:45.389Z"
   },
   {
    "duration": 99,
    "start_time": "2021-12-21T20:33:45.723Z"
   },
   {
    "duration": 24,
    "start_time": "2021-12-21T20:33:45.867Z"
   },
   {
    "duration": 32,
    "start_time": "2021-12-21T20:33:47.137Z"
   },
   {
    "duration": 23,
    "start_time": "2021-12-21T20:33:47.517Z"
   },
   {
    "duration": 14,
    "start_time": "2021-12-21T20:33:47.802Z"
   },
   {
    "duration": 7,
    "start_time": "2021-12-21T20:33:48.002Z"
   },
   {
    "duration": 22,
    "start_time": "2021-12-21T20:33:48.216Z"
   },
   {
    "duration": 8,
    "start_time": "2021-12-21T20:33:51.524Z"
   },
   {
    "duration": 8,
    "start_time": "2021-12-21T20:33:51.961Z"
   },
   {
    "duration": 12,
    "start_time": "2021-12-21T20:33:52.524Z"
   },
   {
    "duration": 6,
    "start_time": "2021-12-21T20:33:53.088Z"
   },
   {
    "duration": 3,
    "start_time": "2021-12-21T20:33:54.009Z"
   },
   {
    "duration": 13,
    "start_time": "2021-12-21T20:33:54.596Z"
   },
   {
    "duration": 13,
    "start_time": "2021-12-21T20:35:01.703Z"
   },
   {
    "duration": 89,
    "start_time": "2021-12-21T20:35:57.804Z"
   },
   {
    "duration": 21,
    "start_time": "2021-12-21T20:36:08.058Z"
   },
   {
    "duration": 23,
    "start_time": "2021-12-21T20:38:23.408Z"
   },
   {
    "duration": 899,
    "start_time": "2021-12-21T20:38:39.741Z"
   },
   {
    "duration": 110,
    "start_time": "2021-12-21T20:38:40.644Z"
   },
   {
    "duration": 43,
    "start_time": "2021-12-21T20:38:40.768Z"
   },
   {
    "duration": 111,
    "start_time": "2021-12-21T20:38:40.814Z"
   },
   {
    "duration": 118,
    "start_time": "2021-12-21T20:38:40.928Z"
   },
   {
    "duration": 152,
    "start_time": "2021-12-21T20:38:41.049Z"
   },
   {
    "duration": 211,
    "start_time": "2021-12-21T20:38:41.205Z"
   },
   {
    "duration": 142,
    "start_time": "2021-12-21T20:38:41.419Z"
   },
   {
    "duration": 16,
    "start_time": "2021-12-21T20:38:41.565Z"
   },
   {
    "duration": 28,
    "start_time": "2021-12-21T20:38:41.584Z"
   },
   {
    "duration": 15,
    "start_time": "2021-12-21T20:38:41.615Z"
   },
   {
    "duration": 35,
    "start_time": "2021-12-21T20:38:41.633Z"
   },
   {
    "duration": 5,
    "start_time": "2021-12-21T20:38:41.672Z"
   },
   {
    "duration": 25,
    "start_time": "2021-12-21T20:38:41.680Z"
   },
   {
    "duration": 8,
    "start_time": "2021-12-21T20:38:41.708Z"
   },
   {
    "duration": 17,
    "start_time": "2021-12-21T20:38:41.767Z"
   },
   {
    "duration": 16,
    "start_time": "2021-12-21T20:38:41.786Z"
   },
   {
    "duration": 27,
    "start_time": "2021-12-21T20:38:41.805Z"
   },
   {
    "duration": 8,
    "start_time": "2021-12-21T20:38:41.835Z"
   },
   {
    "duration": 14,
    "start_time": "2021-12-21T20:38:41.869Z"
   },
   {
    "duration": 59,
    "start_time": "2021-12-21T20:38:41.886Z"
   },
   {
    "duration": 9,
    "start_time": "2021-12-21T20:38:41.969Z"
   },
   {
    "duration": 13,
    "start_time": "2021-12-21T20:38:41.985Z"
   },
   {
    "duration": 13,
    "start_time": "2021-12-21T20:38:42.001Z"
   },
   {
    "duration": 56,
    "start_time": "2021-12-21T20:38:42.016Z"
   },
   {
    "duration": 12,
    "start_time": "2021-12-21T20:38:42.075Z"
   },
   {
    "duration": 15,
    "start_time": "2021-12-21T20:38:42.091Z"
   },
   {
    "duration": 61,
    "start_time": "2021-12-21T20:38:42.108Z"
   },
   {
    "duration": 22,
    "start_time": "2021-12-21T20:39:45.548Z"
   },
   {
    "duration": 1017,
    "start_time": "2021-12-21T20:39:53.338Z"
   },
   {
    "duration": 111,
    "start_time": "2021-12-21T20:39:54.359Z"
   },
   {
    "duration": 40,
    "start_time": "2021-12-21T20:39:54.475Z"
   },
   {
    "duration": 62,
    "start_time": "2021-12-21T20:39:54.518Z"
   },
   {
    "duration": 23,
    "start_time": "2021-12-21T20:39:54.583Z"
   },
   {
    "duration": 13,
    "start_time": "2021-12-21T20:39:54.609Z"
   },
   {
    "duration": 48,
    "start_time": "2021-12-21T20:39:54.626Z"
   },
   {
    "duration": 27,
    "start_time": "2021-12-21T20:39:54.680Z"
   },
   {
    "duration": 56,
    "start_time": "2021-12-21T20:39:54.711Z"
   },
   {
    "duration": 10,
    "start_time": "2021-12-21T20:39:54.770Z"
   },
   {
    "duration": 11,
    "start_time": "2021-12-21T20:39:54.783Z"
   },
   {
    "duration": 7,
    "start_time": "2021-12-21T20:39:54.797Z"
   },
   {
    "duration": 3,
    "start_time": "2021-12-21T20:39:54.807Z"
   },
   {
    "duration": 69,
    "start_time": "2021-12-21T20:39:54.813Z"
   },
   {
    "duration": 6,
    "start_time": "2021-12-21T20:39:54.885Z"
   },
   {
    "duration": 6,
    "start_time": "2021-12-21T20:39:54.894Z"
   },
   {
    "duration": 7,
    "start_time": "2021-12-21T20:39:54.903Z"
   },
   {
    "duration": 19,
    "start_time": "2021-12-21T20:39:54.968Z"
   },
   {
    "duration": 7,
    "start_time": "2021-12-21T20:39:54.990Z"
   },
   {
    "duration": 10,
    "start_time": "2021-12-21T20:39:55.000Z"
   },
   {
    "duration": 72,
    "start_time": "2021-12-21T20:39:55.068Z"
   },
   {
    "duration": 31,
    "start_time": "2021-12-21T20:39:55.143Z"
   },
   {
    "duration": 12,
    "start_time": "2021-12-21T20:39:55.180Z"
   },
   {
    "duration": 25,
    "start_time": "2021-12-21T20:39:55.195Z"
   },
   {
    "duration": 44,
    "start_time": "2021-12-21T20:39:55.223Z"
   },
   {
    "duration": 7,
    "start_time": "2021-12-21T20:39:55.270Z"
   },
   {
    "duration": 17,
    "start_time": "2021-12-21T20:39:55.280Z"
   },
   {
    "duration": 13,
    "start_time": "2021-12-21T20:39:55.301Z"
   },
   {
    "duration": 808,
    "start_time": "2021-12-21T20:40:40.338Z"
   },
   {
    "duration": 82,
    "start_time": "2021-12-21T20:40:41.149Z"
   },
   {
    "duration": 48,
    "start_time": "2021-12-21T20:40:41.235Z"
   },
   {
    "duration": 36,
    "start_time": "2021-12-21T20:40:41.287Z"
   },
   {
    "duration": 65,
    "start_time": "2021-12-21T20:40:41.326Z"
   },
   {
    "duration": 14,
    "start_time": "2021-12-21T20:40:41.394Z"
   },
   {
    "duration": 9,
    "start_time": "2021-12-21T20:40:41.411Z"
   },
   {
    "duration": 73,
    "start_time": "2021-12-21T20:40:41.425Z"
   },
   {
    "duration": 10,
    "start_time": "2021-12-21T20:40:41.503Z"
   },
   {
    "duration": 8,
    "start_time": "2021-12-21T20:40:41.516Z"
   },
   {
    "duration": 14,
    "start_time": "2021-12-21T20:40:41.568Z"
   },
   {
    "duration": 8,
    "start_time": "2021-12-21T20:40:41.585Z"
   },
   {
    "duration": 11,
    "start_time": "2021-12-21T20:40:41.596Z"
   },
   {
    "duration": 69,
    "start_time": "2021-12-21T20:40:41.610Z"
   },
   {
    "duration": 6,
    "start_time": "2021-12-21T20:40:41.682Z"
   },
   {
    "duration": 6,
    "start_time": "2021-12-21T20:40:41.691Z"
   },
   {
    "duration": 12,
    "start_time": "2021-12-21T20:40:41.699Z"
   },
   {
    "duration": 72,
    "start_time": "2021-12-21T20:40:41.714Z"
   },
   {
    "duration": 10,
    "start_time": "2021-12-21T20:40:41.789Z"
   },
   {
    "duration": 7,
    "start_time": "2021-12-21T20:40:41.802Z"
   },
   {
    "duration": 119,
    "start_time": "2021-12-21T20:40:41.812Z"
   },
   {
    "duration": 35,
    "start_time": "2021-12-21T20:40:41.934Z"
   },
   {
    "duration": 13,
    "start_time": "2021-12-21T20:40:41.975Z"
   },
   {
    "duration": 8,
    "start_time": "2021-12-21T20:40:41.991Z"
   },
   {
    "duration": 17,
    "start_time": "2021-12-21T20:40:42.002Z"
   },
   {
    "duration": 53,
    "start_time": "2021-12-21T20:40:42.022Z"
   },
   {
    "duration": 11,
    "start_time": "2021-12-21T20:40:42.078Z"
   },
   {
    "duration": 14,
    "start_time": "2021-12-21T20:40:42.092Z"
   },
   {
    "duration": 946,
    "start_time": "2021-12-21T20:41:44.265Z"
   },
   {
    "duration": 1557,
    "start_time": "2021-12-21T20:41:45.215Z"
   },
   {
    "duration": 41,
    "start_time": "2021-12-21T20:41:46.776Z"
   },
   {
    "duration": 71,
    "start_time": "2021-12-21T20:41:46.820Z"
   },
   {
    "duration": 56,
    "start_time": "2021-12-21T20:41:46.894Z"
   },
   {
    "duration": 23,
    "start_time": "2021-12-21T20:41:46.953Z"
   },
   {
    "duration": 7,
    "start_time": "2021-12-21T20:41:46.979Z"
   },
   {
    "duration": 20,
    "start_time": "2021-12-21T20:41:46.990Z"
   },
   {
    "duration": 58,
    "start_time": "2021-12-21T20:41:47.013Z"
   },
   {
    "duration": 9,
    "start_time": "2021-12-21T20:41:47.073Z"
   },
   {
    "duration": 14,
    "start_time": "2021-12-21T20:41:47.084Z"
   },
   {
    "duration": 16,
    "start_time": "2021-12-21T20:41:47.101Z"
   },
   {
    "duration": 4,
    "start_time": "2021-12-21T20:41:47.168Z"
   },
   {
    "duration": 27,
    "start_time": "2021-12-21T20:41:47.175Z"
   },
   {
    "duration": 6,
    "start_time": "2021-12-21T20:41:47.205Z"
   },
   {
    "duration": 6,
    "start_time": "2021-12-21T20:41:47.214Z"
   },
   {
    "duration": 48,
    "start_time": "2021-12-21T20:41:47.223Z"
   },
   {
    "duration": 20,
    "start_time": "2021-12-21T20:41:47.274Z"
   },
   {
    "duration": 7,
    "start_time": "2021-12-21T20:41:47.297Z"
   },
   {
    "duration": 61,
    "start_time": "2021-12-21T20:41:47.306Z"
   },
   {
    "duration": 55,
    "start_time": "2021-12-21T20:41:47.370Z"
   },
   {
    "duration": 41,
    "start_time": "2021-12-21T20:41:47.428Z"
   },
   {
    "duration": 12,
    "start_time": "2021-12-21T20:41:47.474Z"
   },
   {
    "duration": 8,
    "start_time": "2021-12-21T20:41:47.489Z"
   },
   {
    "duration": 10,
    "start_time": "2021-12-21T20:41:47.500Z"
   },
   {
    "duration": 60,
    "start_time": "2021-12-21T20:41:47.512Z"
   },
   {
    "duration": 10,
    "start_time": "2021-12-21T20:41:47.575Z"
   },
   {
    "duration": 21,
    "start_time": "2021-12-21T20:41:47.587Z"
   },
   {
    "duration": 357,
    "start_time": "2021-12-21T20:42:12.146Z"
   },
   {
    "duration": 794,
    "start_time": "2021-12-21T20:42:34.744Z"
   },
   {
    "duration": 82,
    "start_time": "2021-12-21T20:42:35.540Z"
   },
   {
    "duration": 44,
    "start_time": "2021-12-21T20:42:35.626Z"
   },
   {
    "duration": 30,
    "start_time": "2021-12-21T20:42:35.673Z"
   },
   {
    "duration": 23,
    "start_time": "2021-12-21T20:42:35.705Z"
   },
   {
    "duration": 48,
    "start_time": "2021-12-21T20:42:35.731Z"
   },
   {
    "duration": 7,
    "start_time": "2021-12-21T20:42:35.782Z"
   },
   {
    "duration": 20,
    "start_time": "2021-12-21T20:42:35.794Z"
   },
   {
    "duration": 9,
    "start_time": "2021-12-21T20:42:35.869Z"
   },
   {
    "duration": 10,
    "start_time": "2021-12-21T20:42:35.880Z"
   },
   {
    "duration": 12,
    "start_time": "2021-12-21T20:42:35.893Z"
   },
   {
    "duration": 73,
    "start_time": "2021-12-21T20:42:35.908Z"
   },
   {
    "duration": 4,
    "start_time": "2021-12-21T20:42:35.984Z"
   },
   {
    "duration": 27,
    "start_time": "2021-12-21T20:42:35.991Z"
   },
   {
    "duration": 47,
    "start_time": "2021-12-21T20:42:36.021Z"
   },
   {
    "duration": 10,
    "start_time": "2021-12-21T20:42:36.073Z"
   },
   {
    "duration": 6,
    "start_time": "2021-12-21T20:42:36.098Z"
   },
   {
    "duration": 66,
    "start_time": "2021-12-21T20:42:36.106Z"
   },
   {
    "duration": 11,
    "start_time": "2021-12-21T20:42:36.176Z"
   },
   {
    "duration": 22,
    "start_time": "2021-12-21T20:42:36.190Z"
   },
   {
    "duration": 116,
    "start_time": "2021-12-21T20:42:36.215Z"
   },
   {
    "duration": 14,
    "start_time": "2021-12-21T20:42:36.335Z"
   },
   {
    "duration": 10,
    "start_time": "2021-12-21T20:42:36.369Z"
   },
   {
    "duration": 25,
    "start_time": "2021-12-21T20:42:36.384Z"
   },
   {
    "duration": 12,
    "start_time": "2021-12-21T20:42:36.412Z"
   },
   {
    "duration": 44,
    "start_time": "2021-12-21T20:42:36.427Z"
   },
   {
    "duration": 13,
    "start_time": "2021-12-21T20:42:36.474Z"
   },
   {
    "duration": 22,
    "start_time": "2021-12-21T20:42:36.490Z"
   },
   {
    "duration": 1022,
    "start_time": "2021-12-21T20:45:47.631Z"
   },
   {
    "duration": 79,
    "start_time": "2021-12-21T20:45:48.655Z"
   },
   {
    "duration": 53,
    "start_time": "2021-12-21T20:45:48.743Z"
   },
   {
    "duration": 26,
    "start_time": "2021-12-21T20:45:48.798Z"
   },
   {
    "duration": 63,
    "start_time": "2021-12-21T20:45:48.827Z"
   },
   {
    "duration": 14,
    "start_time": "2021-12-21T20:45:48.894Z"
   },
   {
    "duration": 59,
    "start_time": "2021-12-21T20:45:48.911Z"
   },
   {
    "duration": 28,
    "start_time": "2021-12-21T20:45:48.974Z"
   },
   {
    "duration": 12,
    "start_time": "2021-12-21T20:45:49.005Z"
   },
   {
    "duration": 50,
    "start_time": "2021-12-21T20:45:49.020Z"
   },
   {
    "duration": 14,
    "start_time": "2021-12-21T20:45:49.073Z"
   },
   {
    "duration": 7,
    "start_time": "2021-12-21T20:45:49.090Z"
   },
   {
    "duration": 4,
    "start_time": "2021-12-21T20:45:49.100Z"
   },
   {
    "duration": 110,
    "start_time": "2021-12-21T20:45:49.106Z"
   },
   {
    "duration": 7,
    "start_time": "2021-12-21T20:45:49.220Z"
   },
   {
    "duration": 44,
    "start_time": "2021-12-21T20:45:49.229Z"
   },
   {
    "duration": 10,
    "start_time": "2021-12-21T20:45:49.275Z"
   },
   {
    "duration": 19,
    "start_time": "2021-12-21T20:45:49.289Z"
   },
   {
    "duration": 8,
    "start_time": "2021-12-21T20:45:49.367Z"
   },
   {
    "duration": 10,
    "start_time": "2021-12-21T20:45:49.378Z"
   },
   {
    "duration": 104,
    "start_time": "2021-12-21T20:45:49.393Z"
   },
   {
    "duration": 10,
    "start_time": "2021-12-21T20:45:49.500Z"
   },
   {
    "duration": 18,
    "start_time": "2021-12-21T20:45:49.513Z"
   },
   {
    "duration": 35,
    "start_time": "2021-12-21T20:45:49.534Z"
   },
   {
    "duration": 12,
    "start_time": "2021-12-21T20:45:49.572Z"
   },
   {
    "duration": 10,
    "start_time": "2021-12-21T20:45:49.587Z"
   },
   {
    "duration": 10,
    "start_time": "2021-12-21T20:45:49.600Z"
   },
   {
    "duration": 15,
    "start_time": "2021-12-21T20:45:49.668Z"
   },
   {
    "duration": 17,
    "start_time": "2021-12-21T20:47:19.349Z"
   },
   {
    "duration": 827,
    "start_time": "2021-12-21T20:57:03.372Z"
   },
   {
    "duration": 81,
    "start_time": "2021-12-21T20:57:04.202Z"
   },
   {
    "duration": 32,
    "start_time": "2021-12-21T20:57:04.286Z"
   },
   {
    "duration": 69,
    "start_time": "2021-12-21T20:57:04.322Z"
   },
   {
    "duration": 27,
    "start_time": "2021-12-21T20:57:04.394Z"
   },
   {
    "duration": 50,
    "start_time": "2021-12-21T20:57:04.424Z"
   },
   {
    "duration": 7,
    "start_time": "2021-12-21T20:57:04.476Z"
   },
   {
    "duration": 23,
    "start_time": "2021-12-21T20:57:04.487Z"
   },
   {
    "duration": 53,
    "start_time": "2021-12-21T20:57:04.514Z"
   },
   {
    "duration": 8,
    "start_time": "2021-12-21T20:57:04.570Z"
   },
   {
    "duration": 19,
    "start_time": "2021-12-21T20:57:04.580Z"
   },
   {
    "duration": 6,
    "start_time": "2021-12-21T20:57:04.602Z"
   },
   {
    "duration": 13,
    "start_time": "2021-12-21T20:57:04.611Z"
   },
   {
    "duration": 44,
    "start_time": "2021-12-21T20:57:04.627Z"
   },
   {
    "duration": 7,
    "start_time": "2021-12-21T20:57:04.675Z"
   },
   {
    "duration": 5,
    "start_time": "2021-12-21T20:57:04.685Z"
   },
   {
    "duration": 8,
    "start_time": "2021-12-21T20:57:04.692Z"
   },
   {
    "duration": 78,
    "start_time": "2021-12-21T20:57:04.702Z"
   },
   {
    "duration": 43,
    "start_time": "2021-12-21T20:57:04.782Z"
   },
   {
    "duration": 8,
    "start_time": "2021-12-21T20:57:04.827Z"
   },
   {
    "duration": 36,
    "start_time": "2021-12-21T20:57:04.837Z"
   },
   {
    "duration": 50,
    "start_time": "2021-12-21T20:57:04.875Z"
   },
   {
    "duration": 9,
    "start_time": "2021-12-21T20:57:04.969Z"
   },
   {
    "duration": 11,
    "start_time": "2021-12-21T20:57:04.981Z"
   },
   {
    "duration": 12,
    "start_time": "2021-12-21T20:57:04.995Z"
   },
   {
    "duration": 12,
    "start_time": "2021-12-21T20:57:05.010Z"
   },
   {
    "duration": 48,
    "start_time": "2021-12-21T20:57:05.024Z"
   },
   {
    "duration": 17,
    "start_time": "2021-12-21T20:57:05.075Z"
   },
   {
    "duration": 10,
    "start_time": "2021-12-21T20:57:05.094Z"
   },
   {
    "duration": 8,
    "start_time": "2021-12-21T20:58:58.343Z"
   },
   {
    "duration": 750,
    "start_time": "2021-12-21T20:59:08.591Z"
   },
   {
    "duration": 86,
    "start_time": "2021-12-21T20:59:09.344Z"
   },
   {
    "duration": 45,
    "start_time": "2021-12-21T20:59:09.433Z"
   },
   {
    "duration": 29,
    "start_time": "2021-12-21T20:59:09.481Z"
   },
   {
    "duration": 71,
    "start_time": "2021-12-21T20:59:09.513Z"
   },
   {
    "duration": 14,
    "start_time": "2021-12-21T20:59:09.587Z"
   },
   {
    "duration": 7,
    "start_time": "2021-12-21T20:59:09.604Z"
   },
   {
    "duration": 67,
    "start_time": "2021-12-21T20:59:09.617Z"
   },
   {
    "duration": 9,
    "start_time": "2021-12-21T20:59:09.688Z"
   },
   {
    "duration": 9,
    "start_time": "2021-12-21T20:59:09.700Z"
   },
   {
    "duration": 61,
    "start_time": "2021-12-21T20:59:09.712Z"
   },
   {
    "duration": 7,
    "start_time": "2021-12-21T20:59:09.775Z"
   },
   {
    "duration": 8,
    "start_time": "2021-12-21T20:59:09.784Z"
   },
   {
    "duration": 14,
    "start_time": "2021-12-21T20:59:09.794Z"
   },
   {
    "duration": 9,
    "start_time": "2021-12-21T20:59:09.811Z"
   },
   {
    "duration": 47,
    "start_time": "2021-12-21T20:59:09.823Z"
   },
   {
    "duration": 12,
    "start_time": "2021-12-21T20:59:09.873Z"
   },
   {
    "duration": 18,
    "start_time": "2021-12-21T20:59:09.887Z"
   },
   {
    "duration": 84,
    "start_time": "2021-12-21T20:59:09.908Z"
   },
   {
    "duration": 8,
    "start_time": "2021-12-21T20:59:09.994Z"
   },
   {
    "duration": 10,
    "start_time": "2021-12-21T20:59:10.006Z"
   },
   {
    "duration": 113,
    "start_time": "2021-12-21T20:59:10.019Z"
   },
   {
    "duration": 39,
    "start_time": "2021-12-21T20:59:10.139Z"
   },
   {
    "duration": 13,
    "start_time": "2021-12-21T20:59:10.181Z"
   },
   {
    "duration": 9,
    "start_time": "2021-12-21T20:59:10.197Z"
   },
   {
    "duration": 15,
    "start_time": "2021-12-21T20:59:10.209Z"
   },
   {
    "duration": 44,
    "start_time": "2021-12-21T20:59:10.228Z"
   },
   {
    "duration": 8,
    "start_time": "2021-12-21T20:59:10.275Z"
   },
   {
    "duration": 15,
    "start_time": "2021-12-21T20:59:10.285Z"
   },
   {
    "duration": 440,
    "start_time": "2021-12-21T21:01:42.159Z"
   },
   {
    "duration": 12,
    "start_time": "2021-12-21T21:01:58.205Z"
   },
   {
    "duration": 7,
    "start_time": "2021-12-21T21:03:54.396Z"
   },
   {
    "duration": 4,
    "start_time": "2021-12-21T21:28:59.347Z"
   },
   {
    "duration": 73,
    "start_time": "2021-12-21T21:28:59.998Z"
   },
   {
    "duration": 20,
    "start_time": "2021-12-21T21:29:00.396Z"
   },
   {
    "duration": 25,
    "start_time": "2021-12-21T21:29:05.411Z"
   },
   {
    "duration": 25,
    "start_time": "2021-12-21T21:29:05.998Z"
   },
   {
    "duration": 12,
    "start_time": "2021-12-21T21:29:07.888Z"
   },
   {
    "duration": 7,
    "start_time": "2021-12-21T21:29:10.634Z"
   },
   {
    "duration": 19,
    "start_time": "2021-12-21T21:29:12.476Z"
   },
   {
    "duration": 9,
    "start_time": "2021-12-21T21:29:13.054Z"
   },
   {
    "duration": 8,
    "start_time": "2021-12-21T21:29:14.220Z"
   },
   {
    "duration": 13,
    "start_time": "2021-12-21T21:29:14.689Z"
   },
   {
    "duration": 7,
    "start_time": "2021-12-21T21:29:17.061Z"
   },
   {
    "duration": 11,
    "start_time": "2021-12-21T21:31:08.351Z"
   },
   {
    "duration": 57,
    "start_time": "2021-12-21T21:33:04.499Z"
   },
   {
    "duration": 52,
    "start_time": "2021-12-21T21:34:36.146Z"
   },
   {
    "duration": 4,
    "start_time": "2021-12-21T21:35:06.111Z"
   },
   {
    "duration": 75,
    "start_time": "2021-12-21T21:35:06.516Z"
   },
   {
    "duration": 18,
    "start_time": "2021-12-21T21:35:06.676Z"
   },
   {
    "duration": 25,
    "start_time": "2021-12-21T21:35:10.683Z"
   },
   {
    "duration": 24,
    "start_time": "2021-12-21T21:35:11.113Z"
   },
   {
    "duration": 14,
    "start_time": "2021-12-21T21:35:13.595Z"
   },
   {
    "duration": 7,
    "start_time": "2021-12-21T21:35:14.127Z"
   },
   {
    "duration": 23,
    "start_time": "2021-12-21T21:35:14.706Z"
   },
   {
    "duration": 9,
    "start_time": "2021-12-21T21:35:17.001Z"
   },
   {
    "duration": 10,
    "start_time": "2021-12-21T21:35:17.414Z"
   },
   {
    "duration": 15,
    "start_time": "2021-12-21T21:35:18.064Z"
   },
   {
    "duration": 8,
    "start_time": "2021-12-21T21:35:20.437Z"
   },
   {
    "duration": 4,
    "start_time": "2021-12-21T21:35:21.308Z"
   },
   {
    "duration": 13,
    "start_time": "2021-12-21T21:35:22.119Z"
   },
   {
    "duration": 76,
    "start_time": "2021-12-21T21:35:25.049Z"
   },
   {
    "duration": 9,
    "start_time": "2021-12-21T21:38:06.151Z"
   },
   {
    "duration": 6,
    "start_time": "2021-12-21T21:38:18.316Z"
   },
   {
    "duration": 345,
    "start_time": "2021-12-21T21:39:49.796Z"
   },
   {
    "duration": 9,
    "start_time": "2021-12-21T21:40:20.018Z"
   },
   {
    "duration": 8,
    "start_time": "2021-12-21T21:42:21.659Z"
   },
   {
    "duration": 4,
    "start_time": "2021-12-21T21:42:48.792Z"
   },
   {
    "duration": 104,
    "start_time": "2021-12-21T21:42:49.133Z"
   },
   {
    "duration": 25,
    "start_time": "2021-12-21T21:42:49.300Z"
   },
   {
    "duration": 32,
    "start_time": "2021-12-21T21:42:53.049Z"
   },
   {
    "duration": 31,
    "start_time": "2021-12-21T21:42:53.371Z"
   },
   {
    "duration": 20,
    "start_time": "2021-12-21T21:42:55.616Z"
   },
   {
    "duration": 9,
    "start_time": "2021-12-21T21:42:57.378Z"
   },
   {
    "duration": 27,
    "start_time": "2021-12-21T21:42:57.982Z"
   },
   {
    "duration": 8,
    "start_time": "2021-12-21T21:42:59.822Z"
   },
   {
    "duration": 8,
    "start_time": "2021-12-21T21:43:01.751Z"
   },
   {
    "duration": 12,
    "start_time": "2021-12-21T21:43:02.391Z"
   },
   {
    "duration": 7,
    "start_time": "2021-12-21T21:43:03.060Z"
   },
   {
    "duration": 3,
    "start_time": "2021-12-21T21:43:04.648Z"
   },
   {
    "duration": 12,
    "start_time": "2021-12-21T21:43:23.480Z"
   },
   {
    "duration": 50,
    "start_time": "2021-12-21T21:43:24.149Z"
   },
   {
    "duration": 11,
    "start_time": "2021-12-21T21:43:28.321Z"
   },
   {
    "duration": 65,
    "start_time": "2021-12-21T21:43:52.414Z"
   },
   {
    "duration": 4,
    "start_time": "2021-12-21T21:47:52.753Z"
   },
   {
    "duration": 83,
    "start_time": "2021-12-21T21:47:53.110Z"
   },
   {
    "duration": 19,
    "start_time": "2021-12-21T21:47:53.284Z"
   },
   {
    "duration": 24,
    "start_time": "2021-12-21T21:47:55.983Z"
   },
   {
    "duration": 23,
    "start_time": "2021-12-21T21:47:56.324Z"
   },
   {
    "duration": 14,
    "start_time": "2021-12-21T21:47:58.666Z"
   },
   {
    "duration": 8,
    "start_time": "2021-12-21T21:47:59.292Z"
   },
   {
    "duration": 28,
    "start_time": "2021-12-21T21:47:59.975Z"
   },
   {
    "duration": 9,
    "start_time": "2021-12-21T21:48:02.388Z"
   },
   {
    "duration": 8,
    "start_time": "2021-12-21T21:48:02.689Z"
   },
   {
    "duration": 13,
    "start_time": "2021-12-21T21:48:05.775Z"
   },
   {
    "duration": 7,
    "start_time": "2021-12-21T21:48:06.157Z"
   },
   {
    "duration": 3,
    "start_time": "2021-12-21T21:48:06.736Z"
   },
   {
    "duration": 14,
    "start_time": "2021-12-21T21:48:08.982Z"
   },
   {
    "duration": 56,
    "start_time": "2021-12-21T21:48:09.467Z"
   },
   {
    "duration": 63,
    "start_time": "2021-12-21T21:48:26.228Z"
   },
   {
    "duration": 4,
    "start_time": "2021-12-21T21:49:31.753Z"
   },
   {
    "duration": 77,
    "start_time": "2021-12-21T21:49:32.111Z"
   },
   {
    "duration": 19,
    "start_time": "2021-12-21T21:49:32.276Z"
   },
   {
    "duration": 24,
    "start_time": "2021-12-21T21:49:35.570Z"
   },
   {
    "duration": 23,
    "start_time": "2021-12-21T21:49:37.777Z"
   },
   {
    "duration": 14,
    "start_time": "2021-12-21T21:49:39.435Z"
   },
   {
    "duration": 7,
    "start_time": "2021-12-21T21:49:39.681Z"
   },
   {
    "duration": 20,
    "start_time": "2021-12-21T21:49:41.926Z"
   },
   {
    "duration": 9,
    "start_time": "2021-12-21T21:49:42.093Z"
   },
   {
    "duration": 9,
    "start_time": "2021-12-21T21:49:42.252Z"
   },
   {
    "duration": 15,
    "start_time": "2021-12-21T21:49:44.665Z"
   },
   {
    "duration": 7,
    "start_time": "2021-12-21T21:49:45.117Z"
   },
   {
    "duration": 4,
    "start_time": "2021-12-21T21:49:45.657Z"
   },
   {
    "duration": 13,
    "start_time": "2021-12-21T21:49:46.125Z"
   },
   {
    "duration": 53,
    "start_time": "2021-12-21T21:49:46.687Z"
   },
   {
    "duration": 46,
    "start_time": "2021-12-21T21:49:48.301Z"
   },
   {
    "duration": 8,
    "start_time": "2021-12-21T21:50:17.154Z"
   },
   {
    "duration": 771,
    "start_time": "2021-12-25T07:20:43.537Z"
   },
   {
    "duration": 75,
    "start_time": "2021-12-25T07:20:44.311Z"
   },
   {
    "duration": 27,
    "start_time": "2021-12-25T07:20:44.389Z"
   },
   {
    "duration": 26,
    "start_time": "2021-12-25T07:20:44.419Z"
   },
   {
    "duration": 22,
    "start_time": "2021-12-25T07:20:44.468Z"
   },
   {
    "duration": 13,
    "start_time": "2021-12-25T07:20:44.493Z"
   },
   {
    "duration": 7,
    "start_time": "2021-12-25T07:20:44.508Z"
   },
   {
    "duration": 58,
    "start_time": "2021-12-25T07:20:44.518Z"
   },
   {
    "duration": 9,
    "start_time": "2021-12-25T07:20:44.579Z"
   },
   {
    "duration": 8,
    "start_time": "2021-12-25T07:20:44.590Z"
   },
   {
    "duration": 12,
    "start_time": "2021-12-25T07:20:44.600Z"
   },
   {
    "duration": 7,
    "start_time": "2021-12-25T07:20:44.614Z"
   },
   {
    "duration": 4,
    "start_time": "2021-12-25T07:20:44.668Z"
   },
   {
    "duration": 10,
    "start_time": "2021-12-25T07:20:44.674Z"
   },
   {
    "duration": 9,
    "start_time": "2021-12-25T07:20:44.686Z"
   },
   {
    "duration": 9,
    "start_time": "2021-12-25T07:20:44.697Z"
   },
   {
    "duration": 8,
    "start_time": "2021-12-25T07:20:44.709Z"
   },
   {
    "duration": 58,
    "start_time": "2021-12-25T07:20:44.720Z"
   },
   {
    "duration": 13,
    "start_time": "2021-12-25T07:20:44.781Z"
   },
   {
    "duration": 3,
    "start_time": "2021-12-25T07:20:44.797Z"
   },
   {
    "duration": 8,
    "start_time": "2021-12-25T07:20:44.803Z"
   },
   {
    "duration": 16,
    "start_time": "2021-12-25T07:20:44.813Z"
   },
   {
    "duration": 7,
    "start_time": "2021-12-25T07:20:44.866Z"
   },
   {
    "duration": 7,
    "start_time": "2021-12-25T07:20:44.876Z"
   },
   {
    "duration": 45,
    "start_time": "2021-12-25T07:20:44.885Z"
   },
   {
    "duration": 40,
    "start_time": "2021-12-25T07:20:44.933Z"
   },
   {
    "duration": 18,
    "start_time": "2021-12-25T07:20:44.976Z"
   },
   {
    "duration": 9,
    "start_time": "2021-12-25T07:20:44.997Z"
   },
   {
    "duration": 22,
    "start_time": "2021-12-25T07:20:45.009Z"
   },
   {
    "duration": 8,
    "start_time": "2021-12-25T07:20:45.034Z"
   },
   {
    "duration": 24,
    "start_time": "2021-12-25T07:20:45.044Z"
   },
   {
    "duration": 9,
    "start_time": "2021-12-25T07:20:45.071Z"
   },
   {
    "duration": 780,
    "start_time": "2021-12-25T12:13:50.232Z"
   },
   {
    "duration": 77,
    "start_time": "2021-12-25T12:13:51.015Z"
   },
   {
    "duration": 27,
    "start_time": "2021-12-25T12:13:51.099Z"
   },
   {
    "duration": 53,
    "start_time": "2021-12-25T12:13:51.129Z"
   },
   {
    "duration": 22,
    "start_time": "2021-12-25T12:13:51.184Z"
   },
   {
    "duration": 23,
    "start_time": "2021-12-25T12:13:51.208Z"
   },
   {
    "duration": 34,
    "start_time": "2021-12-25T12:13:51.234Z"
   },
   {
    "duration": 20,
    "start_time": "2021-12-25T12:13:51.272Z"
   },
   {
    "duration": 9,
    "start_time": "2021-12-25T12:13:51.295Z"
   },
   {
    "duration": 10,
    "start_time": "2021-12-25T12:13:51.307Z"
   },
   {
    "duration": 48,
    "start_time": "2021-12-25T12:13:51.320Z"
   },
   {
    "duration": 6,
    "start_time": "2021-12-25T12:13:51.370Z"
   },
   {
    "duration": 7,
    "start_time": "2021-12-25T12:13:51.378Z"
   },
   {
    "duration": 11,
    "start_time": "2021-12-25T12:13:51.387Z"
   },
   {
    "duration": 7,
    "start_time": "2021-12-25T12:13:51.401Z"
   },
   {
    "duration": 60,
    "start_time": "2021-12-25T12:13:51.410Z"
   },
   {
    "duration": 13,
    "start_time": "2021-12-25T12:13:51.473Z"
   },
   {
    "duration": 19,
    "start_time": "2021-12-25T12:13:51.489Z"
   },
   {
    "duration": 16,
    "start_time": "2021-12-25T12:13:51.511Z"
   },
   {
    "duration": 5,
    "start_time": "2021-12-25T12:13:51.569Z"
   },
   {
    "duration": 8,
    "start_time": "2021-12-25T12:13:51.577Z"
   },
   {
    "duration": 19,
    "start_time": "2021-12-25T12:13:51.588Z"
   },
   {
    "duration": 8,
    "start_time": "2021-12-25T12:13:51.609Z"
   },
   {
    "duration": 51,
    "start_time": "2021-12-25T12:13:51.620Z"
   },
   {
    "duration": 50,
    "start_time": "2021-12-25T12:13:51.673Z"
   },
   {
    "duration": 39,
    "start_time": "2021-12-25T12:13:51.728Z"
   },
   {
    "duration": 8,
    "start_time": "2021-12-25T12:13:51.770Z"
   },
   {
    "duration": 10,
    "start_time": "2021-12-25T12:13:51.781Z"
   },
   {
    "duration": 11,
    "start_time": "2021-12-25T12:13:51.794Z"
   },
   {
    "duration": 10,
    "start_time": "2021-12-25T12:13:51.808Z"
   },
   {
    "duration": 48,
    "start_time": "2021-12-25T12:13:51.821Z"
   },
   {
    "duration": 10,
    "start_time": "2021-12-25T12:13:51.871Z"
   },
   {
    "duration": 373,
    "start_time": "2021-12-25T12:35:51.748Z"
   },
   {
    "duration": 119,
    "start_time": "2021-12-25T12:35:57.638Z"
   },
   {
    "duration": 2405,
    "start_time": "2021-12-25T12:36:03.010Z"
   },
   {
    "duration": 305,
    "start_time": "2021-12-25T12:37:32.203Z"
   },
   {
    "duration": 877,
    "start_time": "2021-12-25T12:38:32.738Z"
   },
   {
    "duration": 81,
    "start_time": "2021-12-25T12:38:33.618Z"
   },
   {
    "duration": 22,
    "start_time": "2021-12-25T12:38:33.705Z"
   },
   {
    "duration": 64,
    "start_time": "2021-12-25T12:38:33.730Z"
   },
   {
    "duration": 22,
    "start_time": "2021-12-25T12:38:33.797Z"
   },
   {
    "duration": 14,
    "start_time": "2021-12-25T12:38:33.821Z"
   },
   {
    "duration": 32,
    "start_time": "2021-12-25T12:38:33.840Z"
   },
   {
    "duration": 26,
    "start_time": "2021-12-25T12:38:33.877Z"
   },
   {
    "duration": 8,
    "start_time": "2021-12-25T12:38:33.905Z"
   },
   {
    "duration": 7,
    "start_time": "2021-12-25T12:38:33.916Z"
   },
   {
    "duration": 52,
    "start_time": "2021-12-25T12:38:33.926Z"
   },
   {
    "duration": 7,
    "start_time": "2021-12-25T12:38:33.981Z"
   },
   {
    "duration": 5,
    "start_time": "2021-12-25T12:38:33.990Z"
   },
   {
    "duration": 15,
    "start_time": "2021-12-25T12:38:33.998Z"
   },
   {
    "duration": 9,
    "start_time": "2021-12-25T12:38:34.016Z"
   },
   {
    "duration": 11,
    "start_time": "2021-12-25T12:38:34.068Z"
   },
   {
    "duration": 12,
    "start_time": "2021-12-25T12:38:34.081Z"
   },
   {
    "duration": 23,
    "start_time": "2021-12-25T12:38:34.096Z"
   },
   {
    "duration": 53,
    "start_time": "2021-12-25T12:38:34.121Z"
   },
   {
    "duration": 333,
    "start_time": "2021-12-25T12:38:34.176Z"
   },
   {
    "duration": 4,
    "start_time": "2021-12-25T12:38:34.512Z"
   },
   {
    "duration": 5,
    "start_time": "2021-12-25T12:38:34.521Z"
   },
   {
    "duration": 49,
    "start_time": "2021-12-25T12:38:34.528Z"
   },
   {
    "duration": 321,
    "start_time": "2021-12-25T12:38:34.580Z"
   },
   {
    "duration": 7,
    "start_time": "2021-12-25T12:38:34.903Z"
   },
   {
    "duration": 9,
    "start_time": "2021-12-25T12:38:34.912Z"
   },
   {
    "duration": 78,
    "start_time": "2021-12-25T12:38:34.923Z"
   },
   {
    "duration": 8,
    "start_time": "2021-12-25T12:38:35.003Z"
   },
   {
    "duration": 9,
    "start_time": "2021-12-25T12:38:35.014Z"
   },
   {
    "duration": 8,
    "start_time": "2021-12-25T12:38:35.026Z"
   },
   {
    "duration": 44,
    "start_time": "2021-12-25T12:38:35.036Z"
   },
   {
    "duration": 7,
    "start_time": "2021-12-25T12:38:35.083Z"
   },
   {
    "duration": 9,
    "start_time": "2021-12-25T12:38:35.092Z"
   },
   {
    "duration": 11,
    "start_time": "2021-12-25T12:38:35.103Z"
   },
   {
    "duration": 20,
    "start_time": "2021-12-25T12:40:24.668Z"
   },
   {
    "duration": 44,
    "start_time": "2021-12-25T12:40:32.722Z"
   },
   {
    "duration": 875,
    "start_time": "2021-12-25T12:42:09.393Z"
   },
   {
    "duration": 79,
    "start_time": "2021-12-25T12:42:10.273Z"
   },
   {
    "duration": 30,
    "start_time": "2021-12-25T12:42:10.356Z"
   },
   {
    "duration": 27,
    "start_time": "2021-12-25T12:42:10.389Z"
   },
   {
    "duration": 21,
    "start_time": "2021-12-25T12:42:10.418Z"
   },
   {
    "duration": 43,
    "start_time": "2021-12-25T12:42:10.441Z"
   },
   {
    "duration": 10,
    "start_time": "2021-12-25T12:42:10.487Z"
   },
   {
    "duration": 19,
    "start_time": "2021-12-25T12:42:10.501Z"
   },
   {
    "duration": 8,
    "start_time": "2021-12-25T12:42:10.523Z"
   },
   {
    "duration": 10,
    "start_time": "2021-12-25T12:42:10.572Z"
   },
   {
    "duration": 16,
    "start_time": "2021-12-25T12:42:10.585Z"
   },
   {
    "duration": 9,
    "start_time": "2021-12-25T12:42:10.604Z"
   },
   {
    "duration": 6,
    "start_time": "2021-12-25T12:42:10.615Z"
   },
   {
    "duration": 53,
    "start_time": "2021-12-25T12:42:10.623Z"
   },
   {
    "duration": 8,
    "start_time": "2021-12-25T12:42:10.679Z"
   },
   {
    "duration": 13,
    "start_time": "2021-12-25T12:42:10.690Z"
   },
   {
    "duration": 11,
    "start_time": "2021-12-25T12:42:10.705Z"
   },
   {
    "duration": 17,
    "start_time": "2021-12-25T12:42:10.718Z"
   },
   {
    "duration": 54,
    "start_time": "2021-12-25T12:42:10.737Z"
   },
   {
    "duration": 622,
    "start_time": "2021-12-25T12:42:10.793Z"
   },
   {
    "duration": 5,
    "start_time": "2021-12-25T12:42:11.417Z"
   },
   {
    "duration": 8,
    "start_time": "2021-12-25T12:42:11.425Z"
   },
   {
    "duration": 42,
    "start_time": "2021-12-25T12:42:11.438Z"
   },
   {
    "duration": 327,
    "start_time": "2021-12-25T12:42:11.483Z"
   },
   {
    "duration": 60,
    "start_time": "2021-12-25T12:42:11.813Z"
   },
   {
    "duration": 7,
    "start_time": "2021-12-25T12:42:11.876Z"
   },
   {
    "duration": 11,
    "start_time": "2021-12-25T12:42:11.885Z"
   },
   {
    "duration": 72,
    "start_time": "2021-12-25T12:42:11.898Z"
   },
   {
    "duration": 35,
    "start_time": "2021-12-25T12:42:11.972Z"
   },
   {
    "duration": 34,
    "start_time": "2021-12-25T12:42:12.024Z"
   },
   {
    "duration": 49,
    "start_time": "2021-12-25T12:42:12.069Z"
   },
   {
    "duration": 13,
    "start_time": "2021-12-25T12:42:12.121Z"
   },
   {
    "duration": 11,
    "start_time": "2021-12-25T12:42:12.136Z"
   },
   {
    "duration": 8,
    "start_time": "2021-12-25T12:42:12.150Z"
   },
   {
    "duration": 16,
    "start_time": "2021-12-25T12:42:12.169Z"
   },
   {
    "duration": 340,
    "start_time": "2021-12-25T12:42:57.156Z"
   },
   {
    "duration": 867,
    "start_time": "2021-12-25T12:43:18.904Z"
   },
   {
    "duration": 78,
    "start_time": "2021-12-25T12:43:19.774Z"
   },
   {
    "duration": 25,
    "start_time": "2021-12-25T12:43:19.855Z"
   },
   {
    "duration": 30,
    "start_time": "2021-12-25T12:43:19.883Z"
   },
   {
    "duration": 22,
    "start_time": "2021-12-25T12:43:19.915Z"
   },
   {
    "duration": 20,
    "start_time": "2021-12-25T12:43:19.968Z"
   },
   {
    "duration": 5,
    "start_time": "2021-12-25T12:43:19.991Z"
   },
   {
    "duration": 20,
    "start_time": "2021-12-25T12:43:20.001Z"
   },
   {
    "duration": 49,
    "start_time": "2021-12-25T12:43:20.024Z"
   },
   {
    "duration": 11,
    "start_time": "2021-12-25T12:43:20.079Z"
   },
   {
    "duration": 19,
    "start_time": "2021-12-25T12:43:20.092Z"
   },
   {
    "duration": 7,
    "start_time": "2021-12-25T12:43:20.113Z"
   },
   {
    "duration": 6,
    "start_time": "2021-12-25T12:43:20.123Z"
   },
   {
    "duration": 41,
    "start_time": "2021-12-25T12:43:20.132Z"
   },
   {
    "duration": 13,
    "start_time": "2021-12-25T12:43:20.177Z"
   },
   {
    "duration": 16,
    "start_time": "2021-12-25T12:43:20.193Z"
   },
   {
    "duration": 10,
    "start_time": "2021-12-25T12:43:20.212Z"
   },
   {
    "duration": 23,
    "start_time": "2021-12-25T12:43:20.224Z"
   },
   {
    "duration": 18,
    "start_time": "2021-12-25T12:43:20.268Z"
   },
   {
    "duration": 338,
    "start_time": "2021-12-25T12:43:20.289Z"
   },
   {
    "duration": 4,
    "start_time": "2021-12-25T12:43:20.629Z"
   },
   {
    "duration": 7,
    "start_time": "2021-12-25T12:43:20.636Z"
   },
   {
    "duration": 36,
    "start_time": "2021-12-25T12:43:20.647Z"
   },
   {
    "duration": 322,
    "start_time": "2021-12-25T12:43:20.686Z"
   },
   {
    "duration": 36,
    "start_time": "2021-12-25T12:43:21.010Z"
   },
   {
    "duration": 27,
    "start_time": "2021-12-25T12:43:21.048Z"
   },
   {
    "duration": 13,
    "start_time": "2021-12-25T12:43:21.078Z"
   },
   {
    "duration": 51,
    "start_time": "2021-12-25T12:43:21.093Z"
   },
   {
    "duration": 9,
    "start_time": "2021-12-25T12:43:21.172Z"
   },
   {
    "duration": 14,
    "start_time": "2021-12-25T12:43:21.183Z"
   },
   {
    "duration": 7,
    "start_time": "2021-12-25T12:43:21.199Z"
   },
   {
    "duration": 11,
    "start_time": "2021-12-25T12:43:21.208Z"
   },
   {
    "duration": 7,
    "start_time": "2021-12-25T12:43:21.221Z"
   },
   {
    "duration": 54,
    "start_time": "2021-12-25T12:43:21.230Z"
   },
   {
    "duration": 10,
    "start_time": "2021-12-25T12:43:21.287Z"
   },
   {
    "duration": 413,
    "start_time": "2021-12-25T12:47:17.087Z"
   },
   {
    "duration": 986,
    "start_time": "2021-12-25T12:47:24.713Z"
   },
   {
    "duration": 80,
    "start_time": "2021-12-25T12:47:25.702Z"
   },
   {
    "duration": 24,
    "start_time": "2021-12-25T12:47:25.785Z"
   },
   {
    "duration": 26,
    "start_time": "2021-12-25T12:47:25.811Z"
   },
   {
    "duration": 53,
    "start_time": "2021-12-25T12:47:25.840Z"
   },
   {
    "duration": 13,
    "start_time": "2021-12-25T12:47:25.897Z"
   },
   {
    "duration": 6,
    "start_time": "2021-12-25T12:47:25.913Z"
   },
   {
    "duration": 56,
    "start_time": "2021-12-25T12:47:25.922Z"
   },
   {
    "duration": 10,
    "start_time": "2021-12-25T12:47:25.980Z"
   },
   {
    "duration": 12,
    "start_time": "2021-12-25T12:47:25.993Z"
   },
   {
    "duration": 15,
    "start_time": "2021-12-25T12:47:26.008Z"
   },
   {
    "duration": 45,
    "start_time": "2021-12-25T12:47:26.025Z"
   },
   {
    "duration": 4,
    "start_time": "2021-12-25T12:47:26.074Z"
   },
   {
    "duration": 12,
    "start_time": "2021-12-25T12:47:26.082Z"
   },
   {
    "duration": 10,
    "start_time": "2021-12-25T12:47:26.097Z"
   },
   {
    "duration": 58,
    "start_time": "2021-12-25T12:47:26.109Z"
   },
   {
    "duration": 15,
    "start_time": "2021-12-25T12:47:26.170Z"
   },
   {
    "duration": 25,
    "start_time": "2021-12-25T12:47:26.191Z"
   },
   {
    "duration": 14,
    "start_time": "2021-12-25T12:47:26.220Z"
   },
   {
    "duration": 379,
    "start_time": "2021-12-25T12:47:26.237Z"
   },
   {
    "duration": 327,
    "start_time": "2021-12-25T12:47:26.619Z"
   },
   {
    "duration": 4,
    "start_time": "2021-12-25T12:47:26.949Z"
   },
   {
    "duration": 5,
    "start_time": "2021-12-25T12:47:26.967Z"
   },
   {
    "duration": 21,
    "start_time": "2021-12-25T12:47:26.975Z"
   },
   {
    "duration": 341,
    "start_time": "2021-12-25T12:47:26.998Z"
   },
   {
    "duration": 7,
    "start_time": "2021-12-25T12:47:27.342Z"
   },
   {
    "duration": 8,
    "start_time": "2021-12-25T12:47:27.368Z"
   },
   {
    "duration": 121,
    "start_time": "2021-12-25T12:47:27.379Z"
   },
   {
    "duration": 8,
    "start_time": "2021-12-25T12:47:27.503Z"
   },
   {
    "duration": 14,
    "start_time": "2021-12-25T12:47:27.514Z"
   },
   {
    "duration": 39,
    "start_time": "2021-12-25T12:47:27.530Z"
   },
   {
    "duration": 16,
    "start_time": "2021-12-25T12:47:27.571Z"
   },
   {
    "duration": 11,
    "start_time": "2021-12-25T12:47:27.590Z"
   },
   {
    "duration": 11,
    "start_time": "2021-12-25T12:47:27.603Z"
   },
   {
    "duration": 9,
    "start_time": "2021-12-25T12:47:27.617Z"
   },
   {
    "duration": 314,
    "start_time": "2021-12-25T12:58:00.332Z"
   },
   {
    "duration": 891,
    "start_time": "2021-12-25T12:58:12.062Z"
   },
   {
    "duration": 82,
    "start_time": "2021-12-25T12:58:12.956Z"
   },
   {
    "duration": 35,
    "start_time": "2021-12-25T12:58:13.042Z"
   },
   {
    "duration": 29,
    "start_time": "2021-12-25T12:58:13.081Z"
   },
   {
    "duration": 22,
    "start_time": "2021-12-25T12:58:13.112Z"
   },
   {
    "duration": 12,
    "start_time": "2021-12-25T12:58:13.168Z"
   },
   {
    "duration": 9,
    "start_time": "2021-12-25T12:58:13.183Z"
   },
   {
    "duration": 20,
    "start_time": "2021-12-25T12:58:13.197Z"
   },
   {
    "duration": 12,
    "start_time": "2021-12-25T12:58:13.220Z"
   },
   {
    "duration": 46,
    "start_time": "2021-12-25T12:58:13.234Z"
   },
   {
    "duration": 13,
    "start_time": "2021-12-25T12:58:13.282Z"
   },
   {
    "duration": 8,
    "start_time": "2021-12-25T12:58:13.297Z"
   },
   {
    "duration": 18,
    "start_time": "2021-12-25T12:58:13.307Z"
   },
   {
    "duration": 14,
    "start_time": "2021-12-25T12:58:13.328Z"
   },
   {
    "duration": 27,
    "start_time": "2021-12-25T12:58:13.345Z"
   },
   {
    "duration": 12,
    "start_time": "2021-12-25T12:58:13.375Z"
   },
   {
    "duration": 11,
    "start_time": "2021-12-25T12:58:13.390Z"
   },
   {
    "duration": 28,
    "start_time": "2021-12-25T12:58:13.404Z"
   },
   {
    "duration": 42,
    "start_time": "2021-12-25T12:58:13.435Z"
   },
   {
    "duration": 376,
    "start_time": "2021-12-25T12:58:13.479Z"
   },
   {
    "duration": 317,
    "start_time": "2021-12-25T12:58:13.858Z"
   },
   {
    "duration": 328,
    "start_time": "2021-12-25T12:58:14.177Z"
   },
   {
    "duration": 4,
    "start_time": "2021-12-25T12:58:14.510Z"
   },
   {
    "duration": 17,
    "start_time": "2021-12-25T12:58:14.517Z"
   },
   {
    "duration": 36,
    "start_time": "2021-12-25T12:58:14.536Z"
   },
   {
    "duration": 369,
    "start_time": "2021-12-25T12:58:14.575Z"
   },
   {
    "duration": 7,
    "start_time": "2021-12-25T12:58:14.947Z"
   },
   {
    "duration": 7,
    "start_time": "2021-12-25T12:58:14.968Z"
   },
   {
    "duration": 68,
    "start_time": "2021-12-25T12:58:14.978Z"
   },
   {
    "duration": 23,
    "start_time": "2021-12-25T12:58:15.050Z"
   },
   {
    "duration": 44,
    "start_time": "2021-12-25T12:58:15.076Z"
   },
   {
    "duration": 40,
    "start_time": "2021-12-25T12:58:15.122Z"
   },
   {
    "duration": 10,
    "start_time": "2021-12-25T12:58:15.165Z"
   },
   {
    "duration": 10,
    "start_time": "2021-12-25T12:58:15.182Z"
   },
   {
    "duration": 10,
    "start_time": "2021-12-25T12:58:15.195Z"
   },
   {
    "duration": 10,
    "start_time": "2021-12-25T12:58:15.208Z"
   },
   {
    "duration": 12,
    "start_time": "2021-12-25T12:58:31.650Z"
   },
   {
    "duration": 10,
    "start_time": "2021-12-25T12:58:46.054Z"
   },
   {
    "duration": 966,
    "start_time": "2021-12-25T12:59:08.843Z"
   },
   {
    "duration": 83,
    "start_time": "2021-12-25T12:59:09.812Z"
   },
   {
    "duration": 23,
    "start_time": "2021-12-25T12:59:09.900Z"
   },
   {
    "duration": 52,
    "start_time": "2021-12-25T12:59:09.927Z"
   },
   {
    "duration": 24,
    "start_time": "2021-12-25T12:59:09.982Z"
   },
   {
    "duration": 21,
    "start_time": "2021-12-25T12:59:10.009Z"
   },
   {
    "duration": 37,
    "start_time": "2021-12-25T12:59:10.033Z"
   },
   {
    "duration": 22,
    "start_time": "2021-12-25T12:59:10.074Z"
   },
   {
    "duration": 16,
    "start_time": "2021-12-25T12:59:10.099Z"
   },
   {
    "duration": 10,
    "start_time": "2021-12-25T12:59:10.118Z"
   },
   {
    "duration": 43,
    "start_time": "2021-12-25T12:59:10.130Z"
   },
   {
    "duration": 7,
    "start_time": "2021-12-25T12:59:10.176Z"
   },
   {
    "duration": 7,
    "start_time": "2021-12-25T12:59:10.187Z"
   },
   {
    "duration": 12,
    "start_time": "2021-12-25T12:59:10.197Z"
   },
   {
    "duration": 8,
    "start_time": "2021-12-25T12:59:10.212Z"
   },
   {
    "duration": 47,
    "start_time": "2021-12-25T12:59:10.222Z"
   },
   {
    "duration": 25,
    "start_time": "2021-12-25T12:59:10.272Z"
   },
   {
    "duration": 18,
    "start_time": "2021-12-25T12:59:10.300Z"
   },
   {
    "duration": 15,
    "start_time": "2021-12-25T12:59:10.321Z"
   },
   {
    "duration": 350,
    "start_time": "2021-12-25T12:59:10.339Z"
   },
   {
    "duration": 319,
    "start_time": "2021-12-25T12:59:10.691Z"
   },
   {
    "duration": 11,
    "start_time": "2021-12-25T12:59:11.012Z"
   },
   {
    "duration": 6,
    "start_time": "2021-12-25T12:59:11.028Z"
   },
   {
    "duration": 9,
    "start_time": "2021-12-25T12:59:11.037Z"
   },
   {
    "duration": 20,
    "start_time": "2021-12-25T12:59:11.068Z"
   },
   {
    "duration": 327,
    "start_time": "2021-12-25T12:59:11.091Z"
   },
   {
    "duration": 7,
    "start_time": "2021-12-25T12:59:11.420Z"
   },
   {
    "duration": 8,
    "start_time": "2021-12-25T12:59:11.430Z"
   },
   {
    "duration": 137,
    "start_time": "2021-12-25T12:59:11.440Z"
   },
   {
    "duration": 10,
    "start_time": "2021-12-25T12:59:11.580Z"
   },
   {
    "duration": 13,
    "start_time": "2021-12-25T12:59:11.593Z"
   },
   {
    "duration": 11,
    "start_time": "2021-12-25T12:59:11.608Z"
   },
   {
    "duration": 10,
    "start_time": "2021-12-25T12:59:11.622Z"
   },
   {
    "duration": 9,
    "start_time": "2021-12-25T12:59:11.669Z"
   },
   {
    "duration": 17,
    "start_time": "2021-12-25T12:59:11.681Z"
   },
   {
    "duration": 13,
    "start_time": "2021-12-25T12:59:11.700Z"
   },
   {
    "duration": 442,
    "start_time": "2021-12-25T13:25:49.365Z"
   },
   {
    "duration": 850,
    "start_time": "2021-12-25T13:25:58.803Z"
   },
   {
    "duration": 87,
    "start_time": "2021-12-25T13:25:59.656Z"
   },
   {
    "duration": 34,
    "start_time": "2021-12-25T13:25:59.746Z"
   },
   {
    "duration": 32,
    "start_time": "2021-12-25T13:25:59.784Z"
   },
   {
    "duration": 52,
    "start_time": "2021-12-25T13:25:59.818Z"
   },
   {
    "duration": 18,
    "start_time": "2021-12-25T13:25:59.874Z"
   },
   {
    "duration": 7,
    "start_time": "2021-12-25T13:25:59.895Z"
   },
   {
    "duration": 20,
    "start_time": "2021-12-25T13:25:59.905Z"
   },
   {
    "duration": 45,
    "start_time": "2021-12-25T13:25:59.928Z"
   },
   {
    "duration": 29,
    "start_time": "2021-12-25T13:25:59.975Z"
   },
   {
    "duration": 26,
    "start_time": "2021-12-25T13:26:00.007Z"
   },
   {
    "duration": 8,
    "start_time": "2021-12-25T13:26:00.036Z"
   },
   {
    "duration": 14,
    "start_time": "2021-12-25T13:26:00.046Z"
   },
   {
    "duration": 29,
    "start_time": "2021-12-25T13:26:00.062Z"
   },
   {
    "duration": 10,
    "start_time": "2021-12-25T13:26:00.094Z"
   },
   {
    "duration": 16,
    "start_time": "2021-12-25T13:26:00.106Z"
   },
   {
    "duration": 16,
    "start_time": "2021-12-25T13:26:00.124Z"
   },
   {
    "duration": 28,
    "start_time": "2021-12-25T13:26:00.142Z"
   },
   {
    "duration": 23,
    "start_time": "2021-12-25T13:26:00.173Z"
   },
   {
    "duration": 361,
    "start_time": "2021-12-25T13:26:00.198Z"
   },
   {
    "duration": 354,
    "start_time": "2021-12-25T13:26:00.562Z"
   },
   {
    "duration": 330,
    "start_time": "2021-12-25T13:26:00.919Z"
   },
   {
    "duration": 22,
    "start_time": "2021-12-25T13:26:01.253Z"
   },
   {
    "duration": 41,
    "start_time": "2021-12-25T13:26:01.278Z"
   },
   {
    "duration": 26,
    "start_time": "2021-12-25T13:26:01.322Z"
   },
   {
    "duration": 41,
    "start_time": "2021-12-25T13:26:01.351Z"
   },
   {
    "duration": 386,
    "start_time": "2021-12-25T13:26:01.395Z"
   },
   {
    "duration": 7,
    "start_time": "2021-12-25T13:26:01.784Z"
   },
   {
    "duration": 32,
    "start_time": "2021-12-25T13:26:01.793Z"
   },
   {
    "duration": 69,
    "start_time": "2021-12-25T13:26:01.827Z"
   },
   {
    "duration": 25,
    "start_time": "2021-12-25T13:26:01.899Z"
   },
   {
    "duration": 32,
    "start_time": "2021-12-25T13:26:01.927Z"
   },
   {
    "duration": 17,
    "start_time": "2021-12-25T13:26:01.961Z"
   },
   {
    "duration": 19,
    "start_time": "2021-12-25T13:26:01.980Z"
   },
   {
    "duration": 51,
    "start_time": "2021-12-25T13:26:02.001Z"
   },
   {
    "duration": 56,
    "start_time": "2021-12-25T13:26:02.054Z"
   },
   {
    "duration": 35,
    "start_time": "2021-12-25T13:26:02.113Z"
   },
   {
    "duration": 409,
    "start_time": "2021-12-25T13:27:29.728Z"
   },
   {
    "duration": 909,
    "start_time": "2021-12-25T13:27:36.522Z"
   },
   {
    "duration": 89,
    "start_time": "2021-12-25T13:27:37.434Z"
   },
   {
    "duration": 41,
    "start_time": "2021-12-25T13:27:37.529Z"
   },
   {
    "duration": 40,
    "start_time": "2021-12-25T13:27:37.574Z"
   },
   {
    "duration": 22,
    "start_time": "2021-12-25T13:27:37.616Z"
   },
   {
    "duration": 37,
    "start_time": "2021-12-25T13:27:37.641Z"
   },
   {
    "duration": 6,
    "start_time": "2021-12-25T13:27:37.682Z"
   },
   {
    "duration": 120,
    "start_time": "2021-12-25T13:27:37.692Z"
   },
   {
    "duration": 10,
    "start_time": "2021-12-25T13:27:37.815Z"
   },
   {
    "duration": 11,
    "start_time": "2021-12-25T13:27:37.828Z"
   },
   {
    "duration": 13,
    "start_time": "2021-12-25T13:27:37.841Z"
   },
   {
    "duration": 17,
    "start_time": "2021-12-25T13:27:37.856Z"
   },
   {
    "duration": 4,
    "start_time": "2021-12-25T13:27:37.876Z"
   },
   {
    "duration": 15,
    "start_time": "2021-12-25T13:27:37.884Z"
   },
   {
    "duration": 9,
    "start_time": "2021-12-25T13:27:37.901Z"
   },
   {
    "duration": 57,
    "start_time": "2021-12-25T13:27:37.913Z"
   },
   {
    "duration": 14,
    "start_time": "2021-12-25T13:27:37.973Z"
   },
   {
    "duration": 17,
    "start_time": "2021-12-25T13:27:37.993Z"
   },
   {
    "duration": 15,
    "start_time": "2021-12-25T13:27:38.012Z"
   },
   {
    "duration": 375,
    "start_time": "2021-12-25T13:27:38.029Z"
   },
   {
    "duration": 368,
    "start_time": "2021-12-25T13:27:38.407Z"
   },
   {
    "duration": 313,
    "start_time": "2021-12-25T13:27:38.782Z"
   },
   {
    "duration": 11,
    "start_time": "2021-12-25T13:27:39.097Z"
   },
   {
    "duration": 5,
    "start_time": "2021-12-25T13:27:39.111Z"
   },
   {
    "duration": 11,
    "start_time": "2021-12-25T13:27:39.118Z"
   },
   {
    "duration": 51,
    "start_time": "2021-12-25T13:27:39.132Z"
   },
   {
    "duration": 397,
    "start_time": "2021-12-25T13:27:39.186Z"
   },
   {
    "duration": 8,
    "start_time": "2021-12-25T13:27:39.585Z"
   },
   {
    "duration": 9,
    "start_time": "2021-12-25T13:27:39.596Z"
   },
   {
    "duration": 85,
    "start_time": "2021-12-25T13:27:39.607Z"
   },
   {
    "duration": 9,
    "start_time": "2021-12-25T13:27:39.695Z"
   },
   {
    "duration": 13,
    "start_time": "2021-12-25T13:27:39.706Z"
   },
   {
    "duration": 15,
    "start_time": "2021-12-25T13:27:39.722Z"
   },
   {
    "duration": 31,
    "start_time": "2021-12-25T13:27:39.740Z"
   },
   {
    "duration": 16,
    "start_time": "2021-12-25T13:27:39.774Z"
   },
   {
    "duration": 10,
    "start_time": "2021-12-25T13:27:39.794Z"
   },
   {
    "duration": 14,
    "start_time": "2021-12-25T13:27:39.806Z"
   },
   {
    "duration": 894,
    "start_time": "2021-12-25T13:28:36.425Z"
   },
   {
    "duration": 81,
    "start_time": "2021-12-25T13:28:37.321Z"
   },
   {
    "duration": 22,
    "start_time": "2021-12-25T13:28:37.406Z"
   },
   {
    "duration": 48,
    "start_time": "2021-12-25T13:28:37.431Z"
   },
   {
    "duration": 24,
    "start_time": "2021-12-25T13:28:37.482Z"
   },
   {
    "duration": 15,
    "start_time": "2021-12-25T13:28:37.509Z"
   },
   {
    "duration": 46,
    "start_time": "2021-12-25T13:28:37.527Z"
   },
   {
    "duration": 23,
    "start_time": "2021-12-25T13:28:37.577Z"
   },
   {
    "duration": 8,
    "start_time": "2021-12-25T13:28:37.603Z"
   },
   {
    "duration": 7,
    "start_time": "2021-12-25T13:28:37.614Z"
   },
   {
    "duration": 62,
    "start_time": "2021-12-25T13:28:37.624Z"
   },
   {
    "duration": 19,
    "start_time": "2021-12-25T13:28:37.689Z"
   },
   {
    "duration": 6,
    "start_time": "2021-12-25T13:28:37.710Z"
   },
   {
    "duration": 10,
    "start_time": "2021-12-25T13:28:37.719Z"
   },
   {
    "duration": 36,
    "start_time": "2021-12-25T13:28:37.731Z"
   },
   {
    "duration": 13,
    "start_time": "2021-12-25T13:28:37.771Z"
   },
   {
    "duration": 13,
    "start_time": "2021-12-25T13:28:37.787Z"
   },
   {
    "duration": 18,
    "start_time": "2021-12-25T13:28:37.802Z"
   },
   {
    "duration": 47,
    "start_time": "2021-12-25T13:28:37.822Z"
   },
   {
    "duration": 356,
    "start_time": "2021-12-25T13:28:37.871Z"
   },
   {
    "duration": 361,
    "start_time": "2021-12-25T13:28:38.230Z"
   },
   {
    "duration": 355,
    "start_time": "2021-12-25T13:28:38.594Z"
   },
   {
    "duration": 20,
    "start_time": "2021-12-25T13:28:38.955Z"
   },
   {
    "duration": 5,
    "start_time": "2021-12-25T13:28:38.978Z"
   },
   {
    "duration": 9,
    "start_time": "2021-12-25T13:28:38.985Z"
   },
   {
    "duration": 18,
    "start_time": "2021-12-25T13:28:38.997Z"
   },
   {
    "duration": 414,
    "start_time": "2021-12-25T13:28:39.018Z"
   },
   {
    "duration": 7,
    "start_time": "2021-12-25T13:28:39.435Z"
   },
   {
    "duration": 24,
    "start_time": "2021-12-25T13:28:39.445Z"
   },
   {
    "duration": 50,
    "start_time": "2021-12-25T13:28:39.471Z"
   },
   {
    "duration": 9,
    "start_time": "2021-12-25T13:28:39.524Z"
   },
   {
    "duration": 37,
    "start_time": "2021-12-25T13:28:39.536Z"
   },
   {
    "duration": 9,
    "start_time": "2021-12-25T13:28:39.576Z"
   },
   {
    "duration": 8,
    "start_time": "2021-12-25T13:28:39.588Z"
   },
   {
    "duration": 11,
    "start_time": "2021-12-25T13:28:39.598Z"
   },
   {
    "duration": 8,
    "start_time": "2021-12-25T13:28:39.612Z"
   },
   {
    "duration": 47,
    "start_time": "2021-12-25T13:28:39.622Z"
   },
   {
    "duration": 861,
    "start_time": "2021-12-25T13:35:06.515Z"
   },
   {
    "duration": 78,
    "start_time": "2021-12-25T13:35:07.379Z"
   },
   {
    "duration": 32,
    "start_time": "2021-12-25T13:35:07.460Z"
   },
   {
    "duration": 29,
    "start_time": "2021-12-25T13:35:07.496Z"
   },
   {
    "duration": 54,
    "start_time": "2021-12-25T13:35:07.527Z"
   },
   {
    "duration": 15,
    "start_time": "2021-12-25T13:35:07.585Z"
   },
   {
    "duration": 9,
    "start_time": "2021-12-25T13:35:07.602Z"
   },
   {
    "duration": 53,
    "start_time": "2021-12-25T13:35:07.615Z"
   },
   {
    "duration": 9,
    "start_time": "2021-12-25T13:35:07.673Z"
   },
   {
    "duration": 19,
    "start_time": "2021-12-25T13:35:07.686Z"
   },
   {
    "duration": 14,
    "start_time": "2021-12-25T13:35:07.708Z"
   },
   {
    "duration": 7,
    "start_time": "2021-12-25T13:35:07.725Z"
   },
   {
    "duration": 34,
    "start_time": "2021-12-25T13:35:07.734Z"
   },
   {
    "duration": 12,
    "start_time": "2021-12-25T13:35:07.771Z"
   },
   {
    "duration": 8,
    "start_time": "2021-12-25T13:35:07.786Z"
   },
   {
    "duration": 10,
    "start_time": "2021-12-25T13:35:07.797Z"
   },
   {
    "duration": 10,
    "start_time": "2021-12-25T13:35:07.810Z"
   },
   {
    "duration": 62,
    "start_time": "2021-12-25T13:35:07.822Z"
   },
   {
    "duration": 16,
    "start_time": "2021-12-25T13:35:07.887Z"
   },
   {
    "duration": 365,
    "start_time": "2021-12-25T13:35:07.905Z"
   },
   {
    "duration": 379,
    "start_time": "2021-12-25T13:35:08.273Z"
   },
   {
    "duration": 357,
    "start_time": "2021-12-25T13:35:08.655Z"
   },
   {
    "duration": 4,
    "start_time": "2021-12-25T13:35:09.017Z"
   },
   {
    "duration": 11,
    "start_time": "2021-12-25T13:35:09.025Z"
   },
   {
    "duration": 44,
    "start_time": "2021-12-25T13:35:09.038Z"
   },
   {
    "duration": 377,
    "start_time": "2021-12-25T13:35:09.084Z"
   },
   {
    "duration": 9,
    "start_time": "2021-12-25T13:35:09.463Z"
   },
   {
    "duration": 10,
    "start_time": "2021-12-25T13:35:09.475Z"
   },
   {
    "duration": 79,
    "start_time": "2021-12-25T13:35:09.488Z"
   },
   {
    "duration": 10,
    "start_time": "2021-12-25T13:35:09.570Z"
   },
   {
    "duration": 11,
    "start_time": "2021-12-25T13:35:09.583Z"
   },
   {
    "duration": 9,
    "start_time": "2021-12-25T13:35:09.596Z"
   },
   {
    "duration": 11,
    "start_time": "2021-12-25T13:35:09.609Z"
   },
   {
    "duration": 50,
    "start_time": "2021-12-25T13:35:09.622Z"
   },
   {
    "duration": 10,
    "start_time": "2021-12-25T13:35:09.674Z"
   },
   {
    "duration": 16,
    "start_time": "2021-12-25T13:35:09.687Z"
   },
   {
    "duration": 1037,
    "start_time": "2021-12-25T13:36:01.451Z"
   },
   {
    "duration": 82,
    "start_time": "2021-12-25T13:36:02.491Z"
   },
   {
    "duration": 25,
    "start_time": "2021-12-25T13:36:02.576Z"
   },
   {
    "duration": 68,
    "start_time": "2021-12-25T13:36:02.605Z"
   },
   {
    "duration": 27,
    "start_time": "2021-12-25T13:36:02.677Z"
   },
   {
    "duration": 13,
    "start_time": "2021-12-25T13:36:02.707Z"
   },
   {
    "duration": 6,
    "start_time": "2021-12-25T13:36:02.723Z"
   },
   {
    "duration": 57,
    "start_time": "2021-12-25T13:36:02.733Z"
   },
   {
    "duration": 17,
    "start_time": "2021-12-25T13:36:02.793Z"
   },
   {
    "duration": 8,
    "start_time": "2021-12-25T13:36:02.813Z"
   },
   {
    "duration": 50,
    "start_time": "2021-12-25T13:36:02.824Z"
   },
   {
    "duration": 11,
    "start_time": "2021-12-25T13:36:02.877Z"
   },
   {
    "duration": 11,
    "start_time": "2021-12-25T13:36:02.891Z"
   },
   {
    "duration": 18,
    "start_time": "2021-12-25T13:36:02.906Z"
   },
   {
    "duration": 40,
    "start_time": "2021-12-25T13:36:02.929Z"
   },
   {
    "duration": 11,
    "start_time": "2021-12-25T13:36:02.972Z"
   },
   {
    "duration": 14,
    "start_time": "2021-12-25T13:36:02.990Z"
   },
   {
    "duration": 25,
    "start_time": "2021-12-25T13:36:03.006Z"
   },
   {
    "duration": 51,
    "start_time": "2021-12-25T13:36:03.033Z"
   },
   {
    "duration": 398,
    "start_time": "2021-12-25T13:36:03.087Z"
   },
   {
    "duration": 451,
    "start_time": "2021-12-25T13:36:03.488Z"
   },
   {
    "duration": 371,
    "start_time": "2021-12-25T13:36:03.942Z"
   },
   {
    "duration": 4,
    "start_time": "2021-12-25T13:36:04.318Z"
   },
   {
    "duration": 7,
    "start_time": "2021-12-25T13:36:04.326Z"
   },
   {
    "duration": 47,
    "start_time": "2021-12-25T13:36:04.335Z"
   },
   {
    "duration": 446,
    "start_time": "2021-12-25T13:36:04.385Z"
   },
   {
    "duration": 8,
    "start_time": "2021-12-25T13:36:04.834Z"
   },
   {
    "duration": 24,
    "start_time": "2021-12-25T13:36:04.845Z"
   },
   {
    "duration": 58,
    "start_time": "2021-12-25T13:36:04.872Z"
   },
   {
    "duration": 34,
    "start_time": "2021-12-25T13:36:04.932Z"
   },
   {
    "duration": 16,
    "start_time": "2021-12-25T13:36:04.970Z"
   },
   {
    "duration": 10,
    "start_time": "2021-12-25T13:36:04.990Z"
   },
   {
    "duration": 8,
    "start_time": "2021-12-25T13:36:05.002Z"
   },
   {
    "duration": 8,
    "start_time": "2021-12-25T13:36:05.012Z"
   },
   {
    "duration": 54,
    "start_time": "2021-12-25T13:36:05.022Z"
   },
   {
    "duration": 12,
    "start_time": "2021-12-25T13:36:05.079Z"
   },
   {
    "duration": 329,
    "start_time": "2021-12-25T13:36:51.041Z"
   },
   {
    "duration": 907,
    "start_time": "2021-12-25T13:37:02.081Z"
   },
   {
    "duration": 77,
    "start_time": "2021-12-25T13:37:02.991Z"
   },
   {
    "duration": 26,
    "start_time": "2021-12-25T13:37:03.072Z"
   },
   {
    "duration": 25,
    "start_time": "2021-12-25T13:37:03.102Z"
   },
   {
    "duration": 61,
    "start_time": "2021-12-25T13:37:03.130Z"
   },
   {
    "duration": 15,
    "start_time": "2021-12-25T13:37:03.193Z"
   },
   {
    "duration": 7,
    "start_time": "2021-12-25T13:37:03.210Z"
   },
   {
    "duration": 60,
    "start_time": "2021-12-25T13:37:03.221Z"
   },
   {
    "duration": 8,
    "start_time": "2021-12-25T13:37:03.285Z"
   },
   {
    "duration": 8,
    "start_time": "2021-12-25T13:37:03.296Z"
   },
   {
    "duration": 16,
    "start_time": "2021-12-25T13:37:03.306Z"
   },
   {
    "duration": 12,
    "start_time": "2021-12-25T13:37:03.325Z"
   },
   {
    "duration": 5,
    "start_time": "2021-12-25T13:37:03.368Z"
   },
   {
    "duration": 13,
    "start_time": "2021-12-25T13:37:03.376Z"
   },
   {
    "duration": 9,
    "start_time": "2021-12-25T13:37:03.392Z"
   },
   {
    "duration": 22,
    "start_time": "2021-12-25T13:37:03.403Z"
   },
   {
    "duration": 46,
    "start_time": "2021-12-25T13:37:03.428Z"
   },
   {
    "duration": 32,
    "start_time": "2021-12-25T13:37:03.477Z"
   },
   {
    "duration": 22,
    "start_time": "2021-12-25T13:37:03.512Z"
   },
   {
    "duration": 343,
    "start_time": "2021-12-25T13:37:03.537Z"
   },
   {
    "duration": 317,
    "start_time": "2021-12-25T13:37:03.882Z"
   },
   {
    "duration": 324,
    "start_time": "2021-12-25T13:37:04.202Z"
   },
   {
    "duration": 4,
    "start_time": "2021-12-25T13:37:04.531Z"
   },
   {
    "duration": 28,
    "start_time": "2021-12-25T13:37:04.538Z"
   },
   {
    "duration": 21,
    "start_time": "2021-12-25T13:37:04.569Z"
   },
   {
    "duration": 381,
    "start_time": "2021-12-25T13:37:04.592Z"
   },
   {
    "duration": 9,
    "start_time": "2021-12-25T13:37:04.976Z"
   },
   {
    "duration": 14,
    "start_time": "2021-12-25T13:37:04.988Z"
   },
   {
    "duration": 78,
    "start_time": "2021-12-25T13:37:05.005Z"
   },
   {
    "duration": 11,
    "start_time": "2021-12-25T13:37:05.087Z"
   },
   {
    "duration": 13,
    "start_time": "2021-12-25T13:37:05.100Z"
   },
   {
    "duration": 8,
    "start_time": "2021-12-25T13:37:05.115Z"
   },
   {
    "duration": 41,
    "start_time": "2021-12-25T13:37:05.126Z"
   },
   {
    "duration": 9,
    "start_time": "2021-12-25T13:37:05.170Z"
   },
   {
    "duration": 12,
    "start_time": "2021-12-25T13:37:05.182Z"
   },
   {
    "duration": 14,
    "start_time": "2021-12-25T13:37:05.197Z"
   },
   {
    "duration": 889,
    "start_time": "2021-12-25T13:42:40.055Z"
   },
   {
    "duration": 77,
    "start_time": "2021-12-25T13:42:40.947Z"
   },
   {
    "duration": 23,
    "start_time": "2021-12-25T13:42:41.027Z"
   },
   {
    "duration": 42,
    "start_time": "2021-12-25T13:42:41.053Z"
   },
   {
    "duration": 22,
    "start_time": "2021-12-25T13:42:41.098Z"
   },
   {
    "duration": 45,
    "start_time": "2021-12-25T13:42:41.123Z"
   },
   {
    "duration": 7,
    "start_time": "2021-12-25T13:42:41.170Z"
   },
   {
    "duration": 20,
    "start_time": "2021-12-25T13:42:41.181Z"
   },
   {
    "duration": 8,
    "start_time": "2021-12-25T13:42:41.203Z"
   },
   {
    "duration": 9,
    "start_time": "2021-12-25T13:42:41.214Z"
   },
   {
    "duration": 13,
    "start_time": "2021-12-25T13:42:41.267Z"
   },
   {
    "duration": 10,
    "start_time": "2021-12-25T13:42:41.282Z"
   },
   {
    "duration": 7,
    "start_time": "2021-12-25T13:42:41.294Z"
   },
   {
    "duration": 13,
    "start_time": "2021-12-25T13:42:41.303Z"
   },
   {
    "duration": 8,
    "start_time": "2021-12-25T13:42:41.318Z"
   },
   {
    "duration": 44,
    "start_time": "2021-12-25T13:42:41.329Z"
   },
   {
    "duration": 9,
    "start_time": "2021-12-25T13:42:41.376Z"
   },
   {
    "duration": 18,
    "start_time": "2021-12-25T13:42:41.388Z"
   },
   {
    "duration": 15,
    "start_time": "2021-12-25T13:42:41.408Z"
   },
   {
    "duration": 361,
    "start_time": "2021-12-25T13:42:41.425Z"
   },
   {
    "duration": 323,
    "start_time": "2021-12-25T13:42:41.788Z"
   },
   {
    "duration": 307,
    "start_time": "2021-12-25T13:42:42.114Z"
   },
   {
    "duration": 12,
    "start_time": "2021-12-25T13:42:42.425Z"
   },
   {
    "duration": 29,
    "start_time": "2021-12-25T13:42:42.439Z"
   },
   {
    "duration": 17,
    "start_time": "2021-12-25T13:42:42.471Z"
   },
   {
    "duration": 379,
    "start_time": "2021-12-25T13:42:42.490Z"
   },
   {
    "duration": 9,
    "start_time": "2021-12-25T13:42:42.872Z"
   },
   {
    "duration": 8,
    "start_time": "2021-12-25T13:42:42.884Z"
   },
   {
    "duration": 83,
    "start_time": "2021-12-25T13:42:42.895Z"
   },
   {
    "duration": 11,
    "start_time": "2021-12-25T13:42:42.981Z"
   },
   {
    "duration": 11,
    "start_time": "2021-12-25T13:42:42.995Z"
   },
   {
    "duration": 7,
    "start_time": "2021-12-25T13:42:43.008Z"
   },
   {
    "duration": 51,
    "start_time": "2021-12-25T13:42:43.017Z"
   },
   {
    "duration": 10,
    "start_time": "2021-12-25T13:42:43.071Z"
   },
   {
    "duration": 8,
    "start_time": "2021-12-25T13:42:43.084Z"
   },
   {
    "duration": 13,
    "start_time": "2021-12-25T13:42:43.095Z"
   },
   {
    "duration": 866,
    "start_time": "2021-12-25T13:43:32.580Z"
   },
   {
    "duration": 77,
    "start_time": "2021-12-25T13:43:33.449Z"
   },
   {
    "duration": 23,
    "start_time": "2021-12-25T13:43:33.529Z"
   },
   {
    "duration": 33,
    "start_time": "2021-12-25T13:43:33.568Z"
   },
   {
    "duration": 24,
    "start_time": "2021-12-25T13:43:33.604Z"
   },
   {
    "duration": 39,
    "start_time": "2021-12-25T13:43:33.631Z"
   },
   {
    "duration": 6,
    "start_time": "2021-12-25T13:43:33.673Z"
   },
   {
    "duration": 19,
    "start_time": "2021-12-25T13:43:33.684Z"
   },
   {
    "duration": 9,
    "start_time": "2021-12-25T13:43:33.706Z"
   },
   {
    "duration": 50,
    "start_time": "2021-12-25T13:43:33.717Z"
   },
   {
    "duration": 12,
    "start_time": "2021-12-25T13:43:33.770Z"
   },
   {
    "duration": 13,
    "start_time": "2021-12-25T13:43:33.785Z"
   },
   {
    "duration": 9,
    "start_time": "2021-12-25T13:43:33.800Z"
   },
   {
    "duration": 13,
    "start_time": "2021-12-25T13:43:33.811Z"
   },
   {
    "duration": 9,
    "start_time": "2021-12-25T13:43:33.826Z"
   },
   {
    "duration": 8,
    "start_time": "2021-12-25T13:43:33.867Z"
   },
   {
    "duration": 10,
    "start_time": "2021-12-25T13:43:33.878Z"
   },
   {
    "duration": 21,
    "start_time": "2021-12-25T13:43:33.890Z"
   },
   {
    "duration": 15,
    "start_time": "2021-12-25T13:43:33.914Z"
   },
   {
    "duration": 333,
    "start_time": "2021-12-25T13:43:33.968Z"
   },
   {
    "duration": 325,
    "start_time": "2021-12-25T13:43:34.304Z"
   },
   {
    "duration": 437,
    "start_time": "2021-12-25T13:43:34.632Z"
   },
   {
    "duration": 12,
    "start_time": "2021-12-25T13:43:35.074Z"
   },
   {
    "duration": 4,
    "start_time": "2021-12-25T13:43:35.089Z"
   },
   {
    "duration": 21,
    "start_time": "2021-12-25T13:43:35.095Z"
   },
   {
    "duration": 411,
    "start_time": "2021-12-25T13:43:35.119Z"
   },
   {
    "duration": 7,
    "start_time": "2021-12-25T13:43:35.533Z"
   },
   {
    "duration": 25,
    "start_time": "2021-12-25T13:43:35.543Z"
   },
   {
    "duration": 55,
    "start_time": "2021-12-25T13:43:35.570Z"
   },
   {
    "duration": 8,
    "start_time": "2021-12-25T13:43:35.628Z"
   },
   {
    "duration": 35,
    "start_time": "2021-12-25T13:43:35.638Z"
   },
   {
    "duration": 17,
    "start_time": "2021-12-25T13:43:35.675Z"
   },
   {
    "duration": 9,
    "start_time": "2021-12-25T13:43:35.694Z"
   },
   {
    "duration": 12,
    "start_time": "2021-12-25T13:43:35.705Z"
   },
   {
    "duration": 18,
    "start_time": "2021-12-25T13:43:35.719Z"
   },
   {
    "duration": 34,
    "start_time": "2021-12-25T13:43:35.740Z"
   },
   {
    "duration": 838,
    "start_time": "2021-12-25T13:45:21.900Z"
   },
   {
    "duration": 76,
    "start_time": "2021-12-25T13:45:22.740Z"
   },
   {
    "duration": 22,
    "start_time": "2021-12-25T13:45:22.822Z"
   },
   {
    "duration": 46,
    "start_time": "2021-12-25T13:45:22.846Z"
   },
   {
    "duration": 22,
    "start_time": "2021-12-25T13:45:22.895Z"
   },
   {
    "duration": 15,
    "start_time": "2021-12-25T13:45:22.919Z"
   },
   {
    "duration": 35,
    "start_time": "2021-12-25T13:45:22.937Z"
   },
   {
    "duration": 19,
    "start_time": "2021-12-25T13:45:22.976Z"
   },
   {
    "duration": 8,
    "start_time": "2021-12-25T13:45:22.997Z"
   },
   {
    "duration": 8,
    "start_time": "2021-12-25T13:45:23.007Z"
   },
   {
    "duration": 58,
    "start_time": "2021-12-25T13:45:23.017Z"
   },
   {
    "duration": 7,
    "start_time": "2021-12-25T13:45:23.077Z"
   },
   {
    "duration": 5,
    "start_time": "2021-12-25T13:45:23.086Z"
   },
   {
    "duration": 9,
    "start_time": "2021-12-25T13:45:23.094Z"
   },
   {
    "duration": 10,
    "start_time": "2021-12-25T13:45:23.106Z"
   },
   {
    "duration": 51,
    "start_time": "2021-12-25T13:45:23.119Z"
   },
   {
    "duration": 10,
    "start_time": "2021-12-25T13:45:23.172Z"
   },
   {
    "duration": 17,
    "start_time": "2021-12-25T13:45:23.185Z"
   },
   {
    "duration": 16,
    "start_time": "2021-12-25T13:45:23.204Z"
   },
   {
    "duration": 393,
    "start_time": "2021-12-25T13:45:23.222Z"
   },
   {
    "duration": 454,
    "start_time": "2021-12-25T13:45:23.618Z"
   },
   {
    "duration": 357,
    "start_time": "2021-12-25T13:45:24.080Z"
   },
   {
    "duration": 28,
    "start_time": "2021-12-25T13:45:24.440Z"
   },
   {
    "duration": 7,
    "start_time": "2021-12-25T13:45:24.471Z"
   },
   {
    "duration": 20,
    "start_time": "2021-12-25T13:45:24.480Z"
   },
   {
    "duration": 381,
    "start_time": "2021-12-25T13:45:24.502Z"
   },
   {
    "duration": 6,
    "start_time": "2021-12-25T13:45:24.885Z"
   },
   {
    "duration": 6,
    "start_time": "2021-12-25T13:45:24.894Z"
   },
   {
    "duration": 81,
    "start_time": "2021-12-25T13:45:24.903Z"
   },
   {
    "duration": 7,
    "start_time": "2021-12-25T13:45:24.987Z"
   },
   {
    "duration": 11,
    "start_time": "2021-12-25T13:45:24.997Z"
   },
   {
    "duration": 8,
    "start_time": "2021-12-25T13:45:25.011Z"
   },
   {
    "duration": 9,
    "start_time": "2021-12-25T13:45:25.021Z"
   },
   {
    "duration": 11,
    "start_time": "2021-12-25T13:45:25.068Z"
   },
   {
    "duration": 8,
    "start_time": "2021-12-25T13:45:25.081Z"
   },
   {
    "duration": 11,
    "start_time": "2021-12-25T13:45:25.091Z"
   },
   {
    "duration": 12,
    "start_time": "2021-12-25T13:45:44.836Z"
   },
   {
    "duration": 891,
    "start_time": "2021-12-25T13:47:06.943Z"
   },
   {
    "duration": 79,
    "start_time": "2021-12-25T13:47:07.837Z"
   },
   {
    "duration": 20,
    "start_time": "2021-12-25T13:47:07.919Z"
   },
   {
    "duration": 48,
    "start_time": "2021-12-25T13:47:07.942Z"
   },
   {
    "duration": 22,
    "start_time": "2021-12-25T13:47:07.993Z"
   },
   {
    "duration": 16,
    "start_time": "2021-12-25T13:47:08.018Z"
   },
   {
    "duration": 38,
    "start_time": "2021-12-25T13:47:08.037Z"
   },
   {
    "duration": 19,
    "start_time": "2021-12-25T13:47:08.081Z"
   },
   {
    "duration": 8,
    "start_time": "2021-12-25T13:47:08.104Z"
   },
   {
    "duration": 10,
    "start_time": "2021-12-25T13:47:08.114Z"
   },
   {
    "duration": 12,
    "start_time": "2021-12-25T13:47:08.168Z"
   },
   {
    "duration": 8,
    "start_time": "2021-12-25T13:47:08.182Z"
   },
   {
    "duration": 3,
    "start_time": "2021-12-25T13:47:08.193Z"
   },
   {
    "duration": 16,
    "start_time": "2021-12-25T13:47:08.199Z"
   },
   {
    "duration": 13,
    "start_time": "2021-12-25T13:47:08.218Z"
   },
   {
    "duration": 41,
    "start_time": "2021-12-25T13:47:08.233Z"
   },
   {
    "duration": 11,
    "start_time": "2021-12-25T13:47:08.277Z"
   },
   {
    "duration": 19,
    "start_time": "2021-12-25T13:47:08.291Z"
   },
   {
    "duration": 54,
    "start_time": "2021-12-25T13:47:08.313Z"
   },
   {
    "duration": 394,
    "start_time": "2021-12-25T13:47:08.369Z"
   },
   {
    "duration": 305,
    "start_time": "2021-12-25T13:47:08.768Z"
   },
   {
    "duration": 320,
    "start_time": "2021-12-25T13:47:09.076Z"
   },
   {
    "duration": 12,
    "start_time": "2021-12-25T13:47:09.403Z"
   },
   {
    "duration": 4,
    "start_time": "2021-12-25T13:47:09.418Z"
   },
   {
    "duration": 55,
    "start_time": "2021-12-25T13:47:09.425Z"
   },
   {
    "duration": 359,
    "start_time": "2021-12-25T13:47:09.483Z"
   },
   {
    "duration": 8,
    "start_time": "2021-12-25T13:47:09.845Z"
   },
   {
    "duration": 17,
    "start_time": "2021-12-25T13:47:09.855Z"
   },
   {
    "duration": 49,
    "start_time": "2021-12-25T13:47:09.875Z"
   },
   {
    "duration": 44,
    "start_time": "2021-12-25T13:47:09.926Z"
   },
   {
    "duration": 11,
    "start_time": "2021-12-25T13:47:09.972Z"
   },
   {
    "duration": 9,
    "start_time": "2021-12-25T13:47:09.986Z"
   },
   {
    "duration": 16,
    "start_time": "2021-12-25T13:47:09.998Z"
   },
   {
    "duration": 7,
    "start_time": "2021-12-25T13:47:10.017Z"
   },
   {
    "duration": 7,
    "start_time": "2021-12-25T13:47:10.067Z"
   },
   {
    "duration": 14,
    "start_time": "2021-12-25T13:47:10.077Z"
   },
   {
    "duration": 847,
    "start_time": "2021-12-25T13:47:43.122Z"
   },
   {
    "duration": 79,
    "start_time": "2021-12-25T13:47:43.972Z"
   },
   {
    "duration": 29,
    "start_time": "2021-12-25T13:47:44.057Z"
   },
   {
    "duration": 29,
    "start_time": "2021-12-25T13:47:44.089Z"
   },
   {
    "duration": 50,
    "start_time": "2021-12-25T13:47:44.121Z"
   },
   {
    "duration": 16,
    "start_time": "2021-12-25T13:47:44.173Z"
   },
   {
    "duration": 7,
    "start_time": "2021-12-25T13:47:44.193Z"
   },
   {
    "duration": 20,
    "start_time": "2021-12-25T13:47:44.204Z"
   },
   {
    "duration": 8,
    "start_time": "2021-12-25T13:47:44.267Z"
   },
   {
    "duration": 8,
    "start_time": "2021-12-25T13:47:44.277Z"
   },
   {
    "duration": 11,
    "start_time": "2021-12-25T13:47:44.287Z"
   },
   {
    "duration": 7,
    "start_time": "2021-12-25T13:47:44.301Z"
   },
   {
    "duration": 4,
    "start_time": "2021-12-25T13:47:44.311Z"
   },
   {
    "duration": 57,
    "start_time": "2021-12-25T13:47:44.318Z"
   },
   {
    "duration": 9,
    "start_time": "2021-12-25T13:47:44.378Z"
   },
   {
    "duration": 11,
    "start_time": "2021-12-25T13:47:44.390Z"
   },
   {
    "duration": 12,
    "start_time": "2021-12-25T13:47:44.404Z"
   },
   {
    "duration": 66,
    "start_time": "2021-12-25T13:47:44.419Z"
   },
   {
    "duration": 17,
    "start_time": "2021-12-25T13:47:44.489Z"
   },
   {
    "duration": 349,
    "start_time": "2021-12-25T13:47:44.509Z"
   },
   {
    "duration": 312,
    "start_time": "2021-12-25T13:47:44.860Z"
   },
   {
    "duration": 313,
    "start_time": "2021-12-25T13:47:45.177Z"
   },
   {
    "duration": 12,
    "start_time": "2021-12-25T13:47:45.493Z"
   },
   {
    "duration": 4,
    "start_time": "2021-12-25T13:47:45.508Z"
   },
   {
    "duration": 54,
    "start_time": "2021-12-25T13:47:45.515Z"
   },
   {
    "duration": 359,
    "start_time": "2021-12-25T13:47:45.572Z"
   },
   {
    "duration": 9,
    "start_time": "2021-12-25T13:47:45.934Z"
   },
   {
    "duration": 26,
    "start_time": "2021-12-25T13:47:45.946Z"
   },
   {
    "duration": 47,
    "start_time": "2021-12-25T13:47:45.974Z"
   },
   {
    "duration": 8,
    "start_time": "2021-12-25T13:47:46.023Z"
   },
   {
    "duration": 37,
    "start_time": "2021-12-25T13:47:46.033Z"
   },
   {
    "duration": 8,
    "start_time": "2021-12-25T13:47:46.072Z"
   },
   {
    "duration": 10,
    "start_time": "2021-12-25T13:47:46.082Z"
   },
   {
    "duration": 8,
    "start_time": "2021-12-25T13:47:46.094Z"
   },
   {
    "duration": 11,
    "start_time": "2021-12-25T13:47:46.104Z"
   },
   {
    "duration": 52,
    "start_time": "2021-12-25T13:47:46.117Z"
   },
   {
    "duration": 834,
    "start_time": "2021-12-25T13:50:04.113Z"
   },
   {
    "duration": 78,
    "start_time": "2021-12-25T13:50:04.950Z"
   },
   {
    "duration": 38,
    "start_time": "2021-12-25T13:50:05.031Z"
   },
   {
    "duration": 30,
    "start_time": "2021-12-25T13:50:05.072Z"
   },
   {
    "duration": 22,
    "start_time": "2021-12-25T13:50:05.105Z"
   },
   {
    "duration": 44,
    "start_time": "2021-12-25T13:50:05.129Z"
   },
   {
    "duration": 7,
    "start_time": "2021-12-25T13:50:05.175Z"
   },
   {
    "duration": 19,
    "start_time": "2021-12-25T13:50:05.186Z"
   },
   {
    "duration": 9,
    "start_time": "2021-12-25T13:50:05.208Z"
   },
   {
    "duration": 54,
    "start_time": "2021-12-25T13:50:05.219Z"
   },
   {
    "duration": 20,
    "start_time": "2021-12-25T13:50:05.276Z"
   },
   {
    "duration": 11,
    "start_time": "2021-12-25T13:50:05.299Z"
   },
   {
    "duration": 11,
    "start_time": "2021-12-25T13:50:05.312Z"
   },
   {
    "duration": 13,
    "start_time": "2021-12-25T13:50:05.326Z"
   },
   {
    "duration": 31,
    "start_time": "2021-12-25T13:50:05.341Z"
   },
   {
    "duration": 12,
    "start_time": "2021-12-25T13:50:05.375Z"
   },
   {
    "duration": 10,
    "start_time": "2021-12-25T13:50:05.390Z"
   },
   {
    "duration": 21,
    "start_time": "2021-12-25T13:50:05.402Z"
   },
   {
    "duration": 43,
    "start_time": "2021-12-25T13:50:05.425Z"
   },
   {
    "duration": 373,
    "start_time": "2021-12-25T13:50:05.470Z"
   },
   {
    "duration": 335,
    "start_time": "2021-12-25T13:50:05.846Z"
   },
   {
    "duration": 329,
    "start_time": "2021-12-25T13:50:06.183Z"
   },
   {
    "duration": 12,
    "start_time": "2021-12-25T13:50:06.517Z"
   },
   {
    "duration": 6,
    "start_time": "2021-12-25T13:50:06.532Z"
   },
   {
    "duration": 42,
    "start_time": "2021-12-25T13:50:06.540Z"
   },
   {
    "duration": 401,
    "start_time": "2021-12-25T13:50:06.585Z"
   },
   {
    "duration": 7,
    "start_time": "2021-12-25T13:50:06.988Z"
   },
   {
    "duration": 8,
    "start_time": "2021-12-25T13:50:06.998Z"
   },
   {
    "duration": 78,
    "start_time": "2021-12-25T13:50:07.009Z"
   },
   {
    "duration": 8,
    "start_time": "2021-12-25T13:50:07.089Z"
   },
   {
    "duration": 13,
    "start_time": "2021-12-25T13:50:07.099Z"
   },
   {
    "duration": 9,
    "start_time": "2021-12-25T13:50:07.115Z"
   },
   {
    "duration": 41,
    "start_time": "2021-12-25T13:50:07.126Z"
   },
   {
    "duration": 24,
    "start_time": "2021-12-25T13:50:07.170Z"
   },
   {
    "duration": 10,
    "start_time": "2021-12-25T13:50:07.197Z"
   },
   {
    "duration": 9,
    "start_time": "2021-12-25T13:50:07.210Z"
   },
   {
    "duration": 869,
    "start_time": "2021-12-25T13:50:26.191Z"
   },
   {
    "duration": 77,
    "start_time": "2021-12-25T13:50:27.062Z"
   },
   {
    "duration": 27,
    "start_time": "2021-12-25T13:50:27.143Z"
   },
   {
    "duration": 29,
    "start_time": "2021-12-25T13:50:27.173Z"
   },
   {
    "duration": 22,
    "start_time": "2021-12-25T13:50:27.205Z"
   },
   {
    "duration": 46,
    "start_time": "2021-12-25T13:50:27.230Z"
   },
   {
    "duration": 6,
    "start_time": "2021-12-25T13:50:27.279Z"
   },
   {
    "duration": 18,
    "start_time": "2021-12-25T13:50:27.289Z"
   },
   {
    "duration": 9,
    "start_time": "2021-12-25T13:50:27.310Z"
   },
   {
    "duration": 50,
    "start_time": "2021-12-25T13:50:27.322Z"
   },
   {
    "duration": 15,
    "start_time": "2021-12-25T13:50:27.375Z"
   },
   {
    "duration": 8,
    "start_time": "2021-12-25T13:50:27.392Z"
   },
   {
    "duration": 6,
    "start_time": "2021-12-25T13:50:27.403Z"
   },
   {
    "duration": 12,
    "start_time": "2021-12-25T13:50:27.411Z"
   },
   {
    "duration": 8,
    "start_time": "2021-12-25T13:50:27.466Z"
   },
   {
    "duration": 9,
    "start_time": "2021-12-25T13:50:27.476Z"
   },
   {
    "duration": 8,
    "start_time": "2021-12-25T13:50:27.488Z"
   },
   {
    "duration": 16,
    "start_time": "2021-12-25T13:50:27.499Z"
   },
   {
    "duration": 55,
    "start_time": "2021-12-25T13:50:27.517Z"
   },
   {
    "duration": 323,
    "start_time": "2021-12-25T13:50:27.574Z"
   },
   {
    "duration": 350,
    "start_time": "2021-12-25T13:50:27.900Z"
   },
   {
    "duration": 333,
    "start_time": "2021-12-25T13:50:28.252Z"
   },
   {
    "duration": 15,
    "start_time": "2021-12-25T13:50:28.592Z"
   },
   {
    "duration": 5,
    "start_time": "2021-12-25T13:50:28.610Z"
   },
   {
    "duration": 52,
    "start_time": "2021-12-25T13:50:28.617Z"
   },
   {
    "duration": 395,
    "start_time": "2021-12-25T13:50:28.672Z"
   },
   {
    "duration": 8,
    "start_time": "2021-12-25T13:50:29.070Z"
   },
   {
    "duration": 8,
    "start_time": "2021-12-25T13:50:29.081Z"
   },
   {
    "duration": 48,
    "start_time": "2021-12-25T13:50:29.092Z"
   },
   {
    "duration": 9,
    "start_time": "2021-12-25T13:50:29.168Z"
   },
   {
    "duration": 10,
    "start_time": "2021-12-25T13:50:29.179Z"
   },
   {
    "duration": 8,
    "start_time": "2021-12-25T13:50:29.192Z"
   },
   {
    "duration": 16,
    "start_time": "2021-12-25T13:50:29.202Z"
   },
   {
    "duration": 48,
    "start_time": "2021-12-25T13:50:29.221Z"
   },
   {
    "duration": 9,
    "start_time": "2021-12-25T13:50:29.272Z"
   },
   {
    "duration": 12,
    "start_time": "2021-12-25T13:50:29.283Z"
   },
   {
    "duration": 856,
    "start_time": "2021-12-25T13:51:55.661Z"
   },
   {
    "duration": 78,
    "start_time": "2021-12-25T13:51:56.523Z"
   },
   {
    "duration": 22,
    "start_time": "2021-12-25T13:51:56.604Z"
   },
   {
    "duration": 48,
    "start_time": "2021-12-25T13:51:56.629Z"
   },
   {
    "duration": 24,
    "start_time": "2021-12-25T13:51:56.680Z"
   },
   {
    "duration": 14,
    "start_time": "2021-12-25T13:51:56.707Z"
   },
   {
    "duration": 8,
    "start_time": "2021-12-25T13:51:56.724Z"
   },
   {
    "duration": 19,
    "start_time": "2021-12-25T13:51:56.768Z"
   },
   {
    "duration": 8,
    "start_time": "2021-12-25T13:51:56.790Z"
   },
   {
    "duration": 7,
    "start_time": "2021-12-25T13:51:56.800Z"
   },
   {
    "duration": 11,
    "start_time": "2021-12-25T13:51:56.810Z"
   },
   {
    "duration": 46,
    "start_time": "2021-12-25T13:51:56.824Z"
   },
   {
    "duration": 3,
    "start_time": "2021-12-25T13:51:56.873Z"
   },
   {
    "duration": 21,
    "start_time": "2021-12-25T13:51:56.879Z"
   },
   {
    "duration": 15,
    "start_time": "2021-12-25T13:51:56.903Z"
   },
   {
    "duration": 20,
    "start_time": "2021-12-25T13:51:56.921Z"
   },
   {
    "duration": 14,
    "start_time": "2021-12-25T13:51:56.968Z"
   },
   {
    "duration": 24,
    "start_time": "2021-12-25T13:51:56.986Z"
   },
   {
    "duration": 54,
    "start_time": "2021-12-25T13:51:57.013Z"
   },
   {
    "duration": 324,
    "start_time": "2021-12-25T13:51:57.070Z"
   },
   {
    "duration": 309,
    "start_time": "2021-12-25T13:51:57.396Z"
   },
   {
    "duration": 460,
    "start_time": "2021-12-25T13:51:57.707Z"
   },
   {
    "duration": 15,
    "start_time": "2021-12-25T13:51:58.174Z"
   },
   {
    "duration": 4,
    "start_time": "2021-12-25T13:51:58.192Z"
   },
   {
    "duration": 19,
    "start_time": "2021-12-25T13:51:58.198Z"
   },
   {
    "duration": 451,
    "start_time": "2021-12-25T13:51:58.220Z"
   },
   {
    "duration": 8,
    "start_time": "2021-12-25T13:51:58.674Z"
   },
   {
    "duration": 8,
    "start_time": "2021-12-25T13:51:58.685Z"
   },
   {
    "duration": 85,
    "start_time": "2021-12-25T13:51:58.696Z"
   },
   {
    "duration": 8,
    "start_time": "2021-12-25T13:51:58.783Z"
   },
   {
    "duration": 8,
    "start_time": "2021-12-25T13:51:58.794Z"
   },
   {
    "duration": 8,
    "start_time": "2021-12-25T13:51:58.804Z"
   },
   {
    "duration": 9,
    "start_time": "2021-12-25T13:51:58.814Z"
   },
   {
    "duration": 47,
    "start_time": "2021-12-25T13:51:58.825Z"
   },
   {
    "duration": 10,
    "start_time": "2021-12-25T13:51:58.875Z"
   },
   {
    "duration": 10,
    "start_time": "2021-12-25T13:51:58.887Z"
   },
   {
    "duration": 88,
    "start_time": "2021-12-25T13:55:12.319Z"
   },
   {
    "duration": 15,
    "start_time": "2021-12-25T13:55:29.486Z"
   },
   {
    "duration": 100,
    "start_time": "2021-12-25T13:55:45.264Z"
   },
   {
    "duration": 366,
    "start_time": "2021-12-25T13:56:06.083Z"
   },
   {
    "duration": 89,
    "start_time": "2021-12-25T13:57:44.252Z"
   },
   {
    "duration": 14,
    "start_time": "2021-12-25T13:57:52.380Z"
   },
   {
    "duration": 14,
    "start_time": "2021-12-25T13:58:32.072Z"
   },
   {
    "duration": 14,
    "start_time": "2021-12-25T13:58:35.628Z"
   },
   {
    "duration": 13,
    "start_time": "2021-12-25T13:59:14.763Z"
   },
   {
    "duration": 12,
    "start_time": "2021-12-25T13:59:40.241Z"
   },
   {
    "duration": 854,
    "start_time": "2021-12-25T13:59:48.278Z"
   },
   {
    "duration": 75,
    "start_time": "2021-12-25T13:59:49.135Z"
   },
   {
    "duration": 21,
    "start_time": "2021-12-25T13:59:49.214Z"
   },
   {
    "duration": 48,
    "start_time": "2021-12-25T13:59:49.238Z"
   },
   {
    "duration": 22,
    "start_time": "2021-12-25T13:59:49.289Z"
   },
   {
    "duration": 14,
    "start_time": "2021-12-25T13:59:49.314Z"
   },
   {
    "duration": 39,
    "start_time": "2021-12-25T13:59:49.330Z"
   },
   {
    "duration": 22,
    "start_time": "2021-12-25T13:59:49.373Z"
   },
   {
    "duration": 9,
    "start_time": "2021-12-25T13:59:49.398Z"
   },
   {
    "duration": 8,
    "start_time": "2021-12-25T13:59:49.409Z"
   },
   {
    "duration": 55,
    "start_time": "2021-12-25T13:59:49.420Z"
   },
   {
    "duration": 13,
    "start_time": "2021-12-25T13:59:49.478Z"
   },
   {
    "duration": 5,
    "start_time": "2021-12-25T13:59:49.494Z"
   },
   {
    "duration": 15,
    "start_time": "2021-12-25T13:59:49.501Z"
   },
   {
    "duration": 8,
    "start_time": "2021-12-25T13:59:49.518Z"
   },
   {
    "duration": 45,
    "start_time": "2021-12-25T13:59:49.529Z"
   },
   {
    "duration": 11,
    "start_time": "2021-12-25T13:59:49.577Z"
   },
   {
    "duration": 19,
    "start_time": "2021-12-25T13:59:49.591Z"
   },
   {
    "duration": 59,
    "start_time": "2021-12-25T13:59:49.613Z"
   },
   {
    "duration": 336,
    "start_time": "2021-12-25T13:59:49.675Z"
   },
   {
    "duration": 333,
    "start_time": "2021-12-25T13:59:50.013Z"
   },
   {
    "duration": 441,
    "start_time": "2021-12-25T13:59:50.348Z"
   },
   {
    "duration": 12,
    "start_time": "2021-12-25T13:59:50.795Z"
   },
   {
    "duration": 31,
    "start_time": "2021-12-25T13:59:50.810Z"
   },
   {
    "duration": 33,
    "start_time": "2021-12-25T13:59:50.844Z"
   },
   {
    "duration": 398,
    "start_time": "2021-12-25T13:59:50.880Z"
   },
   {
    "duration": 7,
    "start_time": "2021-12-25T13:59:51.281Z"
   },
   {
    "duration": 15,
    "start_time": "2021-12-25T13:59:51.290Z"
   },
   {
    "duration": 69,
    "start_time": "2021-12-25T13:59:51.308Z"
   },
   {
    "duration": 8,
    "start_time": "2021-12-25T13:59:51.380Z"
   },
   {
    "duration": 18,
    "start_time": "2021-12-25T13:59:51.391Z"
   },
   {
    "duration": 15,
    "start_time": "2021-12-25T13:59:51.411Z"
   },
   {
    "duration": 27,
    "start_time": "2021-12-25T13:59:51.429Z"
   },
   {
    "duration": 17,
    "start_time": "2021-12-25T13:59:51.459Z"
   },
   {
    "duration": 18,
    "start_time": "2021-12-25T13:59:51.478Z"
   },
   {
    "duration": 21,
    "start_time": "2021-12-25T13:59:51.499Z"
   },
   {
    "duration": 329,
    "start_time": "2021-12-25T14:02:34.047Z"
   },
   {
    "duration": 360,
    "start_time": "2021-12-25T14:05:14.647Z"
   },
   {
    "duration": 11,
    "start_time": "2021-12-25T14:07:12.428Z"
   },
   {
    "duration": 10,
    "start_time": "2021-12-25T14:07:22.785Z"
   },
   {
    "duration": 4,
    "start_time": "2021-12-25T14:07:22.815Z"
   },
   {
    "duration": 8,
    "start_time": "2021-12-25T14:07:35.794Z"
   },
   {
    "duration": 58,
    "start_time": "2021-12-25T14:10:20.195Z"
   },
   {
    "duration": 44,
    "start_time": "2021-12-25T14:11:06.402Z"
   },
   {
    "duration": 15,
    "start_time": "2021-12-25T14:12:19.928Z"
   },
   {
    "duration": 957,
    "start_time": "2021-12-25T14:12:28.989Z"
   },
   {
    "duration": 78,
    "start_time": "2021-12-25T14:12:29.949Z"
   },
   {
    "duration": 22,
    "start_time": "2021-12-25T14:12:30.034Z"
   },
   {
    "duration": 39,
    "start_time": "2021-12-25T14:12:30.067Z"
   },
   {
    "duration": 22,
    "start_time": "2021-12-25T14:12:30.108Z"
   },
   {
    "duration": 20,
    "start_time": "2021-12-25T14:12:30.133Z"
   },
   {
    "duration": 7,
    "start_time": "2021-12-25T14:12:30.156Z"
   },
   {
    "duration": 30,
    "start_time": "2021-12-25T14:12:30.167Z"
   },
   {
    "duration": 32,
    "start_time": "2021-12-25T14:12:30.199Z"
   },
   {
    "duration": 23,
    "start_time": "2021-12-25T14:12:30.235Z"
   },
   {
    "duration": 16,
    "start_time": "2021-12-25T14:12:30.261Z"
   },
   {
    "duration": 9,
    "start_time": "2021-12-25T14:12:30.280Z"
   },
   {
    "duration": 9,
    "start_time": "2021-12-25T14:12:30.291Z"
   },
   {
    "duration": 15,
    "start_time": "2021-12-25T14:12:30.304Z"
   },
   {
    "duration": 18,
    "start_time": "2021-12-25T14:12:30.322Z"
   },
   {
    "duration": 15,
    "start_time": "2021-12-25T14:12:30.343Z"
   },
   {
    "duration": 10,
    "start_time": "2021-12-25T14:12:30.360Z"
   },
   {
    "duration": 19,
    "start_time": "2021-12-25T14:12:30.372Z"
   },
   {
    "duration": 14,
    "start_time": "2021-12-25T14:12:30.394Z"
   },
   {
    "duration": 367,
    "start_time": "2021-12-25T14:12:30.410Z"
   },
   {
    "duration": 491,
    "start_time": "2021-12-25T14:12:30.779Z"
   },
   {
    "duration": 376,
    "start_time": "2021-12-25T14:12:31.276Z"
   },
   {
    "duration": 21,
    "start_time": "2021-12-25T14:12:31.655Z"
   },
   {
    "duration": 38,
    "start_time": "2021-12-25T14:12:31.679Z"
   },
   {
    "duration": 18,
    "start_time": "2021-12-25T14:12:31.719Z"
   },
   {
    "duration": 21,
    "start_time": "2021-12-25T14:12:31.739Z"
   },
   {
    "duration": 432,
    "start_time": "2021-12-25T14:12:31.767Z"
   },
   {
    "duration": -109703,
    "start_time": "2021-12-25T14:14:21.904Z"
   },
   {
    "duration": -109708,
    "start_time": "2021-12-25T14:14:21.911Z"
   },
   {
    "duration": -109711,
    "start_time": "2021-12-25T14:14:21.915Z"
   },
   {
    "duration": -109713,
    "start_time": "2021-12-25T14:14:21.919Z"
   },
   {
    "duration": -109717,
    "start_time": "2021-12-25T14:14:21.924Z"
   },
   {
    "duration": -109720,
    "start_time": "2021-12-25T14:14:21.928Z"
   },
   {
    "duration": -109722,
    "start_time": "2021-12-25T14:14:21.931Z"
   },
   {
    "duration": -109726,
    "start_time": "2021-12-25T14:14:21.937Z"
   },
   {
    "duration": -109728,
    "start_time": "2021-12-25T14:14:21.940Z"
   },
   {
    "duration": -109730,
    "start_time": "2021-12-25T14:14:21.944Z"
   },
   {
    "duration": -109735,
    "start_time": "2021-12-25T14:14:21.950Z"
   },
   {
    "duration": 14,
    "start_time": "2021-12-25T14:13:39.423Z"
   },
   {
    "duration": 882,
    "start_time": "2021-12-25T14:13:44.266Z"
   },
   {
    "duration": 78,
    "start_time": "2021-12-25T14:13:45.151Z"
   },
   {
    "duration": 35,
    "start_time": "2021-12-25T14:13:45.232Z"
   },
   {
    "duration": 28,
    "start_time": "2021-12-25T14:13:45.271Z"
   },
   {
    "duration": 23,
    "start_time": "2021-12-25T14:13:45.302Z"
   },
   {
    "duration": 47,
    "start_time": "2021-12-25T14:13:45.328Z"
   },
   {
    "duration": 7,
    "start_time": "2021-12-25T14:13:45.378Z"
   },
   {
    "duration": 30,
    "start_time": "2021-12-25T14:13:45.389Z"
   },
   {
    "duration": 10,
    "start_time": "2021-12-25T14:13:45.422Z"
   },
   {
    "duration": 39,
    "start_time": "2021-12-25T14:13:45.435Z"
   },
   {
    "duration": 14,
    "start_time": "2021-12-25T14:13:45.477Z"
   },
   {
    "duration": 8,
    "start_time": "2021-12-25T14:13:45.494Z"
   },
   {
    "duration": 4,
    "start_time": "2021-12-25T14:13:45.505Z"
   },
   {
    "duration": 61,
    "start_time": "2021-12-25T14:13:45.512Z"
   },
   {
    "duration": 9,
    "start_time": "2021-12-25T14:13:45.576Z"
   },
   {
    "duration": 11,
    "start_time": "2021-12-25T14:13:45.588Z"
   },
   {
    "duration": 11,
    "start_time": "2021-12-25T14:13:45.602Z"
   },
   {
    "duration": 63,
    "start_time": "2021-12-25T14:13:45.616Z"
   },
   {
    "duration": 15,
    "start_time": "2021-12-25T14:13:45.681Z"
   },
   {
    "duration": 331,
    "start_time": "2021-12-25T14:13:45.698Z"
   },
   {
    "duration": 308,
    "start_time": "2021-12-25T14:13:46.031Z"
   },
   {
    "duration": 298,
    "start_time": "2021-12-25T14:13:46.341Z"
   },
   {
    "duration": 26,
    "start_time": "2021-12-25T14:13:46.644Z"
   },
   {
    "duration": 14,
    "start_time": "2021-12-25T14:13:46.674Z"
   },
   {
    "duration": 6,
    "start_time": "2021-12-25T14:13:46.691Z"
   },
   {
    "duration": 19,
    "start_time": "2021-12-25T14:13:46.700Z"
   },
   {
    "duration": 375,
    "start_time": "2021-12-25T14:13:46.768Z"
   },
   {
    "duration": -109721,
    "start_time": "2021-12-25T14:15:36.867Z"
   },
   {
    "duration": -109725,
    "start_time": "2021-12-25T14:15:36.873Z"
   },
   {
    "duration": -109727,
    "start_time": "2021-12-25T14:15:36.876Z"
   },
   {
    "duration": -109729,
    "start_time": "2021-12-25T14:15:36.880Z"
   },
   {
    "duration": -109734,
    "start_time": "2021-12-25T14:15:36.886Z"
   },
   {
    "duration": -109735,
    "start_time": "2021-12-25T14:15:36.889Z"
   },
   {
    "duration": -109738,
    "start_time": "2021-12-25T14:15:36.893Z"
   },
   {
    "duration": -109739,
    "start_time": "2021-12-25T14:15:36.896Z"
   },
   {
    "duration": -109745,
    "start_time": "2021-12-25T14:15:36.903Z"
   },
   {
    "duration": -109746,
    "start_time": "2021-12-25T14:15:36.905Z"
   },
   {
    "duration": -109748,
    "start_time": "2021-12-25T14:15:36.909Z"
   },
   {
    "duration": 845,
    "start_time": "2021-12-25T14:14:06.516Z"
   },
   {
    "duration": 77,
    "start_time": "2021-12-25T14:14:07.363Z"
   },
   {
    "duration": 34,
    "start_time": "2021-12-25T14:14:07.444Z"
   },
   {
    "duration": 32,
    "start_time": "2021-12-25T14:14:07.482Z"
   },
   {
    "duration": 21,
    "start_time": "2021-12-25T14:14:07.517Z"
   },
   {
    "duration": 13,
    "start_time": "2021-12-25T14:14:07.567Z"
   },
   {
    "duration": 8,
    "start_time": "2021-12-25T14:14:07.582Z"
   },
   {
    "duration": 20,
    "start_time": "2021-12-25T14:14:07.594Z"
   },
   {
    "duration": 53,
    "start_time": "2021-12-25T14:14:07.617Z"
   },
   {
    "duration": 10,
    "start_time": "2021-12-25T14:14:07.674Z"
   },
   {
    "duration": 15,
    "start_time": "2021-12-25T14:14:07.687Z"
   },
   {
    "duration": 7,
    "start_time": "2021-12-25T14:14:07.705Z"
   },
   {
    "duration": 4,
    "start_time": "2021-12-25T14:14:07.715Z"
   },
   {
    "duration": 52,
    "start_time": "2021-12-25T14:14:07.722Z"
   },
   {
    "duration": 10,
    "start_time": "2021-12-25T14:14:07.776Z"
   },
   {
    "duration": 8,
    "start_time": "2021-12-25T14:14:07.788Z"
   },
   {
    "duration": 9,
    "start_time": "2021-12-25T14:14:07.799Z"
   },
   {
    "duration": 58,
    "start_time": "2021-12-25T14:14:07.810Z"
   },
   {
    "duration": 18,
    "start_time": "2021-12-25T14:14:07.870Z"
   },
   {
    "duration": 343,
    "start_time": "2021-12-25T14:14:07.891Z"
   },
   {
    "duration": 394,
    "start_time": "2021-12-25T14:14:08.237Z"
   },
   {
    "duration": 333,
    "start_time": "2021-12-25T14:14:08.634Z"
   },
   {
    "duration": 13,
    "start_time": "2021-12-25T14:14:08.973Z"
   },
   {
    "duration": 13,
    "start_time": "2021-12-25T14:14:08.989Z"
   },
   {
    "duration": 6,
    "start_time": "2021-12-25T14:14:09.005Z"
   },
   {
    "duration": 56,
    "start_time": "2021-12-25T14:14:09.013Z"
   },
   {
    "duration": 371,
    "start_time": "2021-12-25T14:14:09.071Z"
   },
   {
    "duration": -109698,
    "start_time": "2021-12-25T14:15:59.142Z"
   },
   {
    "duration": -109703,
    "start_time": "2021-12-25T14:15:59.149Z"
   },
   {
    "duration": -109705,
    "start_time": "2021-12-25T14:15:59.153Z"
   },
   {
    "duration": -109710,
    "start_time": "2021-12-25T14:15:59.160Z"
   },
   {
    "duration": -109712,
    "start_time": "2021-12-25T14:15:59.164Z"
   },
   {
    "duration": -109714,
    "start_time": "2021-12-25T14:15:59.167Z"
   },
   {
    "duration": -109719,
    "start_time": "2021-12-25T14:15:59.174Z"
   },
   {
    "duration": -109720,
    "start_time": "2021-12-25T14:15:59.177Z"
   },
   {
    "duration": -109723,
    "start_time": "2021-12-25T14:15:59.181Z"
   },
   {
    "duration": -109728,
    "start_time": "2021-12-25T14:15:59.188Z"
   },
   {
    "duration": -109730,
    "start_time": "2021-12-25T14:15:59.191Z"
   },
   {
    "duration": -109704,
    "start_time": "2021-12-25T14:16:25.158Z"
   },
   {
    "duration": -109709,
    "start_time": "2021-12-25T14:16:25.164Z"
   },
   {
    "duration": -109701,
    "start_time": "2021-12-25T14:16:25.168Z"
   },
   {
    "duration": -109703,
    "start_time": "2021-12-25T14:16:25.171Z"
   },
   {
    "duration": -109705,
    "start_time": "2021-12-25T14:16:25.174Z"
   },
   {
    "duration": -109709,
    "start_time": "2021-12-25T14:16:25.180Z"
   },
   {
    "duration": -109712,
    "start_time": "2021-12-25T14:16:25.184Z"
   },
   {
    "duration": -109715,
    "start_time": "2021-12-25T14:16:25.188Z"
   },
   {
    "duration": -109718,
    "start_time": "2021-12-25T14:16:25.193Z"
   },
   {
    "duration": -109721,
    "start_time": "2021-12-25T14:16:25.197Z"
   },
   {
    "duration": -109722,
    "start_time": "2021-12-25T14:16:25.200Z"
   },
   {
    "duration": -109727,
    "start_time": "2021-12-25T14:16:25.206Z"
   },
   {
    "duration": -109729,
    "start_time": "2021-12-25T14:16:25.209Z"
   },
   {
    "duration": -109732,
    "start_time": "2021-12-25T14:16:25.213Z"
   },
   {
    "duration": -109735,
    "start_time": "2021-12-25T14:16:25.218Z"
   },
   {
    "duration": -109770,
    "start_time": "2021-12-25T14:16:25.254Z"
   },
   {
    "duration": -109782,
    "start_time": "2021-12-25T14:16:25.268Z"
   },
   {
    "duration": -109795,
    "start_time": "2021-12-25T14:16:25.282Z"
   },
   {
    "duration": -109799,
    "start_time": "2021-12-25T14:16:25.288Z"
   },
   {
    "duration": -109802,
    "start_time": "2021-12-25T14:16:25.292Z"
   },
   {
    "duration": -109808,
    "start_time": "2021-12-25T14:16:25.299Z"
   },
   {
    "duration": -109810,
    "start_time": "2021-12-25T14:16:25.303Z"
   },
   {
    "duration": -109812,
    "start_time": "2021-12-25T14:16:25.306Z"
   },
   {
    "duration": -109818,
    "start_time": "2021-12-25T14:16:25.313Z"
   },
   {
    "duration": -109820,
    "start_time": "2021-12-25T14:16:25.317Z"
   },
   {
    "duration": -109823,
    "start_time": "2021-12-25T14:16:25.321Z"
   },
   {
    "duration": -109834,
    "start_time": "2021-12-25T14:16:25.334Z"
   },
   {
    "duration": -109840,
    "start_time": "2021-12-25T14:16:25.341Z"
   },
   {
    "duration": -109842,
    "start_time": "2021-12-25T14:16:25.344Z"
   },
   {
    "duration": -109845,
    "start_time": "2021-12-25T14:16:25.348Z"
   },
   {
    "duration": -109789,
    "start_time": "2021-12-25T14:16:25.355Z"
   },
   {
    "duration": -109791,
    "start_time": "2021-12-25T14:16:25.358Z"
   },
   {
    "duration": -109796,
    "start_time": "2021-12-25T14:16:25.365Z"
   },
   {
    "duration": -109802,
    "start_time": "2021-12-25T14:16:25.372Z"
   },
   {
    "duration": -109807,
    "start_time": "2021-12-25T14:16:25.378Z"
   },
   {
    "duration": -109809,
    "start_time": "2021-12-25T14:16:25.382Z"
   },
   {
    "duration": -109812,
    "start_time": "2021-12-25T14:16:25.386Z"
   },
   {
    "duration": -109817,
    "start_time": "2021-12-25T14:16:25.392Z"
   },
   {
    "duration": 877,
    "start_time": "2021-12-25T14:14:59.841Z"
   },
   {
    "duration": 78,
    "start_time": "2021-12-25T14:15:00.721Z"
   },
   {
    "duration": 22,
    "start_time": "2021-12-25T14:15:00.802Z"
   },
   {
    "duration": 47,
    "start_time": "2021-12-25T14:15:00.827Z"
   },
   {
    "duration": 20,
    "start_time": "2021-12-25T14:15:00.876Z"
   },
   {
    "duration": 18,
    "start_time": "2021-12-25T14:15:00.898Z"
   },
   {
    "duration": 16,
    "start_time": "2021-12-25T14:15:00.918Z"
   },
   {
    "duration": 44,
    "start_time": "2021-12-25T14:15:00.938Z"
   },
   {
    "duration": 9,
    "start_time": "2021-12-25T14:15:00.985Z"
   },
   {
    "duration": 8,
    "start_time": "2021-12-25T14:15:00.996Z"
   },
   {
    "duration": 20,
    "start_time": "2021-12-25T14:15:01.007Z"
   },
   {
    "duration": 40,
    "start_time": "2021-12-25T14:15:01.029Z"
   },
   {
    "duration": 5,
    "start_time": "2021-12-25T14:15:01.071Z"
   },
   {
    "duration": 14,
    "start_time": "2021-12-25T14:15:01.078Z"
   },
   {
    "duration": 21,
    "start_time": "2021-12-25T14:15:01.094Z"
   },
   {
    "duration": 35,
    "start_time": "2021-12-25T14:15:01.117Z"
   },
   {
    "duration": 13,
    "start_time": "2021-12-25T14:15:01.155Z"
   },
   {
    "duration": 32,
    "start_time": "2021-12-25T14:15:01.171Z"
   },
   {
    "duration": 37,
    "start_time": "2021-12-25T14:15:01.205Z"
   },
   {
    "duration": 326,
    "start_time": "2021-12-25T14:15:01.244Z"
   },
   {
    "duration": 330,
    "start_time": "2021-12-25T14:15:01.572Z"
   },
   {
    "duration": 311,
    "start_time": "2021-12-25T14:15:01.904Z"
   },
   {
    "duration": 13,
    "start_time": "2021-12-25T14:15:02.220Z"
   },
   {
    "duration": 37,
    "start_time": "2021-12-25T14:15:02.236Z"
   },
   {
    "duration": 11,
    "start_time": "2021-12-25T14:15:02.275Z"
   },
   {
    "duration": 19,
    "start_time": "2021-12-25T14:15:02.289Z"
   },
   {
    "duration": 1005,
    "start_time": "2021-12-25T14:15:02.310Z"
   },
   {
    "duration": -109710,
    "start_time": "2021-12-25T14:16:53.027Z"
   },
   {
    "duration": -109711,
    "start_time": "2021-12-25T14:16:53.030Z"
   },
   {
    "duration": -109713,
    "start_time": "2021-12-25T14:16:53.034Z"
   },
   {
    "duration": -109718,
    "start_time": "2021-12-25T14:16:53.041Z"
   },
   {
    "duration": -109720,
    "start_time": "2021-12-25T14:16:53.044Z"
   },
   {
    "duration": -109722,
    "start_time": "2021-12-25T14:16:53.048Z"
   },
   {
    "duration": -109726,
    "start_time": "2021-12-25T14:16:53.054Z"
   },
   {
    "duration": -109728,
    "start_time": "2021-12-25T14:16:53.057Z"
   },
   {
    "duration": -109730,
    "start_time": "2021-12-25T14:16:53.061Z"
   },
   {
    "duration": -109735,
    "start_time": "2021-12-25T14:16:53.067Z"
   },
   {
    "duration": -109737,
    "start_time": "2021-12-25T14:16:53.070Z"
   },
   {
    "duration": 874,
    "start_time": "2021-12-25T14:16:40.756Z"
   },
   {
    "duration": 79,
    "start_time": "2021-12-25T14:16:41.633Z"
   },
   {
    "duration": 24,
    "start_time": "2021-12-25T14:16:41.715Z"
   },
   {
    "duration": 46,
    "start_time": "2021-12-25T14:16:41.742Z"
   },
   {
    "duration": 22,
    "start_time": "2021-12-25T14:16:41.790Z"
   },
   {
    "duration": 13,
    "start_time": "2021-12-25T14:16:41.814Z"
   },
   {
    "duration": 40,
    "start_time": "2021-12-25T14:16:41.829Z"
   },
   {
    "duration": 19,
    "start_time": "2021-12-25T14:16:41.873Z"
   },
   {
    "duration": 9,
    "start_time": "2021-12-25T14:16:41.895Z"
   },
   {
    "duration": 8,
    "start_time": "2021-12-25T14:16:41.906Z"
   },
   {
    "duration": 56,
    "start_time": "2021-12-25T14:16:41.917Z"
   },
   {
    "duration": 7,
    "start_time": "2021-12-25T14:16:41.976Z"
   },
   {
    "duration": 3,
    "start_time": "2021-12-25T14:16:41.986Z"
   },
   {
    "duration": 20,
    "start_time": "2021-12-25T14:16:41.991Z"
   },
   {
    "duration": 12,
    "start_time": "2021-12-25T14:16:42.013Z"
   },
   {
    "duration": 39,
    "start_time": "2021-12-25T14:16:42.028Z"
   },
   {
    "duration": 10,
    "start_time": "2021-12-25T14:16:42.070Z"
   },
   {
    "duration": 16,
    "start_time": "2021-12-25T14:16:42.083Z"
   },
   {
    "duration": 14,
    "start_time": "2021-12-25T14:16:42.101Z"
   },
   {
    "duration": 359,
    "start_time": "2021-12-25T14:16:42.117Z"
   },
   {
    "duration": 311,
    "start_time": "2021-12-25T14:16:42.478Z"
   },
   {
    "duration": 306,
    "start_time": "2021-12-25T14:16:42.792Z"
   },
   {
    "duration": 14,
    "start_time": "2021-12-25T14:16:43.102Z"
   },
   {
    "duration": 13,
    "start_time": "2021-12-25T14:16:43.119Z"
   },
   {
    "duration": 34,
    "start_time": "2021-12-25T14:16:43.135Z"
   },
   {
    "duration": 21,
    "start_time": "2021-12-25T14:16:43.172Z"
   },
   {
    "duration": 397,
    "start_time": "2021-12-25T14:16:43.196Z"
   },
   {
    "duration": -109703,
    "start_time": "2021-12-25T14:18:33.299Z"
   },
   {
    "duration": -109708,
    "start_time": "2021-12-25T14:18:33.306Z"
   },
   {
    "duration": -109710,
    "start_time": "2021-12-25T14:18:33.310Z"
   },
   {
    "duration": -109715,
    "start_time": "2021-12-25T14:18:33.317Z"
   },
   {
    "duration": -109715,
    "start_time": "2021-12-25T14:18:33.320Z"
   },
   {
    "duration": -109718,
    "start_time": "2021-12-25T14:18:33.324Z"
   },
   {
    "duration": -109721,
    "start_time": "2021-12-25T14:18:33.330Z"
   },
   {
    "duration": -109722,
    "start_time": "2021-12-25T14:18:33.333Z"
   },
   {
    "duration": -109724,
    "start_time": "2021-12-25T14:18:33.337Z"
   },
   {
    "duration": -109728,
    "start_time": "2021-12-25T14:18:33.343Z"
   },
   {
    "duration": -109730,
    "start_time": "2021-12-25T14:18:33.347Z"
   },
   {
    "duration": 895,
    "start_time": "2021-12-25T14:18:45.372Z"
   },
   {
    "duration": 77,
    "start_time": "2021-12-25T14:18:46.269Z"
   },
   {
    "duration": 31,
    "start_time": "2021-12-25T14:18:46.349Z"
   },
   {
    "duration": 28,
    "start_time": "2021-12-25T14:18:46.383Z"
   },
   {
    "duration": 22,
    "start_time": "2021-12-25T14:18:46.414Z"
   },
   {
    "duration": 41,
    "start_time": "2021-12-25T14:18:46.438Z"
   },
   {
    "duration": 6,
    "start_time": "2021-12-25T14:18:46.481Z"
   },
   {
    "duration": 21,
    "start_time": "2021-12-25T14:18:46.491Z"
   },
   {
    "duration": 52,
    "start_time": "2021-12-25T14:18:46.515Z"
   },
   {
    "duration": 8,
    "start_time": "2021-12-25T14:18:46.570Z"
   },
   {
    "duration": 15,
    "start_time": "2021-12-25T14:18:46.580Z"
   },
   {
    "duration": 8,
    "start_time": "2021-12-25T14:18:46.598Z"
   },
   {
    "duration": 11,
    "start_time": "2021-12-25T14:18:46.608Z"
   },
   {
    "duration": 46,
    "start_time": "2021-12-25T14:18:46.622Z"
   },
   {
    "duration": 7,
    "start_time": "2021-12-25T14:18:46.671Z"
   },
   {
    "duration": 10,
    "start_time": "2021-12-25T14:18:46.681Z"
   },
   {
    "duration": 13,
    "start_time": "2021-12-25T14:18:46.694Z"
   },
   {
    "duration": 17,
    "start_time": "2021-12-25T14:18:46.710Z"
   },
   {
    "duration": 16,
    "start_time": "2021-12-25T14:18:46.767Z"
   },
   {
    "duration": 324,
    "start_time": "2021-12-25T14:18:46.786Z"
   },
   {
    "duration": 320,
    "start_time": "2021-12-25T14:18:47.113Z"
   },
   {
    "duration": 293,
    "start_time": "2021-12-25T14:18:47.436Z"
   },
   {
    "duration": 12,
    "start_time": "2021-12-25T14:18:47.734Z"
   },
   {
    "duration": 394,
    "start_time": "2021-12-25T14:18:47.749Z"
   },
   {
    "duration": 4,
    "start_time": "2021-12-25T14:18:48.146Z"
   },
   {
    "duration": 17,
    "start_time": "2021-12-25T14:18:48.168Z"
   },
   {
    "duration": 332,
    "start_time": "2021-12-25T14:18:48.187Z"
   },
   {
    "duration": 7,
    "start_time": "2021-12-25T14:18:48.521Z"
   },
   {
    "duration": 8,
    "start_time": "2021-12-25T14:18:48.531Z"
   },
   {
    "duration": 67,
    "start_time": "2021-12-25T14:18:48.541Z"
   },
   {
    "duration": 8,
    "start_time": "2021-12-25T14:18:48.611Z"
   },
   {
    "duration": 10,
    "start_time": "2021-12-25T14:18:48.621Z"
   },
   {
    "duration": 38,
    "start_time": "2021-12-25T14:18:48.633Z"
   },
   {
    "duration": 12,
    "start_time": "2021-12-25T14:18:48.674Z"
   },
   {
    "duration": 9,
    "start_time": "2021-12-25T14:18:48.688Z"
   },
   {
    "duration": 8,
    "start_time": "2021-12-25T14:18:48.699Z"
   },
   {
    "duration": 10,
    "start_time": "2021-12-25T14:18:48.709Z"
   },
   {
    "duration": 942,
    "start_time": "2021-12-25T14:20:23.837Z"
   },
   {
    "duration": 80,
    "start_time": "2021-12-25T14:20:24.783Z"
   },
   {
    "duration": 24,
    "start_time": "2021-12-25T14:20:24.866Z"
   },
   {
    "duration": 28,
    "start_time": "2021-12-25T14:20:24.893Z"
   },
   {
    "duration": 50,
    "start_time": "2021-12-25T14:20:24.923Z"
   },
   {
    "duration": 13,
    "start_time": "2021-12-25T14:20:24.976Z"
   },
   {
    "duration": 9,
    "start_time": "2021-12-25T14:20:24.991Z"
   },
   {
    "duration": 67,
    "start_time": "2021-12-25T14:20:25.007Z"
   },
   {
    "duration": 8,
    "start_time": "2021-12-25T14:20:25.078Z"
   },
   {
    "duration": 8,
    "start_time": "2021-12-25T14:20:25.089Z"
   },
   {
    "duration": 12,
    "start_time": "2021-12-25T14:20:25.100Z"
   },
   {
    "duration": 10,
    "start_time": "2021-12-25T14:20:25.114Z"
   },
   {
    "duration": 4,
    "start_time": "2021-12-25T14:20:25.166Z"
   },
   {
    "duration": 11,
    "start_time": "2021-12-25T14:20:25.173Z"
   },
   {
    "duration": 8,
    "start_time": "2021-12-25T14:20:25.187Z"
   },
   {
    "duration": 16,
    "start_time": "2021-12-25T14:20:25.197Z"
   },
   {
    "duration": 51,
    "start_time": "2021-12-25T14:20:25.216Z"
   },
   {
    "duration": 16,
    "start_time": "2021-12-25T14:20:25.270Z"
   },
   {
    "duration": 17,
    "start_time": "2021-12-25T14:20:25.289Z"
   },
   {
    "duration": 411,
    "start_time": "2021-12-25T14:20:25.309Z"
   },
   {
    "duration": 335,
    "start_time": "2021-12-25T14:20:25.724Z"
   },
   {
    "duration": 354,
    "start_time": "2021-12-25T14:20:26.061Z"
   },
   {
    "duration": 14,
    "start_time": "2021-12-25T14:20:26.420Z"
   },
   {
    "duration": 475,
    "start_time": "2021-12-25T14:20:26.437Z"
   },
   {
    "duration": 5,
    "start_time": "2021-12-25T14:20:26.915Z"
   },
   {
    "duration": 45,
    "start_time": "2021-12-25T14:20:26.922Z"
   },
   {
    "duration": 324,
    "start_time": "2021-12-25T14:20:26.970Z"
   },
   {
    "duration": 9,
    "start_time": "2021-12-25T14:20:27.297Z"
   },
   {
    "duration": 9,
    "start_time": "2021-12-25T14:20:27.309Z"
   },
   {
    "duration": 88,
    "start_time": "2021-12-25T14:20:27.321Z"
   },
   {
    "duration": 9,
    "start_time": "2021-12-25T14:20:27.411Z"
   },
   {
    "duration": 11,
    "start_time": "2021-12-25T14:20:27.422Z"
   },
   {
    "duration": 38,
    "start_time": "2021-12-25T14:20:27.436Z"
   },
   {
    "duration": 12,
    "start_time": "2021-12-25T14:20:27.477Z"
   },
   {
    "duration": 10,
    "start_time": "2021-12-25T14:20:27.492Z"
   },
   {
    "duration": 11,
    "start_time": "2021-12-25T14:20:27.505Z"
   },
   {
    "duration": 58,
    "start_time": "2021-12-25T14:20:27.518Z"
   },
   {
    "duration": 336,
    "start_time": "2021-12-25T14:22:14.904Z"
   },
   {
    "duration": 436,
    "start_time": "2021-12-25T14:22:35.016Z"
   },
   {
    "duration": 341,
    "start_time": "2021-12-25T14:22:52.841Z"
   },
   {
    "duration": 93,
    "start_time": "2021-12-25T14:23:44.636Z"
   },
   {
    "duration": 1217,
    "start_time": "2021-12-25T14:24:07.137Z"
   },
   {
    "duration": 109,
    "start_time": "2021-12-25T14:24:08.357Z"
   },
   {
    "duration": 25,
    "start_time": "2021-12-25T14:24:08.470Z"
   },
   {
    "duration": 28,
    "start_time": "2021-12-25T14:24:08.499Z"
   },
   {
    "duration": 56,
    "start_time": "2021-12-25T14:24:08.531Z"
   },
   {
    "duration": 20,
    "start_time": "2021-12-25T14:24:08.590Z"
   },
   {
    "duration": 9,
    "start_time": "2021-12-25T14:24:08.614Z"
   },
   {
    "duration": 61,
    "start_time": "2021-12-25T14:24:08.629Z"
   },
   {
    "duration": 14,
    "start_time": "2021-12-25T14:24:08.693Z"
   },
   {
    "duration": 17,
    "start_time": "2021-12-25T14:24:08.710Z"
   },
   {
    "duration": 37,
    "start_time": "2021-12-25T14:24:08.730Z"
   },
   {
    "duration": 7,
    "start_time": "2021-12-25T14:24:08.770Z"
   },
   {
    "duration": 11,
    "start_time": "2021-12-25T14:24:08.780Z"
   },
   {
    "duration": 13,
    "start_time": "2021-12-25T14:24:08.794Z"
   },
   {
    "duration": 11,
    "start_time": "2021-12-25T14:24:08.810Z"
   },
   {
    "duration": 51,
    "start_time": "2021-12-25T14:24:08.824Z"
   },
   {
    "duration": 12,
    "start_time": "2021-12-25T14:24:08.878Z"
   },
   {
    "duration": 20,
    "start_time": "2021-12-25T14:24:08.893Z"
   },
   {
    "duration": 58,
    "start_time": "2021-12-25T14:24:08.916Z"
   },
   {
    "duration": 459,
    "start_time": "2021-12-25T14:24:08.977Z"
   },
   {
    "duration": 336,
    "start_time": "2021-12-25T14:24:09.440Z"
   },
   {
    "duration": 326,
    "start_time": "2021-12-25T14:24:09.780Z"
   },
   {
    "duration": 16,
    "start_time": "2021-12-25T14:24:10.113Z"
   },
   {
    "duration": 544,
    "start_time": "2021-12-25T14:24:10.133Z"
   },
   {
    "duration": 5,
    "start_time": "2021-12-25T14:24:10.680Z"
   },
   {
    "duration": 17,
    "start_time": "2021-12-25T14:24:10.688Z"
   },
   {
    "duration": 352,
    "start_time": "2021-12-25T14:24:10.708Z"
   },
   {
    "duration": 7,
    "start_time": "2021-12-25T14:24:11.063Z"
   },
   {
    "duration": 7,
    "start_time": "2021-12-25T14:24:11.073Z"
   },
   {
    "duration": 53,
    "start_time": "2021-12-25T14:24:11.082Z"
   },
   {
    "duration": 8,
    "start_time": "2021-12-25T14:24:11.168Z"
   },
   {
    "duration": 10,
    "start_time": "2021-12-25T14:24:11.179Z"
   },
   {
    "duration": 7,
    "start_time": "2021-12-25T14:24:11.192Z"
   },
   {
    "duration": 9,
    "start_time": "2021-12-25T14:24:11.202Z"
   },
   {
    "duration": 15,
    "start_time": "2021-12-25T14:24:11.213Z"
   },
   {
    "duration": 9,
    "start_time": "2021-12-25T14:24:11.267Z"
   },
   {
    "duration": 13,
    "start_time": "2021-12-25T14:24:11.278Z"
   },
   {
    "duration": 337,
    "start_time": "2021-12-25T14:24:44.558Z"
   },
   {
    "duration": 868,
    "start_time": "2021-12-25T14:25:06.687Z"
   },
   {
    "duration": 76,
    "start_time": "2021-12-25T14:25:07.557Z"
   },
   {
    "duration": 39,
    "start_time": "2021-12-25T14:25:07.636Z"
   },
   {
    "duration": 29,
    "start_time": "2021-12-25T14:25:07.678Z"
   },
   {
    "duration": 23,
    "start_time": "2021-12-25T14:25:07.710Z"
   },
   {
    "duration": 47,
    "start_time": "2021-12-25T14:25:07.735Z"
   },
   {
    "duration": 8,
    "start_time": "2021-12-25T14:25:07.785Z"
   },
   {
    "duration": 26,
    "start_time": "2021-12-25T14:25:07.796Z"
   },
   {
    "duration": 9,
    "start_time": "2021-12-25T14:25:07.825Z"
   },
   {
    "duration": 33,
    "start_time": "2021-12-25T14:25:07.836Z"
   },
   {
    "duration": 14,
    "start_time": "2021-12-25T14:25:07.871Z"
   },
   {
    "duration": 5,
    "start_time": "2021-12-25T14:25:07.888Z"
   },
   {
    "duration": 4,
    "start_time": "2021-12-25T14:25:07.896Z"
   },
   {
    "duration": 12,
    "start_time": "2021-12-25T14:25:07.902Z"
   },
   {
    "duration": 55,
    "start_time": "2021-12-25T14:25:07.916Z"
   },
   {
    "duration": 8,
    "start_time": "2021-12-25T14:25:07.974Z"
   },
   {
    "duration": 10,
    "start_time": "2021-12-25T14:25:07.985Z"
   },
   {
    "duration": 22,
    "start_time": "2021-12-25T14:25:07.998Z"
   },
   {
    "duration": 55,
    "start_time": "2021-12-25T14:25:08.023Z"
   },
   {
    "duration": 357,
    "start_time": "2021-12-25T14:25:08.080Z"
   },
   {
    "duration": 327,
    "start_time": "2021-12-25T14:25:08.440Z"
   },
   {
    "duration": 344,
    "start_time": "2021-12-25T14:25:08.770Z"
   },
   {
    "duration": 12,
    "start_time": "2021-12-25T14:25:09.119Z"
   },
   {
    "duration": 452,
    "start_time": "2021-12-25T14:25:09.134Z"
   },
   {
    "duration": 4,
    "start_time": "2021-12-25T14:25:09.588Z"
   },
   {
    "duration": 22,
    "start_time": "2021-12-25T14:25:09.595Z"
   },
   {
    "duration": 327,
    "start_time": "2021-12-25T14:25:09.619Z"
   },
   {
    "duration": 18,
    "start_time": "2021-12-25T14:25:09.948Z"
   },
   {
    "duration": 6,
    "start_time": "2021-12-25T14:25:09.968Z"
   },
   {
    "duration": 49,
    "start_time": "2021-12-25T14:25:09.977Z"
   },
   {
    "duration": 8,
    "start_time": "2021-12-25T14:25:10.028Z"
   },
   {
    "duration": 34,
    "start_time": "2021-12-25T14:25:10.039Z"
   },
   {
    "duration": 17,
    "start_time": "2021-12-25T14:25:10.075Z"
   },
   {
    "duration": 12,
    "start_time": "2021-12-25T14:25:10.094Z"
   },
   {
    "duration": 10,
    "start_time": "2021-12-25T14:25:10.108Z"
   },
   {
    "duration": 30,
    "start_time": "2021-12-25T14:25:10.121Z"
   },
   {
    "duration": 23,
    "start_time": "2021-12-25T14:25:10.153Z"
   },
   {
    "duration": 6,
    "start_time": "2021-12-25T14:26:23.081Z"
   },
   {
    "duration": 100,
    "start_time": "2021-12-25T14:26:23.090Z"
   },
   {
    "duration": 18,
    "start_time": "2021-12-25T14:26:23.193Z"
   },
   {
    "duration": 26,
    "start_time": "2021-12-25T14:26:23.214Z"
   },
   {
    "duration": 45,
    "start_time": "2021-12-25T14:26:23.242Z"
   },
   {
    "duration": 16,
    "start_time": "2021-12-25T14:26:23.290Z"
   },
   {
    "duration": 7,
    "start_time": "2021-12-25T14:26:23.309Z"
   },
   {
    "duration": 61,
    "start_time": "2021-12-25T14:26:23.319Z"
   },
   {
    "duration": 9,
    "start_time": "2021-12-25T14:26:23.383Z"
   },
   {
    "duration": 9,
    "start_time": "2021-12-25T14:26:23.395Z"
   },
   {
    "duration": 12,
    "start_time": "2021-12-25T14:26:23.407Z"
   },
   {
    "duration": 47,
    "start_time": "2021-12-25T14:26:23.422Z"
   },
   {
    "duration": 4,
    "start_time": "2021-12-25T14:26:23.472Z"
   },
   {
    "duration": 16,
    "start_time": "2021-12-25T14:26:23.479Z"
   },
   {
    "duration": 8,
    "start_time": "2021-12-25T14:26:23.498Z"
   },
   {
    "duration": 13,
    "start_time": "2021-12-25T14:26:23.509Z"
   },
   {
    "duration": 48,
    "start_time": "2021-12-25T14:26:23.524Z"
   },
   {
    "duration": 20,
    "start_time": "2021-12-25T14:26:23.576Z"
   },
   {
    "duration": 17,
    "start_time": "2021-12-25T14:26:23.599Z"
   },
   {
    "duration": 362,
    "start_time": "2021-12-25T14:26:23.619Z"
   },
   {
    "duration": 327,
    "start_time": "2021-12-25T14:26:23.984Z"
   },
   {
    "duration": 332,
    "start_time": "2021-12-25T14:26:24.314Z"
   },
   {
    "duration": 28,
    "start_time": "2021-12-25T14:26:24.648Z"
   },
   {
    "duration": 342,
    "start_time": "2021-12-25T14:26:24.679Z"
   },
   {
    "duration": 4,
    "start_time": "2021-12-25T14:26:25.023Z"
   },
   {
    "duration": 37,
    "start_time": "2021-12-25T14:26:25.030Z"
   },
   {
    "duration": 332,
    "start_time": "2021-12-25T14:26:25.070Z"
   },
   {
    "duration": 8,
    "start_time": "2021-12-25T14:26:25.404Z"
   },
   {
    "duration": 19,
    "start_time": "2021-12-25T14:26:25.414Z"
   },
   {
    "duration": 73,
    "start_time": "2021-12-25T14:26:25.436Z"
   },
   {
    "duration": 9,
    "start_time": "2021-12-25T14:26:25.518Z"
   },
   {
    "duration": 14,
    "start_time": "2021-12-25T14:26:25.529Z"
   },
   {
    "duration": 30,
    "start_time": "2021-12-25T14:26:25.545Z"
   },
   {
    "duration": 19,
    "start_time": "2021-12-25T14:26:25.578Z"
   },
   {
    "duration": 8,
    "start_time": "2021-12-25T14:26:25.600Z"
   },
   {
    "duration": 20,
    "start_time": "2021-12-25T14:26:25.611Z"
   },
   {
    "duration": 34,
    "start_time": "2021-12-25T14:26:25.633Z"
   },
   {
    "duration": 850,
    "start_time": "2021-12-25T14:27:10.284Z"
   },
   {
    "duration": 79,
    "start_time": "2021-12-25T14:27:11.136Z"
   },
   {
    "duration": 23,
    "start_time": "2021-12-25T14:27:11.218Z"
   },
   {
    "duration": 50,
    "start_time": "2021-12-25T14:27:11.244Z"
   },
   {
    "duration": 24,
    "start_time": "2021-12-25T14:27:11.296Z"
   },
   {
    "duration": 49,
    "start_time": "2021-12-25T14:27:11.323Z"
   },
   {
    "duration": 6,
    "start_time": "2021-12-25T14:27:11.375Z"
   },
   {
    "duration": 21,
    "start_time": "2021-12-25T14:27:11.385Z"
   },
   {
    "duration": 10,
    "start_time": "2021-12-25T14:27:11.409Z"
   },
   {
    "duration": 46,
    "start_time": "2021-12-25T14:27:11.422Z"
   },
   {
    "duration": 13,
    "start_time": "2021-12-25T14:27:11.471Z"
   },
   {
    "duration": 11,
    "start_time": "2021-12-25T14:27:11.486Z"
   },
   {
    "duration": 7,
    "start_time": "2021-12-25T14:27:11.499Z"
   },
   {
    "duration": 11,
    "start_time": "2021-12-25T14:27:11.509Z"
   },
   {
    "duration": 45,
    "start_time": "2021-12-25T14:27:11.523Z"
   },
   {
    "duration": 8,
    "start_time": "2021-12-25T14:27:11.571Z"
   },
   {
    "duration": 11,
    "start_time": "2021-12-25T14:27:11.582Z"
   },
   {
    "duration": 22,
    "start_time": "2021-12-25T14:27:11.595Z"
   },
   {
    "duration": 52,
    "start_time": "2021-12-25T14:27:11.619Z"
   },
   {
    "duration": 318,
    "start_time": "2021-12-25T14:27:11.673Z"
   },
   {
    "duration": 322,
    "start_time": "2021-12-25T14:27:11.993Z"
   },
   {
    "duration": 317,
    "start_time": "2021-12-25T14:27:12.318Z"
   },
   {
    "duration": 29,
    "start_time": "2021-12-25T14:27:12.642Z"
   },
   {
    "duration": 410,
    "start_time": "2021-12-25T14:27:12.675Z"
   },
   {
    "duration": 6,
    "start_time": "2021-12-25T14:27:13.088Z"
   },
   {
    "duration": 24,
    "start_time": "2021-12-25T14:27:13.096Z"
   },
   {
    "duration": 353,
    "start_time": "2021-12-25T14:27:13.122Z"
   },
   {
    "duration": 9,
    "start_time": "2021-12-25T14:27:13.477Z"
   },
   {
    "duration": 9,
    "start_time": "2021-12-25T14:27:13.489Z"
   },
   {
    "duration": 78,
    "start_time": "2021-12-25T14:27:13.501Z"
   },
   {
    "duration": 9,
    "start_time": "2021-12-25T14:27:13.582Z"
   },
   {
    "duration": 12,
    "start_time": "2021-12-25T14:27:13.594Z"
   },
   {
    "duration": 9,
    "start_time": "2021-12-25T14:27:13.609Z"
   },
   {
    "duration": 47,
    "start_time": "2021-12-25T14:27:13.621Z"
   },
   {
    "duration": 9,
    "start_time": "2021-12-25T14:27:13.671Z"
   },
   {
    "duration": 17,
    "start_time": "2021-12-25T14:27:13.682Z"
   },
   {
    "duration": 12,
    "start_time": "2021-12-25T14:27:13.702Z"
   },
   {
    "duration": 890,
    "start_time": "2021-12-25T14:28:00.679Z"
   },
   {
    "duration": 81,
    "start_time": "2021-12-25T14:28:01.572Z"
   },
   {
    "duration": 51,
    "start_time": "2021-12-25T14:28:01.656Z"
   },
   {
    "duration": 52,
    "start_time": "2021-12-25T14:28:01.710Z"
   },
   {
    "duration": 41,
    "start_time": "2021-12-25T14:28:01.764Z"
   },
   {
    "duration": 42,
    "start_time": "2021-12-25T14:28:01.808Z"
   },
   {
    "duration": 36,
    "start_time": "2021-12-25T14:28:01.852Z"
   },
   {
    "duration": 78,
    "start_time": "2021-12-25T14:28:01.892Z"
   },
   {
    "duration": 60,
    "start_time": "2021-12-25T14:28:01.974Z"
   },
   {
    "duration": 46,
    "start_time": "2021-12-25T14:28:02.036Z"
   },
   {
    "duration": 62,
    "start_time": "2021-12-25T14:28:02.085Z"
   },
   {
    "duration": 82,
    "start_time": "2021-12-25T14:28:02.150Z"
   },
   {
    "duration": 55,
    "start_time": "2021-12-25T14:28:02.235Z"
   },
   {
    "duration": 33,
    "start_time": "2021-12-25T14:28:02.292Z"
   },
   {
    "duration": 17,
    "start_time": "2021-12-25T14:28:02.327Z"
   },
   {
    "duration": 34,
    "start_time": "2021-12-25T14:28:02.347Z"
   },
   {
    "duration": 15,
    "start_time": "2021-12-25T14:28:02.384Z"
   },
   {
    "duration": 33,
    "start_time": "2021-12-25T14:28:02.401Z"
   },
   {
    "duration": 18,
    "start_time": "2021-12-25T14:28:02.436Z"
   },
   {
    "duration": 377,
    "start_time": "2021-12-25T14:28:02.456Z"
   },
   {
    "duration": 318,
    "start_time": "2021-12-25T14:28:02.836Z"
   },
   {
    "duration": 350,
    "start_time": "2021-12-25T14:28:03.156Z"
   },
   {
    "duration": 30,
    "start_time": "2021-12-25T14:28:03.516Z"
   },
   {
    "duration": 393,
    "start_time": "2021-12-25T14:28:03.555Z"
   },
   {
    "duration": 4,
    "start_time": "2021-12-25T14:28:03.951Z"
   },
   {
    "duration": 21,
    "start_time": "2021-12-25T14:28:03.958Z"
   },
   {
    "duration": 326,
    "start_time": "2021-12-25T14:28:03.982Z"
   },
   {
    "duration": 7,
    "start_time": "2021-12-25T14:28:04.311Z"
   },
   {
    "duration": 11,
    "start_time": "2021-12-25T14:28:04.320Z"
   },
   {
    "duration": 74,
    "start_time": "2021-12-25T14:28:04.333Z"
   },
   {
    "duration": 9,
    "start_time": "2021-12-25T14:28:04.410Z"
   },
   {
    "duration": 10,
    "start_time": "2021-12-25T14:28:04.421Z"
   },
   {
    "duration": 35,
    "start_time": "2021-12-25T14:28:04.433Z"
   },
   {
    "duration": 8,
    "start_time": "2021-12-25T14:28:04.471Z"
   },
   {
    "duration": 7,
    "start_time": "2021-12-25T14:28:04.482Z"
   },
   {
    "duration": 9,
    "start_time": "2021-12-25T14:28:04.491Z"
   },
   {
    "duration": 10,
    "start_time": "2021-12-25T14:28:04.502Z"
   },
   {
    "duration": 903,
    "start_time": "2021-12-25T14:29:51.579Z"
   },
   {
    "duration": 78,
    "start_time": "2021-12-25T14:29:52.485Z"
   },
   {
    "duration": 60,
    "start_time": "2021-12-25T14:29:52.567Z"
   },
   {
    "duration": 47,
    "start_time": "2021-12-25T14:29:52.630Z"
   },
   {
    "duration": 59,
    "start_time": "2021-12-25T14:29:52.680Z"
   },
   {
    "duration": 51,
    "start_time": "2021-12-25T14:29:52.742Z"
   },
   {
    "duration": 70,
    "start_time": "2021-12-25T14:29:52.796Z"
   },
   {
    "duration": 68,
    "start_time": "2021-12-25T14:29:52.869Z"
   },
   {
    "duration": 39,
    "start_time": "2021-12-25T14:29:52.941Z"
   },
   {
    "duration": 26,
    "start_time": "2021-12-25T14:29:52.984Z"
   },
   {
    "duration": 31,
    "start_time": "2021-12-25T14:29:53.013Z"
   },
   {
    "duration": 113,
    "start_time": "2021-12-25T14:29:53.047Z"
   },
   {
    "duration": 16,
    "start_time": "2021-12-25T14:29:53.163Z"
   },
   {
    "duration": 21,
    "start_time": "2021-12-25T14:29:53.183Z"
   },
   {
    "duration": 21,
    "start_time": "2021-12-25T14:29:53.206Z"
   },
   {
    "duration": 33,
    "start_time": "2021-12-25T14:29:53.229Z"
   },
   {
    "duration": 33,
    "start_time": "2021-12-25T14:29:53.264Z"
   },
   {
    "duration": 54,
    "start_time": "2021-12-25T14:29:53.300Z"
   },
   {
    "duration": 51,
    "start_time": "2021-12-25T14:29:53.356Z"
   },
   {
    "duration": 444,
    "start_time": "2021-12-25T14:29:53.409Z"
   },
   {
    "duration": 321,
    "start_time": "2021-12-25T14:29:53.856Z"
   },
   {
    "duration": 324,
    "start_time": "2021-12-25T14:29:54.179Z"
   },
   {
    "duration": 16,
    "start_time": "2021-12-25T14:29:54.505Z"
   },
   {
    "duration": 411,
    "start_time": "2021-12-25T14:29:54.524Z"
   },
   {
    "duration": 4,
    "start_time": "2021-12-25T14:29:54.937Z"
   },
   {
    "duration": 32,
    "start_time": "2021-12-25T14:29:54.944Z"
   },
   {
    "duration": 341,
    "start_time": "2021-12-25T14:29:54.981Z"
   },
   {
    "duration": 7,
    "start_time": "2021-12-25T14:29:55.325Z"
   },
   {
    "duration": 20,
    "start_time": "2021-12-25T14:29:55.334Z"
   },
   {
    "duration": 49,
    "start_time": "2021-12-25T14:29:55.368Z"
   },
   {
    "duration": 8,
    "start_time": "2021-12-25T14:29:55.420Z"
   },
   {
    "duration": 61,
    "start_time": "2021-12-25T14:29:55.430Z"
   },
   {
    "duration": 40,
    "start_time": "2021-12-25T14:29:55.494Z"
   },
   {
    "duration": 24,
    "start_time": "2021-12-25T14:29:55.537Z"
   },
   {
    "duration": 37,
    "start_time": "2021-12-25T14:29:55.564Z"
   },
   {
    "duration": 29,
    "start_time": "2021-12-25T14:29:55.604Z"
   },
   {
    "duration": 23,
    "start_time": "2021-12-25T14:29:55.636Z"
   },
   {
    "duration": 888,
    "start_time": "2021-12-25T14:30:22.264Z"
   },
   {
    "duration": 76,
    "start_time": "2021-12-25T14:30:23.155Z"
   },
   {
    "duration": 35,
    "start_time": "2021-12-25T14:30:23.234Z"
   },
   {
    "duration": 28,
    "start_time": "2021-12-25T14:30:23.273Z"
   },
   {
    "duration": 24,
    "start_time": "2021-12-25T14:30:23.305Z"
   },
   {
    "duration": 15,
    "start_time": "2021-12-25T14:30:23.367Z"
   },
   {
    "duration": 13,
    "start_time": "2021-12-25T14:30:23.385Z"
   },
   {
    "duration": 29,
    "start_time": "2021-12-25T14:30:23.401Z"
   },
   {
    "duration": 36,
    "start_time": "2021-12-25T14:30:23.434Z"
   },
   {
    "duration": 10,
    "start_time": "2021-12-25T14:30:23.473Z"
   },
   {
    "duration": 15,
    "start_time": "2021-12-25T14:30:23.485Z"
   },
   {
    "duration": 8,
    "start_time": "2021-12-25T14:30:23.503Z"
   },
   {
    "duration": 4,
    "start_time": "2021-12-25T14:30:23.514Z"
   },
   {
    "duration": 48,
    "start_time": "2021-12-25T14:30:23.520Z"
   },
   {
    "duration": 9,
    "start_time": "2021-12-25T14:30:23.571Z"
   },
   {
    "duration": 14,
    "start_time": "2021-12-25T14:30:23.583Z"
   },
   {
    "duration": 13,
    "start_time": "2021-12-25T14:30:23.599Z"
   },
   {
    "duration": 57,
    "start_time": "2021-12-25T14:30:23.615Z"
   },
   {
    "duration": 15,
    "start_time": "2021-12-25T14:30:23.674Z"
   },
   {
    "duration": 346,
    "start_time": "2021-12-25T14:30:23.691Z"
   },
   {
    "duration": 315,
    "start_time": "2021-12-25T14:30:24.040Z"
   },
   {
    "duration": 370,
    "start_time": "2021-12-25T14:30:24.357Z"
   },
   {
    "duration": 14,
    "start_time": "2021-12-25T14:30:24.734Z"
   },
   {
    "duration": 776,
    "start_time": "2021-12-25T14:30:24.768Z"
   },
   {
    "duration": -109702,
    "start_time": "2021-12-25T14:32:15.249Z"
   },
   {
    "duration": -109703,
    "start_time": "2021-12-25T14:32:15.251Z"
   },
   {
    "duration": -109703,
    "start_time": "2021-12-25T14:32:15.253Z"
   },
   {
    "duration": -109705,
    "start_time": "2021-12-25T14:32:15.256Z"
   },
   {
    "duration": -109712,
    "start_time": "2021-12-25T14:32:15.264Z"
   },
   {
    "duration": -109713,
    "start_time": "2021-12-25T14:32:15.267Z"
   },
   {
    "duration": -109706,
    "start_time": "2021-12-25T14:32:15.273Z"
   },
   {
    "duration": -109707,
    "start_time": "2021-12-25T14:32:15.275Z"
   },
   {
    "duration": -109708,
    "start_time": "2021-12-25T14:32:15.278Z"
   },
   {
    "duration": -109709,
    "start_time": "2021-12-25T14:32:15.280Z"
   },
   {
    "duration": -109710,
    "start_time": "2021-12-25T14:32:15.282Z"
   },
   {
    "duration": -109713,
    "start_time": "2021-12-25T14:32:15.287Z"
   },
   {
    "duration": -109714,
    "start_time": "2021-12-25T14:32:15.289Z"
   },
   {
    "duration": 909,
    "start_time": "2021-12-25T14:31:18.465Z"
   },
   {
    "duration": 78,
    "start_time": "2021-12-25T14:31:19.377Z"
   },
   {
    "duration": 21,
    "start_time": "2021-12-25T14:31:19.469Z"
   },
   {
    "duration": 28,
    "start_time": "2021-12-25T14:31:19.493Z"
   },
   {
    "duration": 56,
    "start_time": "2021-12-25T14:31:19.524Z"
   },
   {
    "duration": 13,
    "start_time": "2021-12-25T14:31:19.583Z"
   },
   {
    "duration": 9,
    "start_time": "2021-12-25T14:31:19.600Z"
   },
   {
    "duration": 23,
    "start_time": "2021-12-25T14:31:19.612Z"
   },
   {
    "duration": 8,
    "start_time": "2021-12-25T14:31:19.667Z"
   },
   {
    "duration": 15,
    "start_time": "2021-12-25T14:31:19.678Z"
   },
   {
    "duration": 16,
    "start_time": "2021-12-25T14:31:19.696Z"
   },
   {
    "duration": 7,
    "start_time": "2021-12-25T14:31:19.714Z"
   },
   {
    "duration": 9,
    "start_time": "2021-12-25T14:31:19.724Z"
   },
   {
    "duration": 47,
    "start_time": "2021-12-25T14:31:19.735Z"
   },
   {
    "duration": 8,
    "start_time": "2021-12-25T14:31:19.785Z"
   },
   {
    "duration": 19,
    "start_time": "2021-12-25T14:31:19.796Z"
   },
   {
    "duration": 12,
    "start_time": "2021-12-25T14:31:19.817Z"
   },
   {
    "duration": 49,
    "start_time": "2021-12-25T14:31:19.832Z"
   },
   {
    "duration": 16,
    "start_time": "2021-12-25T14:31:19.883Z"
   },
   {
    "duration": 351,
    "start_time": "2021-12-25T14:31:19.901Z"
   },
   {
    "duration": 314,
    "start_time": "2021-12-25T14:31:20.255Z"
   },
   {
    "duration": 315,
    "start_time": "2021-12-25T14:31:20.574Z"
   },
   {
    "duration": 13,
    "start_time": "2021-12-25T14:31:20.892Z"
   },
   {
    "duration": 729,
    "start_time": "2021-12-25T14:31:20.907Z"
   },
   {
    "duration": -109703,
    "start_time": "2021-12-25T14:33:11.341Z"
   },
   {
    "duration": -109703,
    "start_time": "2021-12-25T14:33:11.343Z"
   },
   {
    "duration": -109703,
    "start_time": "2021-12-25T14:33:11.345Z"
   },
   {
    "duration": -109716,
    "start_time": "2021-12-25T14:33:11.360Z"
   },
   {
    "duration": -109718,
    "start_time": "2021-12-25T14:33:11.363Z"
   },
   {
    "duration": -109721,
    "start_time": "2021-12-25T14:33:11.368Z"
   },
   {
    "duration": -109723,
    "start_time": "2021-12-25T14:33:11.371Z"
   },
   {
    "duration": -109705,
    "start_time": "2021-12-25T14:33:11.372Z"
   },
   {
    "duration": -109705,
    "start_time": "2021-12-25T14:33:11.374Z"
   },
   {
    "duration": -109708,
    "start_time": "2021-12-25T14:33:11.379Z"
   },
   {
    "duration": -109710,
    "start_time": "2021-12-25T14:33:11.382Z"
   },
   {
    "duration": -109711,
    "start_time": "2021-12-25T14:33:11.384Z"
   },
   {
    "duration": -109711,
    "start_time": "2021-12-25T14:33:11.386Z"
   },
   {
    "duration": 918,
    "start_time": "2021-12-25T14:31:43.480Z"
   },
   {
    "duration": 81,
    "start_time": "2021-12-25T14:31:44.400Z"
   },
   {
    "duration": 23,
    "start_time": "2021-12-25T14:31:44.487Z"
   },
   {
    "duration": 56,
    "start_time": "2021-12-25T14:31:44.513Z"
   },
   {
    "duration": 22,
    "start_time": "2021-12-25T14:31:44.572Z"
   },
   {
    "duration": 16,
    "start_time": "2021-12-25T14:31:44.597Z"
   },
   {
    "duration": 48,
    "start_time": "2021-12-25T14:31:44.619Z"
   },
   {
    "duration": 21,
    "start_time": "2021-12-25T14:31:44.672Z"
   },
   {
    "duration": 11,
    "start_time": "2021-12-25T14:31:44.696Z"
   },
   {
    "duration": 10,
    "start_time": "2021-12-25T14:31:44.709Z"
   },
   {
    "duration": 57,
    "start_time": "2021-12-25T14:31:44.722Z"
   },
   {
    "duration": 11,
    "start_time": "2021-12-25T14:31:44.782Z"
   },
   {
    "duration": 8,
    "start_time": "2021-12-25T14:31:44.795Z"
   },
   {
    "duration": 14,
    "start_time": "2021-12-25T14:31:44.805Z"
   },
   {
    "duration": 8,
    "start_time": "2021-12-25T14:31:44.822Z"
   },
   {
    "duration": 9,
    "start_time": "2021-12-25T14:31:44.867Z"
   },
   {
    "duration": 10,
    "start_time": "2021-12-25T14:31:44.878Z"
   },
   {
    "duration": 18,
    "start_time": "2021-12-25T14:31:44.891Z"
   },
   {
    "duration": 15,
    "start_time": "2021-12-25T14:31:44.911Z"
   },
   {
    "duration": 430,
    "start_time": "2021-12-25T14:31:44.968Z"
   },
   {
    "duration": 317,
    "start_time": "2021-12-25T14:31:45.400Z"
   },
   {
    "duration": 324,
    "start_time": "2021-12-25T14:31:45.721Z"
   },
   {
    "duration": 22,
    "start_time": "2021-12-25T14:31:46.049Z"
   },
   {
    "duration": 756,
    "start_time": "2021-12-25T14:31:46.073Z"
   },
   {
    "duration": -109706,
    "start_time": "2021-12-25T14:33:36.538Z"
   },
   {
    "duration": -109708,
    "start_time": "2021-12-25T14:33:36.541Z"
   },
   {
    "duration": -109712,
    "start_time": "2021-12-25T14:33:36.546Z"
   },
   {
    "duration": -109712,
    "start_time": "2021-12-25T14:33:36.548Z"
   },
   {
    "duration": -109714,
    "start_time": "2021-12-25T14:33:36.551Z"
   },
   {
    "duration": -109715,
    "start_time": "2021-12-25T14:33:36.554Z"
   },
   {
    "duration": -109719,
    "start_time": "2021-12-25T14:33:36.559Z"
   },
   {
    "duration": -109719,
    "start_time": "2021-12-25T14:33:36.561Z"
   },
   {
    "duration": -109725,
    "start_time": "2021-12-25T14:33:36.568Z"
   },
   {
    "duration": -109706,
    "start_time": "2021-12-25T14:33:36.573Z"
   },
   {
    "duration": -109708,
    "start_time": "2021-12-25T14:33:36.576Z"
   },
   {
    "duration": -109707,
    "start_time": "2021-12-25T14:33:36.577Z"
   },
   {
    "duration": -109709,
    "start_time": "2021-12-25T14:33:36.580Z"
   },
   {
    "duration": 902,
    "start_time": "2021-12-25T14:32:01.309Z"
   },
   {
    "duration": 81,
    "start_time": "2021-12-25T14:32:02.214Z"
   },
   {
    "duration": 23,
    "start_time": "2021-12-25T14:32:02.299Z"
   },
   {
    "duration": 50,
    "start_time": "2021-12-25T14:32:02.325Z"
   },
   {
    "duration": 23,
    "start_time": "2021-12-25T14:32:02.378Z"
   },
   {
    "duration": 13,
    "start_time": "2021-12-25T14:32:02.404Z"
   },
   {
    "duration": 16,
    "start_time": "2021-12-25T14:32:02.420Z"
   },
   {
    "duration": 47,
    "start_time": "2021-12-25T14:32:02.439Z"
   },
   {
    "duration": 9,
    "start_time": "2021-12-25T14:32:02.490Z"
   },
   {
    "duration": 14,
    "start_time": "2021-12-25T14:32:02.502Z"
   },
   {
    "duration": 17,
    "start_time": "2021-12-25T14:32:02.519Z"
   },
   {
    "duration": 10,
    "start_time": "2021-12-25T14:32:02.569Z"
   },
   {
    "duration": 7,
    "start_time": "2021-12-25T14:32:02.583Z"
   },
   {
    "duration": 20,
    "start_time": "2021-12-25T14:32:02.593Z"
   },
   {
    "duration": 20,
    "start_time": "2021-12-25T14:32:02.616Z"
   },
   {
    "duration": 37,
    "start_time": "2021-12-25T14:32:02.639Z"
   },
   {
    "duration": 17,
    "start_time": "2021-12-25T14:32:02.679Z"
   },
   {
    "duration": 33,
    "start_time": "2021-12-25T14:32:02.698Z"
   },
   {
    "duration": 68,
    "start_time": "2021-12-25T14:32:02.733Z"
   },
   {
    "duration": 317,
    "start_time": "2021-12-25T14:32:02.803Z"
   },
   {
    "duration": 314,
    "start_time": "2021-12-25T14:32:03.123Z"
   },
   {
    "duration": 355,
    "start_time": "2021-12-25T14:32:03.440Z"
   },
   {
    "duration": 28,
    "start_time": "2021-12-25T14:32:03.798Z"
   },
   {
    "duration": 414,
    "start_time": "2021-12-25T14:32:03.836Z"
   },
   {
    "duration": 4,
    "start_time": "2021-12-25T14:32:04.253Z"
   },
   {
    "duration": 35,
    "start_time": "2021-12-25T14:32:04.268Z"
   },
   {
    "duration": 330,
    "start_time": "2021-12-25T14:32:04.310Z"
   },
   {
    "duration": 7,
    "start_time": "2021-12-25T14:32:04.644Z"
   },
   {
    "duration": 20,
    "start_time": "2021-12-25T14:32:04.653Z"
   },
   {
    "duration": 65,
    "start_time": "2021-12-25T14:32:04.676Z"
   },
   {
    "duration": 11,
    "start_time": "2021-12-25T14:32:04.768Z"
   },
   {
    "duration": 11,
    "start_time": "2021-12-25T14:32:04.782Z"
   },
   {
    "duration": 9,
    "start_time": "2021-12-25T14:32:04.795Z"
   },
   {
    "duration": 14,
    "start_time": "2021-12-25T14:32:04.806Z"
   },
   {
    "duration": 49,
    "start_time": "2021-12-25T14:32:04.823Z"
   },
   {
    "duration": 17,
    "start_time": "2021-12-25T14:32:04.875Z"
   },
   {
    "duration": 11,
    "start_time": "2021-12-25T14:32:04.895Z"
   },
   {
    "duration": 894,
    "start_time": "2021-12-25T14:40:49.196Z"
   },
   {
    "duration": 92,
    "start_time": "2021-12-25T14:40:50.093Z"
   },
   {
    "duration": 32,
    "start_time": "2021-12-25T14:40:50.194Z"
   },
   {
    "duration": 59,
    "start_time": "2021-12-25T14:40:50.230Z"
   },
   {
    "duration": 23,
    "start_time": "2021-12-25T14:40:50.291Z"
   },
   {
    "duration": 34,
    "start_time": "2021-12-25T14:40:50.317Z"
   },
   {
    "duration": 15,
    "start_time": "2021-12-25T14:40:50.353Z"
   },
   {
    "duration": 20,
    "start_time": "2021-12-25T14:40:50.373Z"
   },
   {
    "duration": 9,
    "start_time": "2021-12-25T14:40:50.397Z"
   },
   {
    "duration": 8,
    "start_time": "2021-12-25T14:40:50.409Z"
   },
   {
    "duration": 53,
    "start_time": "2021-12-25T14:40:50.419Z"
   },
   {
    "duration": 9,
    "start_time": "2021-12-25T14:40:50.475Z"
   },
   {
    "duration": 11,
    "start_time": "2021-12-25T14:40:50.487Z"
   },
   {
    "duration": 12,
    "start_time": "2021-12-25T14:40:50.501Z"
   },
   {
    "duration": 10,
    "start_time": "2021-12-25T14:40:50.516Z"
   },
   {
    "duration": 44,
    "start_time": "2021-12-25T14:40:50.530Z"
   },
   {
    "duration": 13,
    "start_time": "2021-12-25T14:40:50.576Z"
   },
   {
    "duration": 20,
    "start_time": "2021-12-25T14:40:50.592Z"
   },
   {
    "duration": 55,
    "start_time": "2021-12-25T14:40:50.615Z"
   },
   {
    "duration": 341,
    "start_time": "2021-12-25T14:40:50.673Z"
   },
   {
    "duration": 333,
    "start_time": "2021-12-25T14:40:51.017Z"
   },
   {
    "duration": 332,
    "start_time": "2021-12-25T14:40:51.353Z"
   },
   {
    "duration": 14,
    "start_time": "2021-12-25T14:40:51.688Z"
   },
   {
    "duration": 13,
    "start_time": "2021-12-25T14:40:51.705Z"
   },
   {
    "duration": 383,
    "start_time": "2021-12-25T14:40:51.721Z"
   },
   {
    "duration": 8,
    "start_time": "2021-12-25T14:40:52.109Z"
   },
   {
    "duration": 8,
    "start_time": "2021-12-25T14:40:52.119Z"
   },
   {
    "duration": 74,
    "start_time": "2021-12-25T14:40:52.129Z"
   },
   {
    "duration": 10,
    "start_time": "2021-12-25T14:40:52.207Z"
   },
   {
    "duration": 50,
    "start_time": "2021-12-25T14:40:52.220Z"
   },
   {
    "duration": 17,
    "start_time": "2021-12-25T14:40:52.273Z"
   },
   {
    "duration": 11,
    "start_time": "2021-12-25T14:40:52.293Z"
   },
   {
    "duration": 11,
    "start_time": "2021-12-25T14:40:52.307Z"
   },
   {
    "duration": 9,
    "start_time": "2021-12-25T14:40:52.321Z"
   },
   {
    "duration": 42,
    "start_time": "2021-12-25T14:40:52.332Z"
   },
   {
    "duration": 887,
    "start_time": "2021-12-25T14:44:35.517Z"
   },
   {
    "duration": 79,
    "start_time": "2021-12-25T14:44:36.407Z"
   },
   {
    "duration": 23,
    "start_time": "2021-12-25T14:44:36.489Z"
   },
   {
    "duration": 28,
    "start_time": "2021-12-25T14:44:36.515Z"
   },
   {
    "duration": 23,
    "start_time": "2021-12-25T14:44:36.567Z"
   },
   {
    "duration": 18,
    "start_time": "2021-12-25T14:44:36.592Z"
   },
   {
    "duration": 6,
    "start_time": "2021-12-25T14:44:36.613Z"
   },
   {
    "duration": 57,
    "start_time": "2021-12-25T14:44:36.623Z"
   },
   {
    "duration": 16,
    "start_time": "2021-12-25T14:44:36.683Z"
   },
   {
    "duration": 15,
    "start_time": "2021-12-25T14:44:36.701Z"
   },
   {
    "duration": 14,
    "start_time": "2021-12-25T14:44:36.718Z"
   },
   {
    "duration": 11,
    "start_time": "2021-12-25T14:44:36.734Z"
   },
   {
    "duration": 22,
    "start_time": "2021-12-25T14:44:36.747Z"
   },
   {
    "duration": 14,
    "start_time": "2021-12-25T14:44:36.771Z"
   },
   {
    "duration": 8,
    "start_time": "2021-12-25T14:44:36.787Z"
   },
   {
    "duration": 16,
    "start_time": "2021-12-25T14:44:36.797Z"
   },
   {
    "duration": 10,
    "start_time": "2021-12-25T14:44:36.815Z"
   },
   {
    "duration": 53,
    "start_time": "2021-12-25T14:44:36.828Z"
   },
   {
    "duration": 14,
    "start_time": "2021-12-25T14:44:36.883Z"
   },
   {
    "duration": 343,
    "start_time": "2021-12-25T14:44:36.900Z"
   },
   {
    "duration": 327,
    "start_time": "2021-12-25T14:44:37.245Z"
   },
   {
    "duration": 326,
    "start_time": "2021-12-25T14:44:37.575Z"
   },
   {
    "duration": 14,
    "start_time": "2021-12-25T14:44:37.905Z"
   },
   {
    "duration": 107,
    "start_time": "2021-12-25T14:44:37.922Z"
   },
   {
    "duration": -109714,
    "start_time": "2021-12-25T14:46:27.746Z"
   },
   {
    "duration": -109716,
    "start_time": "2021-12-25T14:46:27.749Z"
   },
   {
    "duration": -109717,
    "start_time": "2021-12-25T14:46:27.752Z"
   },
   {
    "duration": -109718,
    "start_time": "2021-12-25T14:46:27.754Z"
   },
   {
    "duration": -109724,
    "start_time": "2021-12-25T14:46:27.761Z"
   },
   {
    "duration": -109724,
    "start_time": "2021-12-25T14:46:27.763Z"
   },
   {
    "duration": -109725,
    "start_time": "2021-12-25T14:46:27.765Z"
   },
   {
    "duration": -109729,
    "start_time": "2021-12-25T14:46:27.771Z"
   },
   {
    "duration": -109731,
    "start_time": "2021-12-25T14:46:27.774Z"
   },
   {
    "duration": -109730,
    "start_time": "2021-12-25T14:46:27.777Z"
   },
   {
    "duration": -109732,
    "start_time": "2021-12-25T14:46:27.780Z"
   },
   {
    "duration": -109737,
    "start_time": "2021-12-25T14:46:27.786Z"
   },
   {
    "duration": 868,
    "start_time": "2021-12-25T14:45:03.224Z"
   },
   {
    "duration": 81,
    "start_time": "2021-12-25T14:45:04.095Z"
   },
   {
    "duration": 23,
    "start_time": "2021-12-25T14:45:04.179Z"
   },
   {
    "duration": 27,
    "start_time": "2021-12-25T14:45:04.205Z"
   },
   {
    "duration": 49,
    "start_time": "2021-12-25T14:45:04.235Z"
   },
   {
    "duration": 18,
    "start_time": "2021-12-25T14:45:04.287Z"
   },
   {
    "duration": 7,
    "start_time": "2021-12-25T14:45:04.308Z"
   },
   {
    "duration": 54,
    "start_time": "2021-12-25T14:45:04.318Z"
   },
   {
    "duration": 8,
    "start_time": "2021-12-25T14:45:04.376Z"
   },
   {
    "duration": 9,
    "start_time": "2021-12-25T14:45:04.387Z"
   },
   {
    "duration": 13,
    "start_time": "2021-12-25T14:45:04.399Z"
   },
   {
    "duration": 8,
    "start_time": "2021-12-25T14:45:04.415Z"
   },
   {
    "duration": 42,
    "start_time": "2021-12-25T14:45:04.425Z"
   },
   {
    "duration": 9,
    "start_time": "2021-12-25T14:45:04.470Z"
   },
   {
    "duration": 15,
    "start_time": "2021-12-25T14:45:04.482Z"
   },
   {
    "duration": 20,
    "start_time": "2021-12-25T14:45:04.500Z"
   },
   {
    "duration": 22,
    "start_time": "2021-12-25T14:45:04.523Z"
   },
   {
    "duration": 33,
    "start_time": "2021-12-25T14:45:04.548Z"
   },
   {
    "duration": 16,
    "start_time": "2021-12-25T14:45:04.583Z"
   },
   {
    "duration": 347,
    "start_time": "2021-12-25T14:45:04.601Z"
   },
   {
    "duration": 362,
    "start_time": "2021-12-25T14:45:04.951Z"
   },
   {
    "duration": 317,
    "start_time": "2021-12-25T14:45:05.315Z"
   },
   {
    "duration": 14,
    "start_time": "2021-12-25T14:45:05.637Z"
   },
   {
    "duration": 91,
    "start_time": "2021-12-25T14:45:05.668Z"
   },
   {
    "duration": -109713,
    "start_time": "2021-12-25T14:46:55.475Z"
   },
   {
    "duration": -109717,
    "start_time": "2021-12-25T14:46:55.481Z"
   },
   {
    "duration": -109722,
    "start_time": "2021-12-25T14:46:55.487Z"
   },
   {
    "duration": -109724,
    "start_time": "2021-12-25T14:46:55.490Z"
   },
   {
    "duration": -109725,
    "start_time": "2021-12-25T14:46:55.493Z"
   },
   {
    "duration": -109730,
    "start_time": "2021-12-25T14:46:55.499Z"
   },
   {
    "duration": -109731,
    "start_time": "2021-12-25T14:46:55.502Z"
   },
   {
    "duration": -109733,
    "start_time": "2021-12-25T14:46:55.505Z"
   },
   {
    "duration": -109735,
    "start_time": "2021-12-25T14:46:55.508Z"
   },
   {
    "duration": -109738,
    "start_time": "2021-12-25T14:46:55.513Z"
   },
   {
    "duration": -109739,
    "start_time": "2021-12-25T14:46:55.515Z"
   },
   {
    "duration": -109742,
    "start_time": "2021-12-25T14:46:55.519Z"
   },
   {
    "duration": 940,
    "start_time": "2021-12-25T14:45:51.639Z"
   },
   {
    "duration": 80,
    "start_time": "2021-12-25T14:45:52.582Z"
   },
   {
    "duration": 25,
    "start_time": "2021-12-25T14:45:52.665Z"
   },
   {
    "duration": 31,
    "start_time": "2021-12-25T14:45:52.693Z"
   },
   {
    "duration": 56,
    "start_time": "2021-12-25T14:45:52.727Z"
   },
   {
    "duration": 19,
    "start_time": "2021-12-25T14:45:52.786Z"
   },
   {
    "duration": 14,
    "start_time": "2021-12-25T14:45:52.807Z"
   },
   {
    "duration": 49,
    "start_time": "2021-12-25T14:45:52.823Z"
   },
   {
    "duration": 17,
    "start_time": "2021-12-25T14:45:52.877Z"
   },
   {
    "duration": 26,
    "start_time": "2021-12-25T14:45:52.897Z"
   },
   {
    "duration": 38,
    "start_time": "2021-12-25T14:45:52.925Z"
   },
   {
    "duration": 14,
    "start_time": "2021-12-25T14:45:52.965Z"
   },
   {
    "duration": 4,
    "start_time": "2021-12-25T14:45:52.983Z"
   },
   {
    "duration": 24,
    "start_time": "2021-12-25T14:45:52.989Z"
   },
   {
    "duration": 12,
    "start_time": "2021-12-25T14:45:53.016Z"
   },
   {
    "duration": 28,
    "start_time": "2021-12-25T14:45:53.030Z"
   },
   {
    "duration": 12,
    "start_time": "2021-12-25T14:45:53.061Z"
   },
   {
    "duration": 24,
    "start_time": "2021-12-25T14:45:53.075Z"
   },
   {
    "duration": 21,
    "start_time": "2021-12-25T14:45:53.102Z"
   },
   {
    "duration": 528,
    "start_time": "2021-12-25T14:45:53.126Z"
   },
   {
    "duration": 337,
    "start_time": "2021-12-25T14:45:53.657Z"
   },
   {
    "duration": 454,
    "start_time": "2021-12-25T14:45:53.997Z"
   },
   {
    "duration": 28,
    "start_time": "2021-12-25T14:45:54.455Z"
   },
   {
    "duration": 33,
    "start_time": "2021-12-25T14:45:54.486Z"
   },
   {
    "duration": 504,
    "start_time": "2021-12-25T14:45:54.522Z"
   },
   {
    "duration": 364,
    "start_time": "2021-12-25T14:45:55.029Z"
   },
   {
    "duration": 10,
    "start_time": "2021-12-25T14:45:55.401Z"
   },
   {
    "duration": 8,
    "start_time": "2021-12-25T14:45:55.415Z"
   },
   {
    "duration": 106,
    "start_time": "2021-12-25T14:45:55.426Z"
   },
   {
    "duration": 35,
    "start_time": "2021-12-25T14:45:55.535Z"
   },
   {
    "duration": 11,
    "start_time": "2021-12-25T14:45:55.574Z"
   },
   {
    "duration": 11,
    "start_time": "2021-12-25T14:45:55.589Z"
   },
   {
    "duration": 18,
    "start_time": "2021-12-25T14:45:55.603Z"
   },
   {
    "duration": 45,
    "start_time": "2021-12-25T14:45:55.624Z"
   },
   {
    "duration": 11,
    "start_time": "2021-12-25T14:45:55.672Z"
   },
   {
    "duration": 23,
    "start_time": "2021-12-25T14:45:55.686Z"
   },
   {
    "duration": 904,
    "start_time": "2021-12-25T14:54:18.000Z"
   },
   {
    "duration": 86,
    "start_time": "2021-12-25T14:54:18.907Z"
   },
   {
    "duration": 23,
    "start_time": "2021-12-25T14:54:18.997Z"
   },
   {
    "duration": 50,
    "start_time": "2021-12-25T14:54:19.023Z"
   },
   {
    "duration": 24,
    "start_time": "2021-12-25T14:54:19.076Z"
   },
   {
    "duration": 16,
    "start_time": "2021-12-25T14:54:19.103Z"
   },
   {
    "duration": 46,
    "start_time": "2021-12-25T14:54:19.123Z"
   },
   {
    "duration": 19,
    "start_time": "2021-12-25T14:54:19.173Z"
   },
   {
    "duration": 10,
    "start_time": "2021-12-25T14:54:19.195Z"
   },
   {
    "duration": 10,
    "start_time": "2021-12-25T14:54:19.207Z"
   },
   {
    "duration": 48,
    "start_time": "2021-12-25T14:54:19.219Z"
   },
   {
    "duration": 7,
    "start_time": "2021-12-25T14:54:19.270Z"
   },
   {
    "duration": 7,
    "start_time": "2021-12-25T14:54:19.280Z"
   },
   {
    "duration": 12,
    "start_time": "2021-12-25T14:54:19.289Z"
   },
   {
    "duration": 7,
    "start_time": "2021-12-25T14:54:19.303Z"
   },
   {
    "duration": 452,
    "start_time": "2021-12-25T14:54:19.312Z"
   },
   {
    "duration": 9,
    "start_time": "2021-12-25T14:54:19.766Z"
   },
   {
    "duration": 15,
    "start_time": "2021-12-25T14:54:19.778Z"
   },
   {
    "duration": 23,
    "start_time": "2021-12-25T14:54:19.796Z"
   },
   {
    "duration": 12,
    "start_time": "2021-12-25T14:54:19.822Z"
   },
   {
    "duration": 335,
    "start_time": "2021-12-25T14:54:19.868Z"
   },
   {
    "duration": 321,
    "start_time": "2021-12-25T14:54:20.205Z"
   },
   {
    "duration": 366,
    "start_time": "2021-12-25T14:54:20.531Z"
   },
   {
    "duration": 14,
    "start_time": "2021-12-25T14:54:20.900Z"
   },
   {
    "duration": 12,
    "start_time": "2021-12-25T14:54:20.916Z"
   },
   {
    "duration": 337,
    "start_time": "2021-12-25T14:54:20.931Z"
   },
   {
    "duration": 320,
    "start_time": "2021-12-25T14:54:21.271Z"
   },
   {
    "duration": 8,
    "start_time": "2021-12-25T14:54:21.593Z"
   },
   {
    "duration": 8,
    "start_time": "2021-12-25T14:54:21.603Z"
   },
   {
    "duration": 79,
    "start_time": "2021-12-25T14:54:21.614Z"
   },
   {
    "duration": 9,
    "start_time": "2021-12-25T14:54:21.696Z"
   },
   {
    "duration": 15,
    "start_time": "2021-12-25T14:54:21.708Z"
   },
   {
    "duration": 9,
    "start_time": "2021-12-25T14:54:21.725Z"
   },
   {
    "duration": 39,
    "start_time": "2021-12-25T14:54:21.736Z"
   },
   {
    "duration": 8,
    "start_time": "2021-12-25T14:54:21.777Z"
   },
   {
    "duration": 15,
    "start_time": "2021-12-25T14:54:21.788Z"
   },
   {
    "duration": 29,
    "start_time": "2021-12-25T14:54:21.806Z"
   },
   {
    "duration": 1066,
    "start_time": "2021-12-25T14:56:22.842Z"
   },
   {
    "duration": 82,
    "start_time": "2021-12-25T14:56:23.912Z"
   },
   {
    "duration": 24,
    "start_time": "2021-12-25T14:56:23.997Z"
   },
   {
    "duration": 54,
    "start_time": "2021-12-25T14:56:24.024Z"
   },
   {
    "duration": 25,
    "start_time": "2021-12-25T14:56:24.081Z"
   },
   {
    "duration": 16,
    "start_time": "2021-12-25T14:56:24.109Z"
   },
   {
    "duration": 8,
    "start_time": "2021-12-25T14:56:24.168Z"
   },
   {
    "duration": 21,
    "start_time": "2021-12-25T14:56:24.182Z"
   },
   {
    "duration": 9,
    "start_time": "2021-12-25T14:56:24.207Z"
   },
   {
    "duration": 9,
    "start_time": "2021-12-25T14:56:24.218Z"
   },
   {
    "duration": 13,
    "start_time": "2021-12-25T14:56:24.268Z"
   },
   {
    "duration": 15,
    "start_time": "2021-12-25T14:56:24.284Z"
   },
   {
    "duration": 351,
    "start_time": "2021-12-25T14:56:24.303Z"
   },
   {
    "duration": 313,
    "start_time": "2021-12-25T14:56:24.656Z"
   },
   {
    "duration": 308,
    "start_time": "2021-12-25T14:56:24.971Z"
   },
   {
    "duration": 14,
    "start_time": "2021-12-25T14:56:25.281Z"
   },
   {
    "duration": 13,
    "start_time": "2021-12-25T14:56:25.297Z"
   },
   {
    "duration": 405,
    "start_time": "2021-12-25T14:56:25.312Z"
   },
   {
    "duration": 326,
    "start_time": "2021-12-25T14:56:25.719Z"
   },
   {
    "duration": 19,
    "start_time": "2021-12-25T14:56:26.048Z"
   },
   {
    "duration": 10,
    "start_time": "2021-12-25T14:56:26.069Z"
   },
   {
    "duration": 64,
    "start_time": "2021-12-25T14:56:26.081Z"
   },
   {
    "duration": 19,
    "start_time": "2021-12-25T14:56:26.150Z"
   },
   {
    "duration": 318,
    "start_time": "2021-12-25T14:56:26.173Z"
   },
   {
    "duration": 9,
    "start_time": "2021-12-25T14:56:26.494Z"
   },
   {
    "duration": 12,
    "start_time": "2021-12-25T14:56:26.506Z"
   },
   {
    "duration": 53,
    "start_time": "2021-12-25T14:56:26.521Z"
   },
   {
    "duration": 8,
    "start_time": "2021-12-25T14:56:26.577Z"
   },
   {
    "duration": 8,
    "start_time": "2021-12-25T14:56:26.588Z"
   },
   {
    "duration": 86,
    "start_time": "2021-12-25T14:56:26.598Z"
   },
   {
    "duration": 8,
    "start_time": "2021-12-25T14:56:26.687Z"
   },
   {
    "duration": 18,
    "start_time": "2021-12-25T14:56:26.697Z"
   },
   {
    "duration": 15,
    "start_time": "2021-12-25T14:56:26.717Z"
   },
   {
    "duration": 32,
    "start_time": "2021-12-25T14:56:26.735Z"
   },
   {
    "duration": 8,
    "start_time": "2021-12-25T14:56:26.770Z"
   },
   {
    "duration": 9,
    "start_time": "2021-12-25T14:56:26.780Z"
   },
   {
    "duration": 10,
    "start_time": "2021-12-25T14:56:26.792Z"
   },
   {
    "duration": 845,
    "start_time": "2021-12-25T15:06:24.707Z"
   },
   {
    "duration": 76,
    "start_time": "2021-12-25T15:06:25.555Z"
   },
   {
    "duration": 41,
    "start_time": "2021-12-25T15:06:25.638Z"
   },
   {
    "duration": 33,
    "start_time": "2021-12-25T15:06:25.682Z"
   },
   {
    "duration": 58,
    "start_time": "2021-12-25T15:06:25.718Z"
   },
   {
    "duration": 16,
    "start_time": "2021-12-25T15:06:25.779Z"
   },
   {
    "duration": 7,
    "start_time": "2021-12-25T15:06:25.800Z"
   },
   {
    "duration": 58,
    "start_time": "2021-12-25T15:06:25.810Z"
   },
   {
    "duration": 7,
    "start_time": "2021-12-25T15:06:25.871Z"
   },
   {
    "duration": 8,
    "start_time": "2021-12-25T15:06:25.881Z"
   },
   {
    "duration": 13,
    "start_time": "2021-12-25T15:06:25.892Z"
   },
   {
    "duration": 13,
    "start_time": "2021-12-25T15:06:25.907Z"
   },
   {
    "duration": 380,
    "start_time": "2021-12-25T15:06:25.923Z"
   },
   {
    "duration": 322,
    "start_time": "2021-12-25T15:06:26.305Z"
   },
   {
    "duration": 480,
    "start_time": "2021-12-25T15:06:26.630Z"
   },
   {
    "duration": -109733,
    "start_time": "2021-12-25T15:08:16.847Z"
   },
   {
    "duration": -109736,
    "start_time": "2021-12-25T15:08:16.851Z"
   },
   {
    "duration": -109737,
    "start_time": "2021-12-25T15:08:16.854Z"
   },
   {
    "duration": -109740,
    "start_time": "2021-12-25T15:08:16.859Z"
   },
   {
    "duration": -109743,
    "start_time": "2021-12-25T15:08:16.863Z"
   },
   {
    "duration": -109744,
    "start_time": "2021-12-25T15:08:16.866Z"
   },
   {
    "duration": -109746,
    "start_time": "2021-12-25T15:08:16.869Z"
   },
   {
    "duration": -109752,
    "start_time": "2021-12-25T15:08:16.877Z"
   },
   {
    "duration": -109753,
    "start_time": "2021-12-25T15:08:16.880Z"
   },
   {
    "duration": -109754,
    "start_time": "2021-12-25T15:08:16.882Z"
   },
   {
    "duration": -109760,
    "start_time": "2021-12-25T15:08:16.890Z"
   },
   {
    "duration": -109762,
    "start_time": "2021-12-25T15:08:16.893Z"
   },
   {
    "duration": -109764,
    "start_time": "2021-12-25T15:08:16.896Z"
   },
   {
    "duration": -109770,
    "start_time": "2021-12-25T15:08:16.903Z"
   },
   {
    "duration": -109771,
    "start_time": "2021-12-25T15:08:16.906Z"
   },
   {
    "duration": -109774,
    "start_time": "2021-12-25T15:08:16.910Z"
   },
   {
    "duration": -109780,
    "start_time": "2021-12-25T15:08:16.917Z"
   },
   {
    "duration": -109781,
    "start_time": "2021-12-25T15:08:16.920Z"
   },
   {
    "duration": -109783,
    "start_time": "2021-12-25T15:08:16.923Z"
   },
   {
    "duration": -109788,
    "start_time": "2021-12-25T15:08:16.929Z"
   },
   {
    "duration": -109790,
    "start_time": "2021-12-25T15:08:16.933Z"
   },
   {
    "duration": -109792,
    "start_time": "2021-12-25T15:08:16.936Z"
   },
   {
    "duration": -109799,
    "start_time": "2021-12-25T15:08:16.944Z"
   },
   {
    "duration": 39,
    "start_time": "2021-12-25T15:10:05.384Z"
   },
   {
    "duration": 14,
    "start_time": "2021-12-25T15:10:15.132Z"
   },
   {
    "duration": 10,
    "start_time": "2021-12-25T15:10:50.354Z"
   },
   {
    "duration": 13,
    "start_time": "2021-12-25T15:10:57.591Z"
   },
   {
    "duration": 11,
    "start_time": "2021-12-25T15:11:16.607Z"
   },
   {
    "duration": 12,
    "start_time": "2021-12-25T15:11:24.774Z"
   },
   {
    "duration": 12,
    "start_time": "2021-12-25T15:11:58.569Z"
   },
   {
    "duration": 13,
    "start_time": "2021-12-25T15:12:11.981Z"
   },
   {
    "duration": 7,
    "start_time": "2021-12-25T15:16:10.642Z"
   },
   {
    "duration": 924,
    "start_time": "2021-12-25T15:23:31.154Z"
   },
   {
    "duration": 80,
    "start_time": "2021-12-25T15:23:32.081Z"
   },
   {
    "duration": 24,
    "start_time": "2021-12-25T15:23:32.168Z"
   },
   {
    "duration": 45,
    "start_time": "2021-12-25T15:23:32.195Z"
   },
   {
    "duration": 35,
    "start_time": "2021-12-25T15:23:32.243Z"
   },
   {
    "duration": 13,
    "start_time": "2021-12-25T15:23:32.281Z"
   },
   {
    "duration": 9,
    "start_time": "2021-12-25T15:23:32.296Z"
   },
   {
    "duration": 61,
    "start_time": "2021-12-25T15:23:32.309Z"
   },
   {
    "duration": 14,
    "start_time": "2021-12-25T15:23:32.373Z"
   },
   {
    "duration": 18,
    "start_time": "2021-12-25T15:23:32.390Z"
   },
   {
    "duration": 18,
    "start_time": "2021-12-25T15:23:32.411Z"
   },
   {
    "duration": 42,
    "start_time": "2021-12-25T15:23:32.432Z"
   },
   {
    "duration": 5548,
    "start_time": "2021-12-25T15:23:32.477Z"
   },
   {
    "duration": -109755,
    "start_time": "2021-12-25T15:25:27.784Z"
   },
   {
    "duration": -109760,
    "start_time": "2021-12-25T15:25:27.790Z"
   },
   {
    "duration": -109761,
    "start_time": "2021-12-25T15:25:27.793Z"
   },
   {
    "duration": -109764,
    "start_time": "2021-12-25T15:25:27.797Z"
   },
   {
    "duration": -109770,
    "start_time": "2021-12-25T15:25:27.804Z"
   },
   {
    "duration": -109771,
    "start_time": "2021-12-25T15:25:27.807Z"
   },
   {
    "duration": -109774,
    "start_time": "2021-12-25T15:25:27.811Z"
   },
   {
    "duration": -109778,
    "start_time": "2021-12-25T15:25:27.817Z"
   },
   {
    "duration": -109780,
    "start_time": "2021-12-25T15:25:27.820Z"
   },
   {
    "duration": -109783,
    "start_time": "2021-12-25T15:25:27.824Z"
   },
   {
    "duration": -109787,
    "start_time": "2021-12-25T15:25:27.829Z"
   },
   {
    "duration": -109790,
    "start_time": "2021-12-25T15:25:27.834Z"
   },
   {
    "duration": -109792,
    "start_time": "2021-12-25T15:25:27.837Z"
   },
   {
    "duration": -109797,
    "start_time": "2021-12-25T15:25:27.843Z"
   },
   {
    "duration": -109799,
    "start_time": "2021-12-25T15:25:27.847Z"
   },
   {
    "duration": -109802,
    "start_time": "2021-12-25T15:25:27.851Z"
   },
   {
    "duration": -109806,
    "start_time": "2021-12-25T15:25:27.857Z"
   },
   {
    "duration": -109808,
    "start_time": "2021-12-25T15:25:27.860Z"
   },
   {
    "duration": -109810,
    "start_time": "2021-12-25T15:25:27.863Z"
   },
   {
    "duration": -109815,
    "start_time": "2021-12-25T15:25:27.870Z"
   },
   {
    "duration": -109817,
    "start_time": "2021-12-25T15:25:27.873Z"
   },
   {
    "duration": -109819,
    "start_time": "2021-12-25T15:25:27.877Z"
   },
   {
    "duration": -109824,
    "start_time": "2021-12-25T15:25:27.883Z"
   },
   {
    "duration": -109827,
    "start_time": "2021-12-25T15:25:27.887Z"
   },
   {
    "duration": -109827,
    "start_time": "2021-12-25T15:25:27.889Z"
   },
   {
    "duration": 916,
    "start_time": "2021-12-25T15:24:08.846Z"
   },
   {
    "duration": 80,
    "start_time": "2021-12-25T15:24:09.764Z"
   },
   {
    "duration": 26,
    "start_time": "2021-12-25T15:24:09.847Z"
   },
   {
    "duration": 29,
    "start_time": "2021-12-25T15:24:09.877Z"
   },
   {
    "duration": 22,
    "start_time": "2021-12-25T15:24:09.909Z"
   },
   {
    "duration": 43,
    "start_time": "2021-12-25T15:24:09.934Z"
   },
   {
    "duration": 7,
    "start_time": "2021-12-25T15:24:09.980Z"
   },
   {
    "duration": 20,
    "start_time": "2021-12-25T15:24:09.992Z"
   },
   {
    "duration": 11,
    "start_time": "2021-12-25T15:24:10.014Z"
   },
   {
    "duration": 45,
    "start_time": "2021-12-25T15:24:10.028Z"
   },
   {
    "duration": 15,
    "start_time": "2021-12-25T15:24:10.076Z"
   },
   {
    "duration": 11,
    "start_time": "2021-12-25T15:24:10.093Z"
   },
   {
    "duration": 8,
    "start_time": "2021-12-25T15:24:10.107Z"
   },
   {
    "duration": 352,
    "start_time": "2021-12-25T15:24:10.117Z"
   },
   {
    "duration": 317,
    "start_time": "2021-12-25T15:24:10.471Z"
   },
   {
    "duration": 415,
    "start_time": "2021-12-25T15:24:10.790Z"
   },
   {
    "duration": 14,
    "start_time": "2021-12-25T15:24:11.207Z"
   },
   {
    "duration": 3,
    "start_time": "2021-12-25T15:24:11.224Z"
   },
   {
    "duration": 468,
    "start_time": "2021-12-25T15:24:11.229Z"
   },
   {
    "duration": 316,
    "start_time": "2021-12-25T15:24:11.699Z"
   },
   {
    "duration": 7,
    "start_time": "2021-12-25T15:24:12.017Z"
   },
   {
    "duration": 10,
    "start_time": "2021-12-25T15:24:12.026Z"
   },
   {
    "duration": 80,
    "start_time": "2021-12-25T15:24:12.041Z"
   },
   {
    "duration": 8,
    "start_time": "2021-12-25T15:24:12.124Z"
   },
   {
    "duration": 335,
    "start_time": "2021-12-25T15:24:12.135Z"
   },
   {
    "duration": 10,
    "start_time": "2021-12-25T15:24:12.472Z"
   },
   {
    "duration": 11,
    "start_time": "2021-12-25T15:24:12.485Z"
   },
   {
    "duration": 18,
    "start_time": "2021-12-25T15:24:12.498Z"
   },
   {
    "duration": 7,
    "start_time": "2021-12-25T15:24:12.519Z"
   },
   {
    "duration": 6,
    "start_time": "2021-12-25T15:24:12.568Z"
   },
   {
    "duration": 50,
    "start_time": "2021-12-25T15:24:12.577Z"
   },
   {
    "duration": 39,
    "start_time": "2021-12-25T15:24:12.629Z"
   },
   {
    "duration": 11,
    "start_time": "2021-12-25T15:24:12.671Z"
   },
   {
    "duration": 12,
    "start_time": "2021-12-25T15:24:12.684Z"
   },
   {
    "duration": 12,
    "start_time": "2021-12-25T15:24:12.698Z"
   },
   {
    "duration": 7,
    "start_time": "2021-12-25T15:24:12.713Z"
   },
   {
    "duration": 44,
    "start_time": "2021-12-25T15:24:12.723Z"
   },
   {
    "duration": 10,
    "start_time": "2021-12-25T15:24:12.770Z"
   },
   {
    "duration": 903,
    "start_time": "2021-12-25T15:29:41.787Z"
   },
   {
    "duration": 79,
    "start_time": "2021-12-25T15:29:42.692Z"
   },
   {
    "duration": 23,
    "start_time": "2021-12-25T15:29:42.774Z"
   },
   {
    "duration": 32,
    "start_time": "2021-12-25T15:29:42.800Z"
   },
   {
    "duration": 56,
    "start_time": "2021-12-25T15:29:42.835Z"
   },
   {
    "duration": 14,
    "start_time": "2021-12-25T15:29:42.894Z"
   },
   {
    "duration": 15,
    "start_time": "2021-12-25T15:29:42.910Z"
   },
   {
    "duration": 39,
    "start_time": "2021-12-25T15:29:42.930Z"
   },
   {
    "duration": 7,
    "start_time": "2021-12-25T15:29:42.972Z"
   },
   {
    "duration": 9,
    "start_time": "2021-12-25T15:29:42.981Z"
   },
   {
    "duration": 12,
    "start_time": "2021-12-25T15:29:42.993Z"
   },
   {
    "duration": 15,
    "start_time": "2021-12-25T15:29:43.008Z"
   },
   {
    "duration": 46,
    "start_time": "2021-12-25T15:29:43.025Z"
   },
   {
    "duration": 332,
    "start_time": "2021-12-25T15:29:43.074Z"
   },
   {
    "duration": 307,
    "start_time": "2021-12-25T15:29:43.408Z"
   },
   {
    "duration": 336,
    "start_time": "2021-12-25T15:29:43.717Z"
   },
   {
    "duration": 14,
    "start_time": "2021-12-25T15:29:44.068Z"
   },
   {
    "duration": 8,
    "start_time": "2021-12-25T15:29:44.085Z"
   },
   {
    "duration": 373,
    "start_time": "2021-12-25T15:29:44.096Z"
   },
   {
    "duration": 313,
    "start_time": "2021-12-25T15:29:44.472Z"
   },
   {
    "duration": 6,
    "start_time": "2021-12-25T15:29:44.788Z"
   },
   {
    "duration": 22,
    "start_time": "2021-12-25T15:29:44.797Z"
   },
   {
    "duration": 62,
    "start_time": "2021-12-25T15:29:44.824Z"
   },
   {
    "duration": 8,
    "start_time": "2021-12-25T15:29:44.889Z"
   },
   {
    "duration": 339,
    "start_time": "2021-12-25T15:29:44.899Z"
   },
   {
    "duration": 9,
    "start_time": "2021-12-25T15:29:45.241Z"
   },
   {
    "duration": 19,
    "start_time": "2021-12-25T15:29:45.252Z"
   },
   {
    "duration": 20,
    "start_time": "2021-12-25T15:29:45.274Z"
   },
   {
    "duration": 8,
    "start_time": "2021-12-25T15:29:45.297Z"
   },
   {
    "duration": 9,
    "start_time": "2021-12-25T15:29:45.308Z"
   },
   {
    "duration": 95,
    "start_time": "2021-12-25T15:29:45.320Z"
   },
   {
    "duration": 9,
    "start_time": "2021-12-25T15:29:45.418Z"
   },
   {
    "duration": 38,
    "start_time": "2021-12-25T15:29:45.430Z"
   },
   {
    "duration": 11,
    "start_time": "2021-12-25T15:29:45.471Z"
   },
   {
    "duration": 12,
    "start_time": "2021-12-25T15:29:45.485Z"
   },
   {
    "duration": 12,
    "start_time": "2021-12-25T15:29:45.500Z"
   },
   {
    "duration": 10,
    "start_time": "2021-12-25T15:29:45.514Z"
   },
   {
    "duration": 47,
    "start_time": "2021-12-25T15:29:45.526Z"
   },
   {
    "duration": 17,
    "start_time": "2021-12-25T15:32:56.371Z"
   },
   {
    "duration": 886,
    "start_time": "2021-12-25T15:33:01.292Z"
   },
   {
    "duration": 78,
    "start_time": "2021-12-25T15:33:02.180Z"
   },
   {
    "duration": 27,
    "start_time": "2021-12-25T15:33:02.261Z"
   },
   {
    "duration": 45,
    "start_time": "2021-12-25T15:33:02.291Z"
   },
   {
    "duration": 14,
    "start_time": "2021-12-25T15:33:02.338Z"
   },
   {
    "duration": 27,
    "start_time": "2021-12-25T15:33:02.369Z"
   },
   {
    "duration": 17,
    "start_time": "2021-12-25T15:33:02.399Z"
   },
   {
    "duration": 12,
    "start_time": "2021-12-25T15:33:02.422Z"
   },
   {
    "duration": 31,
    "start_time": "2021-12-25T15:33:02.468Z"
   },
   {
    "duration": 22,
    "start_time": "2021-12-25T15:33:02.501Z"
   },
   {
    "duration": 17,
    "start_time": "2021-12-25T15:33:02.526Z"
   },
   {
    "duration": 22,
    "start_time": "2021-12-25T15:33:02.545Z"
   },
   {
    "duration": 18,
    "start_time": "2021-12-25T15:33:02.570Z"
   },
   {
    "duration": 9,
    "start_time": "2021-12-25T15:33:02.591Z"
   },
   {
    "duration": 335,
    "start_time": "2021-12-25T15:33:02.603Z"
   },
   {
    "duration": 331,
    "start_time": "2021-12-25T15:33:02.940Z"
   },
   {
    "duration": 314,
    "start_time": "2021-12-25T15:33:03.273Z"
   },
   {
    "duration": 13,
    "start_time": "2021-12-25T15:33:03.590Z"
   },
   {
    "duration": 4,
    "start_time": "2021-12-25T15:33:03.605Z"
   },
   {
    "duration": 366,
    "start_time": "2021-12-25T15:33:03.612Z"
   },
   {
    "duration": 321,
    "start_time": "2021-12-25T15:33:03.980Z"
   },
   {
    "duration": 7,
    "start_time": "2021-12-25T15:33:04.304Z"
   },
   {
    "duration": 5,
    "start_time": "2021-12-25T15:33:04.316Z"
   },
   {
    "duration": 16,
    "start_time": "2021-12-25T15:33:04.323Z"
   },
   {
    "duration": 347,
    "start_time": "2021-12-25T15:33:04.342Z"
   },
   {
    "duration": 10,
    "start_time": "2021-12-25T15:33:04.691Z"
   },
   {
    "duration": 11,
    "start_time": "2021-12-25T15:33:04.703Z"
   },
   {
    "duration": 21,
    "start_time": "2021-12-25T15:33:04.716Z"
   },
   {
    "duration": 33,
    "start_time": "2021-12-25T15:33:04.739Z"
   },
   {
    "duration": 6,
    "start_time": "2021-12-25T15:33:04.775Z"
   },
   {
    "duration": 49,
    "start_time": "2021-12-25T15:33:04.784Z"
   },
   {
    "duration": 37,
    "start_time": "2021-12-25T15:33:04.836Z"
   },
   {
    "duration": 11,
    "start_time": "2021-12-25T15:33:04.875Z"
   },
   {
    "duration": 8,
    "start_time": "2021-12-25T15:33:04.888Z"
   },
   {
    "duration": 10,
    "start_time": "2021-12-25T15:33:04.898Z"
   },
   {
    "duration": 7,
    "start_time": "2021-12-25T15:33:04.911Z"
   },
   {
    "duration": 8,
    "start_time": "2021-12-25T15:33:04.967Z"
   },
   {
    "duration": 15,
    "start_time": "2021-12-25T15:33:04.978Z"
   },
   {
    "duration": 23,
    "start_time": "2021-12-25T15:33:23.618Z"
   },
   {
    "duration": 17,
    "start_time": "2021-12-25T15:33:26.585Z"
   },
   {
    "duration": 1096,
    "start_time": "2021-12-25T15:33:31.105Z"
   },
   {
    "duration": 79,
    "start_time": "2021-12-25T15:33:32.204Z"
   },
   {
    "duration": 22,
    "start_time": "2021-12-25T15:33:32.286Z"
   },
   {
    "duration": 28,
    "start_time": "2021-12-25T15:33:32.311Z"
   },
   {
    "duration": 25,
    "start_time": "2021-12-25T15:33:32.369Z"
   },
   {
    "duration": 22,
    "start_time": "2021-12-25T15:33:32.396Z"
   },
   {
    "duration": 52,
    "start_time": "2021-12-25T15:33:32.420Z"
   },
   {
    "duration": 8,
    "start_time": "2021-12-25T15:33:32.475Z"
   },
   {
    "duration": 20,
    "start_time": "2021-12-25T15:33:32.487Z"
   },
   {
    "duration": 11,
    "start_time": "2021-12-25T15:33:32.510Z"
   },
   {
    "duration": 44,
    "start_time": "2021-12-25T15:33:32.523Z"
   },
   {
    "duration": 24,
    "start_time": "2021-12-25T15:33:32.570Z"
   },
   {
    "duration": 15,
    "start_time": "2021-12-25T15:33:32.597Z"
   },
   {
    "duration": 15,
    "start_time": "2021-12-25T15:33:32.615Z"
   },
   {
    "duration": 348,
    "start_time": "2021-12-25T15:33:32.632Z"
   },
   {
    "duration": 422,
    "start_time": "2021-12-25T15:33:32.982Z"
   },
   {
    "duration": 444,
    "start_time": "2021-12-25T15:33:33.407Z"
   },
   {
    "duration": 24,
    "start_time": "2021-12-25T15:33:33.853Z"
   },
   {
    "duration": 10,
    "start_time": "2021-12-25T15:33:33.881Z"
   },
   {
    "duration": 375,
    "start_time": "2021-12-25T15:33:33.894Z"
   },
   {
    "duration": 341,
    "start_time": "2021-12-25T15:33:34.272Z"
   },
   {
    "duration": 7,
    "start_time": "2021-12-25T15:33:34.616Z"
   },
   {
    "duration": 5,
    "start_time": "2021-12-25T15:33:34.626Z"
   },
   {
    "duration": 35,
    "start_time": "2021-12-25T15:33:34.634Z"
   },
   {
    "duration": 323,
    "start_time": "2021-12-25T15:33:34.672Z"
   },
   {
    "duration": 10,
    "start_time": "2021-12-25T15:33:34.999Z"
   },
   {
    "duration": 10,
    "start_time": "2021-12-25T15:33:35.015Z"
   },
   {
    "duration": 47,
    "start_time": "2021-12-25T15:33:35.029Z"
   },
   {
    "duration": 24,
    "start_time": "2021-12-25T15:33:35.079Z"
   },
   {
    "duration": 30,
    "start_time": "2021-12-25T15:33:35.106Z"
   },
   {
    "duration": 55,
    "start_time": "2021-12-25T15:33:35.138Z"
   },
   {
    "duration": 9,
    "start_time": "2021-12-25T15:33:35.196Z"
   },
   {
    "duration": 15,
    "start_time": "2021-12-25T15:33:35.208Z"
   },
   {
    "duration": 13,
    "start_time": "2021-12-25T15:33:35.225Z"
   },
   {
    "duration": 32,
    "start_time": "2021-12-25T15:33:35.241Z"
   },
   {
    "duration": 14,
    "start_time": "2021-12-25T15:33:35.276Z"
   },
   {
    "duration": 18,
    "start_time": "2021-12-25T15:33:35.293Z"
   },
   {
    "duration": 22,
    "start_time": "2021-12-25T15:33:35.314Z"
   },
   {
    "duration": 9,
    "start_time": "2021-12-25T16:06:55.936Z"
   },
   {
    "duration": 10,
    "start_time": "2021-12-25T16:08:43.604Z"
   },
   {
    "duration": 997,
    "start_time": "2021-12-25T16:09:00.853Z"
   },
   {
    "duration": 82,
    "start_time": "2021-12-25T16:09:01.853Z"
   },
   {
    "duration": 31,
    "start_time": "2021-12-25T16:09:01.938Z"
   },
   {
    "duration": 28,
    "start_time": "2021-12-25T16:09:01.973Z"
   },
   {
    "duration": 23,
    "start_time": "2021-12-25T16:09:02.004Z"
   },
   {
    "duration": 53,
    "start_time": "2021-12-25T16:09:02.029Z"
   },
   {
    "duration": 43,
    "start_time": "2021-12-25T16:09:02.085Z"
   },
   {
    "duration": 32,
    "start_time": "2021-12-25T16:09:02.132Z"
   },
   {
    "duration": 35,
    "start_time": "2021-12-25T16:09:02.168Z"
   },
   {
    "duration": 30,
    "start_time": "2021-12-25T16:09:02.206Z"
   },
   {
    "duration": 38,
    "start_time": "2021-12-25T16:09:02.239Z"
   },
   {
    "duration": 16,
    "start_time": "2021-12-25T16:09:02.279Z"
   },
   {
    "duration": 15,
    "start_time": "2021-12-25T16:09:02.297Z"
   },
   {
    "duration": 325,
    "start_time": "2021-12-25T16:09:02.315Z"
   },
   {
    "duration": 331,
    "start_time": "2021-12-25T16:09:02.642Z"
   },
   {
    "duration": 314,
    "start_time": "2021-12-25T16:09:02.975Z"
   },
   {
    "duration": 13,
    "start_time": "2021-12-25T16:09:03.292Z"
   },
   {
    "duration": 4,
    "start_time": "2021-12-25T16:09:03.308Z"
   },
   {
    "duration": 372,
    "start_time": "2021-12-25T16:09:03.314Z"
   },
   {
    "duration": 312,
    "start_time": "2021-12-25T16:09:03.688Z"
   },
   {
    "duration": 7,
    "start_time": "2021-12-25T16:09:04.003Z"
   },
   {
    "duration": 5,
    "start_time": "2021-12-25T16:09:04.013Z"
   },
   {
    "duration": 44,
    "start_time": "2021-12-25T16:09:04.023Z"
   },
   {
    "duration": 327,
    "start_time": "2021-12-25T16:09:04.070Z"
   },
   {
    "duration": 13,
    "start_time": "2021-12-25T16:09:04.400Z"
   },
   {
    "duration": 22,
    "start_time": "2021-12-25T16:09:04.416Z"
   },
   {
    "duration": 44,
    "start_time": "2021-12-25T16:09:04.441Z"
   },
   {
    "duration": 8,
    "start_time": "2021-12-25T16:09:04.488Z"
   },
   {
    "duration": 8,
    "start_time": "2021-12-25T16:09:04.499Z"
   },
   {
    "duration": 102,
    "start_time": "2021-12-25T16:09:04.511Z"
   },
   {
    "duration": 9,
    "start_time": "2021-12-25T16:09:04.616Z"
   },
   {
    "duration": 9,
    "start_time": "2021-12-25T16:09:04.628Z"
   },
   {
    "duration": 34,
    "start_time": "2021-12-25T16:09:04.639Z"
   },
   {
    "duration": 9,
    "start_time": "2021-12-25T16:09:04.676Z"
   },
   {
    "duration": 9,
    "start_time": "2021-12-25T16:09:04.687Z"
   },
   {
    "duration": 9,
    "start_time": "2021-12-25T16:09:04.698Z"
   },
   {
    "duration": 16,
    "start_time": "2021-12-25T16:09:04.710Z"
   },
   {
    "duration": 1020,
    "start_time": "2021-12-25T16:09:48.321Z"
   },
   {
    "duration": 79,
    "start_time": "2021-12-25T16:09:49.344Z"
   },
   {
    "duration": 45,
    "start_time": "2021-12-25T16:09:49.426Z"
   },
   {
    "duration": 26,
    "start_time": "2021-12-25T16:09:49.474Z"
   },
   {
    "duration": 23,
    "start_time": "2021-12-25T16:09:49.503Z"
   },
   {
    "duration": 48,
    "start_time": "2021-12-25T16:09:49.529Z"
   },
   {
    "duration": 9,
    "start_time": "2021-12-25T16:09:49.580Z"
   },
   {
    "duration": 19,
    "start_time": "2021-12-25T16:09:49.594Z"
   },
   {
    "duration": 51,
    "start_time": "2021-12-25T16:09:49.616Z"
   },
   {
    "duration": 8,
    "start_time": "2021-12-25T16:09:49.670Z"
   },
   {
    "duration": 12,
    "start_time": "2021-12-25T16:09:49.681Z"
   },
   {
    "duration": 12,
    "start_time": "2021-12-25T16:09:49.696Z"
   },
   {
    "duration": 56,
    "start_time": "2021-12-25T16:09:49.711Z"
   },
   {
    "duration": 344,
    "start_time": "2021-12-25T16:09:49.770Z"
   },
   {
    "duration": 352,
    "start_time": "2021-12-25T16:09:50.117Z"
   },
   {
    "duration": 343,
    "start_time": "2021-12-25T16:09:50.472Z"
   },
   {
    "duration": 18,
    "start_time": "2021-12-25T16:09:50.819Z"
   },
   {
    "duration": 28,
    "start_time": "2021-12-25T16:09:50.839Z"
   },
   {
    "duration": 488,
    "start_time": "2021-12-25T16:09:50.870Z"
   },
   {
    "duration": 323,
    "start_time": "2021-12-25T16:09:51.361Z"
   },
   {
    "duration": 6,
    "start_time": "2021-12-25T16:09:51.686Z"
   },
   {
    "duration": 45,
    "start_time": "2021-12-25T16:09:51.695Z"
   },
   {
    "duration": 28,
    "start_time": "2021-12-25T16:09:51.745Z"
   },
   {
    "duration": 344,
    "start_time": "2021-12-25T16:09:51.776Z"
   },
   {
    "duration": 10,
    "start_time": "2021-12-25T16:09:52.123Z"
   },
   {
    "duration": 35,
    "start_time": "2021-12-25T16:09:52.136Z"
   },
   {
    "duration": 31,
    "start_time": "2021-12-25T16:09:52.173Z"
   },
   {
    "duration": 7,
    "start_time": "2021-12-25T16:09:52.206Z"
   },
   {
    "duration": 17,
    "start_time": "2021-12-25T16:09:52.216Z"
   },
   {
    "duration": 82,
    "start_time": "2021-12-25T16:09:52.236Z"
   },
   {
    "duration": 11,
    "start_time": "2021-12-25T16:09:52.320Z"
   },
   {
    "duration": 33,
    "start_time": "2021-12-25T16:09:52.334Z"
   },
   {
    "duration": 22,
    "start_time": "2021-12-25T16:09:52.370Z"
   },
   {
    "duration": 67,
    "start_time": "2021-12-25T16:09:52.396Z"
   },
   {
    "duration": 10,
    "start_time": "2021-12-25T16:09:52.465Z"
   },
   {
    "duration": 9,
    "start_time": "2021-12-25T16:09:52.478Z"
   },
   {
    "duration": 34,
    "start_time": "2021-12-25T16:09:52.490Z"
   },
   {
    "duration": 902,
    "start_time": "2021-12-25T16:11:20.240Z"
   },
   {
    "duration": 79,
    "start_time": "2021-12-25T16:11:21.145Z"
   },
   {
    "duration": 43,
    "start_time": "2021-12-25T16:11:21.233Z"
   },
   {
    "duration": 30,
    "start_time": "2021-12-25T16:11:21.280Z"
   },
   {
    "duration": 59,
    "start_time": "2021-12-25T16:11:21.313Z"
   },
   {
    "duration": 15,
    "start_time": "2021-12-25T16:11:21.376Z"
   },
   {
    "duration": 7,
    "start_time": "2021-12-25T16:11:21.396Z"
   },
   {
    "duration": 60,
    "start_time": "2021-12-25T16:11:21.407Z"
   },
   {
    "duration": 10,
    "start_time": "2021-12-25T16:11:21.470Z"
   },
   {
    "duration": 11,
    "start_time": "2021-12-25T16:11:21.483Z"
   },
   {
    "duration": 14,
    "start_time": "2021-12-25T16:11:21.497Z"
   },
   {
    "duration": 59,
    "start_time": "2021-12-25T16:11:21.514Z"
   },
   {
    "duration": 11,
    "start_time": "2021-12-25T16:11:21.576Z"
   },
   {
    "duration": 346,
    "start_time": "2021-12-25T16:11:21.590Z"
   },
   {
    "duration": 385,
    "start_time": "2021-12-25T16:11:21.939Z"
   },
   {
    "duration": 325,
    "start_time": "2021-12-25T16:11:22.327Z"
   },
   {
    "duration": 25,
    "start_time": "2021-12-25T16:11:22.655Z"
   },
   {
    "duration": 3,
    "start_time": "2021-12-25T16:11:22.683Z"
   },
   {
    "duration": 389,
    "start_time": "2021-12-25T16:11:22.688Z"
   },
   {
    "duration": 326,
    "start_time": "2021-12-25T16:11:23.079Z"
   },
   {
    "duration": 7,
    "start_time": "2021-12-25T16:11:23.407Z"
   },
   {
    "duration": 7,
    "start_time": "2021-12-25T16:11:23.420Z"
   },
   {
    "duration": 36,
    "start_time": "2021-12-25T16:11:23.431Z"
   },
   {
    "duration": 429,
    "start_time": "2021-12-25T16:11:23.470Z"
   },
   {
    "duration": 12,
    "start_time": "2021-12-25T16:11:23.902Z"
   },
   {
    "duration": 24,
    "start_time": "2021-12-25T16:11:23.917Z"
   },
   {
    "duration": 37,
    "start_time": "2021-12-25T16:11:23.944Z"
   },
   {
    "duration": 7,
    "start_time": "2021-12-25T16:11:23.983Z"
   },
   {
    "duration": 9,
    "start_time": "2021-12-25T16:11:23.993Z"
   },
   {
    "duration": 78,
    "start_time": "2021-12-25T16:11:24.005Z"
   },
   {
    "duration": 10,
    "start_time": "2021-12-25T16:11:24.085Z"
   },
   {
    "duration": 8,
    "start_time": "2021-12-25T16:11:24.097Z"
   },
   {
    "duration": 9,
    "start_time": "2021-12-25T16:11:24.107Z"
   },
   {
    "duration": 14,
    "start_time": "2021-12-25T16:11:24.118Z"
   },
   {
    "duration": 9,
    "start_time": "2021-12-25T16:11:24.168Z"
   },
   {
    "duration": 11,
    "start_time": "2021-12-25T16:11:24.180Z"
   },
   {
    "duration": 12,
    "start_time": "2021-12-25T16:11:24.194Z"
   },
   {
    "duration": 89,
    "start_time": "2021-12-25T16:15:16.364Z"
   },
   {
    "duration": 44,
    "start_time": "2021-12-25T16:16:16.460Z"
   },
   {
    "duration": 66,
    "start_time": "2021-12-25T16:16:28.016Z"
   },
   {
    "duration": 48,
    "start_time": "2021-12-25T16:17:32.913Z"
   },
   {
    "duration": 42,
    "start_time": "2021-12-25T16:17:37.341Z"
   },
   {
    "duration": 874,
    "start_time": "2021-12-25T16:17:46.596Z"
   },
   {
    "duration": 80,
    "start_time": "2021-12-25T16:17:47.472Z"
   },
   {
    "duration": 26,
    "start_time": "2021-12-25T16:17:47.555Z"
   },
   {
    "duration": 28,
    "start_time": "2021-12-25T16:17:47.584Z"
   },
   {
    "duration": 53,
    "start_time": "2021-12-25T16:17:47.614Z"
   },
   {
    "duration": 13,
    "start_time": "2021-12-25T16:17:47.670Z"
   },
   {
    "duration": 7,
    "start_time": "2021-12-25T16:17:47.685Z"
   },
   {
    "duration": 19,
    "start_time": "2021-12-25T16:17:47.696Z"
   },
   {
    "duration": 100,
    "start_time": "2021-12-25T16:17:47.718Z"
   },
   {
    "duration": 7,
    "start_time": "2021-12-25T16:17:47.821Z"
   },
   {
    "duration": 36,
    "start_time": "2021-12-25T16:17:47.831Z"
   },
   {
    "duration": 11,
    "start_time": "2021-12-25T16:17:47.869Z"
   },
   {
    "duration": 8,
    "start_time": "2021-12-25T16:17:47.882Z"
   },
   {
    "duration": 340,
    "start_time": "2021-12-25T16:17:47.892Z"
   },
   {
    "duration": 311,
    "start_time": "2021-12-25T16:17:48.235Z"
   },
   {
    "duration": 309,
    "start_time": "2021-12-25T16:17:48.549Z"
   },
   {
    "duration": 15,
    "start_time": "2021-12-25T16:17:48.868Z"
   },
   {
    "duration": 4,
    "start_time": "2021-12-25T16:17:48.886Z"
   },
   {
    "duration": 378,
    "start_time": "2021-12-25T16:17:48.893Z"
   },
   {
    "duration": 315,
    "start_time": "2021-12-25T16:17:49.274Z"
   },
   {
    "duration": 9,
    "start_time": "2021-12-25T16:17:49.592Z"
   },
   {
    "duration": 4,
    "start_time": "2021-12-25T16:17:49.604Z"
   },
   {
    "duration": 9,
    "start_time": "2021-12-25T16:17:49.615Z"
   },
   {
    "duration": 356,
    "start_time": "2021-12-25T16:17:49.627Z"
   },
   {
    "duration": 11,
    "start_time": "2021-12-25T16:17:49.986Z"
   },
   {
    "duration": 20,
    "start_time": "2021-12-25T16:17:49.999Z"
   },
   {
    "duration": 20,
    "start_time": "2021-12-25T16:17:50.022Z"
   },
   {
    "duration": 29,
    "start_time": "2021-12-25T16:17:50.045Z"
   },
   {
    "duration": 9,
    "start_time": "2021-12-25T16:17:50.077Z"
   },
   {
    "duration": 83,
    "start_time": "2021-12-25T16:17:50.089Z"
   },
   {
    "duration": 11,
    "start_time": "2021-12-25T16:17:50.175Z"
   },
   {
    "duration": 22,
    "start_time": "2021-12-25T16:17:50.189Z"
   },
   {
    "duration": 10,
    "start_time": "2021-12-25T16:17:50.214Z"
   },
   {
    "duration": 40,
    "start_time": "2021-12-25T16:17:50.227Z"
   },
   {
    "duration": 7,
    "start_time": "2021-12-25T16:17:50.270Z"
   },
   {
    "duration": 11,
    "start_time": "2021-12-25T16:17:50.280Z"
   },
   {
    "duration": 13,
    "start_time": "2021-12-25T16:17:50.293Z"
   },
   {
    "duration": 18,
    "start_time": "2021-12-25T16:36:49.512Z"
   },
   {
    "duration": 18,
    "start_time": "2021-12-25T16:37:11.132Z"
   },
   {
    "duration": 35,
    "start_time": "2021-12-25T16:37:22.506Z"
   },
   {
    "duration": 93,
    "start_time": "2021-12-25T16:37:53.339Z"
   },
   {
    "duration": 36,
    "start_time": "2021-12-25T16:38:32.607Z"
   },
   {
    "duration": 35,
    "start_time": "2021-12-25T16:39:00.496Z"
   },
   {
    "duration": 42,
    "start_time": "2021-12-25T16:39:40.092Z"
   },
   {
    "duration": 18,
    "start_time": "2021-12-25T16:43:34.065Z"
   },
   {
    "duration": 39,
    "start_time": "2021-12-25T16:43:34.835Z"
   },
   {
    "duration": 21,
    "start_time": "2021-12-25T16:43:35.596Z"
   },
   {
    "duration": 19,
    "start_time": "2021-12-25T16:44:49.889Z"
   },
   {
    "duration": 21,
    "start_time": "2021-12-25T16:45:57.665Z"
   },
   {
    "duration": 30,
    "start_time": "2021-12-25T16:46:04.863Z"
   },
   {
    "duration": 10,
    "start_time": "2021-12-25T16:56:55.012Z"
   },
   {
    "duration": 10,
    "start_time": "2021-12-25T17:04:03.172Z"
   },
   {
    "duration": 6672,
    "start_time": "2021-12-25T17:06:34.495Z"
   },
   {
    "duration": 6582,
    "start_time": "2021-12-25T17:07:04.353Z"
   },
   {
    "duration": 5,
    "start_time": "2021-12-25T17:07:19.463Z"
   },
   {
    "duration": 7453,
    "start_time": "2021-12-25T17:07:31.733Z"
   },
   {
    "duration": 6631,
    "start_time": "2021-12-25T17:07:50.534Z"
   },
   {
    "duration": 5,
    "start_time": "2021-12-25T17:07:57.876Z"
   },
   {
    "duration": 943,
    "start_time": "2021-12-25T17:08:35.255Z"
   },
   {
    "duration": 34,
    "start_time": "2021-12-25T17:18:21.640Z"
   },
   {
    "duration": 270,
    "start_time": "2021-12-25T17:20:20.440Z"
   },
   {
    "duration": 940,
    "start_time": "2021-12-25T17:21:42.027Z"
   },
   {
    "duration": 13,
    "start_time": "2021-12-25T17:22:21.446Z"
   },
   {
    "duration": 6,
    "start_time": "2021-12-25T17:27:12.359Z"
   },
   {
    "duration": 8,
    "start_time": "2021-12-25T17:27:22.168Z"
   },
   {
    "duration": 9,
    "start_time": "2021-12-25T17:27:34.439Z"
   },
   {
    "duration": 8,
    "start_time": "2021-12-25T17:27:42.145Z"
   },
   {
    "duration": 8,
    "start_time": "2021-12-25T17:27:47.446Z"
   },
   {
    "duration": 260,
    "start_time": "2021-12-25T17:27:59.565Z"
   },
   {
    "duration": 890,
    "start_time": "2021-12-25T17:28:21.922Z"
   },
   {
    "duration": 10,
    "start_time": "2021-12-25T17:31:11.231Z"
   },
   {
    "duration": 6,
    "start_time": "2021-12-25T17:52:53.940Z"
   },
   {
    "duration": 11,
    "start_time": "2021-12-25T17:52:59.565Z"
   },
   {
    "duration": 88,
    "start_time": "2021-12-25T18:00:36.956Z"
   },
   {
    "duration": 294,
    "start_time": "2021-12-25T18:00:43.393Z"
   },
   {
    "duration": 4,
    "start_time": "2021-12-25T18:00:49.330Z"
   },
   {
    "duration": 267,
    "start_time": "2021-12-25T18:00:51.417Z"
   },
   {
    "duration": 30,
    "start_time": "2021-12-25T18:01:11.910Z"
   },
   {
    "duration": 7,
    "start_time": "2021-12-25T18:01:30.616Z"
   },
   {
    "duration": 5,
    "start_time": "2021-12-25T18:01:33.957Z"
   },
   {
    "duration": 11,
    "start_time": "2021-12-25T18:01:40.164Z"
   },
   {
    "duration": 4,
    "start_time": "2021-12-25T18:01:44.208Z"
   },
   {
    "duration": 6,
    "start_time": "2021-12-25T18:01:44.690Z"
   },
   {
    "duration": 28,
    "start_time": "2021-12-25T18:02:02.791Z"
   },
   {
    "duration": 18,
    "start_time": "2021-12-25T18:04:04.403Z"
   },
   {
    "duration": 26,
    "start_time": "2021-12-25T18:08:59.829Z"
   },
   {
    "duration": 7,
    "start_time": "2021-12-25T18:09:06.688Z"
   },
   {
    "duration": 12,
    "start_time": "2021-12-25T18:09:59.585Z"
   },
   {
    "duration": 16,
    "start_time": "2021-12-25T18:10:16.522Z"
   },
   {
    "duration": 12,
    "start_time": "2021-12-25T18:10:47.205Z"
   },
   {
    "duration": 11,
    "start_time": "2021-12-25T18:10:55.887Z"
   },
   {
    "duration": 279,
    "start_time": "2021-12-25T18:11:55.698Z"
   },
   {
    "duration": 282,
    "start_time": "2021-12-25T18:12:08.278Z"
   },
   {
    "duration": 12,
    "start_time": "2021-12-25T18:12:35.770Z"
   },
   {
    "duration": 12,
    "start_time": "2021-12-25T18:12:40.674Z"
   },
   {
    "duration": 11,
    "start_time": "2021-12-25T18:12:46.754Z"
   },
   {
    "duration": 11,
    "start_time": "2021-12-25T18:13:02.914Z"
   },
   {
    "duration": 50,
    "start_time": "2021-12-25T18:14:21.223Z"
   },
   {
    "duration": 98,
    "start_time": "2021-12-25T18:16:02.868Z"
   },
   {
    "duration": 277,
    "start_time": "2021-12-25T18:16:32.623Z"
   },
   {
    "duration": 269,
    "start_time": "2021-12-25T18:16:50.575Z"
   },
   {
    "duration": 56,
    "start_time": "2021-12-25T18:17:03.282Z"
   },
   {
    "duration": 100,
    "start_time": "2021-12-25T18:18:01.767Z"
   },
   {
    "duration": 100,
    "start_time": "2021-12-25T18:18:12.917Z"
   },
   {
    "duration": 86,
    "start_time": "2021-12-25T18:18:48.791Z"
   },
   {
    "duration": 314,
    "start_time": "2021-12-25T18:18:58.347Z"
   },
   {
    "duration": 56,
    "start_time": "2021-12-25T18:19:17.641Z"
   },
   {
    "duration": 56,
    "start_time": "2021-12-25T18:20:12.093Z"
   },
   {
    "duration": 61,
    "start_time": "2021-12-25T18:20:44.895Z"
   },
   {
    "duration": 5,
    "start_time": "2021-12-25T18:22:31.577Z"
   },
   {
    "duration": 4,
    "start_time": "2021-12-25T18:22:44.055Z"
   },
   {
    "duration": 5,
    "start_time": "2021-12-25T18:22:54.866Z"
   },
   {
    "duration": 4,
    "start_time": "2021-12-25T18:24:29.613Z"
   },
   {
    "duration": 4,
    "start_time": "2021-12-25T18:24:40.041Z"
   },
   {
    "duration": 4,
    "start_time": "2021-12-25T18:25:02.073Z"
   },
   {
    "duration": 89,
    "start_time": "2021-12-25T18:25:21.439Z"
   },
   {
    "duration": 64,
    "start_time": "2021-12-25T18:25:41.930Z"
   },
   {
    "duration": 4,
    "start_time": "2021-12-25T18:26:10.867Z"
   },
   {
    "duration": 5,
    "start_time": "2021-12-25T18:26:20.486Z"
   },
   {
    "duration": 69,
    "start_time": "2021-12-25T18:26:53.582Z"
   },
   {
    "duration": 91,
    "start_time": "2021-12-25T18:28:23.066Z"
   },
   {
    "duration": 68,
    "start_time": "2021-12-25T18:28:32.826Z"
   },
   {
    "duration": 70,
    "start_time": "2021-12-25T18:29:04.947Z"
   },
   {
    "duration": 85,
    "start_time": "2021-12-25T18:29:50.478Z"
   },
   {
    "duration": 73,
    "start_time": "2021-12-25T18:29:57.899Z"
   },
   {
    "duration": 74,
    "start_time": "2021-12-25T18:30:20.940Z"
   },
   {
    "duration": 303,
    "start_time": "2021-12-25T18:30:31.023Z"
   },
   {
    "duration": 271,
    "start_time": "2021-12-25T18:31:01.582Z"
   },
   {
    "duration": 257,
    "start_time": "2021-12-25T18:33:21.272Z"
   },
   {
    "duration": 76,
    "start_time": "2021-12-25T18:37:04.337Z"
   },
   {
    "duration": 289,
    "start_time": "2021-12-25T18:37:15.462Z"
   },
   {
    "duration": 102,
    "start_time": "2021-12-25T18:37:21.876Z"
   },
   {
    "duration": 97,
    "start_time": "2021-12-25T18:37:39.446Z"
   },
   {
    "duration": 123,
    "start_time": "2021-12-25T18:38:37.351Z"
   },
   {
    "duration": 123,
    "start_time": "2021-12-25T18:40:44.701Z"
   },
   {
    "duration": 294,
    "start_time": "2021-12-25T18:43:21.406Z"
   },
   {
    "duration": 318,
    "start_time": "2021-12-25T18:43:28.438Z"
   },
   {
    "duration": 84,
    "start_time": "2021-12-25T18:43:38.049Z"
   },
   {
    "duration": 4,
    "start_time": "2021-12-25T18:43:49.224Z"
   },
   {
    "duration": 108,
    "start_time": "2021-12-25T18:43:50.398Z"
   },
   {
    "duration": 98,
    "start_time": "2021-12-25T18:45:14.526Z"
   },
   {
    "duration": 5,
    "start_time": "2021-12-25T18:45:29.216Z"
   },
   {
    "duration": 4,
    "start_time": "2021-12-25T18:46:01.581Z"
   },
   {
    "duration": 142,
    "start_time": "2021-12-25T18:46:02.248Z"
   },
   {
    "duration": 5,
    "start_time": "2021-12-25T18:46:04.756Z"
   },
   {
    "duration": 134,
    "start_time": "2021-12-25T18:57:29.543Z"
   },
   {
    "duration": 122,
    "start_time": "2021-12-25T18:57:53.601Z"
   },
   {
    "duration": 115,
    "start_time": "2021-12-25T18:58:15.859Z"
   },
   {
    "duration": 98,
    "start_time": "2021-12-25T18:58:27.202Z"
   },
   {
    "duration": 280,
    "start_time": "2021-12-25T19:11:04.425Z"
   },
   {
    "duration": 140,
    "start_time": "2021-12-25T19:11:38.742Z"
   },
   {
    "duration": 443,
    "start_time": "2021-12-25T19:13:10.728Z"
   },
   {
    "duration": 139,
    "start_time": "2021-12-25T19:14:02.632Z"
   },
   {
    "duration": 153,
    "start_time": "2021-12-25T19:16:10.847Z"
   },
   {
    "duration": 98,
    "start_time": "2021-12-25T19:17:40.536Z"
   },
   {
    "duration": 138,
    "start_time": "2021-12-25T19:17:51.067Z"
   },
   {
    "duration": 122,
    "start_time": "2021-12-25T19:18:39.479Z"
   },
   {
    "duration": 105,
    "start_time": "2021-12-25T19:18:47.209Z"
   },
   {
    "duration": 98,
    "start_time": "2021-12-25T19:19:13.688Z"
   },
   {
    "duration": 138,
    "start_time": "2021-12-25T19:19:25.868Z"
   },
   {
    "duration": 100,
    "start_time": "2021-12-25T19:26:31.652Z"
   },
   {
    "duration": 106,
    "start_time": "2021-12-25T19:26:44.310Z"
   },
   {
    "duration": 103,
    "start_time": "2021-12-25T19:26:49.708Z"
   },
   {
    "duration": 99,
    "start_time": "2021-12-25T19:29:34.730Z"
   },
   {
    "duration": 69,
    "start_time": "2021-12-25T19:31:02.339Z"
   },
   {
    "duration": 78,
    "start_time": "2021-12-25T19:31:36.340Z"
   },
   {
    "duration": 13,
    "start_time": "2021-12-25T19:32:53.473Z"
   },
   {
    "duration": 112,
    "start_time": "2021-12-25T19:35:56.129Z"
   },
   {
    "duration": 66,
    "start_time": "2021-12-25T19:36:41.931Z"
   },
   {
    "duration": 9,
    "start_time": "2021-12-25T19:38:51.976Z"
   },
   {
    "duration": 269,
    "start_time": "2021-12-25T19:42:57.350Z"
   },
   {
    "duration": 9,
    "start_time": "2021-12-25T19:43:41.460Z"
   },
   {
    "duration": 7,
    "start_time": "2021-12-25T19:44:08.221Z"
   },
   {
    "duration": 9,
    "start_time": "2021-12-25T19:44:15.523Z"
   },
   {
    "duration": 8,
    "start_time": "2021-12-25T19:44:23.943Z"
   },
   {
    "duration": 273,
    "start_time": "2021-12-25T19:44:33.141Z"
   },
   {
    "duration": 348,
    "start_time": "2021-12-25T19:44:40.601Z"
   },
   {
    "duration": 10,
    "start_time": "2021-12-25T19:44:53.696Z"
   },
   {
    "duration": 104,
    "start_time": "2021-12-25T19:46:34.891Z"
   },
   {
    "duration": 93,
    "start_time": "2021-12-25T19:46:46.852Z"
   },
   {
    "duration": 92,
    "start_time": "2021-12-25T19:47:01.017Z"
   },
   {
    "duration": 290,
    "start_time": "2021-12-25T19:47:38.182Z"
   },
   {
    "duration": 89,
    "start_time": "2021-12-25T19:47:45.436Z"
   },
   {
    "duration": 107,
    "start_time": "2021-12-25T19:47:54.166Z"
   },
   {
    "duration": 52,
    "start_time": "2021-12-25T19:49:25.471Z"
   },
   {
    "duration": 53,
    "start_time": "2021-12-25T19:49:52.199Z"
   },
   {
    "duration": 1074,
    "start_time": "2021-12-25T19:49:58.421Z"
   },
   {
    "duration": 1184,
    "start_time": "2021-12-25T19:50:35.657Z"
   },
   {
    "duration": 53,
    "start_time": "2021-12-25T19:50:59.784Z"
   },
   {
    "duration": 52,
    "start_time": "2021-12-25T19:51:31.354Z"
   },
   {
    "duration": 12,
    "start_time": "2021-12-25T19:52:12.613Z"
   },
   {
    "duration": 10,
    "start_time": "2021-12-25T19:52:20.851Z"
   },
   {
    "duration": 9,
    "start_time": "2021-12-25T19:52:23.629Z"
   },
   {
    "duration": 64,
    "start_time": "2021-12-25T19:52:53.866Z"
   },
   {
    "duration": 67,
    "start_time": "2021-12-25T19:53:00.493Z"
   },
   {
    "duration": 1528,
    "start_time": "2021-12-25T19:53:05.594Z"
   },
   {
    "duration": 92,
    "start_time": "2021-12-25T19:53:22.650Z"
   },
   {
    "duration": 82,
    "start_time": "2021-12-25T19:53:40.529Z"
   },
   {
    "duration": 76,
    "start_time": "2021-12-25T19:54:19.338Z"
   },
   {
    "duration": 78,
    "start_time": "2021-12-25T19:54:41.448Z"
   },
   {
    "duration": 84,
    "start_time": "2021-12-25T19:54:47.637Z"
   },
   {
    "duration": 81,
    "start_time": "2021-12-25T19:56:34.536Z"
   },
   {
    "duration": 15,
    "start_time": "2021-12-25T19:56:45.123Z"
   },
   {
    "duration": 71,
    "start_time": "2021-12-25T19:56:48.290Z"
   },
   {
    "duration": 68,
    "start_time": "2021-12-25T19:56:57.534Z"
   },
   {
    "duration": 68,
    "start_time": "2021-12-25T19:57:00.114Z"
   },
   {
    "duration": 70,
    "start_time": "2021-12-25T19:57:08.661Z"
   },
   {
    "duration": 1303,
    "start_time": "2021-12-25T19:57:14.391Z"
   },
   {
    "duration": 7,
    "start_time": "2021-12-25T19:57:49.810Z"
   },
   {
    "duration": 60,
    "start_time": "2021-12-25T19:57:53.785Z"
   },
   {
    "duration": 105,
    "start_time": "2021-12-25T20:01:56.786Z"
   },
   {
    "duration": 4,
    "start_time": "2021-12-25T20:02:17.920Z"
   },
   {
    "duration": 1189,
    "start_time": "2021-12-25T20:02:20.992Z"
   },
   {
    "duration": 9,
    "start_time": "2021-12-25T20:02:27.142Z"
   },
   {
    "duration": 12,
    "start_time": "2021-12-25T20:02:29.218Z"
   },
   {
    "duration": 4,
    "start_time": "2021-12-25T20:02:31.813Z"
   },
   {
    "duration": 60,
    "start_time": "2021-12-25T20:02:32.682Z"
   },
   {
    "duration": 289,
    "start_time": "2021-12-25T20:11:08.008Z"
   },
   {
    "duration": 6,
    "start_time": "2021-12-25T20:11:30.888Z"
   },
   {
    "duration": 5,
    "start_time": "2021-12-25T20:11:38.468Z"
   },
   {
    "duration": 274,
    "start_time": "2021-12-25T20:11:52.570Z"
   },
   {
    "duration": 5,
    "start_time": "2021-12-25T20:13:46.024Z"
   },
   {
    "duration": 275,
    "start_time": "2021-12-25T20:15:54.244Z"
   },
   {
    "duration": 278,
    "start_time": "2021-12-25T20:16:09.974Z"
   },
   {
    "duration": 5,
    "start_time": "2021-12-25T20:17:30.928Z"
   },
   {
    "duration": 313,
    "start_time": "2021-12-25T20:17:36.555Z"
   },
   {
    "duration": 169,
    "start_time": "2021-12-25T20:18:00.882Z"
   },
   {
    "duration": 168,
    "start_time": "2021-12-25T20:18:28.226Z"
   },
   {
    "duration": 174,
    "start_time": "2021-12-25T20:18:57.240Z"
   },
   {
    "duration": 181,
    "start_time": "2021-12-25T20:19:08.390Z"
   },
   {
    "duration": 163,
    "start_time": "2021-12-25T20:19:22.106Z"
   },
   {
    "duration": 171,
    "start_time": "2021-12-25T20:19:26.340Z"
   },
   {
    "duration": 173,
    "start_time": "2021-12-25T20:19:32.213Z"
   },
   {
    "duration": 253,
    "start_time": "2021-12-25T20:20:03.004Z"
   },
   {
    "duration": 174,
    "start_time": "2021-12-25T20:21:25.927Z"
   },
   {
    "duration": 179,
    "start_time": "2021-12-25T20:21:33.380Z"
   },
   {
    "duration": 473,
    "start_time": "2021-12-25T20:22:04.996Z"
   },
   {
    "duration": 100,
    "start_time": "2021-12-25T20:23:15.499Z"
   },
   {
    "duration": 304,
    "start_time": "2021-12-25T20:23:20.634Z"
   },
   {
    "duration": 366,
    "start_time": "2021-12-25T20:23:38.037Z"
   },
   {
    "duration": 272,
    "start_time": "2021-12-25T20:24:11.835Z"
   },
   {
    "duration": 270,
    "start_time": "2021-12-25T20:24:27.812Z"
   },
   {
    "duration": 277,
    "start_time": "2021-12-25T20:25:33.290Z"
   },
   {
    "duration": 305,
    "start_time": "2021-12-25T20:25:38.298Z"
   },
   {
    "duration": 11,
    "start_time": "2021-12-25T20:31:11.063Z"
   },
   {
    "duration": 11,
    "start_time": "2021-12-25T20:32:16.162Z"
   },
   {
    "duration": 281,
    "start_time": "2021-12-25T20:59:47.425Z"
   },
   {
    "duration": 5,
    "start_time": "2021-12-25T20:59:53.599Z"
   },
   {
    "duration": 290,
    "start_time": "2021-12-25T21:01:18.405Z"
   },
   {
    "duration": 357,
    "start_time": "2021-12-25T21:01:42.626Z"
   },
   {
    "duration": 266,
    "start_time": "2021-12-25T21:02:25.481Z"
   },
   {
    "duration": 95,
    "start_time": "2021-12-25T21:02:37.981Z"
   },
   {
    "duration": 274,
    "start_time": "2021-12-25T21:02:49.608Z"
   },
   {
    "duration": 47,
    "start_time": "2021-12-25T21:02:56.885Z"
   },
   {
    "duration": 44,
    "start_time": "2021-12-25T21:03:22.949Z"
   },
   {
    "duration": 50,
    "start_time": "2021-12-25T21:04:57.746Z"
   },
   {
    "duration": 26,
    "start_time": "2021-12-25T21:05:04.127Z"
   },
   {
    "duration": 276,
    "start_time": "2021-12-25T21:06:52.185Z"
   },
   {
    "duration": 272,
    "start_time": "2021-12-25T21:07:03.302Z"
   },
   {
    "duration": 919,
    "start_time": "2021-12-25T21:07:13.803Z"
   },
   {
    "duration": 92,
    "start_time": "2021-12-25T21:07:14.725Z"
   },
   {
    "duration": 21,
    "start_time": "2021-12-25T21:07:14.821Z"
   },
   {
    "duration": 52,
    "start_time": "2021-12-25T21:07:14.844Z"
   },
   {
    "duration": 23,
    "start_time": "2021-12-25T21:07:14.899Z"
   },
   {
    "duration": 54,
    "start_time": "2021-12-25T21:07:14.924Z"
   },
   {
    "duration": 8,
    "start_time": "2021-12-25T21:07:14.981Z"
   },
   {
    "duration": 19,
    "start_time": "2021-12-25T21:07:14.991Z"
   },
   {
    "duration": 128,
    "start_time": "2021-12-25T21:07:15.014Z"
   },
   {
    "duration": 22,
    "start_time": "2021-12-25T21:07:15.145Z"
   },
   {
    "duration": 16,
    "start_time": "2021-12-25T21:07:15.171Z"
   },
   {
    "duration": 10,
    "start_time": "2021-12-25T21:07:15.189Z"
   },
   {
    "duration": 8,
    "start_time": "2021-12-25T21:07:15.201Z"
   },
   {
    "duration": 395,
    "start_time": "2021-12-25T21:07:15.212Z"
   },
   {
    "duration": 336,
    "start_time": "2021-12-25T21:07:15.609Z"
   },
   {
    "duration": 345,
    "start_time": "2021-12-25T21:07:15.948Z"
   },
   {
    "duration": 14,
    "start_time": "2021-12-25T21:07:16.295Z"
   },
   {
    "duration": 3,
    "start_time": "2021-12-25T21:07:16.312Z"
   },
   {
    "duration": 406,
    "start_time": "2021-12-25T21:07:16.319Z"
   },
   {
    "duration": 342,
    "start_time": "2021-12-25T21:07:16.728Z"
   },
   {
    "duration": 11,
    "start_time": "2021-12-25T21:07:17.074Z"
   },
   {
    "duration": 4,
    "start_time": "2021-12-25T21:07:17.088Z"
   },
   {
    "duration": 17,
    "start_time": "2021-12-25T21:07:17.095Z"
   },
   {
    "duration": 376,
    "start_time": "2021-12-25T21:07:17.115Z"
   },
   {
    "duration": 10,
    "start_time": "2021-12-25T21:07:17.493Z"
   },
   {
    "duration": 15,
    "start_time": "2021-12-25T21:07:17.506Z"
   },
   {
    "duration": 54,
    "start_time": "2021-12-25T21:07:17.527Z"
   },
   {
    "duration": 7,
    "start_time": "2021-12-25T21:07:17.584Z"
   },
   {
    "duration": 8,
    "start_time": "2021-12-25T21:07:17.594Z"
   },
   {
    "duration": 89,
    "start_time": "2021-12-25T21:07:17.605Z"
   },
   {
    "duration": 9,
    "start_time": "2021-12-25T21:07:17.697Z"
   },
   {
    "duration": 14,
    "start_time": "2021-12-25T21:07:17.708Z"
   },
   {
    "duration": 10,
    "start_time": "2021-12-25T21:07:17.724Z"
   },
   {
    "duration": 12,
    "start_time": "2021-12-25T21:07:17.773Z"
   },
   {
    "duration": 12,
    "start_time": "2021-12-25T21:07:17.789Z"
   },
   {
    "duration": 8,
    "start_time": "2021-12-25T21:07:17.805Z"
   },
   {
    "duration": 64,
    "start_time": "2021-12-25T21:07:17.816Z"
   },
   {
    "duration": 42,
    "start_time": "2021-12-25T21:07:17.883Z"
   },
   {
    "duration": 62,
    "start_time": "2021-12-25T21:07:17.927Z"
   },
   {
    "duration": 10,
    "start_time": "2021-12-25T21:07:17.992Z"
   },
   {
    "duration": 1044,
    "start_time": "2021-12-25T21:07:18.005Z"
   },
   {
    "duration": 4,
    "start_time": "2021-12-25T21:07:19.052Z"
   },
   {
    "duration": 98,
    "start_time": "2021-12-25T21:07:19.069Z"
   },
   {
    "duration": 330,
    "start_time": "2021-12-25T21:07:19.170Z"
   },
   {
    "duration": 26,
    "start_time": "2021-12-25T21:07:19.503Z"
   },
   {
    "duration": 4,
    "start_time": "2021-12-25T21:07:19.532Z"
   },
   {
    "duration": 484,
    "start_time": "2021-12-25T21:17:27.011Z"
   },
   {
    "duration": 258,
    "start_time": "2021-12-25T21:18:22.522Z"
   },
   {
    "duration": 9,
    "start_time": "2021-12-25T21:18:31.355Z"
   },
   {
    "duration": 9,
    "start_time": "2021-12-25T21:22:47.128Z"
   },
   {
    "duration": 270,
    "start_time": "2021-12-25T21:23:11.610Z"
   },
   {
    "duration": 277,
    "start_time": "2021-12-25T21:23:21.705Z"
   },
   {
    "duration": 303,
    "start_time": "2021-12-25T21:23:33.277Z"
   },
   {
    "duration": 8,
    "start_time": "2021-12-25T21:23:47.013Z"
   },
   {
    "duration": 8,
    "start_time": "2021-12-25T21:23:54.440Z"
   },
   {
    "duration": 256,
    "start_time": "2021-12-25T21:25:55.757Z"
   },
   {
    "duration": 9,
    "start_time": "2021-12-25T21:26:11.597Z"
   },
   {
    "duration": 7,
    "start_time": "2021-12-25T21:26:23.232Z"
   },
   {
    "duration": 8,
    "start_time": "2021-12-25T21:26:36.016Z"
   },
   {
    "duration": 323,
    "start_time": "2021-12-25T21:26:56.587Z"
   },
   {
    "duration": 275,
    "start_time": "2021-12-25T21:27:18.466Z"
   },
   {
    "duration": 288,
    "start_time": "2021-12-25T21:31:18.663Z"
   },
   {
    "duration": 284,
    "start_time": "2021-12-25T21:32:11.771Z"
   },
   {
    "duration": 192,
    "start_time": "2021-12-25T21:32:33.475Z"
   },
   {
    "duration": 275,
    "start_time": "2021-12-25T21:32:42.388Z"
   },
   {
    "duration": 8,
    "start_time": "2021-12-25T21:35:07.672Z"
   },
   {
    "duration": 9,
    "start_time": "2021-12-25T21:36:11.533Z"
   },
   {
    "duration": 8,
    "start_time": "2021-12-25T21:36:24.048Z"
   },
   {
    "duration": 74,
    "start_time": "2021-12-25T21:37:25.417Z"
   },
   {
    "duration": 17,
    "start_time": "2021-12-25T21:37:44.701Z"
   },
   {
    "duration": 295,
    "start_time": "2021-12-25T21:38:01.899Z"
   },
   {
    "duration": 18,
    "start_time": "2021-12-25T21:38:12.485Z"
   },
   {
    "duration": 19,
    "start_time": "2021-12-25T21:38:23.722Z"
   },
   {
    "duration": 17,
    "start_time": "2021-12-25T21:38:32.770Z"
   },
   {
    "duration": 70,
    "start_time": "2021-12-25T21:38:44.673Z"
   },
   {
    "duration": 18,
    "start_time": "2021-12-25T21:38:53.268Z"
   },
   {
    "duration": 298,
    "start_time": "2021-12-25T21:39:00.449Z"
   },
   {
    "duration": 294,
    "start_time": "2021-12-25T21:39:22.647Z"
   },
   {
    "duration": 15,
    "start_time": "2021-12-25T21:39:33.956Z"
   },
   {
    "duration": 70,
    "start_time": "2021-12-25T21:39:55.630Z"
   },
   {
    "duration": 90,
    "start_time": "2021-12-25T21:43:04.942Z"
   },
   {
    "duration": 39,
    "start_time": "2021-12-25T21:43:12.711Z"
   },
   {
    "duration": 21,
    "start_time": "2021-12-25T21:43:25.933Z"
   },
   {
    "duration": 372,
    "start_time": "2021-12-25T21:43:44.058Z"
   },
   {
    "duration": 98,
    "start_time": "2021-12-25T21:43:54.987Z"
   },
   {
    "duration": 289,
    "start_time": "2021-12-25T21:46:42.380Z"
   },
   {
    "duration": 635,
    "start_time": "2021-12-25T21:48:36.430Z"
   },
   {
    "duration": 591,
    "start_time": "2021-12-25T21:48:51.883Z"
   },
   {
    "duration": 582,
    "start_time": "2021-12-25T21:49:00.222Z"
   },
   {
    "duration": 6,
    "start_time": "2021-12-25T21:50:11.631Z"
   },
   {
    "duration": 7,
    "start_time": "2021-12-25T21:50:19.883Z"
   },
   {
    "duration": 271,
    "start_time": "2021-12-25T21:50:35.645Z"
   },
   {
    "duration": 5663,
    "start_time": "2021-12-25T21:51:27.475Z"
   },
   {
    "duration": 321,
    "start_time": "2021-12-25T21:52:14.529Z"
   },
   {
    "duration": 251,
    "start_time": "2021-12-25T21:53:55.057Z"
   },
   {
    "duration": 395,
    "start_time": "2021-12-25T22:02:31.902Z"
   },
   {
    "duration": 297,
    "start_time": "2021-12-25T22:04:34.812Z"
   },
   {
    "duration": 630,
    "start_time": "2021-12-25T22:04:55.097Z"
   },
   {
    "duration": 1658,
    "start_time": "2021-12-25T22:05:21.328Z"
   },
   {
    "duration": 313,
    "start_time": "2021-12-25T22:06:19.866Z"
   },
   {
    "duration": 13,
    "start_time": "2021-12-25T22:09:56.062Z"
   },
   {
    "duration": 13,
    "start_time": "2021-12-25T22:10:00.538Z"
   },
   {
    "duration": 14,
    "start_time": "2021-12-25T22:15:02.410Z"
   },
   {
    "duration": 8,
    "start_time": "2021-12-25T22:16:05.004Z"
   },
   {
    "duration": 7,
    "start_time": "2021-12-25T22:16:33.464Z"
   },
   {
    "duration": 284,
    "start_time": "2021-12-25T22:19:37.701Z"
   },
   {
    "duration": 273,
    "start_time": "2021-12-25T22:22:50.880Z"
   },
   {
    "duration": 7,
    "start_time": "2021-12-25T22:23:08.523Z"
   },
   {
    "duration": 249,
    "start_time": "2021-12-25T22:24:27.347Z"
   },
   {
    "duration": 273,
    "start_time": "2021-12-25T22:26:37.543Z"
   },
   {
    "duration": 8,
    "start_time": "2021-12-25T22:26:45.919Z"
   },
   {
    "duration": 8,
    "start_time": "2021-12-25T22:27:05.201Z"
   },
   {
    "duration": 8,
    "start_time": "2021-12-25T22:27:23.201Z"
   },
   {
    "duration": 25,
    "start_time": "2021-12-25T22:27:44.440Z"
   },
   {
    "duration": 84,
    "start_time": "2021-12-25T22:28:37.620Z"
   },
   {
    "duration": 11,
    "start_time": "2021-12-25T22:28:46.446Z"
   },
   {
    "duration": 11,
    "start_time": "2021-12-25T22:30:31.558Z"
   },
   {
    "duration": 10,
    "start_time": "2021-12-25T22:31:11.356Z"
   },
   {
    "duration": 266,
    "start_time": "2021-12-25T22:32:34.119Z"
   },
   {
    "duration": 11,
    "start_time": "2021-12-25T22:32:58.861Z"
   },
   {
    "duration": 94,
    "start_time": "2021-12-25T22:41:00.086Z"
   },
   {
    "duration": 94,
    "start_time": "2021-12-25T22:41:06.499Z"
   },
   {
    "duration": 11,
    "start_time": "2021-12-25T22:41:09.507Z"
   },
   {
    "duration": 281,
    "start_time": "2021-12-25T22:41:31.094Z"
   },
   {
    "duration": 323,
    "start_time": "2021-12-25T22:41:44.053Z"
   },
   {
    "duration": 93,
    "start_time": "2021-12-25T22:42:14.332Z"
   },
   {
    "duration": 7,
    "start_time": "2021-12-25T22:42:20.039Z"
   },
   {
    "duration": 12,
    "start_time": "2021-12-25T22:44:47.306Z"
   },
   {
    "duration": 13,
    "start_time": "2021-12-25T22:47:31.892Z"
   },
   {
    "duration": 6,
    "start_time": "2021-12-25T22:47:37.219Z"
   },
   {
    "duration": 12,
    "start_time": "2021-12-25T22:47:53.788Z"
   },
   {
    "duration": 25,
    "start_time": "2021-12-25T22:48:04.559Z"
   },
   {
    "duration": 830,
    "start_time": "2021-12-25T22:52:13.318Z"
   },
   {
    "duration": 75,
    "start_time": "2021-12-25T22:52:14.151Z"
   },
   {
    "duration": 40,
    "start_time": "2021-12-25T22:52:14.229Z"
   },
   {
    "duration": 27,
    "start_time": "2021-12-25T22:52:14.271Z"
   },
   {
    "duration": 21,
    "start_time": "2021-12-25T22:52:14.300Z"
   },
   {
    "duration": 50,
    "start_time": "2021-12-25T22:52:14.323Z"
   },
   {
    "duration": 9,
    "start_time": "2021-12-25T22:52:14.375Z"
   },
   {
    "duration": 21,
    "start_time": "2021-12-25T22:52:14.387Z"
   },
   {
    "duration": 106,
    "start_time": "2021-12-25T22:52:14.411Z"
   },
   {
    "duration": 9,
    "start_time": "2021-12-25T22:52:14.519Z"
   },
   {
    "duration": 42,
    "start_time": "2021-12-25T22:52:14.530Z"
   },
   {
    "duration": 10,
    "start_time": "2021-12-25T22:52:14.575Z"
   },
   {
    "duration": 10,
    "start_time": "2021-12-25T22:52:14.588Z"
   },
   {
    "duration": 357,
    "start_time": "2021-12-25T22:52:14.600Z"
   },
   {
    "duration": 317,
    "start_time": "2021-12-25T22:52:14.968Z"
   },
   {
    "duration": 307,
    "start_time": "2021-12-25T22:52:15.287Z"
   },
   {
    "duration": 13,
    "start_time": "2021-12-25T22:52:15.596Z"
   },
   {
    "duration": 4,
    "start_time": "2021-12-25T22:52:15.611Z"
   },
   {
    "duration": 378,
    "start_time": "2021-12-25T22:52:15.617Z"
   },
   {
    "duration": 318,
    "start_time": "2021-12-25T22:52:15.997Z"
   },
   {
    "duration": 6,
    "start_time": "2021-12-25T22:52:16.318Z"
   },
   {
    "duration": 6,
    "start_time": "2021-12-25T22:52:16.327Z"
   },
   {
    "duration": 33,
    "start_time": "2021-12-25T22:52:16.339Z"
   },
   {
    "duration": 321,
    "start_time": "2021-12-25T22:52:16.375Z"
   },
   {
    "duration": 10,
    "start_time": "2021-12-25T22:52:16.698Z"
   },
   {
    "duration": 12,
    "start_time": "2021-12-25T22:52:16.710Z"
   },
   {
    "duration": 52,
    "start_time": "2021-12-25T22:52:16.724Z"
   },
   {
    "duration": 7,
    "start_time": "2021-12-25T22:52:16.778Z"
   },
   {
    "duration": 7,
    "start_time": "2021-12-25T22:52:16.787Z"
   },
   {
    "duration": 101,
    "start_time": "2021-12-25T22:52:16.797Z"
   },
   {
    "duration": 11,
    "start_time": "2021-12-25T22:52:16.901Z"
   },
   {
    "duration": 12,
    "start_time": "2021-12-25T22:52:16.915Z"
   },
   {
    "duration": 47,
    "start_time": "2021-12-25T22:52:16.929Z"
   },
   {
    "duration": 12,
    "start_time": "2021-12-25T22:52:16.980Z"
   },
   {
    "duration": 10,
    "start_time": "2021-12-25T22:52:16.995Z"
   },
   {
    "duration": 59,
    "start_time": "2021-12-25T22:52:17.008Z"
   },
   {
    "duration": 23,
    "start_time": "2021-12-25T22:52:17.071Z"
   },
   {
    "duration": 86,
    "start_time": "2021-12-25T22:52:17.097Z"
   },
   {
    "duration": 23,
    "start_time": "2021-12-25T22:52:17.186Z"
   },
   {
    "duration": 10,
    "start_time": "2021-12-25T22:52:17.212Z"
   },
   {
    "duration": 998,
    "start_time": "2021-12-25T22:52:17.225Z"
   },
   {
    "duration": 5,
    "start_time": "2021-12-25T22:52:18.227Z"
   },
   {
    "duration": 86,
    "start_time": "2021-12-25T22:52:18.235Z"
   },
   {
    "duration": 329,
    "start_time": "2021-12-25T22:52:18.324Z"
   },
   {
    "duration": 15,
    "start_time": "2021-12-25T22:52:18.656Z"
   },
   {
    "duration": 18,
    "start_time": "2021-12-25T22:52:18.673Z"
   },
   {
    "duration": 14,
    "start_time": "2021-12-25T22:52:18.694Z"
   },
   {
    "duration": 61,
    "start_time": "2021-12-25T22:52:18.710Z"
   },
   {
    "duration": 7,
    "start_time": "2021-12-25T22:55:59.503Z"
   },
   {
    "duration": 4,
    "start_time": "2021-12-25T23:00:02.313Z"
   },
   {
    "duration": 27,
    "start_time": "2021-12-25T23:00:05.131Z"
   },
   {
    "duration": 109,
    "start_time": "2021-12-25T23:14:36.234Z"
   },
   {
    "duration": 83,
    "start_time": "2021-12-25T23:14:44.090Z"
   },
   {
    "duration": 110,
    "start_time": "2021-12-25T23:16:09.187Z"
   },
   {
    "duration": 870,
    "start_time": "2021-12-25T23:16:19.802Z"
   },
   {
    "duration": 75,
    "start_time": "2021-12-25T23:16:20.675Z"
   },
   {
    "duration": 34,
    "start_time": "2021-12-25T23:16:20.754Z"
   },
   {
    "duration": 39,
    "start_time": "2021-12-25T23:16:20.791Z"
   },
   {
    "duration": 43,
    "start_time": "2021-12-25T23:16:20.833Z"
   },
   {
    "duration": 14,
    "start_time": "2021-12-25T23:16:20.879Z"
   },
   {
    "duration": 16,
    "start_time": "2021-12-25T23:16:20.895Z"
   },
   {
    "duration": 52,
    "start_time": "2021-12-25T23:16:20.915Z"
   },
   {
    "duration": 64,
    "start_time": "2021-12-25T23:16:20.971Z"
   },
   {
    "duration": 30,
    "start_time": "2021-12-25T23:16:21.037Z"
   },
   {
    "duration": 11,
    "start_time": "2021-12-25T23:16:21.069Z"
   },
   {
    "duration": 9,
    "start_time": "2021-12-25T23:16:21.083Z"
   },
   {
    "duration": 11,
    "start_time": "2021-12-25T23:16:21.095Z"
   },
   {
    "duration": 378,
    "start_time": "2021-12-25T23:16:21.109Z"
   },
   {
    "duration": 317,
    "start_time": "2021-12-25T23:16:21.490Z"
   },
   {
    "duration": 311,
    "start_time": "2021-12-25T23:16:21.810Z"
   },
   {
    "duration": 14,
    "start_time": "2021-12-25T23:16:22.124Z"
   },
   {
    "duration": 27,
    "start_time": "2021-12-25T23:16:22.141Z"
   },
   {
    "duration": 345,
    "start_time": "2021-12-25T23:16:22.170Z"
   },
   {
    "duration": 302,
    "start_time": "2021-12-25T23:16:22.517Z"
   },
   {
    "duration": 6,
    "start_time": "2021-12-25T23:16:22.821Z"
   },
   {
    "duration": 6,
    "start_time": "2021-12-25T23:16:22.830Z"
   },
   {
    "duration": 29,
    "start_time": "2021-12-25T23:16:22.841Z"
   },
   {
    "duration": 333,
    "start_time": "2021-12-25T23:16:22.873Z"
   },
   {
    "duration": 9,
    "start_time": "2021-12-25T23:16:23.209Z"
   },
   {
    "duration": 18,
    "start_time": "2021-12-25T23:16:23.221Z"
   },
   {
    "duration": 33,
    "start_time": "2021-12-25T23:16:23.241Z"
   },
   {
    "duration": 15,
    "start_time": "2021-12-25T23:16:23.276Z"
   },
   {
    "duration": 8,
    "start_time": "2021-12-25T23:16:23.293Z"
   },
   {
    "duration": 89,
    "start_time": "2021-12-25T23:16:23.303Z"
   },
   {
    "duration": 8,
    "start_time": "2021-12-25T23:16:23.394Z"
   },
   {
    "duration": 10,
    "start_time": "2021-12-25T23:16:23.404Z"
   },
   {
    "duration": 11,
    "start_time": "2021-12-25T23:16:23.417Z"
   },
   {
    "duration": 9,
    "start_time": "2021-12-25T23:16:23.467Z"
   },
   {
    "duration": 11,
    "start_time": "2021-12-25T23:16:23.479Z"
   },
   {
    "duration": 9,
    "start_time": "2021-12-25T23:16:23.493Z"
   },
   {
    "duration": 65,
    "start_time": "2021-12-25T23:16:23.504Z"
   },
   {
    "duration": 43,
    "start_time": "2021-12-25T23:16:23.572Z"
   },
   {
    "duration": 61,
    "start_time": "2021-12-25T23:16:23.618Z"
   },
   {
    "duration": 11,
    "start_time": "2021-12-25T23:16:23.682Z"
   },
   {
    "duration": 976,
    "start_time": "2021-12-25T23:16:23.695Z"
   },
   {
    "duration": 4,
    "start_time": "2021-12-25T23:16:24.674Z"
   },
   {
    "duration": 95,
    "start_time": "2021-12-25T23:16:24.681Z"
   },
   {
    "duration": 301,
    "start_time": "2021-12-25T23:16:24.778Z"
   },
   {
    "duration": 8,
    "start_time": "2021-12-25T23:16:25.081Z"
   },
   {
    "duration": 12,
    "start_time": "2021-12-25T23:16:25.091Z"
   },
   {
    "duration": 8,
    "start_time": "2021-12-25T23:16:25.106Z"
   },
   {
    "duration": 7,
    "start_time": "2021-12-25T23:16:25.116Z"
   },
   {
    "duration": 27,
    "start_time": "2021-12-25T23:16:25.167Z"
   },
   {
    "duration": 849,
    "start_time": "2021-12-25T23:17:23.390Z"
   },
   {
    "duration": 78,
    "start_time": "2021-12-25T23:17:24.242Z"
   },
   {
    "duration": 46,
    "start_time": "2021-12-25T23:17:24.325Z"
   },
   {
    "duration": 30,
    "start_time": "2021-12-25T23:17:24.375Z"
   },
   {
    "duration": 21,
    "start_time": "2021-12-25T23:17:24.408Z"
   },
   {
    "duration": 14,
    "start_time": "2021-12-25T23:17:24.467Z"
   },
   {
    "duration": 7,
    "start_time": "2021-12-25T23:17:24.483Z"
   },
   {
    "duration": 20,
    "start_time": "2021-12-25T23:17:24.495Z"
   },
   {
    "duration": 61,
    "start_time": "2021-12-25T23:17:24.567Z"
   },
   {
    "duration": 8,
    "start_time": "2021-12-25T23:17:24.630Z"
   },
   {
    "duration": 12,
    "start_time": "2021-12-25T23:17:24.668Z"
   },
   {
    "duration": 11,
    "start_time": "2021-12-25T23:17:24.682Z"
   },
   {
    "duration": 8,
    "start_time": "2021-12-25T23:17:24.695Z"
   },
   {
    "duration": 352,
    "start_time": "2021-12-25T23:17:24.705Z"
   },
   {
    "duration": 306,
    "start_time": "2021-12-25T23:17:25.067Z"
   },
   {
    "duration": 305,
    "start_time": "2021-12-25T23:17:25.376Z"
   },
   {
    "duration": 12,
    "start_time": "2021-12-25T23:17:25.684Z"
   },
   {
    "duration": 6,
    "start_time": "2021-12-25T23:17:25.698Z"
   },
   {
    "duration": 368,
    "start_time": "2021-12-25T23:17:25.707Z"
   },
   {
    "duration": 311,
    "start_time": "2021-12-25T23:17:26.078Z"
   },
   {
    "duration": 8,
    "start_time": "2021-12-25T23:17:26.392Z"
   },
   {
    "duration": 4,
    "start_time": "2021-12-25T23:17:26.403Z"
   },
   {
    "duration": 50,
    "start_time": "2021-12-25T23:17:26.417Z"
   },
   {
    "duration": 344,
    "start_time": "2021-12-25T23:17:26.472Z"
   },
   {
    "duration": 9,
    "start_time": "2021-12-25T23:17:26.819Z"
   },
   {
    "duration": 13,
    "start_time": "2021-12-25T23:17:26.831Z"
   },
   {
    "duration": 20,
    "start_time": "2021-12-25T23:17:26.868Z"
   },
   {
    "duration": 8,
    "start_time": "2021-12-25T23:17:26.891Z"
   },
   {
    "duration": 8,
    "start_time": "2021-12-25T23:17:26.902Z"
   },
   {
    "duration": 100,
    "start_time": "2021-12-25T23:17:26.913Z"
   },
   {
    "duration": 50,
    "start_time": "2021-12-25T23:17:27.017Z"
   },
   {
    "duration": 8,
    "start_time": "2021-12-25T23:17:27.070Z"
   },
   {
    "duration": 8,
    "start_time": "2021-12-25T23:17:27.080Z"
   },
   {
    "duration": 9,
    "start_time": "2021-12-25T23:17:27.090Z"
   },
   {
    "duration": 7,
    "start_time": "2021-12-25T23:17:27.101Z"
   },
   {
    "duration": 58,
    "start_time": "2021-12-25T23:17:27.110Z"
   },
   {
    "duration": 19,
    "start_time": "2021-12-25T23:17:27.171Z"
   },
   {
    "duration": 75,
    "start_time": "2021-12-25T23:17:27.192Z"
   },
   {
    "duration": 21,
    "start_time": "2021-12-25T23:17:27.269Z"
   },
   {
    "duration": 8,
    "start_time": "2021-12-25T23:17:27.292Z"
   },
   {
    "duration": 970,
    "start_time": "2021-12-25T23:17:27.302Z"
   },
   {
    "duration": 4,
    "start_time": "2021-12-25T23:17:28.274Z"
   },
   {
    "duration": 113,
    "start_time": "2021-12-25T23:17:28.281Z"
   },
   {
    "duration": 307,
    "start_time": "2021-12-25T23:17:28.397Z"
   },
   {
    "duration": 8,
    "start_time": "2021-12-25T23:17:28.706Z"
   },
   {
    "duration": 10,
    "start_time": "2021-12-25T23:17:28.717Z"
   },
   {
    "duration": 38,
    "start_time": "2021-12-25T23:17:28.730Z"
   },
   {
    "duration": 4,
    "start_time": "2021-12-25T23:17:28.771Z"
   },
   {
    "duration": 27,
    "start_time": "2021-12-25T23:17:28.778Z"
   },
   {
    "duration": 116,
    "start_time": "2021-12-25T23:18:23.182Z"
   },
   {
    "duration": 900,
    "start_time": "2021-12-25T23:18:38.221Z"
   },
   {
    "duration": 78,
    "start_time": "2021-12-25T23:18:39.124Z"
   },
   {
    "duration": 21,
    "start_time": "2021-12-25T23:18:39.208Z"
   },
   {
    "duration": 49,
    "start_time": "2021-12-25T23:18:39.232Z"
   },
   {
    "duration": 21,
    "start_time": "2021-12-25T23:18:39.284Z"
   },
   {
    "duration": 13,
    "start_time": "2021-12-25T23:18:39.307Z"
   },
   {
    "duration": 48,
    "start_time": "2021-12-25T23:18:39.324Z"
   },
   {
    "duration": 26,
    "start_time": "2021-12-25T23:18:39.375Z"
   },
   {
    "duration": 102,
    "start_time": "2021-12-25T23:18:39.404Z"
   },
   {
    "duration": 10,
    "start_time": "2021-12-25T23:18:39.509Z"
   },
   {
    "duration": 12,
    "start_time": "2021-12-25T23:18:39.522Z"
   },
   {
    "duration": 12,
    "start_time": "2021-12-25T23:18:39.567Z"
   },
   {
    "duration": 9,
    "start_time": "2021-12-25T23:18:39.581Z"
   },
   {
    "duration": 346,
    "start_time": "2021-12-25T23:18:39.592Z"
   },
   {
    "duration": 330,
    "start_time": "2021-12-25T23:18:39.940Z"
   },
   {
    "duration": 318,
    "start_time": "2021-12-25T23:18:40.273Z"
   },
   {
    "duration": 14,
    "start_time": "2021-12-25T23:18:40.593Z"
   },
   {
    "duration": 3,
    "start_time": "2021-12-25T23:18:40.610Z"
   },
   {
    "duration": 378,
    "start_time": "2021-12-25T23:18:40.615Z"
   },
   {
    "duration": 306,
    "start_time": "2021-12-25T23:18:40.995Z"
   },
   {
    "duration": 5,
    "start_time": "2021-12-25T23:18:41.303Z"
   },
   {
    "duration": 5,
    "start_time": "2021-12-25T23:18:41.313Z"
   },
   {
    "duration": 8,
    "start_time": "2021-12-25T23:18:41.321Z"
   },
   {
    "duration": 352,
    "start_time": "2021-12-25T23:18:41.331Z"
   },
   {
    "duration": 10,
    "start_time": "2021-12-25T23:18:41.685Z"
   },
   {
    "duration": 13,
    "start_time": "2021-12-25T23:18:41.697Z"
   },
   {
    "duration": 17,
    "start_time": "2021-12-25T23:18:41.713Z"
   },
   {
    "duration": 7,
    "start_time": "2021-12-25T23:18:41.768Z"
   },
   {
    "duration": 10,
    "start_time": "2021-12-25T23:18:41.778Z"
   },
   {
    "duration": 83,
    "start_time": "2021-12-25T23:18:41.790Z"
   },
   {
    "duration": 9,
    "start_time": "2021-12-25T23:18:41.875Z"
   },
   {
    "duration": 8,
    "start_time": "2021-12-25T23:18:41.887Z"
   },
   {
    "duration": 8,
    "start_time": "2021-12-25T23:18:41.898Z"
   },
   {
    "duration": 59,
    "start_time": "2021-12-25T23:18:41.908Z"
   },
   {
    "duration": 8,
    "start_time": "2021-12-25T23:18:41.970Z"
   },
   {
    "duration": 8,
    "start_time": "2021-12-25T23:18:41.981Z"
   },
   {
    "duration": 18,
    "start_time": "2021-12-25T23:18:41.992Z"
   },
   {
    "duration": 93,
    "start_time": "2021-12-25T23:18:42.013Z"
   },
   {
    "duration": 21,
    "start_time": "2021-12-25T23:18:42.108Z"
   },
   {
    "duration": 39,
    "start_time": "2021-12-25T23:18:42.131Z"
   },
   {
    "duration": 972,
    "start_time": "2021-12-25T23:18:42.172Z"
   },
   {
    "duration": 5,
    "start_time": "2021-12-25T23:18:43.146Z"
   },
   {
    "duration": 125,
    "start_time": "2021-12-25T23:18:43.154Z"
   },
   {
    "duration": 310,
    "start_time": "2021-12-25T23:18:43.282Z"
   },
   {
    "duration": 7,
    "start_time": "2021-12-25T23:18:43.594Z"
   },
   {
    "duration": 12,
    "start_time": "2021-12-25T23:18:43.604Z"
   },
   {
    "duration": 8,
    "start_time": "2021-12-25T23:18:43.618Z"
   },
   {
    "duration": 39,
    "start_time": "2021-12-25T23:18:43.629Z"
   },
   {
    "duration": 27,
    "start_time": "2021-12-25T23:18:43.671Z"
   },
   {
    "duration": 865,
    "start_time": "2021-12-25T23:20:44.023Z"
   },
   {
    "duration": 79,
    "start_time": "2021-12-25T23:20:44.891Z"
   },
   {
    "duration": 22,
    "start_time": "2021-12-25T23:20:44.974Z"
   },
   {
    "duration": 34,
    "start_time": "2021-12-25T23:20:44.998Z"
   },
   {
    "duration": 54,
    "start_time": "2021-12-25T23:20:45.034Z"
   },
   {
    "duration": 16,
    "start_time": "2021-12-25T23:20:45.090Z"
   },
   {
    "duration": 10,
    "start_time": "2021-12-25T23:20:45.110Z"
   },
   {
    "duration": 32,
    "start_time": "2021-12-25T23:20:45.171Z"
   },
   {
    "duration": 93,
    "start_time": "2021-12-25T23:20:45.208Z"
   },
   {
    "duration": 8,
    "start_time": "2021-12-25T23:20:45.304Z"
   },
   {
    "duration": 14,
    "start_time": "2021-12-25T23:20:45.315Z"
   },
   {
    "duration": 40,
    "start_time": "2021-12-25T23:20:45.332Z"
   },
   {
    "duration": 8,
    "start_time": "2021-12-25T23:20:45.374Z"
   },
   {
    "duration": 340,
    "start_time": "2021-12-25T23:20:45.385Z"
   },
   {
    "duration": 311,
    "start_time": "2021-12-25T23:20:45.727Z"
   },
   {
    "duration": 313,
    "start_time": "2021-12-25T23:20:46.040Z"
   },
   {
    "duration": 13,
    "start_time": "2021-12-25T23:20:46.368Z"
   },
   {
    "duration": 6,
    "start_time": "2021-12-25T23:20:46.384Z"
   },
   {
    "duration": 372,
    "start_time": "2021-12-25T23:20:46.392Z"
   },
   {
    "duration": 314,
    "start_time": "2021-12-25T23:20:46.767Z"
   },
   {
    "duration": 8,
    "start_time": "2021-12-25T23:20:47.084Z"
   },
   {
    "duration": 3,
    "start_time": "2021-12-25T23:20:47.096Z"
   },
   {
    "duration": 10,
    "start_time": "2021-12-25T23:20:47.107Z"
   },
   {
    "duration": 581,
    "start_time": "2021-12-25T23:20:47.121Z"
   },
   {
    "duration": 13,
    "start_time": "2021-12-25T23:20:47.705Z"
   },
   {
    "duration": 14,
    "start_time": "2021-12-25T23:20:47.721Z"
   },
   {
    "duration": 23,
    "start_time": "2021-12-25T23:20:47.768Z"
   },
   {
    "duration": 8,
    "start_time": "2021-12-25T23:20:47.794Z"
   },
   {
    "duration": 8,
    "start_time": "2021-12-25T23:20:47.805Z"
   },
   {
    "duration": 100,
    "start_time": "2021-12-25T23:20:47.816Z"
   },
   {
    "duration": 11,
    "start_time": "2021-12-25T23:20:47.919Z"
   },
   {
    "duration": 11,
    "start_time": "2021-12-25T23:20:47.967Z"
   },
   {
    "duration": 8,
    "start_time": "2021-12-25T23:20:47.981Z"
   },
   {
    "duration": 12,
    "start_time": "2021-12-25T23:20:47.991Z"
   },
   {
    "duration": 14,
    "start_time": "2021-12-25T23:20:48.005Z"
   },
   {
    "duration": 50,
    "start_time": "2021-12-25T23:20:48.022Z"
   },
   {
    "duration": 26,
    "start_time": "2021-12-25T23:20:48.074Z"
   },
   {
    "duration": 67,
    "start_time": "2021-12-25T23:20:48.102Z"
   },
   {
    "duration": 21,
    "start_time": "2021-12-25T23:20:48.172Z"
   },
   {
    "duration": 8,
    "start_time": "2021-12-25T23:20:48.196Z"
   },
   {
    "duration": 989,
    "start_time": "2021-12-25T23:20:48.206Z"
   },
   {
    "duration": 4,
    "start_time": "2021-12-25T23:20:49.197Z"
   },
   {
    "duration": 96,
    "start_time": "2021-12-25T23:20:49.204Z"
   },
   {
    "duration": 309,
    "start_time": "2021-12-25T23:20:49.303Z"
   },
   {
    "duration": 6,
    "start_time": "2021-12-25T23:20:49.614Z"
   },
   {
    "duration": 13,
    "start_time": "2021-12-25T23:20:49.623Z"
   },
   {
    "duration": 34,
    "start_time": "2021-12-25T23:20:49.638Z"
   },
   {
    "duration": 366,
    "start_time": "2021-12-25T23:20:49.674Z"
   },
   {
    "duration": -109938,
    "start_time": "2021-12-25T23:22:39.981Z"
   },
   {
    "duration": 906,
    "start_time": "2021-12-25T23:21:21.347Z"
   },
   {
    "duration": 76,
    "start_time": "2021-12-25T23:21:22.256Z"
   },
   {
    "duration": 40,
    "start_time": "2021-12-25T23:21:22.339Z"
   },
   {
    "duration": 28,
    "start_time": "2021-12-25T23:21:22.382Z"
   },
   {
    "duration": 56,
    "start_time": "2021-12-25T23:21:22.413Z"
   },
   {
    "duration": 14,
    "start_time": "2021-12-25T23:21:22.471Z"
   },
   {
    "duration": 15,
    "start_time": "2021-12-25T23:21:22.490Z"
   },
   {
    "duration": 20,
    "start_time": "2021-12-25T23:21:22.508Z"
   },
   {
    "duration": 62,
    "start_time": "2021-12-25T23:21:22.567Z"
   },
   {
    "duration": 35,
    "start_time": "2021-12-25T23:21:22.631Z"
   },
   {
    "duration": 12,
    "start_time": "2021-12-25T23:21:22.669Z"
   },
   {
    "duration": 11,
    "start_time": "2021-12-25T23:21:22.684Z"
   },
   {
    "duration": 8,
    "start_time": "2021-12-25T23:21:22.698Z"
   },
   {
    "duration": 363,
    "start_time": "2021-12-25T23:21:22.708Z"
   },
   {
    "duration": 317,
    "start_time": "2021-12-25T23:21:23.073Z"
   },
   {
    "duration": 322,
    "start_time": "2021-12-25T23:21:23.392Z"
   },
   {
    "duration": 14,
    "start_time": "2021-12-25T23:21:23.717Z"
   },
   {
    "duration": 4,
    "start_time": "2021-12-25T23:21:23.734Z"
   },
   {
    "duration": 340,
    "start_time": "2021-12-25T23:21:23.768Z"
   },
   {
    "duration": 310,
    "start_time": "2021-12-25T23:21:24.111Z"
   },
   {
    "duration": 7,
    "start_time": "2021-12-25T23:21:24.424Z"
   },
   {
    "duration": 4,
    "start_time": "2021-12-25T23:21:24.437Z"
   },
   {
    "duration": 8,
    "start_time": "2021-12-25T23:21:24.469Z"
   },
   {
    "duration": 337,
    "start_time": "2021-12-25T23:21:24.480Z"
   },
   {
    "duration": 10,
    "start_time": "2021-12-25T23:21:24.820Z"
   },
   {
    "duration": 38,
    "start_time": "2021-12-25T23:21:24.832Z"
   },
   {
    "duration": 19,
    "start_time": "2021-12-25T23:21:24.873Z"
   },
   {
    "duration": 7,
    "start_time": "2021-12-25T23:21:24.894Z"
   },
   {
    "duration": 7,
    "start_time": "2021-12-25T23:21:24.903Z"
   },
   {
    "duration": 93,
    "start_time": "2021-12-25T23:21:24.912Z"
   },
   {
    "duration": 8,
    "start_time": "2021-12-25T23:21:25.007Z"
   },
   {
    "duration": 10,
    "start_time": "2021-12-25T23:21:25.017Z"
   },
   {
    "duration": 42,
    "start_time": "2021-12-25T23:21:25.029Z"
   },
   {
    "duration": 8,
    "start_time": "2021-12-25T23:21:25.074Z"
   },
   {
    "duration": 7,
    "start_time": "2021-12-25T23:21:25.084Z"
   },
   {
    "duration": 12,
    "start_time": "2021-12-25T23:21:25.093Z"
   },
   {
    "duration": 73,
    "start_time": "2021-12-25T23:21:25.107Z"
   },
   {
    "duration": 51,
    "start_time": "2021-12-25T23:21:25.183Z"
   },
   {
    "duration": 49,
    "start_time": "2021-12-25T23:21:25.236Z"
   },
   {
    "duration": 8,
    "start_time": "2021-12-25T23:21:25.287Z"
   },
   {
    "duration": 998,
    "start_time": "2021-12-25T23:21:25.298Z"
   },
   {
    "duration": 4,
    "start_time": "2021-12-25T23:21:26.299Z"
   },
   {
    "duration": 118,
    "start_time": "2021-12-25T23:21:26.306Z"
   },
   {
    "duration": 324,
    "start_time": "2021-12-25T23:21:26.427Z"
   },
   {
    "duration": 20,
    "start_time": "2021-12-25T23:21:26.754Z"
   },
   {
    "duration": 12,
    "start_time": "2021-12-25T23:21:26.777Z"
   },
   {
    "duration": 8,
    "start_time": "2021-12-25T23:21:26.792Z"
   },
   {
    "duration": 397,
    "start_time": "2021-12-25T23:21:26.802Z"
   },
   {
    "duration": -109935,
    "start_time": "2021-12-25T23:23:17.136Z"
   },
   {
    "duration": 866,
    "start_time": "2021-12-25T23:22:15.758Z"
   },
   {
    "duration": 75,
    "start_time": "2021-12-25T23:22:16.627Z"
   },
   {
    "duration": 21,
    "start_time": "2021-12-25T23:22:16.704Z"
   },
   {
    "duration": 55,
    "start_time": "2021-12-25T23:22:16.728Z"
   },
   {
    "duration": 21,
    "start_time": "2021-12-25T23:22:16.785Z"
   },
   {
    "duration": 13,
    "start_time": "2021-12-25T23:22:16.808Z"
   },
   {
    "duration": 45,
    "start_time": "2021-12-25T23:22:16.824Z"
   },
   {
    "duration": 20,
    "start_time": "2021-12-25T23:22:16.875Z"
   },
   {
    "duration": 100,
    "start_time": "2021-12-25T23:22:16.898Z"
   },
   {
    "duration": 7,
    "start_time": "2021-12-25T23:22:17.001Z"
   },
   {
    "duration": 11,
    "start_time": "2021-12-25T23:22:17.010Z"
   },
   {
    "duration": 47,
    "start_time": "2021-12-25T23:22:17.024Z"
   },
   {
    "duration": 12,
    "start_time": "2021-12-25T23:22:17.073Z"
   },
   {
    "duration": 327,
    "start_time": "2021-12-25T23:22:17.087Z"
   },
   {
    "duration": 314,
    "start_time": "2021-12-25T23:22:17.416Z"
   },
   {
    "duration": 301,
    "start_time": "2021-12-25T23:22:17.732Z"
   },
   {
    "duration": 32,
    "start_time": "2021-12-25T23:22:18.035Z"
   },
   {
    "duration": 3,
    "start_time": "2021-12-25T23:22:18.070Z"
   },
   {
    "duration": 361,
    "start_time": "2021-12-25T23:22:18.075Z"
   },
   {
    "duration": 305,
    "start_time": "2021-12-25T23:22:18.439Z"
   },
   {
    "duration": 7,
    "start_time": "2021-12-25T23:22:18.746Z"
   },
   {
    "duration": 3,
    "start_time": "2021-12-25T23:22:18.768Z"
   },
   {
    "duration": 9,
    "start_time": "2021-12-25T23:22:18.776Z"
   },
   {
    "duration": 337,
    "start_time": "2021-12-25T23:22:18.788Z"
   },
   {
    "duration": 9,
    "start_time": "2021-12-25T23:22:19.127Z"
   },
   {
    "duration": 32,
    "start_time": "2021-12-25T23:22:19.139Z"
   },
   {
    "duration": 19,
    "start_time": "2021-12-25T23:22:19.174Z"
   },
   {
    "duration": 6,
    "start_time": "2021-12-25T23:22:19.195Z"
   },
   {
    "duration": 10,
    "start_time": "2021-12-25T23:22:19.203Z"
   },
   {
    "duration": 85,
    "start_time": "2021-12-25T23:22:19.215Z"
   },
   {
    "duration": 7,
    "start_time": "2021-12-25T23:22:19.302Z"
   },
   {
    "duration": 13,
    "start_time": "2021-12-25T23:22:19.312Z"
   },
   {
    "duration": 41,
    "start_time": "2021-12-25T23:22:19.327Z"
   },
   {
    "duration": 14,
    "start_time": "2021-12-25T23:22:19.371Z"
   },
   {
    "duration": 10,
    "start_time": "2021-12-25T23:22:19.387Z"
   },
   {
    "duration": 11,
    "start_time": "2021-12-25T23:22:19.400Z"
   },
   {
    "duration": 68,
    "start_time": "2021-12-25T23:22:19.414Z"
   },
   {
    "duration": 42,
    "start_time": "2021-12-25T23:22:19.485Z"
   },
   {
    "duration": 53,
    "start_time": "2021-12-25T23:22:19.529Z"
   },
   {
    "duration": 9,
    "start_time": "2021-12-25T23:22:19.584Z"
   },
   {
    "duration": 979,
    "start_time": "2021-12-25T23:22:19.595Z"
   },
   {
    "duration": 4,
    "start_time": "2021-12-25T23:22:20.577Z"
   },
   {
    "duration": 110,
    "start_time": "2021-12-25T23:22:20.583Z"
   },
   {
    "duration": 299,
    "start_time": "2021-12-25T23:22:20.695Z"
   },
   {
    "duration": 7,
    "start_time": "2021-12-25T23:22:20.996Z"
   },
   {
    "duration": 26,
    "start_time": "2021-12-25T23:22:21.006Z"
   },
   {
    "duration": 32,
    "start_time": "2021-12-25T23:22:21.034Z"
   },
   {
    "duration": 361,
    "start_time": "2021-12-25T23:22:21.069Z"
   },
   {
    "duration": -109933,
    "start_time": "2021-12-25T23:24:11.365Z"
   },
   {
    "duration": 79,
    "start_time": "2021-12-25T23:23:31.613Z"
   },
   {
    "duration": 79,
    "start_time": "2021-12-25T23:23:40.105Z"
   },
   {
    "duration": 75,
    "start_time": "2021-12-25T23:23:50.043Z"
   },
   {
    "duration": 60,
    "start_time": "2021-12-25T23:24:37.274Z"
   },
   {
    "duration": 265,
    "start_time": "2021-12-25T23:25:50.790Z"
   },
   {
    "duration": 280,
    "start_time": "2021-12-25T23:26:01.053Z"
   },
   {
    "duration": 268,
    "start_time": "2021-12-25T23:28:35.912Z"
   },
   {
    "duration": 281,
    "start_time": "2021-12-25T23:28:58.198Z"
   },
   {
    "duration": 3415,
    "start_time": "2021-12-25T23:29:13.484Z"
   },
   {
    "duration": 3441,
    "start_time": "2021-12-25T23:29:34.159Z"
   },
   {
    "duration": 266,
    "start_time": "2021-12-25T23:40:31.688Z"
   },
   {
    "duration": 6,
    "start_time": "2021-12-25T23:41:38.255Z"
   },
   {
    "duration": 6,
    "start_time": "2021-12-25T23:41:42.596Z"
   },
   {
    "duration": 29,
    "start_time": "2021-12-25T23:41:48.636Z"
   },
   {
    "duration": 30308,
    "start_time": "2021-12-25T23:42:10.700Z"
   },
   {
    "duration": 34,
    "start_time": "2021-12-25T23:42:45.154Z"
   },
   {
    "duration": 30596,
    "start_time": "2021-12-25T23:43:26.987Z"
   },
   {
    "duration": 30423,
    "start_time": "2021-12-25T23:44:20.848Z"
   },
   {
    "duration": 198,
    "start_time": "2021-12-25T23:46:58.683Z"
   },
   {
    "duration": 832,
    "start_time": "2021-12-25T23:47:18.903Z"
   },
   {
    "duration": 79,
    "start_time": "2021-12-25T23:47:19.738Z"
   },
   {
    "duration": 21,
    "start_time": "2021-12-25T23:47:19.820Z"
   },
   {
    "duration": 49,
    "start_time": "2021-12-25T23:47:19.844Z"
   },
   {
    "duration": 21,
    "start_time": "2021-12-25T23:47:19.895Z"
   },
   {
    "duration": 12,
    "start_time": "2021-12-25T23:47:19.920Z"
   },
   {
    "duration": 7,
    "start_time": "2021-12-25T23:47:19.968Z"
   },
   {
    "duration": 19,
    "start_time": "2021-12-25T23:47:19.978Z"
   },
   {
    "duration": 120,
    "start_time": "2021-12-25T23:47:20.000Z"
   },
   {
    "duration": 10,
    "start_time": "2021-12-25T23:47:20.123Z"
   },
   {
    "duration": 39,
    "start_time": "2021-12-25T23:47:20.136Z"
   },
   {
    "duration": 13,
    "start_time": "2021-12-25T23:47:20.177Z"
   },
   {
    "duration": 11,
    "start_time": "2021-12-25T23:47:20.194Z"
   },
   {
    "duration": 377,
    "start_time": "2021-12-25T23:47:20.209Z"
   },
   {
    "duration": 312,
    "start_time": "2021-12-25T23:47:20.589Z"
   },
   {
    "duration": 319,
    "start_time": "2021-12-25T23:47:20.904Z"
   },
   {
    "duration": 45,
    "start_time": "2021-12-25T23:47:21.226Z"
   },
   {
    "duration": 4,
    "start_time": "2021-12-25T23:47:21.280Z"
   },
   {
    "duration": 369,
    "start_time": "2021-12-25T23:47:21.288Z"
   },
   {
    "duration": 314,
    "start_time": "2021-12-25T23:47:21.668Z"
   },
   {
    "duration": 8,
    "start_time": "2021-12-25T23:47:21.985Z"
   },
   {
    "duration": 9,
    "start_time": "2021-12-25T23:47:21.996Z"
   },
   {
    "duration": 12,
    "start_time": "2021-12-25T23:47:22.008Z"
   },
   {
    "duration": 323,
    "start_time": "2021-12-25T23:47:22.067Z"
   },
   {
    "duration": 11,
    "start_time": "2021-12-25T23:47:22.394Z"
   },
   {
    "duration": 14,
    "start_time": "2021-12-25T23:47:22.408Z"
   },
   {
    "duration": 61,
    "start_time": "2021-12-25T23:47:22.425Z"
   },
   {
    "duration": 8,
    "start_time": "2021-12-25T23:47:22.489Z"
   },
   {
    "duration": 13,
    "start_time": "2021-12-25T23:47:22.501Z"
   },
   {
    "duration": 96,
    "start_time": "2021-12-25T23:47:22.517Z"
   },
   {
    "duration": 10,
    "start_time": "2021-12-25T23:47:22.617Z"
   },
   {
    "duration": 44,
    "start_time": "2021-12-25T23:47:22.630Z"
   },
   {
    "duration": 9,
    "start_time": "2021-12-25T23:47:22.677Z"
   },
   {
    "duration": 12,
    "start_time": "2021-12-25T23:47:22.689Z"
   },
   {
    "duration": 8,
    "start_time": "2021-12-25T23:47:22.705Z"
   },
   {
    "duration": 60,
    "start_time": "2021-12-25T23:47:22.715Z"
   },
   {
    "duration": 31,
    "start_time": "2021-12-25T23:47:22.778Z"
   },
   {
    "duration": 87,
    "start_time": "2021-12-25T23:47:22.812Z"
   },
   {
    "duration": 25,
    "start_time": "2021-12-25T23:47:22.902Z"
   },
   {
    "duration": 46,
    "start_time": "2021-12-25T23:47:22.929Z"
   },
   {
    "duration": 981,
    "start_time": "2021-12-25T23:47:22.978Z"
   },
   {
    "duration": 4,
    "start_time": "2021-12-25T23:47:23.966Z"
   },
   {
    "duration": 124,
    "start_time": "2021-12-25T23:47:23.972Z"
   },
   {
    "duration": 296,
    "start_time": "2021-12-25T23:47:24.099Z"
   },
   {
    "duration": 7,
    "start_time": "2021-12-25T23:47:24.397Z"
   },
   {
    "duration": 16,
    "start_time": "2021-12-25T23:47:24.406Z"
   },
   {
    "duration": 43,
    "start_time": "2021-12-25T23:47:24.424Z"
   },
   {
    "duration": 31369,
    "start_time": "2021-12-25T23:47:24.470Z"
   },
   {
    "duration": -109951,
    "start_time": "2021-12-25T23:49:45.793Z"
   },
   {
    "duration": 31270,
    "start_time": "2021-12-25T23:48:01.605Z"
   },
   {
    "duration": 29,
    "start_time": "2021-12-25T23:48:37.891Z"
   },
   {
    "duration": 1854,
    "start_time": "2021-12-25T23:49:25.845Z"
   },
   {
    "duration": 268,
    "start_time": "2021-12-25T23:49:59.005Z"
   },
   {
    "duration": 1911,
    "start_time": "2021-12-25T23:50:56.626Z"
   },
   {
    "duration": 100,
    "start_time": "2021-12-25T23:52:10.797Z"
   },
   {
    "duration": 1228,
    "start_time": "2021-12-25T23:53:35.858Z"
   },
   {
    "duration": 85,
    "start_time": "2021-12-25T23:54:13.193Z"
   },
   {
    "duration": 53,
    "start_time": "2021-12-25T23:54:43.416Z"
   },
   {
    "duration": 55,
    "start_time": "2021-12-25T23:54:47.185Z"
   },
   {
    "duration": 26,
    "start_time": "2021-12-25T23:54:47.781Z"
   },
   {
    "duration": 353,
    "start_time": "2021-12-25T23:55:32.496Z"
   },
   {
    "duration": 324,
    "start_time": "2021-12-25T23:55:54.853Z"
   },
   {
    "duration": 313,
    "start_time": "2021-12-25T23:56:01.409Z"
   },
   {
    "duration": 56,
    "start_time": "2021-12-25T23:57:20.276Z"
   },
   {
    "duration": 58,
    "start_time": "2021-12-25T23:57:24.149Z"
   },
   {
    "duration": 34,
    "start_time": "2021-12-25T23:57:30.816Z"
   },
   {
    "duration": 324,
    "start_time": "2021-12-25T23:58:38.602Z"
   },
   {
    "duration": 59,
    "start_time": "2021-12-25T23:59:01.762Z"
   },
   {
    "duration": 108,
    "start_time": "2021-12-26T00:04:51.764Z"
   },
   {
    "duration": 27,
    "start_time": "2021-12-26T00:05:02.026Z"
   },
   {
    "duration": 84,
    "start_time": "2021-12-26T00:05:31.646Z"
   },
   {
    "duration": 26,
    "start_time": "2021-12-26T00:05:34.591Z"
   },
   {
    "duration": 885,
    "start_time": "2021-12-26T00:06:15.064Z"
   },
   {
    "duration": 77,
    "start_time": "2021-12-26T00:06:15.952Z"
   },
   {
    "duration": 39,
    "start_time": "2021-12-26T00:06:16.032Z"
   },
   {
    "duration": 26,
    "start_time": "2021-12-26T00:06:16.074Z"
   },
   {
    "duration": 22,
    "start_time": "2021-12-26T00:06:16.103Z"
   },
   {
    "duration": 14,
    "start_time": "2021-12-26T00:06:16.168Z"
   },
   {
    "duration": 12,
    "start_time": "2021-12-26T00:06:16.184Z"
   },
   {
    "duration": 18,
    "start_time": "2021-12-26T00:06:16.200Z"
   },
   {
    "duration": 104,
    "start_time": "2021-12-26T00:06:16.222Z"
   },
   {
    "duration": 8,
    "start_time": "2021-12-26T00:06:16.329Z"
   },
   {
    "duration": 12,
    "start_time": "2021-12-26T00:06:16.367Z"
   },
   {
    "duration": 15,
    "start_time": "2021-12-26T00:06:16.381Z"
   },
   {
    "duration": 7,
    "start_time": "2021-12-26T00:06:16.399Z"
   },
   {
    "duration": 349,
    "start_time": "2021-12-26T00:06:16.409Z"
   },
   {
    "duration": 309,
    "start_time": "2021-12-26T00:06:16.760Z"
   },
   {
    "duration": 318,
    "start_time": "2021-12-26T00:06:17.071Z"
   },
   {
    "duration": 12,
    "start_time": "2021-12-26T00:06:17.391Z"
   },
   {
    "duration": 6,
    "start_time": "2021-12-26T00:06:17.405Z"
   },
   {
    "duration": 369,
    "start_time": "2021-12-26T00:06:17.413Z"
   },
   {
    "duration": 316,
    "start_time": "2021-12-26T00:06:17.784Z"
   },
   {
    "duration": 6,
    "start_time": "2021-12-26T00:06:18.103Z"
   },
   {
    "duration": 7,
    "start_time": "2021-12-26T00:06:18.111Z"
   },
   {
    "duration": 10,
    "start_time": "2021-12-26T00:06:18.123Z"
   },
   {
    "duration": 323,
    "start_time": "2021-12-26T00:06:18.169Z"
   },
   {
    "duration": 10,
    "start_time": "2021-12-26T00:06:18.495Z"
   },
   {
    "duration": 12,
    "start_time": "2021-12-26T00:06:18.507Z"
   },
   {
    "duration": 51,
    "start_time": "2021-12-26T00:06:18.521Z"
   },
   {
    "duration": 7,
    "start_time": "2021-12-26T00:06:18.574Z"
   },
   {
    "duration": 7,
    "start_time": "2021-12-26T00:06:18.583Z"
   },
   {
    "duration": 84,
    "start_time": "2021-12-26T00:06:18.592Z"
   },
   {
    "duration": 8,
    "start_time": "2021-12-26T00:06:18.679Z"
   },
   {
    "duration": 15,
    "start_time": "2021-12-26T00:06:18.689Z"
   },
   {
    "duration": 8,
    "start_time": "2021-12-26T00:06:18.706Z"
   },
   {
    "duration": 9,
    "start_time": "2021-12-26T00:06:18.716Z"
   },
   {
    "duration": 46,
    "start_time": "2021-12-26T00:06:18.727Z"
   },
   {
    "duration": 9,
    "start_time": "2021-12-26T00:06:18.775Z"
   },
   {
    "duration": 19,
    "start_time": "2021-12-26T00:06:18.787Z"
   },
   {
    "duration": 84,
    "start_time": "2021-12-26T00:06:18.809Z"
   },
   {
    "duration": 20,
    "start_time": "2021-12-26T00:06:18.896Z"
   },
   {
    "duration": 8,
    "start_time": "2021-12-26T00:06:18.919Z"
   },
   {
    "duration": 999,
    "start_time": "2021-12-26T00:06:18.930Z"
   },
   {
    "duration": 4,
    "start_time": "2021-12-26T00:06:19.932Z"
   },
   {
    "duration": 96,
    "start_time": "2021-12-26T00:06:19.939Z"
   },
   {
    "duration": 302,
    "start_time": "2021-12-26T00:06:20.038Z"
   },
   {
    "duration": 6,
    "start_time": "2021-12-26T00:06:20.342Z"
   },
   {
    "duration": 20,
    "start_time": "2021-12-26T00:06:20.351Z"
   },
   {
    "duration": 6789,
    "start_time": "2021-12-26T00:06:20.373Z"
   },
   {
    "duration": -109980,
    "start_time": "2021-12-26T00:08:17.145Z"
   },
   {
    "duration": 7,
    "start_time": "2021-12-26T00:07:36.558Z"
   },
   {
    "duration": 6829,
    "start_time": "2021-12-26T00:08:40.360Z"
   },
   {
    "duration": 87,
    "start_time": "2021-12-26T00:09:28.592Z"
   },
   {
    "duration": 876,
    "start_time": "2021-12-26T00:09:40.683Z"
   },
   {
    "duration": 79,
    "start_time": "2021-12-26T00:09:41.561Z"
   },
   {
    "duration": 31,
    "start_time": "2021-12-26T00:09:41.643Z"
   },
   {
    "duration": 29,
    "start_time": "2021-12-26T00:09:41.676Z"
   },
   {
    "duration": 22,
    "start_time": "2021-12-26T00:09:41.707Z"
   },
   {
    "duration": 13,
    "start_time": "2021-12-26T00:09:41.768Z"
   },
   {
    "duration": 7,
    "start_time": "2021-12-26T00:09:41.783Z"
   },
   {
    "duration": 25,
    "start_time": "2021-12-26T00:09:41.794Z"
   },
   {
    "duration": 101,
    "start_time": "2021-12-26T00:09:41.822Z"
   },
   {
    "duration": 8,
    "start_time": "2021-12-26T00:09:41.925Z"
   },
   {
    "duration": 39,
    "start_time": "2021-12-26T00:09:41.935Z"
   },
   {
    "duration": 11,
    "start_time": "2021-12-26T00:09:41.977Z"
   },
   {
    "duration": 8,
    "start_time": "2021-12-26T00:09:41.991Z"
   },
   {
    "duration": 353,
    "start_time": "2021-12-26T00:09:42.002Z"
   },
   {
    "duration": 321,
    "start_time": "2021-12-26T00:09:42.357Z"
   },
   {
    "duration": 320,
    "start_time": "2021-12-26T00:09:42.680Z"
   },
   {
    "duration": 14,
    "start_time": "2021-12-26T00:09:43.002Z"
   },
   {
    "duration": 6,
    "start_time": "2021-12-26T00:09:43.018Z"
   },
   {
    "duration": 379,
    "start_time": "2021-12-26T00:09:43.027Z"
   },
   {
    "duration": 312,
    "start_time": "2021-12-26T00:09:43.409Z"
   },
   {
    "duration": 8,
    "start_time": "2021-12-26T00:09:43.724Z"
   },
   {
    "duration": 6,
    "start_time": "2021-12-26T00:09:43.735Z"
   },
   {
    "duration": 7,
    "start_time": "2021-12-26T00:09:43.770Z"
   },
   {
    "duration": 322,
    "start_time": "2021-12-26T00:09:43.781Z"
   },
   {
    "duration": 9,
    "start_time": "2021-12-26T00:09:44.105Z"
   },
   {
    "duration": 12,
    "start_time": "2021-12-26T00:09:44.117Z"
   },
   {
    "duration": 45,
    "start_time": "2021-12-26T00:09:44.132Z"
   },
   {
    "duration": 7,
    "start_time": "2021-12-26T00:09:44.180Z"
   },
   {
    "duration": 7,
    "start_time": "2021-12-26T00:09:44.189Z"
   },
   {
    "duration": 97,
    "start_time": "2021-12-26T00:09:44.198Z"
   },
   {
    "duration": 9,
    "start_time": "2021-12-26T00:09:44.297Z"
   },
   {
    "duration": 17,
    "start_time": "2021-12-26T00:09:44.308Z"
   },
   {
    "duration": 8,
    "start_time": "2021-12-26T00:09:44.328Z"
   },
   {
    "duration": 35,
    "start_time": "2021-12-26T00:09:44.338Z"
   },
   {
    "duration": 7,
    "start_time": "2021-12-26T00:09:44.376Z"
   },
   {
    "duration": 9,
    "start_time": "2021-12-26T00:09:44.385Z"
   },
   {
    "duration": 69,
    "start_time": "2021-12-26T00:09:44.397Z"
   },
   {
    "duration": 42,
    "start_time": "2021-12-26T00:09:44.469Z"
   },
   {
    "duration": 21,
    "start_time": "2021-12-26T00:09:44.514Z"
   },
   {
    "duration": 8,
    "start_time": "2021-12-26T00:09:44.568Z"
   },
   {
    "duration": 977,
    "start_time": "2021-12-26T00:09:44.578Z"
   },
   {
    "duration": 10,
    "start_time": "2021-12-26T00:09:45.557Z"
   },
   {
    "duration": 75,
    "start_time": "2021-12-26T00:09:45.569Z"
   },
   {
    "duration": 299,
    "start_time": "2021-12-26T00:09:45.668Z"
   },
   {
    "duration": 7,
    "start_time": "2021-12-26T00:09:45.969Z"
   },
   {
    "duration": 13,
    "start_time": "2021-12-26T00:09:45.979Z"
   },
   {
    "duration": 8,
    "start_time": "2021-12-26T00:09:45.995Z"
   },
   {
    "duration": 132,
    "start_time": "2021-12-26T00:09:46.005Z"
   },
   {
    "duration": 39,
    "start_time": "2021-12-26T00:09:46.139Z"
   },
   {
    "duration": 5,
    "start_time": "2021-12-26T00:12:05.988Z"
   },
   {
    "duration": 6,
    "start_time": "2021-12-26T00:12:24.494Z"
   },
   {
    "duration": 410,
    "start_time": "2021-12-26T00:12:46.313Z"
   },
   {
    "duration": 5,
    "start_time": "2021-12-26T00:20:11.145Z"
   },
   {
    "duration": 697,
    "start_time": "2021-12-26T06:21:20.704Z"
   },
   {
    "duration": 56,
    "start_time": "2021-12-26T06:21:21.403Z"
   },
   {
    "duration": 12,
    "start_time": "2021-12-26T06:21:21.461Z"
   },
   {
    "duration": 15,
    "start_time": "2021-12-26T06:21:21.475Z"
   },
   {
    "duration": 11,
    "start_time": "2021-12-26T06:21:21.492Z"
   },
   {
    "duration": 25,
    "start_time": "2021-12-26T06:21:21.505Z"
   },
   {
    "duration": 5,
    "start_time": "2021-12-26T06:21:21.531Z"
   },
   {
    "duration": 11,
    "start_time": "2021-12-26T06:21:21.538Z"
   },
   {
    "duration": 40,
    "start_time": "2021-12-26T06:21:21.551Z"
   },
   {
    "duration": 5,
    "start_time": "2021-12-26T06:21:21.593Z"
   },
   {
    "duration": 8,
    "start_time": "2021-12-26T06:21:21.627Z"
   },
   {
    "duration": 9,
    "start_time": "2021-12-26T06:21:21.636Z"
   },
   {
    "duration": 6,
    "start_time": "2021-12-26T06:21:21.647Z"
   },
   {
    "duration": 187,
    "start_time": "2021-12-26T06:21:21.655Z"
   },
   {
    "duration": 165,
    "start_time": "2021-12-26T06:21:21.844Z"
   },
   {
    "duration": 270,
    "start_time": "2021-12-26T06:21:22.011Z"
   },
   {
    "duration": 8,
    "start_time": "2021-12-26T06:21:22.282Z"
   },
   {
    "duration": 4,
    "start_time": "2021-12-26T06:21:22.292Z"
   },
   {
    "duration": 215,
    "start_time": "2021-12-26T06:21:22.297Z"
   },
   {
    "duration": 174,
    "start_time": "2021-12-26T06:21:22.514Z"
   },
   {
    "duration": 5,
    "start_time": "2021-12-26T06:21:22.690Z"
   },
   {
    "duration": 3,
    "start_time": "2021-12-26T06:21:22.697Z"
   },
   {
    "duration": 24,
    "start_time": "2021-12-26T06:21:22.704Z"
   },
   {
    "duration": 167,
    "start_time": "2021-12-26T06:21:22.730Z"
   },
   {
    "duration": 6,
    "start_time": "2021-12-26T06:21:22.899Z"
   },
   {
    "duration": 6,
    "start_time": "2021-12-26T06:21:22.907Z"
   },
   {
    "duration": 10,
    "start_time": "2021-12-26T06:21:22.926Z"
   },
   {
    "duration": 4,
    "start_time": "2021-12-26T06:21:22.937Z"
   },
   {
    "duration": 4,
    "start_time": "2021-12-26T06:21:22.942Z"
   },
   {
    "duration": 27,
    "start_time": "2021-12-26T06:21:22.948Z"
   },
   {
    "duration": 4,
    "start_time": "2021-12-26T06:21:22.977Z"
   },
   {
    "duration": 5,
    "start_time": "2021-12-26T06:21:22.983Z"
   },
   {
    "duration": 6,
    "start_time": "2021-12-26T06:21:22.989Z"
   },
   {
    "duration": 35,
    "start_time": "2021-12-26T06:21:22.996Z"
   },
   {
    "duration": 4,
    "start_time": "2021-12-26T06:21:23.033Z"
   },
   {
    "duration": 4,
    "start_time": "2021-12-26T06:21:23.039Z"
   },
   {
    "duration": 11,
    "start_time": "2021-12-26T06:21:23.045Z"
   },
   {
    "duration": 21,
    "start_time": "2021-12-26T06:21:23.057Z"
   },
   {
    "duration": 12,
    "start_time": "2021-12-26T06:21:23.080Z"
   },
   {
    "duration": 37,
    "start_time": "2021-12-26T06:21:23.093Z"
   },
   {
    "duration": 619,
    "start_time": "2021-12-26T06:21:23.132Z"
   },
   {
    "duration": 3,
    "start_time": "2021-12-26T06:21:23.753Z"
   },
   {
    "duration": 648,
    "start_time": "2021-12-26T06:21:23.757Z"
   },
   {
    "duration": -110370,
    "start_time": "2021-12-26T06:23:14.777Z"
   },
   {
    "duration": -110375,
    "start_time": "2021-12-26T06:23:14.783Z"
   },
   {
    "duration": -110378,
    "start_time": "2021-12-26T06:23:14.786Z"
   },
   {
    "duration": -110379,
    "start_time": "2021-12-26T06:23:14.788Z"
   },
   {
    "duration": -110380,
    "start_time": "2021-12-26T06:23:14.790Z"
   },
   {
    "duration": -110386,
    "start_time": "2021-12-26T06:23:14.797Z"
   },
   {
    "duration": -110386,
    "start_time": "2021-12-26T06:23:14.799Z"
   },
   {
    "duration": 524,
    "start_time": "2021-12-26T06:21:48.604Z"
   },
   {
    "duration": 554,
    "start_time": "2021-12-26T06:22:22.549Z"
   },
   {
    "duration": 570,
    "start_time": "2021-12-26T06:23:48.614Z"
   },
   {
    "duration": 660,
    "start_time": "2021-12-26T06:26:19.362Z"
   },
   {
    "duration": 619,
    "start_time": "2021-12-26T06:26:55.983Z"
   },
   {
    "duration": 631,
    "start_time": "2021-12-26T06:28:35.553Z"
   },
   {
    "duration": 674,
    "start_time": "2021-12-26T06:28:51.920Z"
   },
   {
    "duration": 52,
    "start_time": "2021-12-26T06:29:22.358Z"
   },
   {
    "duration": 64,
    "start_time": "2021-12-26T06:30:14.703Z"
   },
   {
    "duration": 54,
    "start_time": "2021-12-26T06:30:29.593Z"
   },
   {
    "duration": 697,
    "start_time": "2021-12-26T06:30:42.335Z"
   },
   {
    "duration": 63,
    "start_time": "2021-12-26T06:30:43.035Z"
   },
   {
    "duration": 15,
    "start_time": "2021-12-26T06:30:43.102Z"
   },
   {
    "duration": 18,
    "start_time": "2021-12-26T06:30:43.127Z"
   },
   {
    "duration": 14,
    "start_time": "2021-12-26T06:30:43.146Z"
   },
   {
    "duration": 9,
    "start_time": "2021-12-26T06:30:43.162Z"
   },
   {
    "duration": 5,
    "start_time": "2021-12-26T06:30:43.174Z"
   },
   {
    "duration": 47,
    "start_time": "2021-12-26T06:30:43.181Z"
   },
   {
    "duration": 42,
    "start_time": "2021-12-26T06:30:43.230Z"
   },
   {
    "duration": 5,
    "start_time": "2021-12-26T06:30:43.274Z"
   },
   {
    "duration": 10,
    "start_time": "2021-12-26T06:30:43.280Z"
   },
   {
    "duration": 9,
    "start_time": "2021-12-26T06:30:43.291Z"
   },
   {
    "duration": 26,
    "start_time": "2021-12-26T06:30:43.301Z"
   },
   {
    "duration": 182,
    "start_time": "2021-12-26T06:30:43.329Z"
   },
   {
    "duration": 172,
    "start_time": "2021-12-26T06:30:43.513Z"
   },
   {
    "duration": 182,
    "start_time": "2021-12-26T06:30:43.687Z"
   },
   {
    "duration": 9,
    "start_time": "2021-12-26T06:30:43.870Z"
   },
   {
    "duration": 6,
    "start_time": "2021-12-26T06:30:43.880Z"
   },
   {
    "duration": 279,
    "start_time": "2021-12-26T06:30:43.888Z"
   },
   {
    "duration": 176,
    "start_time": "2021-12-26T06:30:44.169Z"
   },
   {
    "duration": 4,
    "start_time": "2021-12-26T06:30:44.347Z"
   },
   {
    "duration": 7,
    "start_time": "2021-12-26T06:30:44.354Z"
   },
   {
    "duration": 12,
    "start_time": "2021-12-26T06:30:44.362Z"
   },
   {
    "duration": 183,
    "start_time": "2021-12-26T06:30:44.376Z"
   },
   {
    "duration": 7,
    "start_time": "2021-12-26T06:30:44.561Z"
   },
   {
    "duration": 11,
    "start_time": "2021-12-26T06:30:44.569Z"
   },
   {
    "duration": 12,
    "start_time": "2021-12-26T06:30:44.581Z"
   },
   {
    "duration": 4,
    "start_time": "2021-12-26T06:30:44.594Z"
   },
   {
    "duration": 7,
    "start_time": "2021-12-26T06:30:44.600Z"
   },
   {
    "duration": 28,
    "start_time": "2021-12-26T06:30:44.628Z"
   },
   {
    "duration": 5,
    "start_time": "2021-12-26T06:30:44.657Z"
   },
   {
    "duration": 8,
    "start_time": "2021-12-26T06:30:44.664Z"
   },
   {
    "duration": 7,
    "start_time": "2021-12-26T06:30:44.674Z"
   },
   {
    "duration": 6,
    "start_time": "2021-12-26T06:30:44.682Z"
   },
   {
    "duration": 5,
    "start_time": "2021-12-26T06:30:44.689Z"
   },
   {
    "duration": 32,
    "start_time": "2021-12-26T06:30:44.696Z"
   },
   {
    "duration": 13,
    "start_time": "2021-12-26T06:30:44.730Z"
   },
   {
    "duration": 23,
    "start_time": "2021-12-26T06:30:44.744Z"
   },
   {
    "duration": 14,
    "start_time": "2021-12-26T06:30:44.769Z"
   },
   {
    "duration": 6,
    "start_time": "2021-12-26T06:30:44.784Z"
   },
   {
    "duration": 641,
    "start_time": "2021-12-26T06:30:44.827Z"
   },
   {
    "duration": 2,
    "start_time": "2021-12-26T06:30:45.470Z"
   },
   {
    "duration": 61,
    "start_time": "2021-12-26T06:30:45.474Z"
   },
   {
    "duration": 171,
    "start_time": "2021-12-26T06:30:45.536Z"
   },
   {
    "duration": 5,
    "start_time": "2021-12-26T06:30:45.708Z"
   },
   {
    "duration": 13,
    "start_time": "2021-12-26T06:30:45.715Z"
   },
   {
    "duration": 8,
    "start_time": "2021-12-26T06:30:45.730Z"
   },
   {
    "duration": 57,
    "start_time": "2021-12-26T06:30:45.739Z"
   },
   {
    "duration": 514,
    "start_time": "2021-12-26T06:30:45.797Z"
   },
   {
    "duration": -110381,
    "start_time": "2021-12-26T06:32:36.693Z"
   },
   {
    "duration": 16,
    "start_time": "2021-12-26T06:31:28.453Z"
   },
   {
    "duration": 10,
    "start_time": "2021-12-26T06:34:10.438Z"
   },
   {
    "duration": 685,
    "start_time": "2021-12-26T06:36:48.652Z"
   },
   {
    "duration": 57,
    "start_time": "2021-12-26T06:36:49.338Z"
   },
   {
    "duration": 12,
    "start_time": "2021-12-26T06:36:49.397Z"
   },
   {
    "duration": 21,
    "start_time": "2021-12-26T06:36:49.411Z"
   },
   {
    "duration": 13,
    "start_time": "2021-12-26T06:36:49.433Z"
   },
   {
    "duration": 10,
    "start_time": "2021-12-26T06:36:49.447Z"
   },
   {
    "duration": 4,
    "start_time": "2021-12-26T06:36:49.459Z"
   },
   {
    "duration": 14,
    "start_time": "2021-12-26T06:36:49.466Z"
   },
   {
    "duration": 69,
    "start_time": "2021-12-26T06:36:49.482Z"
   },
   {
    "duration": 5,
    "start_time": "2021-12-26T06:36:49.552Z"
   },
   {
    "duration": 8,
    "start_time": "2021-12-26T06:36:49.559Z"
   },
   {
    "duration": 7,
    "start_time": "2021-12-26T06:36:49.569Z"
   },
   {
    "duration": 5,
    "start_time": "2021-12-26T06:36:49.577Z"
   },
   {
    "duration": 195,
    "start_time": "2021-12-26T06:36:49.584Z"
   },
   {
    "duration": 170,
    "start_time": "2021-12-26T06:36:49.780Z"
   },
   {
    "duration": 175,
    "start_time": "2021-12-26T06:36:49.952Z"
   },
   {
    "duration": 9,
    "start_time": "2021-12-26T06:36:50.129Z"
   },
   {
    "duration": 2,
    "start_time": "2021-12-26T06:36:50.140Z"
   },
   {
    "duration": 210,
    "start_time": "2021-12-26T06:36:50.143Z"
   },
   {
    "duration": 167,
    "start_time": "2021-12-26T06:36:50.355Z"
   },
   {
    "duration": 5,
    "start_time": "2021-12-26T06:36:50.524Z"
   },
   {
    "duration": 9,
    "start_time": "2021-12-26T06:36:50.531Z"
   },
   {
    "duration": 7,
    "start_time": "2021-12-26T06:36:50.543Z"
   },
   {
    "duration": 175,
    "start_time": "2021-12-26T06:36:50.552Z"
   },
   {
    "duration": 8,
    "start_time": "2021-12-26T06:36:50.728Z"
   },
   {
    "duration": 12,
    "start_time": "2021-12-26T06:36:50.737Z"
   },
   {
    "duration": 11,
    "start_time": "2021-12-26T06:36:50.751Z"
   },
   {
    "duration": 4,
    "start_time": "2021-12-26T06:36:50.764Z"
   },
   {
    "duration": 7,
    "start_time": "2021-12-26T06:36:50.770Z"
   },
   {
    "duration": 59,
    "start_time": "2021-12-26T06:36:50.778Z"
   },
   {
    "duration": 5,
    "start_time": "2021-12-26T06:36:50.839Z"
   },
   {
    "duration": 7,
    "start_time": "2021-12-26T06:36:50.846Z"
   },
   {
    "duration": 8,
    "start_time": "2021-12-26T06:36:50.855Z"
   },
   {
    "duration": 6,
    "start_time": "2021-12-26T06:36:50.865Z"
   },
   {
    "duration": 6,
    "start_time": "2021-12-26T06:36:50.872Z"
   },
   {
    "duration": 7,
    "start_time": "2021-12-26T06:36:50.879Z"
   },
   {
    "duration": 13,
    "start_time": "2021-12-26T06:36:50.887Z"
   },
   {
    "duration": 47,
    "start_time": "2021-12-26T06:36:50.901Z"
   },
   {
    "duration": 13,
    "start_time": "2021-12-26T06:36:50.950Z"
   },
   {
    "duration": 9,
    "start_time": "2021-12-26T06:36:50.964Z"
   },
   {
    "duration": 649,
    "start_time": "2021-12-26T06:36:50.974Z"
   },
   {
    "duration": 3,
    "start_time": "2021-12-26T06:36:51.627Z"
   },
   {
    "duration": 42,
    "start_time": "2021-12-26T06:36:51.631Z"
   },
   {
    "duration": 183,
    "start_time": "2021-12-26T06:36:51.675Z"
   },
   {
    "duration": 5,
    "start_time": "2021-12-26T06:36:51.860Z"
   },
   {
    "duration": 9,
    "start_time": "2021-12-26T06:36:51.867Z"
   },
   {
    "duration": 5,
    "start_time": "2021-12-26T06:36:51.877Z"
   },
   {
    "duration": 1795,
    "start_time": "2021-12-26T06:36:51.884Z"
   },
   {
    "duration": -110390,
    "start_time": "2021-12-26T06:38:44.071Z"
   },
   {
    "duration": -110394,
    "start_time": "2021-12-26T06:38:44.076Z"
   },
   {
    "duration": 402,
    "start_time": "2021-12-26T06:37:23.235Z"
   },
   {
    "duration": 5,
    "start_time": "2021-12-26T06:38:52.810Z"
   },
   {
    "duration": 655,
    "start_time": "2021-12-26T06:39:04.389Z"
   },
   {
    "duration": 59,
    "start_time": "2021-12-26T06:39:05.045Z"
   },
   {
    "duration": 12,
    "start_time": "2021-12-26T06:39:05.106Z"
   },
   {
    "duration": 17,
    "start_time": "2021-12-26T06:39:05.120Z"
   },
   {
    "duration": 12,
    "start_time": "2021-12-26T06:39:05.139Z"
   },
   {
    "duration": 10,
    "start_time": "2021-12-26T06:39:05.152Z"
   },
   {
    "duration": 4,
    "start_time": "2021-12-26T06:39:05.163Z"
   },
   {
    "duration": 12,
    "start_time": "2021-12-26T06:39:05.169Z"
   },
   {
    "duration": 72,
    "start_time": "2021-12-26T06:39:05.183Z"
   },
   {
    "duration": 4,
    "start_time": "2021-12-26T06:39:05.257Z"
   },
   {
    "duration": 8,
    "start_time": "2021-12-26T06:39:05.263Z"
   },
   {
    "duration": 6,
    "start_time": "2021-12-26T06:39:05.273Z"
   },
   {
    "duration": 4,
    "start_time": "2021-12-26T06:39:05.281Z"
   },
   {
    "duration": 189,
    "start_time": "2021-12-26T06:39:05.287Z"
   },
   {
    "duration": 164,
    "start_time": "2021-12-26T06:39:05.478Z"
   },
   {
    "duration": 165,
    "start_time": "2021-12-26T06:39:05.644Z"
   },
   {
    "duration": 9,
    "start_time": "2021-12-26T06:39:05.810Z"
   },
   {
    "duration": 2,
    "start_time": "2021-12-26T06:39:05.828Z"
   },
   {
    "duration": 208,
    "start_time": "2021-12-26T06:39:05.832Z"
   },
   {
    "duration": 167,
    "start_time": "2021-12-26T06:39:06.042Z"
   },
   {
    "duration": 17,
    "start_time": "2021-12-26T06:39:06.210Z"
   },
   {
    "duration": 2,
    "start_time": "2021-12-26T06:39:06.229Z"
   },
   {
    "duration": 6,
    "start_time": "2021-12-26T06:39:06.235Z"
   },
   {
    "duration": 179,
    "start_time": "2021-12-26T06:39:06.244Z"
   },
   {
    "duration": 8,
    "start_time": "2021-12-26T06:39:06.428Z"
   },
   {
    "duration": 10,
    "start_time": "2021-12-26T06:39:06.437Z"
   },
   {
    "duration": 12,
    "start_time": "2021-12-26T06:39:06.448Z"
   },
   {
    "duration": 4,
    "start_time": "2021-12-26T06:39:06.462Z"
   },
   {
    "duration": 4,
    "start_time": "2021-12-26T06:39:06.468Z"
   },
   {
    "duration": 62,
    "start_time": "2021-12-26T06:39:06.474Z"
   },
   {
    "duration": 6,
    "start_time": "2021-12-26T06:39:06.538Z"
   },
   {
    "duration": 7,
    "start_time": "2021-12-26T06:39:06.545Z"
   },
   {
    "duration": 5,
    "start_time": "2021-12-26T06:39:06.553Z"
   },
   {
    "duration": 6,
    "start_time": "2021-12-26T06:39:06.559Z"
   },
   {
    "duration": 5,
    "start_time": "2021-12-26T06:39:06.566Z"
   },
   {
    "duration": 5,
    "start_time": "2021-12-26T06:39:06.572Z"
   },
   {
    "duration": 49,
    "start_time": "2021-12-26T06:39:06.579Z"
   },
   {
    "duration": 22,
    "start_time": "2021-12-26T06:39:06.630Z"
   },
   {
    "duration": 12,
    "start_time": "2021-12-26T06:39:06.654Z"
   },
   {
    "duration": 5,
    "start_time": "2021-12-26T06:39:06.668Z"
   },
   {
    "duration": 646,
    "start_time": "2021-12-26T06:39:06.674Z"
   },
   {
    "duration": 7,
    "start_time": "2021-12-26T06:39:07.322Z"
   },
   {
    "duration": 40,
    "start_time": "2021-12-26T06:39:07.330Z"
   },
   {
    "duration": 183,
    "start_time": "2021-12-26T06:39:07.372Z"
   },
   {
    "duration": 5,
    "start_time": "2021-12-26T06:39:07.557Z"
   },
   {
    "duration": 10,
    "start_time": "2021-12-26T06:39:07.564Z"
   },
   {
    "duration": 5,
    "start_time": "2021-12-26T06:39:07.576Z"
   },
   {
    "duration": 75,
    "start_time": "2021-12-26T06:39:07.582Z"
   },
   {
    "duration": 16,
    "start_time": "2021-12-26T06:39:07.659Z"
   },
   {
    "duration": 10,
    "start_time": "2021-12-26T06:39:07.676Z"
   },
   {
    "duration": 4,
    "start_time": "2021-12-26T06:39:07.688Z"
   },
   {
    "duration": 715,
    "start_time": "2021-12-26T06:40:31.871Z"
   },
   {
    "duration": 59,
    "start_time": "2021-12-26T06:40:32.588Z"
   },
   {
    "duration": 14,
    "start_time": "2021-12-26T06:40:32.649Z"
   },
   {
    "duration": 16,
    "start_time": "2021-12-26T06:40:32.665Z"
   },
   {
    "duration": 13,
    "start_time": "2021-12-26T06:40:32.683Z"
   },
   {
    "duration": 35,
    "start_time": "2021-12-26T06:40:32.697Z"
   },
   {
    "duration": 4,
    "start_time": "2021-12-26T06:40:32.734Z"
   },
   {
    "duration": 17,
    "start_time": "2021-12-26T06:40:32.740Z"
   },
   {
    "duration": 39,
    "start_time": "2021-12-26T06:40:32.759Z"
   },
   {
    "duration": 5,
    "start_time": "2021-12-26T06:40:32.800Z"
   },
   {
    "duration": 8,
    "start_time": "2021-12-26T06:40:32.827Z"
   },
   {
    "duration": 7,
    "start_time": "2021-12-26T06:40:32.837Z"
   },
   {
    "duration": 5,
    "start_time": "2021-12-26T06:40:32.846Z"
   },
   {
    "duration": 218,
    "start_time": "2021-12-26T06:40:32.852Z"
   },
   {
    "duration": 178,
    "start_time": "2021-12-26T06:40:33.072Z"
   },
   {
    "duration": 171,
    "start_time": "2021-12-26T06:40:33.252Z"
   },
   {
    "duration": 8,
    "start_time": "2021-12-26T06:40:33.424Z"
   },
   {
    "duration": 2,
    "start_time": "2021-12-26T06:40:33.434Z"
   },
   {
    "duration": 212,
    "start_time": "2021-12-26T06:40:33.437Z"
   },
   {
    "duration": 176,
    "start_time": "2021-12-26T06:40:33.651Z"
   },
   {
    "duration": 4,
    "start_time": "2021-12-26T06:40:33.828Z"
   },
   {
    "duration": 5,
    "start_time": "2021-12-26T06:40:33.834Z"
   },
   {
    "duration": 6,
    "start_time": "2021-12-26T06:40:33.842Z"
   },
   {
    "duration": 180,
    "start_time": "2021-12-26T06:40:33.850Z"
   },
   {
    "duration": 6,
    "start_time": "2021-12-26T06:40:34.032Z"
   },
   {
    "duration": 12,
    "start_time": "2021-12-26T06:40:34.040Z"
   },
   {
    "duration": 15,
    "start_time": "2021-12-26T06:40:34.054Z"
   },
   {
    "duration": 4,
    "start_time": "2021-12-26T06:40:34.071Z"
   },
   {
    "duration": 6,
    "start_time": "2021-12-26T06:40:34.077Z"
   },
   {
    "duration": 66,
    "start_time": "2021-12-26T06:40:34.084Z"
   },
   {
    "duration": 6,
    "start_time": "2021-12-26T06:40:34.152Z"
   },
   {
    "duration": 7,
    "start_time": "2021-12-26T06:40:34.160Z"
   },
   {
    "duration": 6,
    "start_time": "2021-12-26T06:40:34.169Z"
   },
   {
    "duration": 7,
    "start_time": "2021-12-26T06:40:34.176Z"
   },
   {
    "duration": 5,
    "start_time": "2021-12-26T06:40:34.185Z"
   },
   {
    "duration": 36,
    "start_time": "2021-12-26T06:40:34.192Z"
   },
   {
    "duration": 16,
    "start_time": "2021-12-26T06:40:34.230Z"
   },
   {
    "duration": 30,
    "start_time": "2021-12-26T06:40:34.248Z"
   },
   {
    "duration": 17,
    "start_time": "2021-12-26T06:40:34.279Z"
   },
   {
    "duration": 6,
    "start_time": "2021-12-26T06:40:34.298Z"
   },
   {
    "duration": 641,
    "start_time": "2021-12-26T06:40:34.327Z"
   },
   {
    "duration": 2,
    "start_time": "2021-12-26T06:40:34.970Z"
   },
   {
    "duration": 61,
    "start_time": "2021-12-26T06:40:34.973Z"
   },
   {
    "duration": 163,
    "start_time": "2021-12-26T06:40:35.036Z"
   },
   {
    "duration": 4,
    "start_time": "2021-12-26T06:40:35.200Z"
   },
   {
    "duration": 9,
    "start_time": "2021-12-26T06:40:35.206Z"
   },
   {
    "duration": 5,
    "start_time": "2021-12-26T06:40:35.227Z"
   },
   {
    "duration": 1457,
    "start_time": "2021-12-26T06:40:35.233Z"
   },
   {
    "duration": -110402,
    "start_time": "2021-12-26T06:42:27.094Z"
   },
   {
    "duration": -110404,
    "start_time": "2021-12-26T06:42:27.097Z"
   },
   {
    "duration": -110409,
    "start_time": "2021-12-26T06:42:27.103Z"
   },
   {
    "duration": 638,
    "start_time": "2021-12-26T06:42:22.566Z"
   },
   {
    "duration": 56,
    "start_time": "2021-12-26T06:42:23.206Z"
   },
   {
    "duration": 13,
    "start_time": "2021-12-26T06:42:23.264Z"
   },
   {
    "duration": 18,
    "start_time": "2021-12-26T06:42:23.278Z"
   },
   {
    "duration": 29,
    "start_time": "2021-12-26T06:42:23.298Z"
   },
   {
    "duration": 8,
    "start_time": "2021-12-26T06:42:23.329Z"
   },
   {
    "duration": 5,
    "start_time": "2021-12-26T06:42:23.338Z"
   },
   {
    "duration": 11,
    "start_time": "2021-12-26T06:42:23.345Z"
   },
   {
    "duration": 38,
    "start_time": "2021-12-26T06:42:23.358Z"
   },
   {
    "duration": 30,
    "start_time": "2021-12-26T06:42:23.398Z"
   },
   {
    "duration": 7,
    "start_time": "2021-12-26T06:42:23.429Z"
   },
   {
    "duration": 6,
    "start_time": "2021-12-26T06:42:23.438Z"
   },
   {
    "duration": 5,
    "start_time": "2021-12-26T06:42:23.446Z"
   },
   {
    "duration": 190,
    "start_time": "2021-12-26T06:42:23.452Z"
   },
   {
    "duration": 166,
    "start_time": "2021-12-26T06:42:23.643Z"
   },
   {
    "duration": 172,
    "start_time": "2021-12-26T06:42:23.810Z"
   },
   {
    "duration": 7,
    "start_time": "2021-12-26T06:42:23.984Z"
   },
   {
    "duration": 2,
    "start_time": "2021-12-26T06:42:23.993Z"
   },
   {
    "duration": 223,
    "start_time": "2021-12-26T06:42:23.996Z"
   },
   {
    "duration": 165,
    "start_time": "2021-12-26T06:42:24.221Z"
   },
   {
    "duration": 4,
    "start_time": "2021-12-26T06:42:24.387Z"
   },
   {
    "duration": 7,
    "start_time": "2021-12-26T06:42:24.393Z"
   },
   {
    "duration": 6,
    "start_time": "2021-12-26T06:42:24.403Z"
   },
   {
    "duration": 187,
    "start_time": "2021-12-26T06:42:24.411Z"
   },
   {
    "duration": 7,
    "start_time": "2021-12-26T06:42:24.600Z"
   },
   {
    "duration": 10,
    "start_time": "2021-12-26T06:42:24.608Z"
   },
   {
    "duration": 17,
    "start_time": "2021-12-26T06:42:24.619Z"
   },
   {
    "duration": 4,
    "start_time": "2021-12-26T06:42:24.637Z"
   },
   {
    "duration": 5,
    "start_time": "2021-12-26T06:42:24.642Z"
   },
   {
    "duration": 31,
    "start_time": "2021-12-26T06:42:24.649Z"
   },
   {
    "duration": 5,
    "start_time": "2021-12-26T06:42:24.681Z"
   },
   {
    "duration": 8,
    "start_time": "2021-12-26T06:42:24.687Z"
   },
   {
    "duration": 35,
    "start_time": "2021-12-26T06:42:24.696Z"
   },
   {
    "duration": 11,
    "start_time": "2021-12-26T06:42:24.732Z"
   },
   {
    "duration": 6,
    "start_time": "2021-12-26T06:42:24.745Z"
   },
   {
    "duration": 7,
    "start_time": "2021-12-26T06:42:24.753Z"
   },
   {
    "duration": 13,
    "start_time": "2021-12-26T06:42:24.761Z"
   },
   {
    "duration": 21,
    "start_time": "2021-12-26T06:42:24.775Z"
   },
   {
    "duration": 36,
    "start_time": "2021-12-26T06:42:24.798Z"
   },
   {
    "duration": 4,
    "start_time": "2021-12-26T06:42:24.836Z"
   },
   {
    "duration": 641,
    "start_time": "2021-12-26T06:42:24.842Z"
   },
   {
    "duration": 3,
    "start_time": "2021-12-26T06:42:25.485Z"
   },
   {
    "duration": 64,
    "start_time": "2021-12-26T06:42:25.489Z"
   },
   {
    "duration": 169,
    "start_time": "2021-12-26T06:42:25.555Z"
   },
   {
    "duration": 4,
    "start_time": "2021-12-26T06:42:25.727Z"
   },
   {
    "duration": 8,
    "start_time": "2021-12-26T06:42:25.733Z"
   },
   {
    "duration": 6,
    "start_time": "2021-12-26T06:42:25.742Z"
   },
   {
    "duration": 488,
    "start_time": "2021-12-26T06:42:25.750Z"
   },
   {
    "duration": -110390,
    "start_time": "2021-12-26T06:44:16.630Z"
   },
   {
    "duration": -110395,
    "start_time": "2021-12-26T06:44:16.636Z"
   },
   {
    "duration": -110396,
    "start_time": "2021-12-26T06:44:16.638Z"
   },
   {
    "duration": 791,
    "start_time": "2021-12-26T06:42:45.546Z"
   },
   {
    "duration": 57,
    "start_time": "2021-12-26T06:42:46.339Z"
   },
   {
    "duration": 13,
    "start_time": "2021-12-26T06:42:46.398Z"
   },
   {
    "duration": 25,
    "start_time": "2021-12-26T06:42:46.413Z"
   },
   {
    "duration": 12,
    "start_time": "2021-12-26T06:42:46.439Z"
   },
   {
    "duration": 8,
    "start_time": "2021-12-26T06:42:46.453Z"
   },
   {
    "duration": 5,
    "start_time": "2021-12-26T06:42:46.462Z"
   },
   {
    "duration": 12,
    "start_time": "2021-12-26T06:42:46.469Z"
   },
   {
    "duration": 74,
    "start_time": "2021-12-26T06:42:46.483Z"
   },
   {
    "duration": 5,
    "start_time": "2021-12-26T06:42:46.558Z"
   },
   {
    "duration": 8,
    "start_time": "2021-12-26T06:42:46.565Z"
   },
   {
    "duration": 6,
    "start_time": "2021-12-26T06:42:46.574Z"
   },
   {
    "duration": 5,
    "start_time": "2021-12-26T06:42:46.582Z"
   },
   {
    "duration": 192,
    "start_time": "2021-12-26T06:42:46.588Z"
   },
   {
    "duration": 171,
    "start_time": "2021-12-26T06:42:46.781Z"
   },
   {
    "duration": 170,
    "start_time": "2021-12-26T06:42:46.953Z"
   },
   {
    "duration": 9,
    "start_time": "2021-12-26T06:42:47.125Z"
   },
   {
    "duration": 2,
    "start_time": "2021-12-26T06:42:47.135Z"
   },
   {
    "duration": 207,
    "start_time": "2021-12-26T06:42:47.139Z"
   },
   {
    "duration": 167,
    "start_time": "2021-12-26T06:42:47.348Z"
   },
   {
    "duration": 5,
    "start_time": "2021-12-26T06:42:47.516Z"
   },
   {
    "duration": 2,
    "start_time": "2021-12-26T06:42:47.527Z"
   },
   {
    "duration": 5,
    "start_time": "2021-12-26T06:42:47.532Z"
   },
   {
    "duration": 173,
    "start_time": "2021-12-26T06:42:47.539Z"
   },
   {
    "duration": 13,
    "start_time": "2021-12-26T06:42:47.714Z"
   },
   {
    "duration": 7,
    "start_time": "2021-12-26T06:42:47.728Z"
   },
   {
    "duration": 12,
    "start_time": "2021-12-26T06:42:47.736Z"
   },
   {
    "duration": 4,
    "start_time": "2021-12-26T06:42:47.749Z"
   },
   {
    "duration": 5,
    "start_time": "2021-12-26T06:42:47.754Z"
   },
   {
    "duration": 30,
    "start_time": "2021-12-26T06:42:47.760Z"
   },
   {
    "duration": 5,
    "start_time": "2021-12-26T06:42:47.791Z"
   },
   {
    "duration": 6,
    "start_time": "2021-12-26T06:42:47.827Z"
   },
   {
    "duration": 12,
    "start_time": "2021-12-26T06:42:47.835Z"
   },
   {
    "duration": 7,
    "start_time": "2021-12-26T06:42:47.848Z"
   },
   {
    "duration": 5,
    "start_time": "2021-12-26T06:42:47.856Z"
   },
   {
    "duration": 5,
    "start_time": "2021-12-26T06:42:47.863Z"
   },
   {
    "duration": 11,
    "start_time": "2021-12-26T06:42:47.869Z"
   },
   {
    "duration": 50,
    "start_time": "2021-12-26T06:42:47.881Z"
   },
   {
    "duration": 12,
    "start_time": "2021-12-26T06:42:47.933Z"
   },
   {
    "duration": 5,
    "start_time": "2021-12-26T06:42:47.947Z"
   },
   {
    "duration": 651,
    "start_time": "2021-12-26T06:42:47.953Z"
   },
   {
    "duration": 3,
    "start_time": "2021-12-26T06:42:48.606Z"
   },
   {
    "duration": 53,
    "start_time": "2021-12-26T06:42:48.610Z"
   },
   {
    "duration": 170,
    "start_time": "2021-12-26T06:42:48.665Z"
   },
   {
    "duration": 5,
    "start_time": "2021-12-26T06:42:48.836Z"
   },
   {
    "duration": 10,
    "start_time": "2021-12-26T06:42:48.843Z"
   },
   {
    "duration": 5,
    "start_time": "2021-12-26T06:42:48.855Z"
   },
   {
    "duration": 96,
    "start_time": "2021-12-26T06:42:48.861Z"
   },
   {
    "duration": 15,
    "start_time": "2021-12-26T06:42:48.959Z"
   },
   {
    "duration": 7,
    "start_time": "2021-12-26T06:42:48.975Z"
   },
   {
    "duration": 4,
    "start_time": "2021-12-26T06:42:48.983Z"
   },
   {
    "duration": 6,
    "start_time": "2021-12-26T06:45:24.977Z"
   },
   {
    "duration": 9,
    "start_time": "2021-12-26T06:45:40.319Z"
   },
   {
    "duration": 6,
    "start_time": "2021-12-26T06:46:31.700Z"
   },
   {
    "duration": 8,
    "start_time": "2021-12-26T06:46:45.202Z"
   },
   {
    "duration": 5,
    "start_time": "2021-12-26T06:49:09.511Z"
   },
   {
    "duration": 19,
    "start_time": "2021-12-26T06:49:11.907Z"
   },
   {
    "duration": 418,
    "start_time": "2021-12-26T06:56:46.291Z"
   },
   {
    "duration": 5,
    "start_time": "2021-12-26T06:57:23.840Z"
   },
   {
    "duration": 14,
    "start_time": "2021-12-26T06:57:32.110Z"
   },
   {
    "duration": 634,
    "start_time": "2021-12-26T06:58:24.784Z"
   },
   {
    "duration": 57,
    "start_time": "2021-12-26T06:58:25.420Z"
   },
   {
    "duration": 13,
    "start_time": "2021-12-26T06:58:25.480Z"
   },
   {
    "duration": 17,
    "start_time": "2021-12-26T06:58:25.494Z"
   },
   {
    "duration": 24,
    "start_time": "2021-12-26T06:58:25.513Z"
   },
   {
    "duration": 8,
    "start_time": "2021-12-26T06:58:25.539Z"
   },
   {
    "duration": 4,
    "start_time": "2021-12-26T06:58:25.549Z"
   },
   {
    "duration": 12,
    "start_time": "2021-12-26T06:58:25.556Z"
   },
   {
    "duration": 68,
    "start_time": "2021-12-26T06:58:25.570Z"
   },
   {
    "duration": 6,
    "start_time": "2021-12-26T06:58:25.639Z"
   },
   {
    "duration": 9,
    "start_time": "2021-12-26T06:58:25.646Z"
   },
   {
    "duration": 6,
    "start_time": "2021-12-26T06:58:25.657Z"
   },
   {
    "duration": 5,
    "start_time": "2021-12-26T06:58:25.665Z"
   },
   {
    "duration": 191,
    "start_time": "2021-12-26T06:58:25.672Z"
   },
   {
    "duration": 170,
    "start_time": "2021-12-26T06:58:25.864Z"
   },
   {
    "duration": 161,
    "start_time": "2021-12-26T06:58:26.035Z"
   },
   {
    "duration": 8,
    "start_time": "2021-12-26T06:58:26.197Z"
   },
   {
    "duration": 1,
    "start_time": "2021-12-26T06:58:26.207Z"
   },
   {
    "duration": 209,
    "start_time": "2021-12-26T06:58:26.210Z"
   },
   {
    "duration": 164,
    "start_time": "2021-12-26T06:58:26.420Z"
   },
   {
    "duration": 4,
    "start_time": "2021-12-26T06:58:26.586Z"
   },
   {
    "duration": 6,
    "start_time": "2021-12-26T06:58:26.592Z"
   },
   {
    "duration": 5,
    "start_time": "2021-12-26T06:58:26.602Z"
   },
   {
    "duration": 175,
    "start_time": "2021-12-26T06:58:26.628Z"
   },
   {
    "duration": 8,
    "start_time": "2021-12-26T06:58:26.805Z"
   },
   {
    "duration": 18,
    "start_time": "2021-12-26T06:58:26.815Z"
   },
   {
    "duration": 13,
    "start_time": "2021-12-26T06:58:26.835Z"
   },
   {
    "duration": 5,
    "start_time": "2021-12-26T06:58:26.850Z"
   },
   {
    "duration": 6,
    "start_time": "2021-12-26T06:58:26.857Z"
   },
   {
    "duration": 62,
    "start_time": "2021-12-26T06:58:26.865Z"
   },
   {
    "duration": 6,
    "start_time": "2021-12-26T06:58:26.929Z"
   },
   {
    "duration": 7,
    "start_time": "2021-12-26T06:58:26.936Z"
   },
   {
    "duration": 5,
    "start_time": "2021-12-26T06:58:26.944Z"
   },
   {
    "duration": 5,
    "start_time": "2021-12-26T06:58:26.951Z"
   },
   {
    "duration": 5,
    "start_time": "2021-12-26T06:58:26.957Z"
   },
   {
    "duration": 7,
    "start_time": "2021-12-26T06:58:26.963Z"
   },
   {
    "duration": 12,
    "start_time": "2021-12-26T06:58:26.972Z"
   },
   {
    "duration": 59,
    "start_time": "2021-12-26T06:58:26.985Z"
   },
   {
    "duration": 12,
    "start_time": "2021-12-26T06:58:27.046Z"
   },
   {
    "duration": 5,
    "start_time": "2021-12-26T06:58:27.060Z"
   },
   {
    "duration": 748,
    "start_time": "2021-12-26T06:58:27.067Z"
   },
   {
    "duration": 2,
    "start_time": "2021-12-26T06:58:27.818Z"
   },
   {
    "duration": 47,
    "start_time": "2021-12-26T06:58:27.827Z"
   },
   {
    "duration": 184,
    "start_time": "2021-12-26T06:58:27.876Z"
   },
   {
    "duration": 4,
    "start_time": "2021-12-26T06:58:28.062Z"
   },
   {
    "duration": 8,
    "start_time": "2021-12-26T06:58:28.068Z"
   },
   {
    "duration": 7,
    "start_time": "2021-12-26T06:58:28.077Z"
   },
   {
    "duration": 8,
    "start_time": "2021-12-26T06:58:28.085Z"
   },
   {
    "duration": 79,
    "start_time": "2021-12-26T06:58:28.094Z"
   },
   {
    "duration": 15,
    "start_time": "2021-12-26T06:58:28.174Z"
   },
   {
    "duration": 7,
    "start_time": "2021-12-26T06:58:28.190Z"
   },
   {
    "duration": 4,
    "start_time": "2021-12-26T06:58:28.198Z"
   },
   {
    "duration": 653,
    "start_time": "2021-12-26T07:00:55.380Z"
   },
   {
    "duration": 57,
    "start_time": "2021-12-26T07:00:56.035Z"
   },
   {
    "duration": 12,
    "start_time": "2021-12-26T07:00:56.094Z"
   },
   {
    "duration": 24,
    "start_time": "2021-12-26T07:00:56.108Z"
   },
   {
    "duration": 12,
    "start_time": "2021-12-26T07:00:56.134Z"
   },
   {
    "duration": 9,
    "start_time": "2021-12-26T07:00:56.147Z"
   },
   {
    "duration": 4,
    "start_time": "2021-12-26T07:00:56.158Z"
   },
   {
    "duration": 11,
    "start_time": "2021-12-26T07:00:56.164Z"
   },
   {
    "duration": 75,
    "start_time": "2021-12-26T07:00:56.177Z"
   },
   {
    "duration": 5,
    "start_time": "2021-12-26T07:00:56.254Z"
   },
   {
    "duration": 11,
    "start_time": "2021-12-26T07:00:56.261Z"
   },
   {
    "duration": 7,
    "start_time": "2021-12-26T07:00:56.273Z"
   },
   {
    "duration": 5,
    "start_time": "2021-12-26T07:00:56.281Z"
   },
   {
    "duration": 192,
    "start_time": "2021-12-26T07:00:56.288Z"
   },
   {
    "duration": 166,
    "start_time": "2021-12-26T07:00:56.482Z"
   },
   {
    "duration": 172,
    "start_time": "2021-12-26T07:00:56.650Z"
   },
   {
    "duration": 9,
    "start_time": "2021-12-26T07:00:56.827Z"
   },
   {
    "duration": 4,
    "start_time": "2021-12-26T07:00:56.837Z"
   },
   {
    "duration": 208,
    "start_time": "2021-12-26T07:00:56.842Z"
   },
   {
    "duration": 174,
    "start_time": "2021-12-26T07:00:57.051Z"
   },
   {
    "duration": 5,
    "start_time": "2021-12-26T07:00:57.226Z"
   },
   {
    "duration": 5,
    "start_time": "2021-12-26T07:00:57.232Z"
   },
   {
    "duration": 7,
    "start_time": "2021-12-26T07:00:57.241Z"
   },
   {
    "duration": 180,
    "start_time": "2021-12-26T07:00:57.249Z"
   },
   {
    "duration": 8,
    "start_time": "2021-12-26T07:00:57.430Z"
   },
   {
    "duration": 11,
    "start_time": "2021-12-26T07:00:57.439Z"
   },
   {
    "duration": 12,
    "start_time": "2021-12-26T07:00:57.451Z"
   },
   {
    "duration": 5,
    "start_time": "2021-12-26T07:00:57.464Z"
   },
   {
    "duration": 6,
    "start_time": "2021-12-26T07:00:57.470Z"
   },
   {
    "duration": 53,
    "start_time": "2021-12-26T07:00:57.478Z"
   },
   {
    "duration": 5,
    "start_time": "2021-12-26T07:00:57.533Z"
   },
   {
    "duration": 6,
    "start_time": "2021-12-26T07:00:57.539Z"
   },
   {
    "duration": 5,
    "start_time": "2021-12-26T07:00:57.547Z"
   },
   {
    "duration": 7,
    "start_time": "2021-12-26T07:00:57.553Z"
   },
   {
    "duration": 5,
    "start_time": "2021-12-26T07:00:57.561Z"
   },
   {
    "duration": 5,
    "start_time": "2021-12-26T07:00:57.567Z"
   },
   {
    "duration": 10,
    "start_time": "2021-12-26T07:00:57.574Z"
   },
   {
    "duration": 57,
    "start_time": "2021-12-26T07:00:57.586Z"
   },
   {
    "duration": 12,
    "start_time": "2021-12-26T07:00:57.644Z"
   },
   {
    "duration": 5,
    "start_time": "2021-12-26T07:00:57.657Z"
   },
   {
    "duration": 652,
    "start_time": "2021-12-26T07:00:57.664Z"
   },
   {
    "duration": 9,
    "start_time": "2021-12-26T07:00:58.318Z"
   },
   {
    "duration": 59,
    "start_time": "2021-12-26T07:00:58.329Z"
   },
   {
    "duration": 179,
    "start_time": "2021-12-26T07:00:58.390Z"
   },
   {
    "duration": 4,
    "start_time": "2021-12-26T07:00:58.571Z"
   },
   {
    "duration": 8,
    "start_time": "2021-12-26T07:00:58.577Z"
   },
   {
    "duration": 8,
    "start_time": "2021-12-26T07:00:58.586Z"
   },
   {
    "duration": 6,
    "start_time": "2021-12-26T07:00:58.595Z"
   },
   {
    "duration": 77,
    "start_time": "2021-12-26T07:00:58.602Z"
   },
   {
    "duration": 15,
    "start_time": "2021-12-26T07:00:58.681Z"
   },
   {
    "duration": 30,
    "start_time": "2021-12-26T07:00:58.697Z"
   },
   {
    "duration": 4,
    "start_time": "2021-12-26T07:00:58.729Z"
   },
   {
    "duration": 11,
    "start_time": "2021-12-26T07:11:12.516Z"
   },
   {
    "duration": 4,
    "start_time": "2021-12-26T07:15:55.620Z"
   },
   {
    "duration": 4,
    "start_time": "2021-12-26T07:16:13.788Z"
   },
   {
    "duration": 6,
    "start_time": "2021-12-26T07:17:01.329Z"
   },
   {
    "duration": 6,
    "start_time": "2021-12-26T07:17:19.249Z"
   },
   {
    "duration": 6,
    "start_time": "2021-12-26T07:20:33.805Z"
   },
   {
    "duration": 6,
    "start_time": "2021-12-26T07:20:40.019Z"
   },
   {
    "duration": 110,
    "start_time": "2021-12-26T07:21:16.028Z"
   },
   {
    "duration": 6,
    "start_time": "2021-12-26T07:21:23.742Z"
   },
   {
    "duration": 6,
    "start_time": "2021-12-26T07:21:49.828Z"
   },
   {
    "duration": 16,
    "start_time": "2021-12-26T07:23:18.062Z"
   },
   {
    "duration": 16,
    "start_time": "2021-12-26T07:24:09.963Z"
   },
   {
    "duration": 12,
    "start_time": "2021-12-26T07:26:58.427Z"
   },
   {
    "duration": 12,
    "start_time": "2021-12-26T07:27:12.998Z"
   },
   {
    "duration": 12,
    "start_time": "2021-12-26T07:28:08.152Z"
   },
   {
    "duration": 166,
    "start_time": "2021-12-26T07:35:19.754Z"
   },
   {
    "duration": 114,
    "start_time": "2021-12-26T07:35:36.952Z"
   },
   {
    "duration": 12,
    "start_time": "2021-12-26T07:35:50.648Z"
   },
   {
    "duration": 11,
    "start_time": "2021-12-26T07:37:46.964Z"
   },
   {
    "duration": 568,
    "start_time": "2021-12-26T07:41:15.812Z"
   },
   {
    "duration": 11,
    "start_time": "2021-12-26T07:41:18.741Z"
   },
   {
    "duration": 9472,
    "start_time": "2021-12-26T07:41:21.010Z"
   },
   {
    "duration": 8425,
    "start_time": "2021-12-26T07:41:39.274Z"
   },
   {
    "duration": 8,
    "start_time": "2021-12-26T07:41:55.901Z"
   },
   {
    "duration": 6,
    "start_time": "2021-12-26T07:43:02.681Z"
   },
   {
    "duration": 5,
    "start_time": "2021-12-26T07:43:37.492Z"
   },
   {
    "duration": 5,
    "start_time": "2021-12-26T07:44:41.787Z"
   },
   {
    "duration": 5,
    "start_time": "2021-12-26T07:44:59.637Z"
   },
   {
    "duration": 6,
    "start_time": "2021-12-26T07:45:15.352Z"
   },
   {
    "duration": 11,
    "start_time": "2021-12-26T07:50:11.545Z"
   },
   {
    "duration": 12,
    "start_time": "2021-12-26T07:50:15.553Z"
   },
   {
    "duration": 8976,
    "start_time": "2021-12-26T07:50:34.935Z"
   },
   {
    "duration": 325,
    "start_time": "2021-12-26T07:51:43.454Z"
   },
   {
    "duration": 13,
    "start_time": "2021-12-26T07:51:51.588Z"
   },
   {
    "duration": 11,
    "start_time": "2021-12-26T07:52:43.123Z"
   },
   {
    "duration": 10,
    "start_time": "2021-12-26T07:53:03.535Z"
   },
   {
    "duration": 12,
    "start_time": "2021-12-26T07:54:23.253Z"
   },
   {
    "duration": 12,
    "start_time": "2021-12-26T07:56:36.439Z"
   },
   {
    "duration": 11,
    "start_time": "2021-12-26T07:56:53.361Z"
   },
   {
    "duration": 4,
    "start_time": "2021-12-26T08:00:58.152Z"
   },
   {
    "duration": 4,
    "start_time": "2021-12-26T08:01:08.264Z"
   },
   {
    "duration": 3,
    "start_time": "2021-12-26T08:01:26.500Z"
   },
   {
    "duration": 4,
    "start_time": "2021-12-26T08:01:31.123Z"
   },
   {
    "duration": 4,
    "start_time": "2021-12-26T08:01:36.565Z"
   },
   {
    "duration": 4,
    "start_time": "2021-12-26T08:01:42.485Z"
   },
   {
    "duration": 12,
    "start_time": "2021-12-26T08:01:56.219Z"
   },
   {
    "duration": 11,
    "start_time": "2021-12-26T08:02:06.767Z"
   },
   {
    "duration": 10,
    "start_time": "2021-12-26T08:02:24.975Z"
   },
   {
    "duration": 4,
    "start_time": "2021-12-26T08:03:17.798Z"
   },
   {
    "duration": 4,
    "start_time": "2021-12-26T08:03:24.191Z"
   },
   {
    "duration": 10,
    "start_time": "2021-12-26T08:03:45.521Z"
   },
   {
    "duration": 11,
    "start_time": "2021-12-26T08:03:57.235Z"
   },
   {
    "duration": 12,
    "start_time": "2021-12-26T08:04:09.076Z"
   },
   {
    "duration": 165,
    "start_time": "2021-12-26T08:21:17.568Z"
   },
   {
    "duration": 374,
    "start_time": "2021-12-26T08:23:03.188Z"
   },
   {
    "duration": 708,
    "start_time": "2021-12-26T08:23:08.936Z"
   },
   {
    "duration": 55,
    "start_time": "2021-12-26T08:23:09.646Z"
   },
   {
    "duration": 13,
    "start_time": "2021-12-26T08:23:09.704Z"
   },
   {
    "duration": 22,
    "start_time": "2021-12-26T08:23:09.718Z"
   },
   {
    "duration": 13,
    "start_time": "2021-12-26T08:23:09.741Z"
   },
   {
    "duration": 11,
    "start_time": "2021-12-26T08:23:09.756Z"
   },
   {
    "duration": 4,
    "start_time": "2021-12-26T08:23:09.769Z"
   },
   {
    "duration": 11,
    "start_time": "2021-12-26T08:23:09.775Z"
   },
   {
    "duration": 67,
    "start_time": "2021-12-26T08:23:09.788Z"
   },
   {
    "duration": 5,
    "start_time": "2021-12-26T08:23:09.857Z"
   },
   {
    "duration": 7,
    "start_time": "2021-12-26T08:23:09.863Z"
   },
   {
    "duration": 6,
    "start_time": "2021-12-26T08:23:09.872Z"
   },
   {
    "duration": 5,
    "start_time": "2021-12-26T08:23:09.880Z"
   },
   {
    "duration": 201,
    "start_time": "2021-12-26T08:23:09.886Z"
   },
   {
    "duration": 163,
    "start_time": "2021-12-26T08:23:10.089Z"
   },
   {
    "duration": 166,
    "start_time": "2021-12-26T08:23:10.253Z"
   },
   {
    "duration": 13,
    "start_time": "2021-12-26T08:23:10.421Z"
   },
   {
    "duration": 3,
    "start_time": "2021-12-26T08:23:10.435Z"
   },
   {
    "duration": 215,
    "start_time": "2021-12-26T08:23:10.439Z"
   },
   {
    "duration": 165,
    "start_time": "2021-12-26T08:23:10.655Z"
   },
   {
    "duration": 6,
    "start_time": "2021-12-26T08:23:10.822Z"
   },
   {
    "duration": 2,
    "start_time": "2021-12-26T08:23:10.831Z"
   },
   {
    "duration": 6,
    "start_time": "2021-12-26T08:23:10.835Z"
   },
   {
    "duration": 179,
    "start_time": "2021-12-26T08:23:10.842Z"
   },
   {
    "duration": 7,
    "start_time": "2021-12-26T08:23:11.027Z"
   },
   {
    "duration": 9,
    "start_time": "2021-12-26T08:23:11.035Z"
   },
   {
    "duration": 13,
    "start_time": "2021-12-26T08:23:11.046Z"
   },
   {
    "duration": 4,
    "start_time": "2021-12-26T08:23:11.060Z"
   },
   {
    "duration": 5,
    "start_time": "2021-12-26T08:23:11.066Z"
   },
   {
    "duration": 27,
    "start_time": "2021-12-26T08:23:11.073Z"
   },
   {
    "duration": 5,
    "start_time": "2021-12-26T08:23:11.127Z"
   },
   {
    "duration": 7,
    "start_time": "2021-12-26T08:23:11.133Z"
   },
   {
    "duration": 5,
    "start_time": "2021-12-26T08:23:11.142Z"
   },
   {
    "duration": 5,
    "start_time": "2021-12-26T08:23:11.148Z"
   },
   {
    "duration": 5,
    "start_time": "2021-12-26T08:23:11.155Z"
   },
   {
    "duration": 5,
    "start_time": "2021-12-26T08:23:11.162Z"
   },
   {
    "duration": 12,
    "start_time": "2021-12-26T08:23:11.168Z"
   },
   {
    "duration": 57,
    "start_time": "2021-12-26T08:23:11.181Z"
   },
   {
    "duration": 12,
    "start_time": "2021-12-26T08:23:11.239Z"
   },
   {
    "duration": 5,
    "start_time": "2021-12-26T08:23:11.253Z"
   },
   {
    "duration": 654,
    "start_time": "2021-12-26T08:23:11.259Z"
   },
   {
    "duration": 2,
    "start_time": "2021-12-26T08:23:11.915Z"
   },
   {
    "duration": 52,
    "start_time": "2021-12-26T08:23:11.918Z"
   },
   {
    "duration": 187,
    "start_time": "2021-12-26T08:23:11.972Z"
   },
   {
    "duration": 5,
    "start_time": "2021-12-26T08:23:12.161Z"
   },
   {
    "duration": 9,
    "start_time": "2021-12-26T08:23:12.168Z"
   },
   {
    "duration": 11,
    "start_time": "2021-12-26T08:23:12.179Z"
   },
   {
    "duration": 7,
    "start_time": "2021-12-26T08:23:12.191Z"
   },
   {
    "duration": 78,
    "start_time": "2021-12-26T08:23:12.200Z"
   },
   {
    "duration": 14,
    "start_time": "2021-12-26T08:23:12.280Z"
   },
   {
    "duration": 15,
    "start_time": "2021-12-26T08:23:12.296Z"
   },
   {
    "duration": 23,
    "start_time": "2021-12-26T08:23:12.313Z"
   },
   {
    "duration": 23873,
    "start_time": "2021-12-26T08:23:12.338Z"
   },
   {
    "duration": -110456,
    "start_time": "2021-12-26T08:25:26.670Z"
   },
   {
    "duration": -110457,
    "start_time": "2021-12-26T08:25:26.673Z"
   },
   {
    "duration": -110457,
    "start_time": "2021-12-26T08:25:26.674Z"
   },
   {
    "duration": 644,
    "start_time": "2021-12-26T08:30:11.649Z"
   },
   {
    "duration": 57,
    "start_time": "2021-12-26T08:30:12.294Z"
   },
   {
    "duration": 12,
    "start_time": "2021-12-26T08:30:12.353Z"
   },
   {
    "duration": 27,
    "start_time": "2021-12-26T08:30:12.367Z"
   },
   {
    "duration": 13,
    "start_time": "2021-12-26T08:30:12.395Z"
   },
   {
    "duration": 19,
    "start_time": "2021-12-26T08:30:12.409Z"
   },
   {
    "duration": 24,
    "start_time": "2021-12-26T08:30:12.430Z"
   },
   {
    "duration": 24,
    "start_time": "2021-12-26T08:30:12.456Z"
   },
   {
    "duration": 49,
    "start_time": "2021-12-26T08:30:12.482Z"
   },
   {
    "duration": 5,
    "start_time": "2021-12-26T08:30:12.532Z"
   },
   {
    "duration": 14,
    "start_time": "2021-12-26T08:30:12.539Z"
   },
   {
    "duration": 15,
    "start_time": "2021-12-26T08:30:12.554Z"
   },
   {
    "duration": 6,
    "start_time": "2021-12-26T08:30:12.570Z"
   },
   {
    "duration": 176,
    "start_time": "2021-12-26T08:30:12.578Z"
   },
   {
    "duration": 182,
    "start_time": "2021-12-26T08:30:12.756Z"
   },
   {
    "duration": 167,
    "start_time": "2021-12-26T08:30:12.940Z"
   },
   {
    "duration": 19,
    "start_time": "2021-12-26T08:30:13.109Z"
   },
   {
    "duration": 1,
    "start_time": "2021-12-26T08:30:13.130Z"
   },
   {
    "duration": 201,
    "start_time": "2021-12-26T08:30:13.133Z"
   },
   {
    "duration": 169,
    "start_time": "2021-12-26T08:30:13.336Z"
   },
   {
    "duration": 3,
    "start_time": "2021-12-26T08:30:13.507Z"
   },
   {
    "duration": 7,
    "start_time": "2021-12-26T08:30:13.512Z"
   },
   {
    "duration": 9,
    "start_time": "2021-12-26T08:30:13.522Z"
   },
   {
    "duration": 174,
    "start_time": "2021-12-26T08:30:13.533Z"
   },
   {
    "duration": 7,
    "start_time": "2021-12-26T08:30:13.708Z"
   },
   {
    "duration": 14,
    "start_time": "2021-12-26T08:30:13.716Z"
   },
   {
    "duration": 11,
    "start_time": "2021-12-26T08:30:13.732Z"
   },
   {
    "duration": 4,
    "start_time": "2021-12-26T08:30:13.745Z"
   },
   {
    "duration": 5,
    "start_time": "2021-12-26T08:30:13.750Z"
   },
   {
    "duration": 28,
    "start_time": "2021-12-26T08:30:13.757Z"
   },
   {
    "duration": 5,
    "start_time": "2021-12-26T08:30:13.786Z"
   },
   {
    "duration": 35,
    "start_time": "2021-12-26T08:30:13.792Z"
   },
   {
    "duration": 4,
    "start_time": "2021-12-26T08:30:13.829Z"
   },
   {
    "duration": 7,
    "start_time": "2021-12-26T08:30:13.835Z"
   },
   {
    "duration": 6,
    "start_time": "2021-12-26T08:30:13.843Z"
   },
   {
    "duration": 5,
    "start_time": "2021-12-26T08:30:13.850Z"
   },
   {
    "duration": 11,
    "start_time": "2021-12-26T08:30:13.856Z"
   },
   {
    "duration": 20,
    "start_time": "2021-12-26T08:30:13.869Z"
   },
   {
    "duration": 47,
    "start_time": "2021-12-26T08:30:13.890Z"
   },
   {
    "duration": 5,
    "start_time": "2021-12-26T08:30:13.938Z"
   },
   {
    "duration": 646,
    "start_time": "2021-12-26T08:30:13.945Z"
   },
   {
    "duration": 3,
    "start_time": "2021-12-26T08:30:14.593Z"
   },
   {
    "duration": 59,
    "start_time": "2021-12-26T08:30:14.597Z"
   },
   {
    "duration": 166,
    "start_time": "2021-12-26T08:30:14.657Z"
   },
   {
    "duration": 5,
    "start_time": "2021-12-26T08:30:14.827Z"
   },
   {
    "duration": 7,
    "start_time": "2021-12-26T08:30:14.833Z"
   },
   {
    "duration": 8,
    "start_time": "2021-12-26T08:30:14.842Z"
   },
   {
    "duration": 8,
    "start_time": "2021-12-26T08:30:14.852Z"
   },
   {
    "duration": 80,
    "start_time": "2021-12-26T08:30:14.861Z"
   },
   {
    "duration": 14,
    "start_time": "2021-12-26T08:30:14.942Z"
   },
   {
    "duration": 13,
    "start_time": "2021-12-26T08:30:14.958Z"
   },
   {
    "duration": 9,
    "start_time": "2021-12-26T08:30:14.972Z"
   },
   {
    "duration": 9033,
    "start_time": "2021-12-26T08:30:14.983Z"
   },
   {
    "duration": -110432,
    "start_time": "2021-12-26T08:32:14.450Z"
   },
   {
    "duration": -110434,
    "start_time": "2021-12-26T08:32:14.453Z"
   },
   {
    "duration": -110436,
    "start_time": "2021-12-26T08:32:14.456Z"
   },
   {
    "duration": -110445,
    "start_time": "2021-12-26T08:34:28.504Z"
   },
   {
    "duration": 6624,
    "start_time": "2021-12-26T08:33:12.477Z"
   },
   {
    "duration": 6829,
    "start_time": "2021-12-26T08:33:25.351Z"
   },
   {
    "duration": 6862,
    "start_time": "2021-12-26T08:34:01.542Z"
   },
   {
    "duration": 6977,
    "start_time": "2021-12-26T08:34:23.765Z"
   },
   {
    "duration": 671,
    "start_time": "2021-12-26T08:34:45.389Z"
   },
   {
    "duration": 56,
    "start_time": "2021-12-26T08:34:46.062Z"
   },
   {
    "duration": 17,
    "start_time": "2021-12-26T08:34:46.120Z"
   },
   {
    "duration": 24,
    "start_time": "2021-12-26T08:34:46.139Z"
   },
   {
    "duration": 12,
    "start_time": "2021-12-26T08:34:46.164Z"
   },
   {
    "duration": 8,
    "start_time": "2021-12-26T08:34:46.178Z"
   },
   {
    "duration": 5,
    "start_time": "2021-12-26T08:34:46.187Z"
   },
   {
    "duration": 46,
    "start_time": "2021-12-26T08:34:46.194Z"
   },
   {
    "duration": 48,
    "start_time": "2021-12-26T08:34:46.243Z"
   },
   {
    "duration": 5,
    "start_time": "2021-12-26T08:34:46.292Z"
   },
   {
    "duration": 7,
    "start_time": "2021-12-26T08:34:46.299Z"
   },
   {
    "duration": 34,
    "start_time": "2021-12-26T08:34:46.307Z"
   },
   {
    "duration": 6,
    "start_time": "2021-12-26T08:34:46.342Z"
   },
   {
    "duration": 193,
    "start_time": "2021-12-26T08:34:46.350Z"
   },
   {
    "duration": 171,
    "start_time": "2021-12-26T08:34:46.545Z"
   },
   {
    "duration": 181,
    "start_time": "2021-12-26T08:34:46.717Z"
   },
   {
    "duration": 9,
    "start_time": "2021-12-26T08:34:46.899Z"
   },
   {
    "duration": 2,
    "start_time": "2021-12-26T08:34:46.910Z"
   },
   {
    "duration": 237,
    "start_time": "2021-12-26T08:34:46.913Z"
   },
   {
    "duration": 173,
    "start_time": "2021-12-26T08:34:47.152Z"
   },
   {
    "duration": 9,
    "start_time": "2021-12-26T08:34:47.326Z"
   },
   {
    "duration": 10,
    "start_time": "2021-12-26T08:34:47.337Z"
   },
   {
    "duration": 6,
    "start_time": "2021-12-26T08:34:47.350Z"
   },
   {
    "duration": 189,
    "start_time": "2021-12-26T08:34:47.358Z"
   },
   {
    "duration": 7,
    "start_time": "2021-12-26T08:34:47.549Z"
   },
   {
    "duration": 7,
    "start_time": "2021-12-26T08:34:47.558Z"
   },
   {
    "duration": 12,
    "start_time": "2021-12-26T08:34:47.567Z"
   },
   {
    "duration": 4,
    "start_time": "2021-12-26T08:34:47.580Z"
   },
   {
    "duration": 7,
    "start_time": "2021-12-26T08:34:47.585Z"
   },
   {
    "duration": 63,
    "start_time": "2021-12-26T08:34:47.593Z"
   },
   {
    "duration": 5,
    "start_time": "2021-12-26T08:34:47.658Z"
   },
   {
    "duration": 13,
    "start_time": "2021-12-26T08:34:47.665Z"
   },
   {
    "duration": 7,
    "start_time": "2021-12-26T08:34:47.680Z"
   },
   {
    "duration": 8,
    "start_time": "2021-12-26T08:34:47.689Z"
   },
   {
    "duration": 4,
    "start_time": "2021-12-26T08:34:47.699Z"
   },
   {
    "duration": 26,
    "start_time": "2021-12-26T08:34:47.704Z"
   },
   {
    "duration": 16,
    "start_time": "2021-12-26T08:34:47.732Z"
   },
   {
    "duration": 21,
    "start_time": "2021-12-26T08:34:47.750Z"
   },
   {
    "duration": 13,
    "start_time": "2021-12-26T08:34:47.772Z"
   },
   {
    "duration": 5,
    "start_time": "2021-12-26T08:34:47.787Z"
   },
   {
    "duration": 718,
    "start_time": "2021-12-26T08:34:47.794Z"
   },
   {
    "duration": 2,
    "start_time": "2021-12-26T08:34:48.514Z"
   },
   {
    "duration": 52,
    "start_time": "2021-12-26T08:34:48.527Z"
   },
   {
    "duration": 203,
    "start_time": "2021-12-26T08:34:48.580Z"
   },
   {
    "duration": 4,
    "start_time": "2021-12-26T08:34:48.785Z"
   },
   {
    "duration": 7,
    "start_time": "2021-12-26T08:34:48.791Z"
   },
   {
    "duration": 8,
    "start_time": "2021-12-26T08:34:48.799Z"
   },
   {
    "duration": 21,
    "start_time": "2021-12-26T08:34:48.808Z"
   },
   {
    "duration": 60,
    "start_time": "2021-12-26T08:34:48.833Z"
   },
   {
    "duration": 34,
    "start_time": "2021-12-26T08:34:48.895Z"
   },
   {
    "duration": 29,
    "start_time": "2021-12-26T08:34:48.932Z"
   },
   {
    "duration": 10,
    "start_time": "2021-12-26T08:34:48.963Z"
   },
   {
    "duration": 3,
    "start_time": "2021-12-26T08:34:48.975Z"
   },
   {
    "duration": 11,
    "start_time": "2021-12-26T08:34:48.980Z"
   },
   {
    "duration": 7233,
    "start_time": "2021-12-26T08:34:48.992Z"
   },
   {
    "duration": 325,
    "start_time": "2021-12-26T08:35:16.162Z"
   },
   {
    "duration": 9,
    "start_time": "2021-12-26T08:37:20.778Z"
   },
   {
    "duration": 253,
    "start_time": "2021-12-26T08:37:32.921Z"
   },
   {
    "duration": 65503,
    "start_time": "2021-12-26T08:39:10.551Z"
   },
   {
    "duration": 684,
    "start_time": "2021-12-26T08:41:16.604Z"
   },
   {
    "duration": 56,
    "start_time": "2021-12-26T08:41:17.290Z"
   },
   {
    "duration": 13,
    "start_time": "2021-12-26T08:41:17.347Z"
   },
   {
    "duration": 17,
    "start_time": "2021-12-26T08:41:17.361Z"
   },
   {
    "duration": 14,
    "start_time": "2021-12-26T08:41:17.380Z"
   },
   {
    "duration": 33,
    "start_time": "2021-12-26T08:41:17.395Z"
   },
   {
    "duration": 5,
    "start_time": "2021-12-26T08:41:17.430Z"
   },
   {
    "duration": 12,
    "start_time": "2021-12-26T08:41:17.438Z"
   },
   {
    "duration": 39,
    "start_time": "2021-12-26T08:41:17.452Z"
   },
   {
    "duration": 35,
    "start_time": "2021-12-26T08:41:17.493Z"
   },
   {
    "duration": 8,
    "start_time": "2021-12-26T08:41:17.530Z"
   },
   {
    "duration": 7,
    "start_time": "2021-12-26T08:41:17.540Z"
   },
   {
    "duration": 5,
    "start_time": "2021-12-26T08:41:17.548Z"
   },
   {
    "duration": 191,
    "start_time": "2021-12-26T08:41:17.554Z"
   },
   {
    "duration": 168,
    "start_time": "2021-12-26T08:41:17.746Z"
   },
   {
    "duration": 178,
    "start_time": "2021-12-26T08:41:17.916Z"
   },
   {
    "duration": 8,
    "start_time": "2021-12-26T08:41:18.096Z"
   },
   {
    "duration": 3,
    "start_time": "2021-12-26T08:41:18.106Z"
   },
   {
    "duration": 209,
    "start_time": "2021-12-26T08:41:18.111Z"
   },
   {
    "duration": 162,
    "start_time": "2021-12-26T08:41:18.321Z"
   },
   {
    "duration": 5,
    "start_time": "2021-12-26T08:41:18.485Z"
   },
   {
    "duration": 4,
    "start_time": "2021-12-26T08:41:18.491Z"
   },
   {
    "duration": 5,
    "start_time": "2021-12-26T08:41:18.498Z"
   },
   {
    "duration": 193,
    "start_time": "2021-12-26T08:41:18.505Z"
   },
   {
    "duration": 7,
    "start_time": "2021-12-26T08:41:18.700Z"
   },
   {
    "duration": 7,
    "start_time": "2021-12-26T08:41:18.708Z"
   },
   {
    "duration": 20,
    "start_time": "2021-12-26T08:41:18.716Z"
   },
   {
    "duration": 4,
    "start_time": "2021-12-26T08:41:18.737Z"
   },
   {
    "duration": 4,
    "start_time": "2021-12-26T08:41:18.743Z"
   },
   {
    "duration": 27,
    "start_time": "2021-12-26T08:41:18.749Z"
   },
   {
    "duration": 5,
    "start_time": "2021-12-26T08:41:18.778Z"
   },
   {
    "duration": 6,
    "start_time": "2021-12-26T08:41:18.784Z"
   },
   {
    "duration": 37,
    "start_time": "2021-12-26T08:41:18.791Z"
   },
   {
    "duration": 6,
    "start_time": "2021-12-26T08:41:18.829Z"
   },
   {
    "duration": 5,
    "start_time": "2021-12-26T08:41:18.836Z"
   },
   {
    "duration": 5,
    "start_time": "2021-12-26T08:41:18.843Z"
   },
   {
    "duration": 11,
    "start_time": "2021-12-26T08:41:18.849Z"
   },
   {
    "duration": 20,
    "start_time": "2021-12-26T08:41:18.861Z"
   },
   {
    "duration": 44,
    "start_time": "2021-12-26T08:41:18.883Z"
   },
   {
    "duration": 5,
    "start_time": "2021-12-26T08:41:18.929Z"
   },
   {
    "duration": 642,
    "start_time": "2021-12-26T08:41:18.936Z"
   },
   {
    "duration": 3,
    "start_time": "2021-12-26T08:41:19.581Z"
   },
   {
    "duration": 77,
    "start_time": "2021-12-26T08:41:19.586Z"
   },
   {
    "duration": 172,
    "start_time": "2021-12-26T08:41:19.665Z"
   },
   {
    "duration": 6,
    "start_time": "2021-12-26T08:41:19.839Z"
   },
   {
    "duration": 10,
    "start_time": "2021-12-26T08:41:19.847Z"
   },
   {
    "duration": 7,
    "start_time": "2021-12-26T08:41:19.859Z"
   },
   {
    "duration": 6,
    "start_time": "2021-12-26T08:41:19.868Z"
   },
   {
    "duration": 93,
    "start_time": "2021-12-26T08:41:19.876Z"
   },
   {
    "duration": 15,
    "start_time": "2021-12-26T08:41:19.971Z"
   },
   {
    "duration": 16,
    "start_time": "2021-12-26T08:41:19.987Z"
   },
   {
    "duration": 26,
    "start_time": "2021-12-26T08:41:20.005Z"
   },
   {
    "duration": 4,
    "start_time": "2021-12-26T08:41:20.032Z"
   },
   {
    "duration": 15,
    "start_time": "2021-12-26T08:41:20.037Z"
   },
   {
    "duration": -110442,
    "start_time": "2021-12-26T08:43:49.187Z"
   },
   {
    "duration": 643,
    "start_time": "2021-12-26T08:42:07.038Z"
   },
   {
    "duration": 57,
    "start_time": "2021-12-26T08:42:07.683Z"
   },
   {
    "duration": 14,
    "start_time": "2021-12-26T08:42:07.742Z"
   },
   {
    "duration": 17,
    "start_time": "2021-12-26T08:42:07.757Z"
   },
   {
    "duration": 13,
    "start_time": "2021-12-26T08:42:07.775Z"
   },
   {
    "duration": 9,
    "start_time": "2021-12-26T08:42:07.789Z"
   },
   {
    "duration": 5,
    "start_time": "2021-12-26T08:42:07.828Z"
   },
   {
    "duration": 12,
    "start_time": "2021-12-26T08:42:07.836Z"
   },
   {
    "duration": 43,
    "start_time": "2021-12-26T08:42:07.850Z"
   },
   {
    "duration": 4,
    "start_time": "2021-12-26T08:42:07.895Z"
   },
   {
    "duration": 30,
    "start_time": "2021-12-26T08:42:07.901Z"
   },
   {
    "duration": 7,
    "start_time": "2021-12-26T08:42:07.932Z"
   },
   {
    "duration": 5,
    "start_time": "2021-12-26T08:42:07.941Z"
   },
   {
    "duration": 184,
    "start_time": "2021-12-26T08:42:07.947Z"
   },
   {
    "duration": 168,
    "start_time": "2021-12-26T08:42:08.133Z"
   },
   {
    "duration": 165,
    "start_time": "2021-12-26T08:42:08.303Z"
   },
   {
    "duration": 9,
    "start_time": "2021-12-26T08:42:08.470Z"
   },
   {
    "duration": 2,
    "start_time": "2021-12-26T08:42:08.481Z"
   },
   {
    "duration": 207,
    "start_time": "2021-12-26T08:42:08.484Z"
   },
   {
    "duration": 168,
    "start_time": "2021-12-26T08:42:08.693Z"
   },
   {
    "duration": 4,
    "start_time": "2021-12-26T08:42:08.863Z"
   },
   {
    "duration": 5,
    "start_time": "2021-12-26T08:42:08.868Z"
   },
   {
    "duration": 5,
    "start_time": "2021-12-26T08:42:08.876Z"
   },
   {
    "duration": 183,
    "start_time": "2021-12-26T08:42:08.883Z"
   },
   {
    "duration": 7,
    "start_time": "2021-12-26T08:42:09.068Z"
   },
   {
    "duration": 11,
    "start_time": "2021-12-26T08:42:09.077Z"
   },
   {
    "duration": 12,
    "start_time": "2021-12-26T08:42:09.090Z"
   },
   {
    "duration": 4,
    "start_time": "2021-12-26T08:42:09.104Z"
   },
   {
    "duration": 22,
    "start_time": "2021-12-26T08:42:09.109Z"
   },
   {
    "duration": 29,
    "start_time": "2021-12-26T08:42:09.133Z"
   },
   {
    "duration": 5,
    "start_time": "2021-12-26T08:42:09.164Z"
   },
   {
    "duration": 6,
    "start_time": "2021-12-26T08:42:09.171Z"
   },
   {
    "duration": 5,
    "start_time": "2021-12-26T08:42:09.179Z"
   },
   {
    "duration": 6,
    "start_time": "2021-12-26T08:42:09.185Z"
   },
   {
    "duration": 40,
    "start_time": "2021-12-26T08:42:09.192Z"
   },
   {
    "duration": 6,
    "start_time": "2021-12-26T08:42:09.234Z"
   },
   {
    "duration": 10,
    "start_time": "2021-12-26T08:42:09.241Z"
   },
   {
    "duration": 21,
    "start_time": "2021-12-26T08:42:09.253Z"
   },
   {
    "duration": 11,
    "start_time": "2021-12-26T08:42:09.275Z"
   },
   {
    "duration": 4,
    "start_time": "2021-12-26T08:42:09.288Z"
   },
   {
    "duration": 629,
    "start_time": "2021-12-26T08:42:09.328Z"
   },
   {
    "duration": 2,
    "start_time": "2021-12-26T08:42:09.959Z"
   },
   {
    "duration": 47,
    "start_time": "2021-12-26T08:42:09.963Z"
   },
   {
    "duration": 171,
    "start_time": "2021-12-26T08:42:10.028Z"
   },
   {
    "duration": 5,
    "start_time": "2021-12-26T08:42:10.201Z"
   },
   {
    "duration": 19,
    "start_time": "2021-12-26T08:42:10.208Z"
   },
   {
    "duration": 7,
    "start_time": "2021-12-26T08:42:10.229Z"
   },
   {
    "duration": 8,
    "start_time": "2021-12-26T08:42:10.238Z"
   },
   {
    "duration": 85,
    "start_time": "2021-12-26T08:42:10.248Z"
   },
   {
    "duration": 14,
    "start_time": "2021-12-26T08:42:10.335Z"
   },
   {
    "duration": 15,
    "start_time": "2021-12-26T08:42:10.351Z"
   },
   {
    "duration": 9,
    "start_time": "2021-12-26T08:42:10.368Z"
   },
   {
    "duration": 3,
    "start_time": "2021-12-26T08:42:10.378Z"
   },
   {
    "duration": 11,
    "start_time": "2021-12-26T08:42:10.383Z"
   },
   {
    "duration": 236,
    "start_time": "2021-12-26T08:42:10.395Z"
   },
   {
    "duration": 701,
    "start_time": "2021-12-26T08:42:54.917Z"
   },
   {
    "duration": 58,
    "start_time": "2021-12-26T08:42:55.620Z"
   },
   {
    "duration": 12,
    "start_time": "2021-12-26T08:42:55.680Z"
   },
   {
    "duration": 15,
    "start_time": "2021-12-26T08:42:55.694Z"
   },
   {
    "duration": 25,
    "start_time": "2021-12-26T08:42:55.710Z"
   },
   {
    "duration": 9,
    "start_time": "2021-12-26T08:42:55.737Z"
   },
   {
    "duration": 4,
    "start_time": "2021-12-26T08:42:55.747Z"
   },
   {
    "duration": 12,
    "start_time": "2021-12-26T08:42:55.754Z"
   },
   {
    "duration": 64,
    "start_time": "2021-12-26T08:42:55.768Z"
   },
   {
    "duration": 5,
    "start_time": "2021-12-26T08:42:55.834Z"
   },
   {
    "duration": 10,
    "start_time": "2021-12-26T08:42:55.840Z"
   },
   {
    "duration": 7,
    "start_time": "2021-12-26T08:42:55.852Z"
   },
   {
    "duration": 8,
    "start_time": "2021-12-26T08:42:55.860Z"
   },
   {
    "duration": 187,
    "start_time": "2021-12-26T08:42:55.869Z"
   },
   {
    "duration": 173,
    "start_time": "2021-12-26T08:42:56.058Z"
   },
   {
    "duration": 162,
    "start_time": "2021-12-26T08:42:56.233Z"
   },
   {
    "duration": 8,
    "start_time": "2021-12-26T08:42:56.397Z"
   },
   {
    "duration": 2,
    "start_time": "2021-12-26T08:42:56.407Z"
   },
   {
    "duration": 218,
    "start_time": "2021-12-26T08:42:56.411Z"
   },
   {
    "duration": 173,
    "start_time": "2021-12-26T08:42:56.630Z"
   },
   {
    "duration": 5,
    "start_time": "2021-12-26T08:42:56.805Z"
   },
   {
    "duration": 4,
    "start_time": "2021-12-26T08:42:56.811Z"
   },
   {
    "duration": 6,
    "start_time": "2021-12-26T08:42:56.827Z"
   },
   {
    "duration": 177,
    "start_time": "2021-12-26T08:42:56.835Z"
   },
   {
    "duration": 15,
    "start_time": "2021-12-26T08:42:57.014Z"
   },
   {
    "duration": 7,
    "start_time": "2021-12-26T08:42:57.030Z"
   },
   {
    "duration": 17,
    "start_time": "2021-12-26T08:42:57.038Z"
   },
   {
    "duration": 4,
    "start_time": "2021-12-26T08:42:57.057Z"
   },
   {
    "duration": 7,
    "start_time": "2021-12-26T08:42:57.063Z"
   },
   {
    "duration": 29,
    "start_time": "2021-12-26T08:42:57.071Z"
   },
   {
    "duration": 29,
    "start_time": "2021-12-26T08:42:57.102Z"
   },
   {
    "duration": 6,
    "start_time": "2021-12-26T08:42:57.133Z"
   },
   {
    "duration": 6,
    "start_time": "2021-12-26T08:42:57.141Z"
   },
   {
    "duration": 6,
    "start_time": "2021-12-26T08:42:57.148Z"
   },
   {
    "duration": 4,
    "start_time": "2021-12-26T08:42:57.156Z"
   },
   {
    "duration": 7,
    "start_time": "2021-12-26T08:42:57.162Z"
   },
   {
    "duration": 10,
    "start_time": "2021-12-26T08:42:57.170Z"
   },
   {
    "duration": 62,
    "start_time": "2021-12-26T08:42:57.182Z"
   },
   {
    "duration": 13,
    "start_time": "2021-12-26T08:42:57.245Z"
   },
   {
    "duration": 6,
    "start_time": "2021-12-26T08:42:57.260Z"
   },
   {
    "duration": 651,
    "start_time": "2021-12-26T08:42:57.267Z"
   },
   {
    "duration": 7,
    "start_time": "2021-12-26T08:42:57.920Z"
   },
   {
    "duration": 44,
    "start_time": "2021-12-26T08:42:57.929Z"
   },
   {
    "duration": 178,
    "start_time": "2021-12-26T08:42:57.974Z"
   },
   {
    "duration": 4,
    "start_time": "2021-12-26T08:42:58.154Z"
   },
   {
    "duration": 7,
    "start_time": "2021-12-26T08:42:58.160Z"
   },
   {
    "duration": 11,
    "start_time": "2021-12-26T08:42:58.168Z"
   },
   {
    "duration": 9,
    "start_time": "2021-12-26T08:42:58.181Z"
   },
   {
    "duration": 84,
    "start_time": "2021-12-26T08:42:58.192Z"
   },
   {
    "duration": 14,
    "start_time": "2021-12-26T08:42:58.278Z"
   },
   {
    "duration": 12,
    "start_time": "2021-12-26T08:42:58.293Z"
   },
   {
    "duration": 28,
    "start_time": "2021-12-26T08:42:58.306Z"
   },
   {
    "duration": 3,
    "start_time": "2021-12-26T08:42:58.336Z"
   },
   {
    "duration": 12,
    "start_time": "2021-12-26T08:42:58.341Z"
   },
   {
    "duration": 642,
    "start_time": "2021-12-26T08:43:22.638Z"
   },
   {
    "duration": 57,
    "start_time": "2021-12-26T08:43:23.282Z"
   },
   {
    "duration": 13,
    "start_time": "2021-12-26T08:43:23.343Z"
   },
   {
    "duration": 18,
    "start_time": "2021-12-26T08:43:23.357Z"
   },
   {
    "duration": 12,
    "start_time": "2021-12-26T08:43:23.377Z"
   },
   {
    "duration": 8,
    "start_time": "2021-12-26T08:43:23.390Z"
   },
   {
    "duration": 30,
    "start_time": "2021-12-26T08:43:23.400Z"
   },
   {
    "duration": 12,
    "start_time": "2021-12-26T08:43:23.432Z"
   },
   {
    "duration": 39,
    "start_time": "2021-12-26T08:43:23.446Z"
   },
   {
    "duration": 6,
    "start_time": "2021-12-26T08:43:23.487Z"
   },
   {
    "duration": 36,
    "start_time": "2021-12-26T08:43:23.495Z"
   },
   {
    "duration": 8,
    "start_time": "2021-12-26T08:43:23.533Z"
   },
   {
    "duration": 6,
    "start_time": "2021-12-26T08:43:23.543Z"
   },
   {
    "duration": 188,
    "start_time": "2021-12-26T08:43:23.551Z"
   },
   {
    "duration": 171,
    "start_time": "2021-12-26T08:43:23.741Z"
   },
   {
    "duration": 166,
    "start_time": "2021-12-26T08:43:23.914Z"
   },
   {
    "duration": 10,
    "start_time": "2021-12-26T08:43:24.082Z"
   },
   {
    "duration": 4,
    "start_time": "2021-12-26T08:43:24.094Z"
   },
   {
    "duration": 218,
    "start_time": "2021-12-26T08:43:24.099Z"
   },
   {
    "duration": 165,
    "start_time": "2021-12-26T08:43:24.327Z"
   },
   {
    "duration": 4,
    "start_time": "2021-12-26T08:43:24.493Z"
   },
   {
    "duration": 5,
    "start_time": "2021-12-26T08:43:24.501Z"
   },
   {
    "duration": 8,
    "start_time": "2021-12-26T08:43:24.508Z"
   },
   {
    "duration": 167,
    "start_time": "2021-12-26T08:43:24.527Z"
   },
   {
    "duration": 7,
    "start_time": "2021-12-26T08:43:24.696Z"
   },
   {
    "duration": 7,
    "start_time": "2021-12-26T08:43:24.704Z"
   },
   {
    "duration": 21,
    "start_time": "2021-12-26T08:43:24.712Z"
   },
   {
    "duration": 4,
    "start_time": "2021-12-26T08:43:24.734Z"
   },
   {
    "duration": 8,
    "start_time": "2021-12-26T08:43:24.740Z"
   },
   {
    "duration": 28,
    "start_time": "2021-12-26T08:43:24.749Z"
   },
   {
    "duration": 4,
    "start_time": "2021-12-26T08:43:24.779Z"
   },
   {
    "duration": 6,
    "start_time": "2021-12-26T08:43:24.785Z"
   },
   {
    "duration": 36,
    "start_time": "2021-12-26T08:43:24.792Z"
   },
   {
    "duration": 6,
    "start_time": "2021-12-26T08:43:24.829Z"
   },
   {
    "duration": 5,
    "start_time": "2021-12-26T08:43:24.837Z"
   },
   {
    "duration": 5,
    "start_time": "2021-12-26T08:43:24.843Z"
   },
   {
    "duration": 9,
    "start_time": "2021-12-26T08:43:24.850Z"
   },
   {
    "duration": 20,
    "start_time": "2021-12-26T08:43:24.861Z"
   },
   {
    "duration": 44,
    "start_time": "2021-12-26T08:43:24.883Z"
   },
   {
    "duration": 5,
    "start_time": "2021-12-26T08:43:24.929Z"
   },
   {
    "duration": 635,
    "start_time": "2021-12-26T08:43:24.935Z"
   },
   {
    "duration": 2,
    "start_time": "2021-12-26T08:43:25.572Z"
   },
   {
    "duration": 63,
    "start_time": "2021-12-26T08:43:25.576Z"
   },
   {
    "duration": 177,
    "start_time": "2021-12-26T08:43:25.640Z"
   },
   {
    "duration": 9,
    "start_time": "2021-12-26T08:43:25.819Z"
   },
   {
    "duration": 8,
    "start_time": "2021-12-26T08:43:25.829Z"
   },
   {
    "duration": 9,
    "start_time": "2021-12-26T08:43:25.838Z"
   },
   {
    "duration": 5,
    "start_time": "2021-12-26T08:43:25.849Z"
   },
   {
    "duration": 85,
    "start_time": "2021-12-26T08:43:25.855Z"
   },
   {
    "duration": 15,
    "start_time": "2021-12-26T08:43:25.942Z"
   },
   {
    "duration": 12,
    "start_time": "2021-12-26T08:43:25.959Z"
   },
   {
    "duration": 9,
    "start_time": "2021-12-26T08:43:25.973Z"
   },
   {
    "duration": 4,
    "start_time": "2021-12-26T08:43:25.984Z"
   },
   {
    "duration": 38,
    "start_time": "2021-12-26T08:43:25.989Z"
   },
   {
    "duration": 142277,
    "start_time": "2021-12-26T08:43:26.029Z"
   },
   {
    "duration": -110461,
    "start_time": "2021-12-26T08:47:38.771Z"
   },
   {
    "duration": 475,
    "start_time": "2021-12-26T08:54:30.643Z"
   },
   {
    "duration": 41431,
    "start_time": "2021-12-26T08:54:46.196Z"
   },
   {
    "duration": -110449,
    "start_time": "2021-12-26T08:57:18.080Z"
   },
   {
    "duration": 682,
    "start_time": "2021-12-26T08:55:43.863Z"
   },
   {
    "duration": 59,
    "start_time": "2021-12-26T08:55:44.546Z"
   },
   {
    "duration": 13,
    "start_time": "2021-12-26T08:55:44.607Z"
   },
   {
    "duration": 17,
    "start_time": "2021-12-26T08:55:44.622Z"
   },
   {
    "duration": 12,
    "start_time": "2021-12-26T08:55:44.641Z"
   },
   {
    "duration": 12,
    "start_time": "2021-12-26T08:55:44.654Z"
   },
   {
    "duration": 10,
    "start_time": "2021-12-26T08:55:44.668Z"
   },
   {
    "duration": 14,
    "start_time": "2021-12-26T08:55:44.681Z"
   },
   {
    "duration": 66,
    "start_time": "2021-12-26T08:55:44.698Z"
   },
   {
    "duration": 5,
    "start_time": "2021-12-26T08:55:44.766Z"
   },
   {
    "duration": 13,
    "start_time": "2021-12-26T08:55:44.772Z"
   },
   {
    "duration": 6,
    "start_time": "2021-12-26T08:55:44.787Z"
   },
   {
    "duration": 5,
    "start_time": "2021-12-26T08:55:44.795Z"
   },
   {
    "duration": 199,
    "start_time": "2021-12-26T08:55:44.801Z"
   },
   {
    "duration": 169,
    "start_time": "2021-12-26T08:55:45.002Z"
   },
   {
    "duration": 167,
    "start_time": "2021-12-26T08:55:45.173Z"
   },
   {
    "duration": 8,
    "start_time": "2021-12-26T08:55:45.342Z"
   },
   {
    "duration": 6,
    "start_time": "2021-12-26T08:55:45.352Z"
   },
   {
    "duration": 215,
    "start_time": "2021-12-26T08:55:45.359Z"
   },
   {
    "duration": 176,
    "start_time": "2021-12-26T08:55:45.575Z"
   },
   {
    "duration": 4,
    "start_time": "2021-12-26T08:55:45.752Z"
   },
   {
    "duration": 4,
    "start_time": "2021-12-26T08:55:45.758Z"
   },
   {
    "duration": 10,
    "start_time": "2021-12-26T08:55:45.766Z"
   },
   {
    "duration": 198,
    "start_time": "2021-12-26T08:55:45.779Z"
   },
   {
    "duration": 6,
    "start_time": "2021-12-26T08:55:45.979Z"
   },
   {
    "duration": 9,
    "start_time": "2021-12-26T08:55:45.987Z"
   },
   {
    "duration": 11,
    "start_time": "2021-12-26T08:55:45.997Z"
   },
   {
    "duration": 20,
    "start_time": "2021-12-26T08:55:46.010Z"
   },
   {
    "duration": 5,
    "start_time": "2021-12-26T08:55:46.031Z"
   },
   {
    "duration": 30,
    "start_time": "2021-12-26T08:55:46.038Z"
   },
   {
    "duration": 5,
    "start_time": "2021-12-26T08:55:46.069Z"
   },
   {
    "duration": 7,
    "start_time": "2021-12-26T08:55:46.076Z"
   },
   {
    "duration": 5,
    "start_time": "2021-12-26T08:55:46.084Z"
   },
   {
    "duration": 40,
    "start_time": "2021-12-26T08:55:46.090Z"
   },
   {
    "duration": 5,
    "start_time": "2021-12-26T08:55:46.131Z"
   },
   {
    "duration": 10,
    "start_time": "2021-12-26T08:55:46.138Z"
   },
   {
    "duration": 15,
    "start_time": "2021-12-26T08:55:46.150Z"
   },
   {
    "duration": 21,
    "start_time": "2021-12-26T08:55:46.166Z"
   },
   {
    "duration": 12,
    "start_time": "2021-12-26T08:55:46.188Z"
   },
   {
    "duration": 5,
    "start_time": "2021-12-26T08:55:46.227Z"
   },
   {
    "duration": 650,
    "start_time": "2021-12-26T08:55:46.234Z"
   },
   {
    "duration": 2,
    "start_time": "2021-12-26T08:55:46.886Z"
   },
   {
    "duration": 58,
    "start_time": "2021-12-26T08:55:46.890Z"
   },
   {
    "duration": 174,
    "start_time": "2021-12-26T08:55:46.950Z"
   },
   {
    "duration": 5,
    "start_time": "2021-12-26T08:55:47.127Z"
   },
   {
    "duration": 7,
    "start_time": "2021-12-26T08:55:47.133Z"
   },
   {
    "duration": 8,
    "start_time": "2021-12-26T08:55:47.141Z"
   },
   {
    "duration": 5,
    "start_time": "2021-12-26T08:55:47.150Z"
   },
   {
    "duration": 76,
    "start_time": "2021-12-26T08:55:47.156Z"
   },
   {
    "duration": 16,
    "start_time": "2021-12-26T08:55:47.234Z"
   },
   {
    "duration": 12,
    "start_time": "2021-12-26T08:55:47.252Z"
   },
   {
    "duration": 9,
    "start_time": "2021-12-26T08:55:47.266Z"
   },
   {
    "duration": 3,
    "start_time": "2021-12-26T08:55:47.276Z"
   },
   {
    "duration": 12,
    "start_time": "2021-12-26T08:55:47.280Z"
   },
   {
    "duration": 35,
    "start_time": "2021-12-26T08:55:47.293Z"
   },
   {
    "duration": 2,
    "start_time": "2021-12-26T08:55:47.330Z"
   },
   {
    "duration": 9,
    "start_time": "2021-12-26T08:56:27.940Z"
   },
   {
    "duration": 29410,
    "start_time": "2021-12-26T08:56:43.622Z"
   },
   {
    "duration": 51106,
    "start_time": "2021-12-26T08:57:22.148Z"
   },
   {
    "duration": 360,
    "start_time": "2021-12-26T08:58:13.257Z"
   },
   {
    "duration": 711,
    "start_time": "2021-12-26T08:58:32.845Z"
   },
   {
    "duration": 58,
    "start_time": "2021-12-26T08:58:33.557Z"
   },
   {
    "duration": 16,
    "start_time": "2021-12-26T08:58:33.619Z"
   },
   {
    "duration": 16,
    "start_time": "2021-12-26T08:58:33.637Z"
   },
   {
    "duration": 12,
    "start_time": "2021-12-26T08:58:33.654Z"
   },
   {
    "duration": 8,
    "start_time": "2021-12-26T08:58:33.667Z"
   },
   {
    "duration": 4,
    "start_time": "2021-12-26T08:58:33.678Z"
   },
   {
    "duration": 45,
    "start_time": "2021-12-26T08:58:33.684Z"
   },
   {
    "duration": 39,
    "start_time": "2021-12-26T08:58:33.730Z"
   },
   {
    "duration": 5,
    "start_time": "2021-12-26T08:58:33.771Z"
   },
   {
    "duration": 9,
    "start_time": "2021-12-26T08:58:33.777Z"
   },
   {
    "duration": 7,
    "start_time": "2021-12-26T08:58:33.787Z"
   },
   {
    "duration": 5,
    "start_time": "2021-12-26T08:58:33.795Z"
   },
   {
    "duration": 201,
    "start_time": "2021-12-26T08:58:33.802Z"
   },
   {
    "duration": 165,
    "start_time": "2021-12-26T08:58:34.005Z"
   },
   {
    "duration": 168,
    "start_time": "2021-12-26T08:58:34.172Z"
   },
   {
    "duration": 8,
    "start_time": "2021-12-26T08:58:34.342Z"
   },
   {
    "duration": 2,
    "start_time": "2021-12-26T08:58:34.351Z"
   },
   {
    "duration": 212,
    "start_time": "2021-12-26T08:58:34.355Z"
   },
   {
    "duration": 205,
    "start_time": "2021-12-26T08:58:34.569Z"
   },
   {
    "duration": 11,
    "start_time": "2021-12-26T08:58:34.776Z"
   },
   {
    "duration": 119,
    "start_time": "2021-12-26T08:58:34.792Z"
   },
   {
    "duration": 109,
    "start_time": "2021-12-26T08:58:34.915Z"
   },
   {
    "duration": 237,
    "start_time": "2021-12-26T08:58:35.026Z"
   },
   {
    "duration": 7,
    "start_time": "2021-12-26T08:58:35.264Z"
   },
   {
    "duration": 8,
    "start_time": "2021-12-26T08:58:35.272Z"
   },
   {
    "duration": 13,
    "start_time": "2021-12-26T08:58:35.281Z"
   },
   {
    "duration": 4,
    "start_time": "2021-12-26T08:58:35.296Z"
   },
   {
    "duration": 26,
    "start_time": "2021-12-26T08:58:35.301Z"
   },
   {
    "duration": 28,
    "start_time": "2021-12-26T08:58:35.329Z"
   },
   {
    "duration": 5,
    "start_time": "2021-12-26T08:58:35.358Z"
   },
   {
    "duration": 7,
    "start_time": "2021-12-26T08:58:35.365Z"
   },
   {
    "duration": 5,
    "start_time": "2021-12-26T08:58:35.373Z"
   },
   {
    "duration": 7,
    "start_time": "2021-12-26T08:58:35.380Z"
   },
   {
    "duration": 5,
    "start_time": "2021-12-26T08:58:35.388Z"
   },
   {
    "duration": 35,
    "start_time": "2021-12-26T08:58:35.394Z"
   },
   {
    "duration": 10,
    "start_time": "2021-12-26T08:58:35.431Z"
   },
   {
    "duration": 20,
    "start_time": "2021-12-26T08:58:35.442Z"
   },
   {
    "duration": 12,
    "start_time": "2021-12-26T08:58:35.463Z"
   },
   {
    "duration": 4,
    "start_time": "2021-12-26T08:58:35.476Z"
   },
   {
    "duration": 647,
    "start_time": "2021-12-26T08:58:35.482Z"
   },
   {
    "duration": 2,
    "start_time": "2021-12-26T08:58:36.131Z"
   },
   {
    "duration": 41,
    "start_time": "2021-12-26T08:58:36.135Z"
   },
   {
    "duration": 187,
    "start_time": "2021-12-26T08:58:36.178Z"
   },
   {
    "duration": 5,
    "start_time": "2021-12-26T08:58:36.366Z"
   },
   {
    "duration": 6,
    "start_time": "2021-12-26T08:58:36.373Z"
   },
   {
    "duration": 8,
    "start_time": "2021-12-26T08:58:36.381Z"
   },
   {
    "duration": 7,
    "start_time": "2021-12-26T08:58:36.390Z"
   },
   {
    "duration": 77,
    "start_time": "2021-12-26T08:58:36.398Z"
   },
   {
    "duration": 14,
    "start_time": "2021-12-26T08:58:36.477Z"
   },
   {
    "duration": 13,
    "start_time": "2021-12-26T08:58:36.493Z"
   },
   {
    "duration": 27,
    "start_time": "2021-12-26T08:58:36.507Z"
   },
   {
    "duration": 3,
    "start_time": "2021-12-26T08:58:36.535Z"
   },
   {
    "duration": 11,
    "start_time": "2021-12-26T08:58:36.540Z"
   },
   {
    "duration": 7,
    "start_time": "2021-12-26T08:58:36.552Z"
   },
   {
    "duration": 27051,
    "start_time": "2021-12-26T08:58:36.561Z"
   },
   {
    "duration": 322,
    "start_time": "2021-12-26T08:59:03.614Z"
   },
   {
    "duration": 325,
    "start_time": "2021-12-26T08:59:18.152Z"
   },
   {
    "duration": 355,
    "start_time": "2021-12-26T08:59:35.255Z"
   },
   {
    "duration": 428,
    "start_time": "2021-12-26T09:34:08.516Z"
   },
   {
    "duration": 10,
    "start_time": "2021-12-26T09:34:37.850Z"
   },
   {
    "duration": 5477,
    "start_time": "2021-12-26T09:34:45.961Z"
   },
   {
    "duration": 456,
    "start_time": "2021-12-26T09:35:00.627Z"
   },
   {
    "duration": 7,
    "start_time": "2021-12-26T09:35:46.922Z"
   },
   {
    "duration": 263,
    "start_time": "2021-12-26T09:36:32.717Z"
   },
   {
    "duration": 291,
    "start_time": "2021-12-26T09:38:43.571Z"
   },
   {
    "duration": 161,
    "start_time": "2021-12-26T09:39:21.825Z"
   },
   {
    "duration": 4580,
    "start_time": "2021-12-26T09:40:33.429Z"
   },
   {
    "duration": 4602,
    "start_time": "2021-12-26T09:40:49.461Z"
   },
   {
    "duration": 678,
    "start_time": "2021-12-26T09:41:46.516Z"
   },
   {
    "duration": 61,
    "start_time": "2021-12-26T09:41:47.196Z"
   },
   {
    "duration": 16,
    "start_time": "2021-12-26T09:41:47.260Z"
   },
   {
    "duration": 22,
    "start_time": "2021-12-26T09:41:47.277Z"
   },
   {
    "duration": 35,
    "start_time": "2021-12-26T09:41:47.301Z"
   },
   {
    "duration": 10,
    "start_time": "2021-12-26T09:41:47.337Z"
   },
   {
    "duration": 4,
    "start_time": "2021-12-26T09:41:47.349Z"
   },
   {
    "duration": 12,
    "start_time": "2021-12-26T09:41:47.355Z"
   },
   {
    "duration": 63,
    "start_time": "2021-12-26T09:41:47.369Z"
   },
   {
    "duration": 5,
    "start_time": "2021-12-26T09:41:47.434Z"
   },
   {
    "duration": 9,
    "start_time": "2021-12-26T09:41:47.440Z"
   },
   {
    "duration": 8,
    "start_time": "2021-12-26T09:41:47.450Z"
   },
   {
    "duration": 6,
    "start_time": "2021-12-26T09:41:47.459Z"
   },
   {
    "duration": 206,
    "start_time": "2021-12-26T09:41:47.467Z"
   },
   {
    "duration": 191,
    "start_time": "2021-12-26T09:41:47.675Z"
   },
   {
    "duration": 172,
    "start_time": "2021-12-26T09:41:47.868Z"
   },
   {
    "duration": 9,
    "start_time": "2021-12-26T09:41:48.041Z"
   },
   {
    "duration": 2,
    "start_time": "2021-12-26T09:41:48.051Z"
   },
   {
    "duration": 219,
    "start_time": "2021-12-26T09:41:48.055Z"
   },
   {
    "duration": 173,
    "start_time": "2021-12-26T09:41:48.275Z"
   },
   {
    "duration": 5,
    "start_time": "2021-12-26T09:41:48.450Z"
   },
   {
    "duration": 11,
    "start_time": "2021-12-26T09:41:48.457Z"
   },
   {
    "duration": 7,
    "start_time": "2021-12-26T09:41:48.471Z"
   },
   {
    "duration": 253,
    "start_time": "2021-12-26T09:41:48.480Z"
   },
   {
    "duration": 8,
    "start_time": "2021-12-26T09:41:48.735Z"
   },
   {
    "duration": 15,
    "start_time": "2021-12-26T09:41:48.745Z"
   },
   {
    "duration": 26,
    "start_time": "2021-12-26T09:41:48.762Z"
   },
   {
    "duration": 11,
    "start_time": "2021-12-26T09:41:48.791Z"
   },
   {
    "duration": 10,
    "start_time": "2021-12-26T09:41:48.804Z"
   },
   {
    "duration": 40,
    "start_time": "2021-12-26T09:41:48.816Z"
   },
   {
    "duration": 6,
    "start_time": "2021-12-26T09:41:48.858Z"
   },
   {
    "duration": 7,
    "start_time": "2021-12-26T09:41:48.867Z"
   },
   {
    "duration": 5,
    "start_time": "2021-12-26T09:41:48.877Z"
   },
   {
    "duration": 9,
    "start_time": "2021-12-26T09:41:48.884Z"
   },
   {
    "duration": 33,
    "start_time": "2021-12-26T09:41:48.895Z"
   },
   {
    "duration": 5,
    "start_time": "2021-12-26T09:41:48.930Z"
   },
   {
    "duration": 14,
    "start_time": "2021-12-26T09:41:48.936Z"
   },
   {
    "duration": 22,
    "start_time": "2021-12-26T09:41:48.952Z"
   },
   {
    "duration": 12,
    "start_time": "2021-12-26T09:41:48.976Z"
   },
   {
    "duration": 5,
    "start_time": "2021-12-26T09:41:48.989Z"
   },
   {
    "duration": 757,
    "start_time": "2021-12-26T09:41:48.996Z"
   },
   {
    "duration": 3,
    "start_time": "2021-12-26T09:41:49.755Z"
   },
   {
    "duration": 54,
    "start_time": "2021-12-26T09:41:49.759Z"
   },
   {
    "duration": 198,
    "start_time": "2021-12-26T09:41:49.815Z"
   },
   {
    "duration": 5,
    "start_time": "2021-12-26T09:41:50.014Z"
   },
   {
    "duration": 8,
    "start_time": "2021-12-26T09:41:50.020Z"
   },
   {
    "duration": 10,
    "start_time": "2021-12-26T09:41:50.030Z"
   },
   {
    "duration": 7,
    "start_time": "2021-12-26T09:41:50.041Z"
   },
   {
    "duration": 65,
    "start_time": "2021-12-26T09:41:50.049Z"
   },
   {
    "duration": 20,
    "start_time": "2021-12-26T09:41:50.116Z"
   },
   {
    "duration": 14,
    "start_time": "2021-12-26T09:41:50.137Z"
   },
   {
    "duration": 11,
    "start_time": "2021-12-26T09:41:50.152Z"
   },
   {
    "duration": 415,
    "start_time": "2021-12-26T09:41:50.164Z"
   },
   {
    "duration": 166,
    "start_time": "2021-12-26T09:42:12.740Z"
   },
   {
    "duration": 12,
    "start_time": "2021-12-26T09:45:58.126Z"
   },
   {
    "duration": 12,
    "start_time": "2021-12-26T09:46:13.405Z"
   },
   {
    "duration": 327,
    "start_time": "2021-12-26T09:48:16.733Z"
   },
   {
    "duration": 8,
    "start_time": "2021-12-26T09:48:24.139Z"
   },
   {
    "duration": 111,
    "start_time": "2021-12-26T09:52:39.064Z"
   },
   {
    "duration": 99,
    "start_time": "2021-12-26T09:52:50.763Z"
   },
   {
    "duration": 331,
    "start_time": "2021-12-26T09:53:01.907Z"
   },
   {
    "duration": 15,
    "start_time": "2021-12-26T09:53:10.502Z"
   },
   {
    "duration": 4401,
    "start_time": "2021-12-26T09:54:12.864Z"
   },
   {
    "duration": 12,
    "start_time": "2021-12-26T09:54:43.751Z"
   },
   {
    "duration": 16,
    "start_time": "2021-12-26T09:54:49.972Z"
   },
   {
    "duration": 13,
    "start_time": "2021-12-26T09:55:58.266Z"
   },
   {
    "duration": 12,
    "start_time": "2021-12-26T09:56:04.156Z"
   },
   {
    "duration": 327,
    "start_time": "2021-12-26T09:58:03.135Z"
   },
   {
    "duration": 163,
    "start_time": "2021-12-26T09:58:09.199Z"
   },
   {
    "duration": 7,
    "start_time": "2021-12-26T10:01:31.561Z"
   },
   {
    "duration": 7,
    "start_time": "2021-12-26T10:01:47.371Z"
   },
   {
    "duration": 7,
    "start_time": "2021-12-26T10:02:06.998Z"
   },
   {
    "duration": 7,
    "start_time": "2021-12-26T10:02:18.316Z"
   },
   {
    "duration": 7,
    "start_time": "2021-12-26T10:02:26.443Z"
   },
   {
    "duration": 7,
    "start_time": "2021-12-26T10:03:03.851Z"
   },
   {
    "duration": 12,
    "start_time": "2021-12-26T10:03:51.017Z"
   },
   {
    "duration": 7,
    "start_time": "2021-12-26T10:04:26.207Z"
   },
   {
    "duration": 11,
    "start_time": "2021-12-26T10:04:49.183Z"
   },
   {
    "duration": 8,
    "start_time": "2021-12-26T10:05:09.526Z"
   },
   {
    "duration": 8,
    "start_time": "2021-12-26T10:06:26.695Z"
   },
   {
    "duration": 9,
    "start_time": "2021-12-26T10:07:11.506Z"
   },
   {
    "duration": 8,
    "start_time": "2021-12-26T10:07:25.245Z"
   },
   {
    "duration": 9,
    "start_time": "2021-12-26T10:07:44.657Z"
   },
   {
    "duration": 1205,
    "start_time": "2021-12-26T10:08:13.142Z"
   },
   {
    "duration": 2056,
    "start_time": "2021-12-26T10:08:19.755Z"
   },
   {
    "duration": 458,
    "start_time": "2021-12-26T10:08:35.992Z"
   },
   {
    "duration": 348,
    "start_time": "2021-12-26T10:08:42.786Z"
   },
   {
    "duration": 18,
    "start_time": "2021-12-26T10:08:49.923Z"
   },
   {
    "duration": 9,
    "start_time": "2021-12-26T10:09:05.905Z"
   },
   {
    "duration": 9,
    "start_time": "2021-12-26T10:09:14.676Z"
   },
   {
    "duration": 12,
    "start_time": "2021-12-26T10:11:56.640Z"
   },
   {
    "duration": 18,
    "start_time": "2021-12-26T10:12:13.276Z"
   },
   {
    "duration": 20,
    "start_time": "2021-12-26T10:12:29.936Z"
   },
   {
    "duration": 19,
    "start_time": "2021-12-26T10:14:49.853Z"
   },
   {
    "duration": 9,
    "start_time": "2021-12-26T10:15:13.440Z"
   },
   {
    "duration": 11,
    "start_time": "2021-12-26T10:15:28.979Z"
   },
   {
    "duration": 21,
    "start_time": "2021-12-26T10:15:37.738Z"
   },
   {
    "duration": 19,
    "start_time": "2021-12-26T10:15:55.362Z"
   },
   {
    "duration": 20,
    "start_time": "2021-12-26T10:16:17.895Z"
   },
   {
    "duration": 14,
    "start_time": "2021-12-26T10:16:27.903Z"
   },
   {
    "duration": 22,
    "start_time": "2021-12-26T10:20:08.520Z"
   },
   {
    "duration": 46,
    "start_time": "2021-12-26T10:20:57.371Z"
   },
   {
    "duration": 9,
    "start_time": "2021-12-26T10:21:17.245Z"
   },
   {
    "duration": 9,
    "start_time": "2021-12-26T10:21:28.577Z"
   },
   {
    "duration": 28,
    "start_time": "2021-12-26T10:21:57.074Z"
   },
   {
    "duration": 13,
    "start_time": "2021-12-26T10:22:05.381Z"
   },
   {
    "duration": 9,
    "start_time": "2021-12-26T10:22:21.939Z"
   },
   {
    "duration": 13,
    "start_time": "2021-12-26T10:22:34.795Z"
   },
   {
    "duration": 7,
    "start_time": "2021-12-26T10:23:53.447Z"
   },
   {
    "duration": 7,
    "start_time": "2021-12-26T10:23:58.900Z"
   },
   {
    "duration": 10,
    "start_time": "2021-12-26T10:24:10.243Z"
   },
   {
    "duration": 9,
    "start_time": "2021-12-26T10:24:32.115Z"
   },
   {
    "duration": 9,
    "start_time": "2021-12-26T10:24:49.139Z"
   },
   {
    "duration": 8,
    "start_time": "2021-12-26T10:25:03.308Z"
   },
   {
    "duration": 9,
    "start_time": "2021-12-26T10:25:08.268Z"
   },
   {
    "duration": 11,
    "start_time": "2021-12-26T10:25:27.530Z"
   },
   {
    "duration": 8,
    "start_time": "2021-12-26T10:25:40.348Z"
   },
   {
    "duration": 9,
    "start_time": "2021-12-26T10:25:56.468Z"
   },
   {
    "duration": 8,
    "start_time": "2021-12-26T10:26:32.485Z"
   },
   {
    "duration": 13,
    "start_time": "2021-12-26T10:27:06.392Z"
   },
   {
    "duration": 20,
    "start_time": "2021-12-26T10:27:24.558Z"
   },
   {
    "duration": 10,
    "start_time": "2021-12-26T10:27:43.440Z"
   },
   {
    "duration": 148,
    "start_time": "2021-12-26T10:30:24.374Z"
   },
   {
    "duration": 162,
    "start_time": "2021-12-26T10:30:42.344Z"
   },
   {
    "duration": 8,
    "start_time": "2021-12-26T10:31:04.003Z"
   },
   {
    "duration": 137,
    "start_time": "2021-12-26T10:31:04.970Z"
   },
   {
    "duration": 153,
    "start_time": "2021-12-26T10:31:26.423Z"
   },
   {
    "duration": 135,
    "start_time": "2021-12-26T10:32:51.117Z"
   },
   {
    "duration": 371,
    "start_time": "2021-12-26T10:49:57.046Z"
   },
   {
    "duration": 216,
    "start_time": "2021-12-26T10:51:42.081Z"
   },
   {
    "duration": 160,
    "start_time": "2021-12-26T10:53:13.760Z"
   },
   {
    "duration": 219,
    "start_time": "2021-12-26T10:53:44.429Z"
   },
   {
    "duration": 260,
    "start_time": "2021-12-26T10:53:58.183Z"
   },
   {
    "duration": 245,
    "start_time": "2021-12-26T10:54:07.098Z"
   },
   {
    "duration": 235,
    "start_time": "2021-12-26T10:54:21.944Z"
   },
   {
    "duration": 169,
    "start_time": "2021-12-26T10:54:52.621Z"
   },
   {
    "duration": 210,
    "start_time": "2021-12-26T10:55:10.765Z"
   },
   {
    "duration": 227,
    "start_time": "2021-12-26T10:55:21.860Z"
   },
   {
    "duration": 236,
    "start_time": "2021-12-26T10:55:34.647Z"
   },
   {
    "duration": 240,
    "start_time": "2021-12-26T10:55:41.877Z"
   },
   {
    "duration": 311,
    "start_time": "2021-12-26T10:55:56.664Z"
   },
   {
    "duration": 272,
    "start_time": "2021-12-26T10:57:46.858Z"
   },
   {
    "duration": 264,
    "start_time": "2021-12-26T10:58:04.319Z"
   },
   {
    "duration": 302,
    "start_time": "2021-12-26T10:58:34.941Z"
   },
   {
    "duration": 498,
    "start_time": "2021-12-26T10:58:42.051Z"
   },
   {
    "duration": 320,
    "start_time": "2021-12-26T10:58:53.989Z"
   },
   {
    "duration": 329,
    "start_time": "2021-12-26T10:59:06.474Z"
   },
   {
    "duration": 357,
    "start_time": "2021-12-26T10:59:41.276Z"
   },
   {
    "duration": 446,
    "start_time": "2021-12-26T10:59:51.583Z"
   },
   {
    "duration": 104,
    "start_time": "2021-12-26T11:01:18.852Z"
   },
   {
    "duration": 385,
    "start_time": "2021-12-26T11:01:26.177Z"
   },
   {
    "duration": 374,
    "start_time": "2021-12-26T11:01:43.543Z"
   },
   {
    "duration": 370,
    "start_time": "2021-12-26T11:01:58.465Z"
   },
   {
    "duration": 308,
    "start_time": "2021-12-26T11:02:22.156Z"
   },
   {
    "duration": 305,
    "start_time": "2021-12-26T11:03:15.364Z"
   },
   {
    "duration": 298,
    "start_time": "2021-12-26T11:03:48.146Z"
   },
   {
    "duration": 401,
    "start_time": "2021-12-26T11:04:26.408Z"
   },
   {
    "duration": 333,
    "start_time": "2021-12-26T11:04:42.901Z"
   },
   {
    "duration": 310,
    "start_time": "2021-12-26T11:05:19.323Z"
   },
   {
    "duration": 8,
    "start_time": "2021-12-26T11:05:38.768Z"
   },
   {
    "duration": 7,
    "start_time": "2021-12-26T11:08:22.012Z"
   },
   {
    "duration": 6,
    "start_time": "2021-12-26T11:08:34.165Z"
   },
   {
    "duration": 6,
    "start_time": "2021-12-26T11:08:45.268Z"
   },
   {
    "duration": 7,
    "start_time": "2021-12-26T11:08:54.221Z"
   },
   {
    "duration": 6,
    "start_time": "2021-12-26T11:11:49.267Z"
   },
   {
    "duration": 27,
    "start_time": "2021-12-26T11:12:49.801Z"
   },
   {
    "duration": 7,
    "start_time": "2021-12-26T11:15:11.013Z"
   },
   {
    "duration": 5145,
    "start_time": "2021-12-26T11:15:18.776Z"
   },
   {
    "duration": 5194,
    "start_time": "2021-12-26T11:15:24.070Z"
   },
   {
    "duration": 8512,
    "start_time": "2021-12-26T11:15:31.990Z"
   },
   {
    "duration": 4182,
    "start_time": "2021-12-26T11:15:40.887Z"
   },
   {
    "duration": 7,
    "start_time": "2021-12-26T11:15:50.802Z"
   },
   {
    "duration": 344,
    "start_time": "2021-12-26T11:16:42.905Z"
   },
   {
    "duration": 409,
    "start_time": "2021-12-26T11:16:48.422Z"
   },
   {
    "duration": 4350,
    "start_time": "2021-12-26T11:17:03.946Z"
   },
   {
    "duration": 6,
    "start_time": "2021-12-26T11:19:09.427Z"
   },
   {
    "duration": 7,
    "start_time": "2021-12-26T11:20:08.961Z"
   },
   {
    "duration": 7,
    "start_time": "2021-12-26T11:20:16.944Z"
   },
   {
    "duration": 336,
    "start_time": "2021-12-26T11:20:42.090Z"
   },
   {
    "duration": 114,
    "start_time": "2021-12-26T11:20:59.900Z"
   },
   {
    "duration": 445,
    "start_time": "2021-12-26T11:21:07.320Z"
   },
   {
    "duration": 353,
    "start_time": "2021-12-26T11:21:15.972Z"
   },
   {
    "duration": 469,
    "start_time": "2021-12-26T11:22:02.331Z"
   },
   {
    "duration": 6,
    "start_time": "2021-12-26T11:23:22.619Z"
   },
   {
    "duration": 5606,
    "start_time": "2021-12-26T11:23:51.003Z"
   },
   {
    "duration": 5846,
    "start_time": "2021-12-26T11:24:02.787Z"
   },
   {
    "duration": 8,
    "start_time": "2021-12-26T11:25:36.465Z"
   },
   {
    "duration": 390,
    "start_time": "2021-12-26T11:25:47.236Z"
   },
   {
    "duration": 7,
    "start_time": "2021-12-26T11:25:52.911Z"
   },
   {
    "duration": 333,
    "start_time": "2021-12-26T11:26:06.071Z"
   },
   {
    "duration": 374,
    "start_time": "2021-12-26T11:26:31.952Z"
   },
   {
    "duration": 833,
    "start_time": "2021-12-26T11:26:45.182Z"
   },
   {
    "duration": 9,
    "start_time": "2021-12-26T11:28:08.940Z"
   },
   {
    "duration": 29,
    "start_time": "2021-12-26T11:28:24.957Z"
   },
   {
    "duration": 7,
    "start_time": "2021-12-26T11:29:03.068Z"
   },
   {
    "duration": 35,
    "start_time": "2021-12-26T11:29:04.231Z"
   },
   {
    "duration": 10,
    "start_time": "2021-12-26T11:30:07.200Z"
   },
   {
    "duration": 356,
    "start_time": "2021-12-26T11:30:44.376Z"
   },
   {
    "duration": 4,
    "start_time": "2021-12-26T11:32:30.740Z"
   },
   {
    "duration": 9,
    "start_time": "2021-12-26T11:35:19.483Z"
   },
   {
    "duration": 6,
    "start_time": "2021-12-26T11:35:58.469Z"
   },
   {
    "duration": 106,
    "start_time": "2021-12-26T11:36:02.239Z"
   },
   {
    "duration": 4,
    "start_time": "2021-12-26T11:36:08.977Z"
   },
   {
    "duration": 2,
    "start_time": "2021-12-26T12:54:19.998Z"
   },
   {
    "duration": 106,
    "start_time": "2021-12-26T12:54:21.498Z"
   },
   {
    "duration": 103,
    "start_time": "2021-12-26T12:54:46.855Z"
   },
   {
    "duration": 6826,
    "start_time": "2021-12-26T12:54:56.332Z"
   },
   {
    "duration": 687,
    "start_time": "2021-12-26T12:55:24.388Z"
   },
   {
    "duration": 359,
    "start_time": "2021-12-26T13:37:58.789Z"
   },
   {
    "duration": 652,
    "start_time": "2021-12-26T13:52:33.778Z"
   },
   {
    "duration": 59,
    "start_time": "2021-12-26T13:52:34.433Z"
   },
   {
    "duration": 15,
    "start_time": "2021-12-26T13:52:34.496Z"
   },
   {
    "duration": 32,
    "start_time": "2021-12-26T13:52:34.513Z"
   },
   {
    "duration": 13,
    "start_time": "2021-12-26T13:52:34.547Z"
   },
   {
    "duration": 14,
    "start_time": "2021-12-26T13:52:34.561Z"
   },
   {
    "duration": 7,
    "start_time": "2021-12-26T13:52:34.577Z"
   },
   {
    "duration": 11,
    "start_time": "2021-12-26T13:52:34.586Z"
   },
   {
    "duration": 112,
    "start_time": "2021-12-26T13:52:34.598Z"
   },
   {
    "duration": -110569,
    "start_time": "2021-12-26T13:54:25.281Z"
   },
   {
    "duration": -110575,
    "start_time": "2021-12-26T13:54:25.288Z"
   },
   {
    "duration": -110593,
    "start_time": "2021-12-26T13:54:25.307Z"
   },
   {
    "duration": -110599,
    "start_time": "2021-12-26T13:54:25.313Z"
   },
   {
    "duration": -110602,
    "start_time": "2021-12-26T13:54:25.317Z"
   },
   {
    "duration": -110604,
    "start_time": "2021-12-26T13:54:25.320Z"
   },
   {
    "duration": -110611,
    "start_time": "2021-12-26T13:54:25.328Z"
   },
   {
    "duration": -110615,
    "start_time": "2021-12-26T13:54:25.333Z"
   },
   {
    "duration": -110622,
    "start_time": "2021-12-26T13:54:25.340Z"
   },
   {
    "duration": -110623,
    "start_time": "2021-12-26T13:54:25.342Z"
   },
   {
    "duration": -110626,
    "start_time": "2021-12-26T13:54:25.346Z"
   },
   {
    "duration": -110633,
    "start_time": "2021-12-26T13:54:25.354Z"
   },
   {
    "duration": -110635,
    "start_time": "2021-12-26T13:54:25.357Z"
   },
   {
    "duration": -110637,
    "start_time": "2021-12-26T13:54:25.360Z"
   },
   {
    "duration": -110645,
    "start_time": "2021-12-26T13:54:25.368Z"
   },
   {
    "duration": -110647,
    "start_time": "2021-12-26T13:54:25.371Z"
   },
   {
    "duration": -110648,
    "start_time": "2021-12-26T13:54:25.374Z"
   },
   {
    "duration": -110652,
    "start_time": "2021-12-26T13:54:25.380Z"
   },
   {
    "duration": -110655,
    "start_time": "2021-12-26T13:54:25.383Z"
   },
   {
    "duration": -110657,
    "start_time": "2021-12-26T13:54:25.387Z"
   },
   {
    "duration": -110662,
    "start_time": "2021-12-26T13:54:25.394Z"
   },
   {
    "duration": -110664,
    "start_time": "2021-12-26T13:54:25.397Z"
   },
   {
    "duration": -110665,
    "start_time": "2021-12-26T13:54:25.400Z"
   },
   {
    "duration": -110670,
    "start_time": "2021-12-26T13:54:25.406Z"
   },
   {
    "duration": -110672,
    "start_time": "2021-12-26T13:54:25.410Z"
   },
   {
    "duration": -110674,
    "start_time": "2021-12-26T13:54:25.413Z"
   },
   {
    "duration": -110678,
    "start_time": "2021-12-26T13:54:25.419Z"
   },
   {
    "duration": -110680,
    "start_time": "2021-12-26T13:54:25.423Z"
   },
   {
    "duration": -110681,
    "start_time": "2021-12-26T13:54:25.426Z"
   },
   {
    "duration": -110686,
    "start_time": "2021-12-26T13:54:25.432Z"
   },
   {
    "duration": -110688,
    "start_time": "2021-12-26T13:54:25.435Z"
   },
   {
    "duration": -110691,
    "start_time": "2021-12-26T13:54:25.439Z"
   },
   {
    "duration": -110701,
    "start_time": "2021-12-26T13:54:25.450Z"
   },
   {
    "duration": -110704,
    "start_time": "2021-12-26T13:54:25.454Z"
   },
   {
    "duration": -110710,
    "start_time": "2021-12-26T13:54:25.461Z"
   },
   {
    "duration": -110712,
    "start_time": "2021-12-26T13:54:25.464Z"
   },
   {
    "duration": -110715,
    "start_time": "2021-12-26T13:54:25.468Z"
   },
   {
    "duration": -110720,
    "start_time": "2021-12-26T13:54:25.474Z"
   },
   {
    "duration": -110722,
    "start_time": "2021-12-26T13:54:25.477Z"
   },
   {
    "duration": -110725,
    "start_time": "2021-12-26T13:54:25.480Z"
   },
   {
    "duration": -110731,
    "start_time": "2021-12-26T13:54:25.487Z"
   },
   {
    "duration": -110733,
    "start_time": "2021-12-26T13:54:25.490Z"
   },
   {
    "duration": -110735,
    "start_time": "2021-12-26T13:54:25.493Z"
   },
   {
    "duration": -110741,
    "start_time": "2021-12-26T13:54:25.500Z"
   },
   {
    "duration": -110744,
    "start_time": "2021-12-26T13:54:25.503Z"
   },
   {
    "duration": -110746,
    "start_time": "2021-12-26T13:54:25.506Z"
   },
   {
    "duration": -110751,
    "start_time": "2021-12-26T13:54:25.512Z"
   },
   {
    "duration": -110753,
    "start_time": "2021-12-26T13:54:25.515Z"
   },
   {
    "duration": -110755,
    "start_time": "2021-12-26T13:54:25.518Z"
   },
   {
    "duration": 726,
    "start_time": "2021-12-26T13:52:56.960Z"
   },
   {
    "duration": 66,
    "start_time": "2021-12-26T13:52:57.688Z"
   },
   {
    "duration": 14,
    "start_time": "2021-12-26T13:52:57.756Z"
   },
   {
    "duration": 18,
    "start_time": "2021-12-26T13:52:57.772Z"
   },
   {
    "duration": 12,
    "start_time": "2021-12-26T13:52:57.792Z"
   },
   {
    "duration": 34,
    "start_time": "2021-12-26T13:52:57.806Z"
   },
   {
    "duration": 8,
    "start_time": "2021-12-26T13:52:57.842Z"
   },
   {
    "duration": 13,
    "start_time": "2021-12-26T13:52:57.852Z"
   },
   {
    "duration": 798,
    "start_time": "2021-12-26T13:52:57.867Z"
   },
   {
    "duration": 5,
    "start_time": "2021-12-26T13:52:58.666Z"
   },
   {
    "duration": 11,
    "start_time": "2021-12-26T13:52:58.673Z"
   },
   {
    "duration": 8,
    "start_time": "2021-12-26T13:52:58.685Z"
   },
   {
    "duration": 5,
    "start_time": "2021-12-26T13:52:58.694Z"
   },
   {
    "duration": 201,
    "start_time": "2021-12-26T13:52:58.701Z"
   },
   {
    "duration": 205,
    "start_time": "2021-12-26T13:52:58.904Z"
   },
   {
    "duration": 236,
    "start_time": "2021-12-26T13:52:59.111Z"
   },
   {
    "duration": 11,
    "start_time": "2021-12-26T13:52:59.349Z"
   },
   {
    "duration": 4,
    "start_time": "2021-12-26T13:52:59.361Z"
   },
   {
    "duration": 226,
    "start_time": "2021-12-26T13:52:59.366Z"
   },
   {
    "duration": 199,
    "start_time": "2021-12-26T13:52:59.594Z"
   },
   {
    "duration": 6,
    "start_time": "2021-12-26T13:52:59.794Z"
   },
   {
    "duration": 7,
    "start_time": "2021-12-26T13:52:59.801Z"
   },
   {
    "duration": 21,
    "start_time": "2021-12-26T13:52:59.812Z"
   },
   {
    "duration": 184,
    "start_time": "2021-12-26T13:52:59.838Z"
   },
   {
    "duration": 8,
    "start_time": "2021-12-26T13:53:00.028Z"
   },
   {
    "duration": 17,
    "start_time": "2021-12-26T13:53:00.039Z"
   },
   {
    "duration": 13,
    "start_time": "2021-12-26T13:53:00.058Z"
   },
   {
    "duration": 4,
    "start_time": "2021-12-26T13:53:00.073Z"
   },
   {
    "duration": 7,
    "start_time": "2021-12-26T13:53:00.078Z"
   },
   {
    "duration": 50,
    "start_time": "2021-12-26T13:53:00.087Z"
   },
   {
    "duration": 8,
    "start_time": "2021-12-26T13:53:00.139Z"
   },
   {
    "duration": 11,
    "start_time": "2021-12-26T13:53:00.148Z"
   },
   {
    "duration": 6,
    "start_time": "2021-12-26T13:53:00.161Z"
   },
   {
    "duration": 14,
    "start_time": "2021-12-26T13:53:00.169Z"
   },
   {
    "duration": 12,
    "start_time": "2021-12-26T13:53:00.185Z"
   },
   {
    "duration": 10,
    "start_time": "2021-12-26T13:53:00.198Z"
   },
   {
    "duration": 24,
    "start_time": "2021-12-26T13:53:00.210Z"
   },
   {
    "duration": 25,
    "start_time": "2021-12-26T13:53:00.236Z"
   },
   {
    "duration": 11,
    "start_time": "2021-12-26T13:53:00.263Z"
   },
   {
    "duration": 5,
    "start_time": "2021-12-26T13:53:00.275Z"
   },
   {
    "duration": 692,
    "start_time": "2021-12-26T13:53:00.282Z"
   },
   {
    "duration": 2,
    "start_time": "2021-12-26T13:53:00.976Z"
   },
   {
    "duration": 63,
    "start_time": "2021-12-26T13:53:00.980Z"
   },
   {
    "duration": 176,
    "start_time": "2021-12-26T13:53:01.045Z"
   },
   {
    "duration": 8,
    "start_time": "2021-12-26T13:53:01.223Z"
   },
   {
    "duration": 22,
    "start_time": "2021-12-26T13:53:01.233Z"
   },
   {
    "duration": 11,
    "start_time": "2021-12-26T13:53:01.256Z"
   },
   {
    "duration": 18,
    "start_time": "2021-12-26T13:53:01.269Z"
   },
   {
    "duration": 68,
    "start_time": "2021-12-26T13:53:01.289Z"
   },
   {
    "duration": 17,
    "start_time": "2021-12-26T13:53:01.358Z"
   },
   {
    "duration": 21,
    "start_time": "2021-12-26T13:53:01.377Z"
   },
   {
    "duration": 40,
    "start_time": "2021-12-26T13:53:01.400Z"
   },
   {
    "duration": 187,
    "start_time": "2021-12-26T13:53:01.443Z"
   },
   {
    "duration": 12,
    "start_time": "2021-12-26T13:53:01.632Z"
   },
   {
    "duration": 151,
    "start_time": "2021-12-26T13:53:01.646Z"
   },
   {
    "duration": 359,
    "start_time": "2021-12-26T13:53:01.799Z"
   },
   {
    "duration": 419,
    "start_time": "2021-12-26T13:53:02.160Z"
   },
   {
    "duration": -110578,
    "start_time": "2021-12-26T13:54:53.159Z"
   },
   {
    "duration": 330,
    "start_time": "2021-12-26T13:53:55.459Z"
   },
   {
    "duration": 5,
    "start_time": "2021-12-26T13:54:56.275Z"
   },
   {
    "duration": 5,
    "start_time": "2021-12-26T13:55:11.092Z"
   },
   {
    "duration": 22,
    "start_time": "2021-12-26T13:55:29.210Z"
   },
   {
    "duration": 61,
    "start_time": "2021-12-26T13:55:29.766Z"
   },
   {
    "duration": 12,
    "start_time": "2021-12-26T13:55:29.989Z"
   },
   {
    "duration": 16,
    "start_time": "2021-12-26T13:55:34.005Z"
   },
   {
    "duration": 19,
    "start_time": "2021-12-26T13:55:36.482Z"
   },
   {
    "duration": 14,
    "start_time": "2021-12-26T13:55:39.941Z"
   },
   {
    "duration": 6,
    "start_time": "2021-12-26T13:55:40.552Z"
   },
   {
    "duration": 17,
    "start_time": "2021-12-26T13:55:43.307Z"
   },
   {
    "duration": 1316,
    "start_time": "2021-12-26T13:55:43.980Z"
   },
   {
    "duration": 7,
    "start_time": "2021-12-26T13:55:52.504Z"
   },
   {
    "duration": 5,
    "start_time": "2021-12-26T13:56:43.849Z"
   },
   {
    "duration": 681,
    "start_time": "2021-12-26T13:56:57.412Z"
   },
   {
    "duration": 57,
    "start_time": "2021-12-26T13:56:58.095Z"
   },
   {
    "duration": 19,
    "start_time": "2021-12-26T13:56:58.157Z"
   },
   {
    "duration": 24,
    "start_time": "2021-12-26T13:56:58.178Z"
   },
   {
    "duration": 34,
    "start_time": "2021-12-26T13:56:58.204Z"
   },
   {
    "duration": 13,
    "start_time": "2021-12-26T13:56:58.240Z"
   },
   {
    "duration": 6,
    "start_time": "2021-12-26T13:56:58.256Z"
   },
   {
    "duration": 16,
    "start_time": "2021-12-26T13:56:58.264Z"
   },
   {
    "duration": 333,
    "start_time": "2021-12-26T13:56:58.282Z"
   },
   {
    "duration": 5,
    "start_time": "2021-12-26T13:56:58.617Z"
   },
   {
    "duration": 7,
    "start_time": "2021-12-26T13:56:58.628Z"
   },
   {
    "duration": 8,
    "start_time": "2021-12-26T13:56:58.637Z"
   },
   {
    "duration": 10,
    "start_time": "2021-12-26T13:56:58.646Z"
   },
   {
    "duration": 7,
    "start_time": "2021-12-26T13:56:58.657Z"
   },
   {
    "duration": 196,
    "start_time": "2021-12-26T13:56:58.665Z"
   },
   {
    "duration": 173,
    "start_time": "2021-12-26T13:56:58.863Z"
   },
   {
    "duration": 175,
    "start_time": "2021-12-26T13:56:59.038Z"
   },
   {
    "duration": 17,
    "start_time": "2021-12-26T13:56:59.215Z"
   },
   {
    "duration": 3,
    "start_time": "2021-12-26T13:56:59.233Z"
   },
   {
    "duration": 212,
    "start_time": "2021-12-26T13:56:59.239Z"
   },
   {
    "duration": 174,
    "start_time": "2021-12-26T13:56:59.453Z"
   },
   {
    "duration": 4,
    "start_time": "2021-12-26T13:56:59.631Z"
   },
   {
    "duration": 3,
    "start_time": "2021-12-26T13:56:59.637Z"
   },
   {
    "duration": 6,
    "start_time": "2021-12-26T13:56:59.642Z"
   },
   {
    "duration": 177,
    "start_time": "2021-12-26T13:56:59.650Z"
   },
   {
    "duration": 7,
    "start_time": "2021-12-26T13:56:59.829Z"
   },
   {
    "duration": 10,
    "start_time": "2021-12-26T13:56:59.837Z"
   },
   {
    "duration": 11,
    "start_time": "2021-12-26T13:56:59.849Z"
   },
   {
    "duration": 5,
    "start_time": "2021-12-26T13:56:59.862Z"
   },
   {
    "duration": 6,
    "start_time": "2021-12-26T13:56:59.868Z"
   },
   {
    "duration": 58,
    "start_time": "2021-12-26T13:56:59.875Z"
   },
   {
    "duration": 7,
    "start_time": "2021-12-26T13:56:59.935Z"
   },
   {
    "duration": 7,
    "start_time": "2021-12-26T13:56:59.944Z"
   },
   {
    "duration": 7,
    "start_time": "2021-12-26T13:56:59.953Z"
   },
   {
    "duration": 12,
    "start_time": "2021-12-26T13:56:59.961Z"
   },
   {
    "duration": 7,
    "start_time": "2021-12-26T13:56:59.974Z"
   },
   {
    "duration": 9,
    "start_time": "2021-12-26T13:56:59.982Z"
   },
   {
    "duration": 40,
    "start_time": "2021-12-26T13:56:59.992Z"
   },
   {
    "duration": 21,
    "start_time": "2021-12-26T13:57:00.034Z"
   },
   {
    "duration": 12,
    "start_time": "2021-12-26T13:57:00.057Z"
   },
   {
    "duration": 5,
    "start_time": "2021-12-26T13:57:00.071Z"
   },
   {
    "duration": 649,
    "start_time": "2021-12-26T13:57:00.078Z"
   },
   {
    "duration": 3,
    "start_time": "2021-12-26T13:57:00.729Z"
   },
   {
    "duration": 53,
    "start_time": "2021-12-26T13:57:00.733Z"
   },
   {
    "duration": 184,
    "start_time": "2021-12-26T13:57:00.787Z"
   },
   {
    "duration": 6,
    "start_time": "2021-12-26T13:57:00.973Z"
   },
   {
    "duration": 12,
    "start_time": "2021-12-26T13:57:00.981Z"
   },
   {
    "duration": 14,
    "start_time": "2021-12-26T13:57:00.995Z"
   },
   {
    "duration": 21,
    "start_time": "2021-12-26T13:57:01.011Z"
   },
   {
    "duration": 77,
    "start_time": "2021-12-26T13:57:01.034Z"
   },
   {
    "duration": 35,
    "start_time": "2021-12-26T13:57:01.113Z"
   },
   {
    "duration": 21,
    "start_time": "2021-12-26T13:57:01.150Z"
   },
   {
    "duration": 11,
    "start_time": "2021-12-26T13:57:01.172Z"
   },
   {
    "duration": 197,
    "start_time": "2021-12-26T13:57:01.185Z"
   },
   {
    "duration": 7,
    "start_time": "2021-12-26T13:57:01.384Z"
   },
   {
    "duration": 152,
    "start_time": "2021-12-26T13:57:01.393Z"
   },
   {
    "duration": 334,
    "start_time": "2021-12-26T13:57:01.547Z"
   },
   {
    "duration": 402,
    "start_time": "2021-12-26T13:57:01.883Z"
   },
   {
    "duration": -110583,
    "start_time": "2021-12-26T13:58:52.870Z"
   },
   {
    "duration": 8,
    "start_time": "2021-12-26T13:58:58.115Z"
   },
   {
    "duration": 117,
    "start_time": "2021-12-26T14:01:12.739Z"
   },
   {
    "duration": 112,
    "start_time": "2021-12-26T14:01:30.310Z"
   },
   {
    "duration": 723,
    "start_time": "2021-12-26T14:04:03.544Z"
   },
   {
    "duration": 607,
    "start_time": "2021-12-26T14:04:09.967Z"
   },
   {
    "duration": 58,
    "start_time": "2021-12-26T14:04:10.575Z"
   },
   {
    "duration": 14,
    "start_time": "2021-12-26T14:04:10.635Z"
   },
   {
    "duration": 17,
    "start_time": "2021-12-26T14:04:10.651Z"
   },
   {
    "duration": 12,
    "start_time": "2021-12-26T14:04:10.670Z"
   },
   {
    "duration": 8,
    "start_time": "2021-12-26T14:04:10.683Z"
   },
   {
    "duration": 35,
    "start_time": "2021-12-26T14:04:10.693Z"
   },
   {
    "duration": 11,
    "start_time": "2021-12-26T14:04:10.730Z"
   },
   {
    "duration": 1045,
    "start_time": "2021-12-26T14:04:10.743Z"
   },
   {
    "duration": 5,
    "start_time": "2021-12-26T14:04:11.789Z"
   },
   {
    "duration": 9,
    "start_time": "2021-12-26T14:04:11.795Z"
   },
   {
    "duration": 21,
    "start_time": "2021-12-26T14:04:11.806Z"
   },
   {
    "duration": 6,
    "start_time": "2021-12-26T14:04:11.828Z"
   },
   {
    "duration": 183,
    "start_time": "2021-12-26T14:04:11.835Z"
   },
   {
    "duration": 177,
    "start_time": "2021-12-26T14:04:12.020Z"
   },
   {
    "duration": 165,
    "start_time": "2021-12-26T14:04:12.199Z"
   },
   {
    "duration": 9,
    "start_time": "2021-12-26T14:04:12.366Z"
   },
   {
    "duration": 2,
    "start_time": "2021-12-26T14:04:12.377Z"
   },
   {
    "duration": 221,
    "start_time": "2021-12-26T14:04:12.381Z"
   },
   {
    "duration": 162,
    "start_time": "2021-12-26T14:04:12.604Z"
   },
   {
    "duration": 5,
    "start_time": "2021-12-26T14:04:12.768Z"
   },
   {
    "duration": 6,
    "start_time": "2021-12-26T14:04:12.774Z"
   },
   {
    "duration": 5,
    "start_time": "2021-12-26T14:04:12.783Z"
   },
   {
    "duration": 187,
    "start_time": "2021-12-26T14:04:12.789Z"
   },
   {
    "duration": 7,
    "start_time": "2021-12-26T14:04:12.978Z"
   },
   {
    "duration": 8,
    "start_time": "2021-12-26T14:04:12.987Z"
   },
   {
    "duration": 12,
    "start_time": "2021-12-26T14:04:12.996Z"
   },
   {
    "duration": 21,
    "start_time": "2021-12-26T14:04:13.009Z"
   },
   {
    "duration": 386,
    "start_time": "2021-12-26T14:04:13.031Z"
   },
   {
    "duration": -110591,
    "start_time": "2021-12-26T14:06:04.010Z"
   },
   {
    "duration": -110597,
    "start_time": "2021-12-26T14:06:04.017Z"
   },
   {
    "duration": -110598,
    "start_time": "2021-12-26T14:06:04.020Z"
   },
   {
    "duration": -110604,
    "start_time": "2021-12-26T14:06:04.027Z"
   },
   {
    "duration": -110606,
    "start_time": "2021-12-26T14:06:04.031Z"
   },
   {
    "duration": -110609,
    "start_time": "2021-12-26T14:06:04.035Z"
   },
   {
    "duration": -110613,
    "start_time": "2021-12-26T14:06:04.041Z"
   },
   {
    "duration": -110616,
    "start_time": "2021-12-26T14:06:04.045Z"
   },
   {
    "duration": -110620,
    "start_time": "2021-12-26T14:06:04.050Z"
   },
   {
    "duration": -110625,
    "start_time": "2021-12-26T14:06:04.056Z"
   },
   {
    "duration": -110626,
    "start_time": "2021-12-26T14:06:04.059Z"
   },
   {
    "duration": -110629,
    "start_time": "2021-12-26T14:06:04.063Z"
   },
   {
    "duration": -110633,
    "start_time": "2021-12-26T14:06:04.069Z"
   },
   {
    "duration": -110637,
    "start_time": "2021-12-26T14:06:04.074Z"
   },
   {
    "duration": -110643,
    "start_time": "2021-12-26T14:06:04.081Z"
   },
   {
    "duration": -110645,
    "start_time": "2021-12-26T14:06:04.085Z"
   },
   {
    "duration": -110647,
    "start_time": "2021-12-26T14:06:04.088Z"
   },
   {
    "duration": -110653,
    "start_time": "2021-12-26T14:06:04.095Z"
   },
   {
    "duration": -110655,
    "start_time": "2021-12-26T14:06:04.099Z"
   },
   {
    "duration": -110657,
    "start_time": "2021-12-26T14:06:04.102Z"
   },
   {
    "duration": -110663,
    "start_time": "2021-12-26T14:06:04.109Z"
   },
   {
    "duration": -110666,
    "start_time": "2021-12-26T14:06:04.113Z"
   },
   {
    "duration": -110668,
    "start_time": "2021-12-26T14:06:04.117Z"
   },
   {
    "duration": -110674,
    "start_time": "2021-12-26T14:06:04.124Z"
   },
   {
    "duration": -110676,
    "start_time": "2021-12-26T14:06:04.127Z"
   },
   {
    "duration": -110682,
    "start_time": "2021-12-26T14:06:04.135Z"
   },
   {
    "duration": -110684,
    "start_time": "2021-12-26T14:06:04.138Z"
   },
   {
    "duration": -110687,
    "start_time": "2021-12-26T14:06:04.142Z"
   },
   {
    "duration": -110692,
    "start_time": "2021-12-26T14:06:04.148Z"
   },
   {
    "duration": -110595,
    "start_time": "2021-12-26T14:09:52.430Z"
   },
   {
    "duration": -110597,
    "start_time": "2021-12-26T14:09:52.433Z"
   },
   {
    "duration": -110601,
    "start_time": "2021-12-26T14:09:52.438Z"
   },
   {
    "duration": -110607,
    "start_time": "2021-12-26T14:09:52.445Z"
   },
   {
    "duration": -110609,
    "start_time": "2021-12-26T14:09:52.448Z"
   },
   {
    "duration": -110612,
    "start_time": "2021-12-26T14:09:52.452Z"
   },
   {
    "duration": -110659,
    "start_time": "2021-12-26T14:09:52.500Z"
   },
   {
    "duration": -110661,
    "start_time": "2021-12-26T14:09:52.503Z"
   },
   {
    "duration": -110668,
    "start_time": "2021-12-26T14:09:52.511Z"
   },
   {
    "duration": -110671,
    "start_time": "2021-12-26T14:09:52.515Z"
   },
   {
    "duration": -110677,
    "start_time": "2021-12-26T14:09:52.522Z"
   },
   {
    "duration": -110679,
    "start_time": "2021-12-26T14:09:52.525Z"
   },
   {
    "duration": -110683,
    "start_time": "2021-12-26T14:09:52.529Z"
   },
   {
    "duration": -110690,
    "start_time": "2021-12-26T14:09:52.537Z"
   },
   {
    "duration": -110692,
    "start_time": "2021-12-26T14:09:52.540Z"
   },
   {
    "duration": -110695,
    "start_time": "2021-12-26T14:09:52.544Z"
   },
   {
    "duration": -110702,
    "start_time": "2021-12-26T14:09:52.552Z"
   },
   {
    "duration": -110704,
    "start_time": "2021-12-26T14:09:52.555Z"
   },
   {
    "duration": -110710,
    "start_time": "2021-12-26T14:09:52.562Z"
   },
   {
    "duration": -110714,
    "start_time": "2021-12-26T14:09:52.566Z"
   },
   {
    "duration": -110716,
    "start_time": "2021-12-26T14:09:52.569Z"
   },
   {
    "duration": -110722,
    "start_time": "2021-12-26T14:09:52.576Z"
   },
   {
    "duration": -110725,
    "start_time": "2021-12-26T14:09:52.580Z"
   },
   {
    "duration": -110727,
    "start_time": "2021-12-26T14:09:52.583Z"
   },
   {
    "duration": -110734,
    "start_time": "2021-12-26T14:09:52.590Z"
   },
   {
    "duration": -110736,
    "start_time": "2021-12-26T14:09:52.593Z"
   },
   {
    "duration": -110739,
    "start_time": "2021-12-26T14:09:52.597Z"
   },
   {
    "duration": -110745,
    "start_time": "2021-12-26T14:09:52.604Z"
   },
   {
    "duration": -110748,
    "start_time": "2021-12-26T14:09:52.608Z"
   },
   {
    "duration": -110763,
    "start_time": "2021-12-26T14:09:52.624Z"
   },
   {
    "duration": -110769,
    "start_time": "2021-12-26T14:09:52.631Z"
   },
   {
    "duration": -110771,
    "start_time": "2021-12-26T14:09:52.634Z"
   },
   {
    "duration": -110774,
    "start_time": "2021-12-26T14:09:52.638Z"
   },
   {
    "duration": -110781,
    "start_time": "2021-12-26T14:09:52.645Z"
   },
   {
    "duration": -110721,
    "start_time": "2021-12-26T14:09:52.648Z"
   },
   {
    "duration": -110727,
    "start_time": "2021-12-26T14:09:52.655Z"
   },
   {
    "duration": -110729,
    "start_time": "2021-12-26T14:09:52.658Z"
   },
   {
    "duration": -110732,
    "start_time": "2021-12-26T14:09:52.662Z"
   },
   {
    "duration": -110738,
    "start_time": "2021-12-26T14:09:52.669Z"
   },
   {
    "duration": -110741,
    "start_time": "2021-12-26T14:09:52.672Z"
   },
   {
    "duration": -110744,
    "start_time": "2021-12-26T14:09:52.676Z"
   },
   {
    "duration": -110750,
    "start_time": "2021-12-26T14:09:52.683Z"
   },
   {
    "duration": -110752,
    "start_time": "2021-12-26T14:09:52.686Z"
   },
   {
    "duration": -110755,
    "start_time": "2021-12-26T14:09:52.690Z"
   },
   {
    "duration": -110760,
    "start_time": "2021-12-26T14:09:52.696Z"
   },
   {
    "duration": -110762,
    "start_time": "2021-12-26T14:09:52.699Z"
   },
   {
    "duration": -110766,
    "start_time": "2021-12-26T14:09:52.704Z"
   },
   {
    "duration": -110771,
    "start_time": "2021-12-26T14:09:52.710Z"
   },
   {
    "duration": -110774,
    "start_time": "2021-12-26T14:09:52.714Z"
   },
   {
    "duration": -110777,
    "start_time": "2021-12-26T14:09:52.717Z"
   },
   {
    "duration": -110783,
    "start_time": "2021-12-26T14:09:52.724Z"
   },
   {
    "duration": -110786,
    "start_time": "2021-12-26T14:09:52.728Z"
   },
   {
    "duration": -110788,
    "start_time": "2021-12-26T14:09:52.731Z"
   },
   {
    "duration": -110793,
    "start_time": "2021-12-26T14:09:52.737Z"
   },
   {
    "duration": -110797,
    "start_time": "2021-12-26T14:09:52.741Z"
   },
   {
    "duration": -110799,
    "start_time": "2021-12-26T14:09:52.745Z"
   },
   {
    "duration": -110805,
    "start_time": "2021-12-26T14:09:52.752Z"
   },
   {
    "duration": -110808,
    "start_time": "2021-12-26T14:09:52.755Z"
   },
   {
    "duration": 647,
    "start_time": "2021-12-26T14:08:10.942Z"
   },
   {
    "duration": 56,
    "start_time": "2021-12-26T14:08:11.591Z"
   },
   {
    "duration": 14,
    "start_time": "2021-12-26T14:08:11.649Z"
   },
   {
    "duration": 16,
    "start_time": "2021-12-26T14:08:11.665Z"
   },
   {
    "duration": 12,
    "start_time": "2021-12-26T14:08:11.683Z"
   },
   {
    "duration": 37,
    "start_time": "2021-12-26T14:08:11.697Z"
   },
   {
    "duration": 5,
    "start_time": "2021-12-26T14:08:11.736Z"
   },
   {
    "duration": 10,
    "start_time": "2021-12-26T14:08:11.744Z"
   },
   {
    "duration": 670,
    "start_time": "2021-12-26T14:09:18.210Z"
   },
   {
    "duration": 58,
    "start_time": "2021-12-26T14:09:18.882Z"
   },
   {
    "duration": 14,
    "start_time": "2021-12-26T14:09:18.945Z"
   },
   {
    "duration": 16,
    "start_time": "2021-12-26T14:09:18.961Z"
   },
   {
    "duration": 13,
    "start_time": "2021-12-26T14:09:18.979Z"
   },
   {
    "duration": 38,
    "start_time": "2021-12-26T14:09:18.994Z"
   },
   {
    "duration": 4,
    "start_time": "2021-12-26T14:09:19.036Z"
   },
   {
    "duration": 14,
    "start_time": "2021-12-26T14:09:19.043Z"
   },
   {
    "duration": 9597,
    "start_time": "2021-12-26T14:09:19.058Z"
   },
   {
    "duration": 5,
    "start_time": "2021-12-26T14:09:28.657Z"
   },
   {
    "duration": 12,
    "start_time": "2021-12-26T14:09:28.664Z"
   },
   {
    "duration": 6,
    "start_time": "2021-12-26T14:09:28.677Z"
   },
   {
    "duration": 5,
    "start_time": "2021-12-26T14:09:28.685Z"
   },
   {
    "duration": 189,
    "start_time": "2021-12-26T14:09:28.691Z"
   },
   {
    "duration": 166,
    "start_time": "2021-12-26T14:09:28.882Z"
   },
   {
    "duration": 167,
    "start_time": "2021-12-26T14:09:29.049Z"
   },
   {
    "duration": 17,
    "start_time": "2021-12-26T14:09:29.217Z"
   },
   {
    "duration": 4,
    "start_time": "2021-12-26T14:09:29.236Z"
   },
   {
    "duration": 205,
    "start_time": "2021-12-26T14:09:29.241Z"
   },
   {
    "duration": 165,
    "start_time": "2021-12-26T14:09:29.447Z"
   },
   {
    "duration": 5,
    "start_time": "2021-12-26T14:09:29.614Z"
   },
   {
    "duration": 2,
    "start_time": "2021-12-26T14:09:29.628Z"
   },
   {
    "duration": 5,
    "start_time": "2021-12-26T14:09:29.632Z"
   },
   {
    "duration": 179,
    "start_time": "2021-12-26T14:09:29.639Z"
   },
   {
    "duration": 11,
    "start_time": "2021-12-26T14:09:29.820Z"
   },
   {
    "duration": 10,
    "start_time": "2021-12-26T14:09:29.833Z"
   },
   {
    "duration": 11,
    "start_time": "2021-12-26T14:09:29.846Z"
   },
   {
    "duration": 4,
    "start_time": "2021-12-26T14:09:29.859Z"
   },
   {
    "duration": 399,
    "start_time": "2021-12-26T14:09:29.864Z"
   },
   {
    "duration": -110592,
    "start_time": "2021-12-26T14:11:20.857Z"
   },
   {
    "duration": -110599,
    "start_time": "2021-12-26T14:11:20.865Z"
   },
   {
    "duration": -110601,
    "start_time": "2021-12-26T14:11:20.868Z"
   },
   {
    "duration": -110604,
    "start_time": "2021-12-26T14:11:20.872Z"
   },
   {
    "duration": -110610,
    "start_time": "2021-12-26T14:11:20.879Z"
   },
   {
    "duration": -110613,
    "start_time": "2021-12-26T14:11:20.883Z"
   },
   {
    "duration": -110618,
    "start_time": "2021-12-26T14:11:20.889Z"
   },
   {
    "duration": -110622,
    "start_time": "2021-12-26T14:11:20.893Z"
   },
   {
    "duration": -110625,
    "start_time": "2021-12-26T14:11:20.897Z"
   },
   {
    "duration": -110630,
    "start_time": "2021-12-26T14:11:20.903Z"
   },
   {
    "duration": -110633,
    "start_time": "2021-12-26T14:11:20.906Z"
   },
   {
    "duration": -110636,
    "start_time": "2021-12-26T14:11:20.910Z"
   },
   {
    "duration": -110642,
    "start_time": "2021-12-26T14:11:20.917Z"
   },
   {
    "duration": -110644,
    "start_time": "2021-12-26T14:11:20.920Z"
   },
   {
    "duration": -110647,
    "start_time": "2021-12-26T14:11:20.924Z"
   },
   {
    "duration": -110652,
    "start_time": "2021-12-26T14:11:20.930Z"
   },
   {
    "duration": -110656,
    "start_time": "2021-12-26T14:11:20.934Z"
   },
   {
    "duration": -110659,
    "start_time": "2021-12-26T14:11:20.938Z"
   },
   {
    "duration": -110665,
    "start_time": "2021-12-26T14:11:20.945Z"
   },
   {
    "duration": -110668,
    "start_time": "2021-12-26T14:11:20.948Z"
   },
   {
    "duration": -110671,
    "start_time": "2021-12-26T14:11:20.952Z"
   },
   {
    "duration": -110677,
    "start_time": "2021-12-26T14:11:20.959Z"
   },
   {
    "duration": -110680,
    "start_time": "2021-12-26T14:11:20.962Z"
   },
   {
    "duration": -110683,
    "start_time": "2021-12-26T14:11:20.966Z"
   },
   {
    "duration": -110687,
    "start_time": "2021-12-26T14:11:20.972Z"
   },
   {
    "duration": -110690,
    "start_time": "2021-12-26T14:11:20.975Z"
   },
   {
    "duration": -110694,
    "start_time": "2021-12-26T14:11:20.980Z"
   },
   {
    "duration": -110699,
    "start_time": "2021-12-26T14:11:20.986Z"
   },
   {
    "duration": -110702,
    "start_time": "2021-12-26T14:11:20.989Z"
   },
   {
    "duration": 627,
    "start_time": "2021-12-26T14:10:20.985Z"
   },
   {
    "duration": 56,
    "start_time": "2021-12-26T14:10:21.614Z"
   },
   {
    "duration": 12,
    "start_time": "2021-12-26T14:10:21.672Z"
   },
   {
    "duration": 17,
    "start_time": "2021-12-26T14:10:21.686Z"
   },
   {
    "duration": 28,
    "start_time": "2021-12-26T14:10:21.705Z"
   },
   {
    "duration": 8,
    "start_time": "2021-12-26T14:10:21.735Z"
   },
   {
    "duration": 5,
    "start_time": "2021-12-26T14:10:21.744Z"
   },
   {
    "duration": 11,
    "start_time": "2021-12-26T14:10:21.751Z"
   },
   {
    "duration": 70840,
    "start_time": "2021-12-26T14:10:21.764Z"
   },
   {
    "duration": 5,
    "start_time": "2021-12-26T14:11:32.605Z"
   },
   {
    "duration": 18,
    "start_time": "2021-12-26T14:11:32.612Z"
   },
   {
    "duration": 6,
    "start_time": "2021-12-26T14:11:32.632Z"
   },
   {
    "duration": 6,
    "start_time": "2021-12-26T14:11:32.639Z"
   },
   {
    "duration": 186,
    "start_time": "2021-12-26T14:11:32.647Z"
   },
   {
    "duration": 183,
    "start_time": "2021-12-26T14:11:32.834Z"
   },
   {
    "duration": 179,
    "start_time": "2021-12-26T14:11:33.019Z"
   },
   {
    "duration": 9,
    "start_time": "2021-12-26T14:11:33.200Z"
   },
   {
    "duration": 2,
    "start_time": "2021-12-26T14:11:33.211Z"
   },
   {
    "duration": 202,
    "start_time": "2021-12-26T14:11:33.227Z"
   },
   {
    "duration": 163,
    "start_time": "2021-12-26T14:11:33.431Z"
   },
   {
    "duration": 4,
    "start_time": "2021-12-26T14:11:33.596Z"
   },
   {
    "duration": 5,
    "start_time": "2021-12-26T14:11:33.602Z"
   },
   {
    "duration": 17,
    "start_time": "2021-12-26T14:11:33.611Z"
   },
   {
    "duration": 167,
    "start_time": "2021-12-26T14:11:33.630Z"
   },
   {
    "duration": 7,
    "start_time": "2021-12-26T14:11:33.798Z"
   },
   {
    "duration": 7,
    "start_time": "2021-12-26T14:11:33.806Z"
   },
   {
    "duration": 10,
    "start_time": "2021-12-26T14:11:33.827Z"
   },
   {
    "duration": 4,
    "start_time": "2021-12-26T14:11:33.838Z"
   },
   {
    "duration": 421,
    "start_time": "2021-12-26T14:11:33.843Z"
   },
   {
    "duration": -110597,
    "start_time": "2021-12-26T14:13:24.863Z"
   },
   {
    "duration": -110603,
    "start_time": "2021-12-26T14:13:24.870Z"
   },
   {
    "duration": -110606,
    "start_time": "2021-12-26T14:13:24.874Z"
   },
   {
    "duration": -110612,
    "start_time": "2021-12-26T14:13:24.881Z"
   },
   {
    "duration": -110614,
    "start_time": "2021-12-26T14:13:24.884Z"
   },
   {
    "duration": -110618,
    "start_time": "2021-12-26T14:13:24.889Z"
   },
   {
    "duration": -110623,
    "start_time": "2021-12-26T14:13:24.895Z"
   },
   {
    "duration": -110625,
    "start_time": "2021-12-26T14:13:24.899Z"
   },
   {
    "duration": -110631,
    "start_time": "2021-12-26T14:13:24.906Z"
   },
   {
    "duration": -110634,
    "start_time": "2021-12-26T14:13:24.910Z"
   },
   {
    "duration": -110636,
    "start_time": "2021-12-26T14:13:24.913Z"
   },
   {
    "duration": -110640,
    "start_time": "2021-12-26T14:13:24.919Z"
   },
   {
    "duration": -110644,
    "start_time": "2021-12-26T14:13:24.924Z"
   },
   {
    "duration": -110647,
    "start_time": "2021-12-26T14:13:24.928Z"
   },
   {
    "duration": -110652,
    "start_time": "2021-12-26T14:13:24.934Z"
   },
   {
    "duration": -110654,
    "start_time": "2021-12-26T14:13:24.937Z"
   },
   {
    "duration": -110658,
    "start_time": "2021-12-26T14:13:24.942Z"
   },
   {
    "duration": -110663,
    "start_time": "2021-12-26T14:13:24.948Z"
   },
   {
    "duration": -110666,
    "start_time": "2021-12-26T14:13:24.952Z"
   },
   {
    "duration": -110668,
    "start_time": "2021-12-26T14:13:24.955Z"
   },
   {
    "duration": -110673,
    "start_time": "2021-12-26T14:13:24.962Z"
   },
   {
    "duration": -110675,
    "start_time": "2021-12-26T14:13:24.965Z"
   },
   {
    "duration": -110679,
    "start_time": "2021-12-26T14:13:24.970Z"
   },
   {
    "duration": -110683,
    "start_time": "2021-12-26T14:13:24.976Z"
   },
   {
    "duration": -110685,
    "start_time": "2021-12-26T14:13:24.979Z"
   },
   {
    "duration": -110696,
    "start_time": "2021-12-26T14:13:24.991Z"
   },
   {
    "duration": -110698,
    "start_time": "2021-12-26T14:13:24.995Z"
   },
   {
    "duration": -110703,
    "start_time": "2021-12-26T14:13:25.001Z"
   },
   {
    "duration": -110706,
    "start_time": "2021-12-26T14:13:25.005Z"
   },
   {
    "duration": 5,
    "start_time": "2021-12-26T14:21:51.026Z"
   },
   {
    "duration": 634,
    "start_time": "2021-12-26T14:22:37.261Z"
   },
   {
    "duration": 57,
    "start_time": "2021-12-26T14:22:37.897Z"
   },
   {
    "duration": 13,
    "start_time": "2021-12-26T14:22:37.955Z"
   },
   {
    "duration": 16,
    "start_time": "2021-12-26T14:22:37.969Z"
   },
   {
    "duration": 12,
    "start_time": "2021-12-26T14:22:37.986Z"
   },
   {
    "duration": 29,
    "start_time": "2021-12-26T14:22:37.999Z"
   },
   {
    "duration": 4,
    "start_time": "2021-12-26T14:22:38.030Z"
   },
   {
    "duration": 12,
    "start_time": "2021-12-26T14:22:38.037Z"
   },
   {
    "duration": 5,
    "start_time": "2021-12-26T14:22:38.051Z"
   },
   {
    "duration": 8470,
    "start_time": "2021-12-26T14:22:38.058Z"
   },
   {
    "duration": 5,
    "start_time": "2021-12-26T14:22:46.529Z"
   },
   {
    "duration": 7,
    "start_time": "2021-12-26T14:22:46.535Z"
   },
   {
    "duration": 12,
    "start_time": "2021-12-26T14:22:46.543Z"
   },
   {
    "duration": 7,
    "start_time": "2021-12-26T14:22:46.556Z"
   },
   {
    "duration": 6,
    "start_time": "2021-12-26T14:22:46.565Z"
   },
   {
    "duration": 211,
    "start_time": "2021-12-26T14:22:46.573Z"
   },
   {
    "duration": 166,
    "start_time": "2021-12-26T14:22:46.786Z"
   },
   {
    "duration": 160,
    "start_time": "2021-12-26T14:22:46.954Z"
   },
   {
    "duration": 17,
    "start_time": "2021-12-26T14:22:47.115Z"
   },
   {
    "duration": 2,
    "start_time": "2021-12-26T14:22:47.134Z"
   },
   {
    "duration": 204,
    "start_time": "2021-12-26T14:22:47.137Z"
   },
   {
    "duration": 166,
    "start_time": "2021-12-26T14:22:47.342Z"
   },
   {
    "duration": 4,
    "start_time": "2021-12-26T14:22:47.512Z"
   },
   {
    "duration": 12,
    "start_time": "2021-12-26T14:22:47.517Z"
   },
   {
    "duration": 7,
    "start_time": "2021-12-26T14:22:47.530Z"
   },
   {
    "duration": 171,
    "start_time": "2021-12-26T14:22:47.538Z"
   },
   {
    "duration": 7,
    "start_time": "2021-12-26T14:22:47.710Z"
   },
   {
    "duration": 7,
    "start_time": "2021-12-26T14:22:47.727Z"
   },
   {
    "duration": 12,
    "start_time": "2021-12-26T14:22:47.735Z"
   },
   {
    "duration": 4,
    "start_time": "2021-12-26T14:22:47.749Z"
   },
   {
    "duration": 394,
    "start_time": "2021-12-26T14:22:47.755Z"
   },
   {
    "duration": -110601,
    "start_time": "2021-12-26T14:24:38.752Z"
   },
   {
    "duration": -110604,
    "start_time": "2021-12-26T14:24:38.756Z"
   },
   {
    "duration": -110611,
    "start_time": "2021-12-26T14:24:38.764Z"
   },
   {
    "duration": -110615,
    "start_time": "2021-12-26T14:24:38.768Z"
   },
   {
    "duration": -110621,
    "start_time": "2021-12-26T14:24:38.775Z"
   },
   {
    "duration": -110624,
    "start_time": "2021-12-26T14:24:38.779Z"
   },
   {
    "duration": -110628,
    "start_time": "2021-12-26T14:24:38.784Z"
   },
   {
    "duration": -110633,
    "start_time": "2021-12-26T14:24:38.790Z"
   },
   {
    "duration": -110636,
    "start_time": "2021-12-26T14:24:38.794Z"
   },
   {
    "duration": -110642,
    "start_time": "2021-12-26T14:24:38.801Z"
   },
   {
    "duration": -110645,
    "start_time": "2021-12-26T14:24:38.805Z"
   },
   {
    "duration": -110650,
    "start_time": "2021-12-26T14:24:38.811Z"
   },
   {
    "duration": -110655,
    "start_time": "2021-12-26T14:24:38.817Z"
   },
   {
    "duration": -110658,
    "start_time": "2021-12-26T14:24:38.821Z"
   },
   {
    "duration": -110666,
    "start_time": "2021-12-26T14:24:38.829Z"
   },
   {
    "duration": -110669,
    "start_time": "2021-12-26T14:24:38.833Z"
   },
   {
    "duration": -110672,
    "start_time": "2021-12-26T14:24:38.837Z"
   },
   {
    "duration": -110678,
    "start_time": "2021-12-26T14:24:38.844Z"
   },
   {
    "duration": -110681,
    "start_time": "2021-12-26T14:24:38.848Z"
   },
   {
    "duration": -110687,
    "start_time": "2021-12-26T14:24:38.855Z"
   },
   {
    "duration": -110690,
    "start_time": "2021-12-26T14:24:38.859Z"
   },
   {
    "duration": -110693,
    "start_time": "2021-12-26T14:24:38.863Z"
   },
   {
    "duration": -110699,
    "start_time": "2021-12-26T14:24:38.870Z"
   },
   {
    "duration": -110702,
    "start_time": "2021-12-26T14:24:38.874Z"
   },
   {
    "duration": -110705,
    "start_time": "2021-12-26T14:24:38.878Z"
   },
   {
    "duration": -110712,
    "start_time": "2021-12-26T14:24:38.885Z"
   },
   {
    "duration": -110716,
    "start_time": "2021-12-26T14:24:38.890Z"
   },
   {
    "duration": -110721,
    "start_time": "2021-12-26T14:24:38.897Z"
   },
   {
    "duration": -110723,
    "start_time": "2021-12-26T14:24:38.900Z"
   },
   {
    "duration": 651,
    "start_time": "2021-12-26T14:23:32.751Z"
   },
   {
    "duration": 56,
    "start_time": "2021-12-26T14:23:33.404Z"
   },
   {
    "duration": 12,
    "start_time": "2021-12-26T14:23:33.462Z"
   },
   {
    "duration": 17,
    "start_time": "2021-12-26T14:23:33.476Z"
   },
   {
    "duration": 12,
    "start_time": "2021-12-26T14:23:33.495Z"
   },
   {
    "duration": 21,
    "start_time": "2021-12-26T14:23:33.509Z"
   },
   {
    "duration": 5,
    "start_time": "2021-12-26T14:23:33.531Z"
   },
   {
    "duration": 11,
    "start_time": "2021-12-26T14:23:33.538Z"
   },
   {
    "duration": 5,
    "start_time": "2021-12-26T14:23:33.550Z"
   },
   {
    "duration": 8153,
    "start_time": "2021-12-26T14:23:33.557Z"
   },
   {
    "duration": 4,
    "start_time": "2021-12-26T14:23:41.712Z"
   },
   {
    "duration": 5,
    "start_time": "2021-12-26T14:23:41.726Z"
   },
   {
    "duration": 8,
    "start_time": "2021-12-26T14:23:41.732Z"
   },
   {
    "duration": 9,
    "start_time": "2021-12-26T14:23:41.742Z"
   },
   {
    "duration": 13,
    "start_time": "2021-12-26T14:23:41.752Z"
   },
   {
    "duration": 182,
    "start_time": "2021-12-26T14:23:41.766Z"
   },
   {
    "duration": 173,
    "start_time": "2021-12-26T14:23:41.949Z"
   },
   {
    "duration": 169,
    "start_time": "2021-12-26T14:23:42.123Z"
   },
   {
    "duration": 9,
    "start_time": "2021-12-26T14:23:42.293Z"
   },
   {
    "duration": 3,
    "start_time": "2021-12-26T14:23:42.304Z"
   },
   {
    "duration": 235,
    "start_time": "2021-12-26T14:23:42.309Z"
   },
   {
    "duration": 172,
    "start_time": "2021-12-26T14:23:42.546Z"
   },
   {
    "duration": 4,
    "start_time": "2021-12-26T14:23:42.727Z"
   },
   {
    "duration": 5,
    "start_time": "2021-12-26T14:23:42.734Z"
   },
   {
    "duration": 7,
    "start_time": "2021-12-26T14:23:42.741Z"
   },
   {
    "duration": 187,
    "start_time": "2021-12-26T14:23:42.750Z"
   },
   {
    "duration": 8,
    "start_time": "2021-12-26T14:23:42.939Z"
   },
   {
    "duration": 7,
    "start_time": "2021-12-26T14:23:42.949Z"
   },
   {
    "duration": 10,
    "start_time": "2021-12-26T14:23:42.958Z"
   },
   {
    "duration": 5,
    "start_time": "2021-12-26T14:23:42.970Z"
   },
   {
    "duration": 416,
    "start_time": "2021-12-26T14:23:42.976Z"
   },
   {
    "duration": -110598,
    "start_time": "2021-12-26T14:25:33.992Z"
   },
   {
    "duration": -110601,
    "start_time": "2021-12-26T14:25:33.997Z"
   },
   {
    "duration": -110607,
    "start_time": "2021-12-26T14:25:34.004Z"
   },
   {
    "duration": -110612,
    "start_time": "2021-12-26T14:25:34.010Z"
   },
   {
    "duration": -110617,
    "start_time": "2021-12-26T14:25:34.017Z"
   },
   {
    "duration": -110620,
    "start_time": "2021-12-26T14:25:34.021Z"
   },
   {
    "duration": -110623,
    "start_time": "2021-12-26T14:25:34.025Z"
   },
   {
    "duration": -110629,
    "start_time": "2021-12-26T14:25:34.033Z"
   },
   {
    "duration": -110632,
    "start_time": "2021-12-26T14:25:34.037Z"
   },
   {
    "duration": -110637,
    "start_time": "2021-12-26T14:25:34.043Z"
   },
   {
    "duration": -110641,
    "start_time": "2021-12-26T14:25:34.048Z"
   },
   {
    "duration": -110645,
    "start_time": "2021-12-26T14:25:34.054Z"
   },
   {
    "duration": -110649,
    "start_time": "2021-12-26T14:25:34.059Z"
   },
   {
    "duration": -110652,
    "start_time": "2021-12-26T14:25:34.064Z"
   },
   {
    "duration": -110657,
    "start_time": "2021-12-26T14:25:34.070Z"
   },
   {
    "duration": -110660,
    "start_time": "2021-12-26T14:25:34.074Z"
   },
   {
    "duration": -110662,
    "start_time": "2021-12-26T14:25:34.078Z"
   },
   {
    "duration": -110668,
    "start_time": "2021-12-26T14:25:34.085Z"
   },
   {
    "duration": -110671,
    "start_time": "2021-12-26T14:25:34.089Z"
   },
   {
    "duration": -110676,
    "start_time": "2021-12-26T14:25:34.096Z"
   },
   {
    "duration": -110679,
    "start_time": "2021-12-26T14:25:34.100Z"
   },
   {
    "duration": -110682,
    "start_time": "2021-12-26T14:25:34.104Z"
   },
   {
    "duration": -110688,
    "start_time": "2021-12-26T14:25:34.112Z"
   },
   {
    "duration": -110691,
    "start_time": "2021-12-26T14:25:34.116Z"
   },
   {
    "duration": -110696,
    "start_time": "2021-12-26T14:25:34.122Z"
   },
   {
    "duration": -110699,
    "start_time": "2021-12-26T14:25:34.127Z"
   },
   {
    "duration": -110702,
    "start_time": "2021-12-26T14:25:34.131Z"
   },
   {
    "duration": -110707,
    "start_time": "2021-12-26T14:25:34.138Z"
   },
   {
    "duration": -110710,
    "start_time": "2021-12-26T14:25:34.142Z"
   },
   {
    "duration": 6,
    "start_time": "2021-12-26T14:25:12.970Z"
   },
   {
    "duration": 656,
    "start_time": "2021-12-26T14:27:01.341Z"
   },
   {
    "duration": 59,
    "start_time": "2021-12-26T14:27:01.999Z"
   },
   {
    "duration": 13,
    "start_time": "2021-12-26T14:27:02.062Z"
   },
   {
    "duration": 17,
    "start_time": "2021-12-26T14:27:02.077Z"
   },
   {
    "duration": 12,
    "start_time": "2021-12-26T14:27:02.095Z"
   },
   {
    "duration": 26,
    "start_time": "2021-12-26T14:27:02.108Z"
   },
   {
    "duration": 5,
    "start_time": "2021-12-26T14:27:02.136Z"
   },
   {
    "duration": 12,
    "start_time": "2021-12-26T14:27:02.143Z"
   },
   {
    "duration": 14,
    "start_time": "2021-12-26T14:27:02.157Z"
   },
   {
    "duration": 8371,
    "start_time": "2021-12-26T14:27:02.172Z"
   },
   {
    "duration": 5,
    "start_time": "2021-12-26T14:27:10.544Z"
   },
   {
    "duration": 7,
    "start_time": "2021-12-26T14:27:10.550Z"
   },
   {
    "duration": 11,
    "start_time": "2021-12-26T14:27:10.558Z"
   },
   {
    "duration": 12,
    "start_time": "2021-12-26T14:27:10.571Z"
   },
   {
    "duration": 4,
    "start_time": "2021-12-26T14:27:10.585Z"
   },
   {
    "duration": 194,
    "start_time": "2021-12-26T14:27:10.591Z"
   },
   {
    "duration": 174,
    "start_time": "2021-12-26T14:27:10.786Z"
   },
   {
    "duration": 167,
    "start_time": "2021-12-26T14:27:10.962Z"
   },
   {
    "duration": 9,
    "start_time": "2021-12-26T14:27:11.130Z"
   },
   {
    "duration": 2,
    "start_time": "2021-12-26T14:27:11.140Z"
   },
   {
    "duration": 217,
    "start_time": "2021-12-26T14:27:11.144Z"
   },
   {
    "duration": 174,
    "start_time": "2021-12-26T14:27:11.365Z"
   },
   {
    "duration": 5,
    "start_time": "2021-12-26T14:27:11.542Z"
   },
   {
    "duration": 4,
    "start_time": "2021-12-26T14:27:11.549Z"
   },
   {
    "duration": 8,
    "start_time": "2021-12-26T14:27:11.555Z"
   },
   {
    "duration": 196,
    "start_time": "2021-12-26T14:27:11.565Z"
   },
   {
    "duration": 6,
    "start_time": "2021-12-26T14:27:11.763Z"
   },
   {
    "duration": 14,
    "start_time": "2021-12-26T14:27:11.771Z"
   },
   {
    "duration": 12,
    "start_time": "2021-12-26T14:27:11.786Z"
   },
   {
    "duration": 4,
    "start_time": "2021-12-26T14:27:11.800Z"
   },
   {
    "duration": 416,
    "start_time": "2021-12-26T14:27:11.806Z"
   },
   {
    "duration": -110595,
    "start_time": "2021-12-26T14:29:02.819Z"
   },
   {
    "duration": -110599,
    "start_time": "2021-12-26T14:29:02.824Z"
   },
   {
    "duration": -110601,
    "start_time": "2021-12-26T14:29:02.827Z"
   },
   {
    "duration": -110603,
    "start_time": "2021-12-26T14:29:02.830Z"
   },
   {
    "duration": -110604,
    "start_time": "2021-12-26T14:29:02.832Z"
   },
   {
    "duration": -110608,
    "start_time": "2021-12-26T14:29:02.837Z"
   },
   {
    "duration": -110609,
    "start_time": "2021-12-26T14:29:02.839Z"
   },
   {
    "duration": -110611,
    "start_time": "2021-12-26T14:29:02.842Z"
   },
   {
    "duration": -110612,
    "start_time": "2021-12-26T14:29:02.844Z"
   },
   {
    "duration": -110615,
    "start_time": "2021-12-26T14:29:02.848Z"
   },
   {
    "duration": -110619,
    "start_time": "2021-12-26T14:29:02.853Z"
   },
   {
    "duration": -110620,
    "start_time": "2021-12-26T14:29:02.855Z"
   },
   {
    "duration": -110621,
    "start_time": "2021-12-26T14:29:02.857Z"
   },
   {
    "duration": -110622,
    "start_time": "2021-12-26T14:29:02.859Z"
   },
   {
    "duration": -110626,
    "start_time": "2021-12-26T14:29:02.864Z"
   },
   {
    "duration": -110629,
    "start_time": "2021-12-26T14:29:02.867Z"
   },
   {
    "duration": -110631,
    "start_time": "2021-12-26T14:29:02.870Z"
   },
   {
    "duration": -110632,
    "start_time": "2021-12-26T14:29:02.872Z"
   },
   {
    "duration": -110633,
    "start_time": "2021-12-26T14:29:02.874Z"
   },
   {
    "duration": -110637,
    "start_time": "2021-12-26T14:29:02.879Z"
   },
   {
    "duration": -110639,
    "start_time": "2021-12-26T14:29:02.882Z"
   },
   {
    "duration": -110640,
    "start_time": "2021-12-26T14:29:02.884Z"
   },
   {
    "duration": -110641,
    "start_time": "2021-12-26T14:29:02.886Z"
   },
   {
    "duration": -110646,
    "start_time": "2021-12-26T14:29:02.892Z"
   },
   {
    "duration": -110648,
    "start_time": "2021-12-26T14:29:02.894Z"
   },
   {
    "duration": -110649,
    "start_time": "2021-12-26T14:29:02.896Z"
   },
   {
    "duration": -110650,
    "start_time": "2021-12-26T14:29:02.898Z"
   },
   {
    "duration": -110652,
    "start_time": "2021-12-26T14:29:02.901Z"
   },
   {
    "duration": -110656,
    "start_time": "2021-12-26T14:29:02.906Z"
   },
   {
    "duration": 693,
    "start_time": "2021-12-26T14:32:31.707Z"
   },
   {
    "duration": 58,
    "start_time": "2021-12-26T14:32:32.402Z"
   },
   {
    "duration": 14,
    "start_time": "2021-12-26T14:32:32.464Z"
   },
   {
    "duration": 15,
    "start_time": "2021-12-26T14:32:32.480Z"
   },
   {
    "duration": 31,
    "start_time": "2021-12-26T14:32:32.497Z"
   },
   {
    "duration": 9,
    "start_time": "2021-12-26T14:32:32.529Z"
   },
   {
    "duration": 5,
    "start_time": "2021-12-26T14:32:32.540Z"
   },
   {
    "duration": 13,
    "start_time": "2021-12-26T14:32:32.546Z"
   },
   {
    "duration": 6,
    "start_time": "2021-12-26T14:32:32.561Z"
   },
   {
    "duration": 8177,
    "start_time": "2021-12-26T14:32:32.568Z"
   },
   {
    "duration": 3,
    "start_time": "2021-12-26T14:32:40.747Z"
   },
   {
    "duration": 6,
    "start_time": "2021-12-26T14:32:40.752Z"
   },
   {
    "duration": 7,
    "start_time": "2021-12-26T14:32:40.760Z"
   },
   {
    "duration": 8,
    "start_time": "2021-12-26T14:32:40.768Z"
   },
   {
    "duration": 6,
    "start_time": "2021-12-26T14:32:40.778Z"
   },
   {
    "duration": 207,
    "start_time": "2021-12-26T14:32:40.786Z"
   },
   {
    "duration": 176,
    "start_time": "2021-12-26T14:32:40.995Z"
   },
   {
    "duration": 169,
    "start_time": "2021-12-26T14:32:41.173Z"
   },
   {
    "duration": 8,
    "start_time": "2021-12-26T14:32:41.343Z"
   },
   {
    "duration": 4,
    "start_time": "2021-12-26T14:32:41.353Z"
   },
   {
    "duration": 215,
    "start_time": "2021-12-26T14:32:41.358Z"
   },
   {
    "duration": 165,
    "start_time": "2021-12-26T14:32:41.577Z"
   },
   {
    "duration": 5,
    "start_time": "2021-12-26T14:32:41.745Z"
   },
   {
    "duration": 4,
    "start_time": "2021-12-26T14:32:41.752Z"
   },
   {
    "duration": 7,
    "start_time": "2021-12-26T14:32:41.757Z"
   },
   {
    "duration": 184,
    "start_time": "2021-12-26T14:32:41.766Z"
   },
   {
    "duration": 8,
    "start_time": "2021-12-26T14:32:41.952Z"
   },
   {
    "duration": 9,
    "start_time": "2021-12-26T14:32:41.961Z"
   },
   {
    "duration": 12,
    "start_time": "2021-12-26T14:32:41.972Z"
   },
   {
    "duration": 5,
    "start_time": "2021-12-26T14:32:41.985Z"
   },
   {
    "duration": 401,
    "start_time": "2021-12-26T14:32:41.991Z"
   },
   {
    "duration": -110599,
    "start_time": "2021-12-26T14:34:32.993Z"
   },
   {
    "duration": -110604,
    "start_time": "2021-12-26T14:34:32.999Z"
   },
   {
    "duration": -110606,
    "start_time": "2021-12-26T14:34:33.002Z"
   },
   {
    "duration": -110608,
    "start_time": "2021-12-26T14:34:33.005Z"
   },
   {
    "duration": -110609,
    "start_time": "2021-12-26T14:34:33.007Z"
   },
   {
    "duration": -110614,
    "start_time": "2021-12-26T14:34:33.013Z"
   },
   {
    "duration": -110615,
    "start_time": "2021-12-26T14:34:33.015Z"
   },
   {
    "duration": -110618,
    "start_time": "2021-12-26T14:34:33.019Z"
   },
   {
    "duration": -110622,
    "start_time": "2021-12-26T14:34:33.025Z"
   },
   {
    "duration": -110623,
    "start_time": "2021-12-26T14:34:33.027Z"
   },
   {
    "duration": -110624,
    "start_time": "2021-12-26T14:34:33.030Z"
   },
   {
    "duration": -110626,
    "start_time": "2021-12-26T14:34:33.033Z"
   },
   {
    "duration": -110629,
    "start_time": "2021-12-26T14:34:33.038Z"
   },
   {
    "duration": -110630,
    "start_time": "2021-12-26T14:34:33.040Z"
   },
   {
    "duration": -110632,
    "start_time": "2021-12-26T14:34:33.043Z"
   },
   {
    "duration": -110633,
    "start_time": "2021-12-26T14:34:33.046Z"
   },
   {
    "duration": -110637,
    "start_time": "2021-12-26T14:34:33.051Z"
   },
   {
    "duration": -110639,
    "start_time": "2021-12-26T14:34:33.054Z"
   },
   {
    "duration": -110641,
    "start_time": "2021-12-26T14:34:33.057Z"
   },
   {
    "duration": -110642,
    "start_time": "2021-12-26T14:34:33.059Z"
   },
   {
    "duration": -110646,
    "start_time": "2021-12-26T14:34:33.064Z"
   },
   {
    "duration": -110648,
    "start_time": "2021-12-26T14:34:33.067Z"
   },
   {
    "duration": -110650,
    "start_time": "2021-12-26T14:34:33.070Z"
   },
   {
    "duration": -110651,
    "start_time": "2021-12-26T14:34:33.072Z"
   },
   {
    "duration": -110655,
    "start_time": "2021-12-26T14:34:33.077Z"
   },
   {
    "duration": -110657,
    "start_time": "2021-12-26T14:34:33.080Z"
   },
   {
    "duration": -110657,
    "start_time": "2021-12-26T14:34:33.082Z"
   },
   {
    "duration": -110659,
    "start_time": "2021-12-26T14:34:33.085Z"
   },
   {
    "duration": -110663,
    "start_time": "2021-12-26T14:34:33.090Z"
   },
   {
    "duration": 5,
    "start_time": "2021-12-26T14:33:04.995Z"
   },
   {
    "duration": 5,
    "start_time": "2021-12-26T14:33:10.464Z"
   },
   {
    "duration": 12,
    "start_time": "2021-12-26T14:33:27.440Z"
   },
   {
    "duration": 708,
    "start_time": "2021-12-26T14:35:02.603Z"
   },
   {
    "duration": 57,
    "start_time": "2021-12-26T14:35:03.312Z"
   },
   {
    "duration": 13,
    "start_time": "2021-12-26T14:35:03.373Z"
   },
   {
    "duration": 17,
    "start_time": "2021-12-26T14:35:03.387Z"
   },
   {
    "duration": 30,
    "start_time": "2021-12-26T14:35:03.405Z"
   },
   {
    "duration": 8,
    "start_time": "2021-12-26T14:35:03.437Z"
   },
   {
    "duration": 4,
    "start_time": "2021-12-26T14:35:03.447Z"
   },
   {
    "duration": 11,
    "start_time": "2021-12-26T14:35:03.454Z"
   },
   {
    "duration": 5,
    "start_time": "2021-12-26T14:35:03.467Z"
   },
   {
    "duration": 14735,
    "start_time": "2021-12-26T14:35:03.473Z"
   },
   {
    "duration": 18,
    "start_time": "2021-12-26T14:35:18.209Z"
   },
   {
    "duration": 6,
    "start_time": "2021-12-26T14:35:18.229Z"
   },
   {
    "duration": 9,
    "start_time": "2021-12-26T14:35:18.236Z"
   },
   {
    "duration": 7,
    "start_time": "2021-12-26T14:35:18.246Z"
   },
   {
    "duration": 5,
    "start_time": "2021-12-26T14:35:18.254Z"
   },
   {
    "duration": 191,
    "start_time": "2021-12-26T14:35:18.260Z"
   },
   {
    "duration": 172,
    "start_time": "2021-12-26T14:35:18.452Z"
   },
   {
    "duration": 162,
    "start_time": "2021-12-26T14:35:18.627Z"
   },
   {
    "duration": 9,
    "start_time": "2021-12-26T14:35:18.790Z"
   },
   {
    "duration": 2,
    "start_time": "2021-12-26T14:35:18.800Z"
   },
   {
    "duration": 210,
    "start_time": "2021-12-26T14:35:18.804Z"
   },
   {
    "duration": 168,
    "start_time": "2021-12-26T14:35:19.017Z"
   },
   {
    "duration": 5,
    "start_time": "2021-12-26T14:35:19.187Z"
   },
   {
    "duration": 7,
    "start_time": "2021-12-26T14:35:19.193Z"
   },
   {
    "duration": 9,
    "start_time": "2021-12-26T14:35:19.201Z"
   },
   {
    "duration": 169,
    "start_time": "2021-12-26T14:35:19.227Z"
   },
   {
    "duration": 6,
    "start_time": "2021-12-26T14:35:19.398Z"
   },
   {
    "duration": 6,
    "start_time": "2021-12-26T14:35:19.406Z"
   },
   {
    "duration": 22,
    "start_time": "2021-12-26T14:35:19.414Z"
   },
   {
    "duration": 3,
    "start_time": "2021-12-26T14:35:19.438Z"
   },
   {
    "duration": 401,
    "start_time": "2021-12-26T14:35:19.443Z"
   },
   {
    "duration": -110598,
    "start_time": "2021-12-26T14:37:10.444Z"
   },
   {
    "duration": -110603,
    "start_time": "2021-12-26T14:37:10.450Z"
   },
   {
    "duration": -110604,
    "start_time": "2021-12-26T14:37:10.453Z"
   },
   {
    "duration": -110606,
    "start_time": "2021-12-26T14:37:10.456Z"
   },
   {
    "duration": -110611,
    "start_time": "2021-12-26T14:37:10.462Z"
   },
   {
    "duration": -110612,
    "start_time": "2021-12-26T14:37:10.465Z"
   },
   {
    "duration": -110613,
    "start_time": "2021-12-26T14:37:10.467Z"
   },
   {
    "duration": -110615,
    "start_time": "2021-12-26T14:37:10.470Z"
   },
   {
    "duration": -110619,
    "start_time": "2021-12-26T14:37:10.476Z"
   },
   {
    "duration": -110621,
    "start_time": "2021-12-26T14:37:10.479Z"
   },
   {
    "duration": -110623,
    "start_time": "2021-12-26T14:37:10.482Z"
   },
   {
    "duration": -110624,
    "start_time": "2021-12-26T14:37:10.485Z"
   },
   {
    "duration": -110628,
    "start_time": "2021-12-26T14:37:10.490Z"
   },
   {
    "duration": -110630,
    "start_time": "2021-12-26T14:37:10.493Z"
   },
   {
    "duration": -110630,
    "start_time": "2021-12-26T14:37:10.495Z"
   },
   {
    "duration": -110636,
    "start_time": "2021-12-26T14:37:10.502Z"
   },
   {
    "duration": -110638,
    "start_time": "2021-12-26T14:37:10.505Z"
   },
   {
    "duration": -110638,
    "start_time": "2021-12-26T14:37:10.507Z"
   },
   {
    "duration": -110640,
    "start_time": "2021-12-26T14:37:10.510Z"
   },
   {
    "duration": -110645,
    "start_time": "2021-12-26T14:37:10.516Z"
   },
   {
    "duration": -110646,
    "start_time": "2021-12-26T14:37:10.519Z"
   },
   {
    "duration": -110648,
    "start_time": "2021-12-26T14:37:10.522Z"
   },
   {
    "duration": -110649,
    "start_time": "2021-12-26T14:37:10.525Z"
   },
   {
    "duration": -110654,
    "start_time": "2021-12-26T14:37:10.531Z"
   },
   {
    "duration": -110655,
    "start_time": "2021-12-26T14:37:10.533Z"
   },
   {
    "duration": -110657,
    "start_time": "2021-12-26T14:37:10.536Z"
   },
   {
    "duration": -110662,
    "start_time": "2021-12-26T14:37:10.543Z"
   },
   {
    "duration": -110666,
    "start_time": "2021-12-26T14:37:10.547Z"
   },
   {
    "duration": -110668,
    "start_time": "2021-12-26T14:37:10.550Z"
   },
   {
    "duration": 6,
    "start_time": "2021-12-26T14:39:43.722Z"
   },
   {
    "duration": 5,
    "start_time": "2021-12-26T14:39:55.554Z"
   },
   {
    "duration": 667,
    "start_time": "2021-12-26T14:40:42.652Z"
   },
   {
    "duration": 58,
    "start_time": "2021-12-26T14:40:43.321Z"
   },
   {
    "duration": 12,
    "start_time": "2021-12-26T14:40:43.381Z"
   },
   {
    "duration": 17,
    "start_time": "2021-12-26T14:40:43.395Z"
   },
   {
    "duration": 26,
    "start_time": "2021-12-26T14:40:43.413Z"
   },
   {
    "duration": 9,
    "start_time": "2021-12-26T14:40:43.440Z"
   },
   {
    "duration": 4,
    "start_time": "2021-12-26T14:40:43.451Z"
   },
   {
    "duration": 11,
    "start_time": "2021-12-26T14:40:43.457Z"
   },
   {
    "duration": 8,
    "start_time": "2021-12-26T14:40:43.470Z"
   },
   {
    "duration": 7,
    "start_time": "2021-12-26T14:40:43.479Z"
   },
   {
    "duration": 4,
    "start_time": "2021-12-26T14:40:43.487Z"
   },
   {
    "duration": 10565,
    "start_time": "2021-12-26T14:40:43.527Z"
   },
   {
    "duration": 4,
    "start_time": "2021-12-26T14:40:54.093Z"
   },
   {
    "duration": 12,
    "start_time": "2021-12-26T14:40:54.099Z"
   },
   {
    "duration": 18,
    "start_time": "2021-12-26T14:40:54.113Z"
   },
   {
    "duration": 176,
    "start_time": "2021-12-26T14:40:54.132Z"
   },
   {
    "duration": 164,
    "start_time": "2021-12-26T14:40:54.309Z"
   },
   {
    "duration": 165,
    "start_time": "2021-12-26T14:40:54.474Z"
   },
   {
    "duration": 8,
    "start_time": "2021-12-26T14:40:54.641Z"
   },
   {
    "duration": 5,
    "start_time": "2021-12-26T14:40:54.651Z"
   },
   {
    "duration": 209,
    "start_time": "2021-12-26T14:40:54.658Z"
   },
   {
    "duration": 160,
    "start_time": "2021-12-26T14:40:54.868Z"
   },
   {
    "duration": 4,
    "start_time": "2021-12-26T14:40:55.032Z"
   },
   {
    "duration": 5,
    "start_time": "2021-12-26T14:40:55.038Z"
   },
   {
    "duration": 7,
    "start_time": "2021-12-26T14:40:55.044Z"
   },
   {
    "duration": 180,
    "start_time": "2021-12-26T14:40:55.052Z"
   },
   {
    "duration": 6,
    "start_time": "2021-12-26T14:40:55.233Z"
   },
   {
    "duration": 18,
    "start_time": "2021-12-26T14:40:55.241Z"
   },
   {
    "duration": 15,
    "start_time": "2021-12-26T14:40:55.261Z"
   },
   {
    "duration": 11,
    "start_time": "2021-12-26T14:40:55.277Z"
   },
   {
    "duration": 8,
    "start_time": "2021-12-26T14:40:55.289Z"
   },
   {
    "duration": 33,
    "start_time": "2021-12-26T14:40:55.298Z"
   },
   {
    "duration": 6,
    "start_time": "2021-12-26T14:40:55.332Z"
   },
   {
    "duration": 27,
    "start_time": "2021-12-26T14:40:55.339Z"
   },
   {
    "duration": 12,
    "start_time": "2021-12-26T14:40:55.368Z"
   },
   {
    "duration": 7,
    "start_time": "2021-12-26T14:40:55.381Z"
   },
   {
    "duration": 5,
    "start_time": "2021-12-26T14:40:55.389Z"
   },
   {
    "duration": 4,
    "start_time": "2021-12-26T14:40:55.396Z"
   },
   {
    "duration": 12,
    "start_time": "2021-12-26T14:40:55.402Z"
   },
   {
    "duration": 29,
    "start_time": "2021-12-26T14:40:55.415Z"
   },
   {
    "duration": 11,
    "start_time": "2021-12-26T14:40:55.446Z"
   },
   {
    "duration": 4,
    "start_time": "2021-12-26T14:40:55.459Z"
   },
   {
    "duration": 622,
    "start_time": "2021-12-26T14:40:55.464Z"
   },
   {
    "duration": 2,
    "start_time": "2021-12-26T14:40:56.088Z"
   },
   {
    "duration": 53,
    "start_time": "2021-12-26T14:40:56.092Z"
   },
   {
    "duration": 167,
    "start_time": "2021-12-26T14:40:56.147Z"
   },
   {
    "duration": 5,
    "start_time": "2021-12-26T14:40:56.315Z"
   },
   {
    "duration": 4,
    "start_time": "2021-12-26T14:40:56.327Z"
   },
   {
    "duration": 23,
    "start_time": "2021-12-26T14:40:56.333Z"
   },
   {
    "duration": 4,
    "start_time": "2021-12-26T14:40:56.358Z"
   },
   {
    "duration": 63,
    "start_time": "2021-12-26T14:40:56.364Z"
   },
   {
    "duration": 15,
    "start_time": "2021-12-26T14:40:56.428Z"
   },
   {
    "duration": 19,
    "start_time": "2021-12-26T14:40:56.444Z"
   },
   {
    "duration": 10,
    "start_time": "2021-12-26T14:40:56.465Z"
   },
   {
    "duration": 186,
    "start_time": "2021-12-26T14:40:56.477Z"
   },
   {
    "duration": 6,
    "start_time": "2021-12-26T14:40:56.664Z"
   },
   {
    "duration": 139,
    "start_time": "2021-12-26T14:40:56.672Z"
   },
   {
    "duration": 318,
    "start_time": "2021-12-26T14:40:56.812Z"
   },
   {
    "duration": 838,
    "start_time": "2021-12-26T14:40:57.132Z"
   },
   {
    "duration": -110594,
    "start_time": "2021-12-26T14:42:48.566Z"
   },
   {
    "duration": 656,
    "start_time": "2021-12-26T14:41:51.407Z"
   },
   {
    "duration": 59,
    "start_time": "2021-12-26T14:41:52.064Z"
   },
   {
    "duration": 14,
    "start_time": "2021-12-26T14:41:52.125Z"
   },
   {
    "duration": 17,
    "start_time": "2021-12-26T14:41:52.141Z"
   },
   {
    "duration": 13,
    "start_time": "2021-12-26T14:41:52.159Z"
   },
   {
    "duration": 10,
    "start_time": "2021-12-26T14:41:52.174Z"
   },
   {
    "duration": 5,
    "start_time": "2021-12-26T14:41:52.185Z"
   },
   {
    "duration": 12,
    "start_time": "2021-12-26T14:41:52.229Z"
   },
   {
    "duration": 6,
    "start_time": "2021-12-26T14:41:52.243Z"
   },
   {
    "duration": 8,
    "start_time": "2021-12-26T14:41:52.251Z"
   },
   {
    "duration": 4,
    "start_time": "2021-12-26T14:41:52.260Z"
   },
   {
    "duration": 10742,
    "start_time": "2021-12-26T14:41:52.266Z"
   },
   {
    "duration": 5,
    "start_time": "2021-12-26T14:42:03.010Z"
   },
   {
    "duration": 7,
    "start_time": "2021-12-26T14:42:03.028Z"
   },
   {
    "duration": 6,
    "start_time": "2021-12-26T14:42:03.037Z"
   },
   {
    "duration": 209,
    "start_time": "2021-12-26T14:42:03.045Z"
   },
   {
    "duration": 172,
    "start_time": "2021-12-26T14:42:03.256Z"
   },
   {
    "duration": 165,
    "start_time": "2021-12-26T14:42:03.430Z"
   },
   {
    "duration": 8,
    "start_time": "2021-12-26T14:42:03.596Z"
   },
   {
    "duration": 1,
    "start_time": "2021-12-26T14:42:03.606Z"
   },
   {
    "duration": 210,
    "start_time": "2021-12-26T14:42:03.609Z"
   },
   {
    "duration": 177,
    "start_time": "2021-12-26T14:42:03.821Z"
   },
   {
    "duration": 4,
    "start_time": "2021-12-26T14:42:04.002Z"
   },
   {
    "duration": 4,
    "start_time": "2021-12-26T14:42:04.008Z"
   },
   {
    "duration": 16,
    "start_time": "2021-12-26T14:42:04.013Z"
   },
   {
    "duration": 173,
    "start_time": "2021-12-26T14:42:04.030Z"
   },
   {
    "duration": 7,
    "start_time": "2021-12-26T14:42:04.204Z"
   },
   {
    "duration": 16,
    "start_time": "2021-12-26T14:42:04.213Z"
   },
   {
    "duration": 11,
    "start_time": "2021-12-26T14:42:04.231Z"
   },
   {
    "duration": 5,
    "start_time": "2021-12-26T14:42:04.243Z"
   },
   {
    "duration": 5,
    "start_time": "2021-12-26T14:42:04.249Z"
   },
   {
    "duration": 28,
    "start_time": "2021-12-26T14:42:04.256Z"
   },
   {
    "duration": 6,
    "start_time": "2021-12-26T14:42:04.285Z"
   },
   {
    "duration": 38,
    "start_time": "2021-12-26T14:42:04.293Z"
   },
   {
    "duration": 6,
    "start_time": "2021-12-26T14:42:04.332Z"
   },
   {
    "duration": 5,
    "start_time": "2021-12-26T14:42:04.340Z"
   },
   {
    "duration": 5,
    "start_time": "2021-12-26T14:42:04.347Z"
   },
   {
    "duration": 6,
    "start_time": "2021-12-26T14:42:04.354Z"
   },
   {
    "duration": 13,
    "start_time": "2021-12-26T14:42:04.362Z"
   },
   {
    "duration": 51,
    "start_time": "2021-12-26T14:42:04.377Z"
   },
   {
    "duration": 14,
    "start_time": "2021-12-26T14:42:04.430Z"
   },
   {
    "duration": 6,
    "start_time": "2021-12-26T14:42:04.445Z"
   },
   {
    "duration": 632,
    "start_time": "2021-12-26T14:42:04.453Z"
   },
   {
    "duration": 3,
    "start_time": "2021-12-26T14:42:05.088Z"
   },
   {
    "duration": 60,
    "start_time": "2021-12-26T14:42:05.093Z"
   },
   {
    "duration": 175,
    "start_time": "2021-12-26T14:42:05.155Z"
   },
   {
    "duration": 5,
    "start_time": "2021-12-26T14:42:05.332Z"
   },
   {
    "duration": 9,
    "start_time": "2021-12-26T14:42:05.339Z"
   },
   {
    "duration": 10,
    "start_time": "2021-12-26T14:42:05.350Z"
   },
   {
    "duration": 14,
    "start_time": "2021-12-26T14:42:05.361Z"
   },
   {
    "duration": 86,
    "start_time": "2021-12-26T14:42:05.376Z"
   },
   {
    "duration": 14,
    "start_time": "2021-12-26T14:42:05.464Z"
   },
   {
    "duration": 21,
    "start_time": "2021-12-26T14:42:05.479Z"
   },
   {
    "duration": 27,
    "start_time": "2021-12-26T14:42:05.502Z"
   },
   {
    "duration": 179,
    "start_time": "2021-12-26T14:42:05.530Z"
   },
   {
    "duration": 7,
    "start_time": "2021-12-26T14:42:05.710Z"
   },
   {
    "duration": 138,
    "start_time": "2021-12-26T14:42:05.727Z"
   },
   {
    "duration": 316,
    "start_time": "2021-12-26T14:42:05.867Z"
   },
   {
    "duration": 395,
    "start_time": "2021-12-26T14:42:06.185Z"
   },
   {
    "duration": -110599,
    "start_time": "2021-12-26T14:43:57.181Z"
   },
   {
    "duration": 672,
    "start_time": "2021-12-26T14:43:59.355Z"
   },
   {
    "duration": 59,
    "start_time": "2021-12-26T14:44:00.029Z"
   },
   {
    "duration": 13,
    "start_time": "2021-12-26T14:44:00.090Z"
   },
   {
    "duration": 26,
    "start_time": "2021-12-26T14:44:00.105Z"
   },
   {
    "duration": 12,
    "start_time": "2021-12-26T14:44:00.133Z"
   },
   {
    "duration": 13,
    "start_time": "2021-12-26T14:44:00.147Z"
   },
   {
    "duration": 13,
    "start_time": "2021-12-26T14:44:00.161Z"
   },
   {
    "duration": 20,
    "start_time": "2021-12-26T14:44:00.176Z"
   },
   {
    "duration": 8,
    "start_time": "2021-12-26T14:44:00.198Z"
   },
   {
    "duration": 8,
    "start_time": "2021-12-26T14:44:00.208Z"
   },
   {
    "duration": 11,
    "start_time": "2021-12-26T14:44:00.218Z"
   },
   {
    "duration": 10588,
    "start_time": "2021-12-26T14:44:00.231Z"
   },
   {
    "duration": 9,
    "start_time": "2021-12-26T14:44:10.820Z"
   },
   {
    "duration": 20,
    "start_time": "2021-12-26T14:44:10.830Z"
   },
   {
    "duration": 13,
    "start_time": "2021-12-26T14:44:10.851Z"
   },
   {
    "duration": 177,
    "start_time": "2021-12-26T14:44:10.866Z"
   },
   {
    "duration": 174,
    "start_time": "2021-12-26T14:44:11.044Z"
   },
   {
    "duration": 162,
    "start_time": "2021-12-26T14:44:11.220Z"
   },
   {
    "duration": 8,
    "start_time": "2021-12-26T14:44:11.383Z"
   },
   {
    "duration": 2,
    "start_time": "2021-12-26T14:44:11.393Z"
   },
   {
    "duration": 212,
    "start_time": "2021-12-26T14:44:11.397Z"
   },
   {
    "duration": 160,
    "start_time": "2021-12-26T14:44:11.610Z"
   },
   {
    "duration": 5,
    "start_time": "2021-12-26T14:44:11.773Z"
   },
   {
    "duration": 3,
    "start_time": "2021-12-26T14:44:11.779Z"
   },
   {
    "duration": 6,
    "start_time": "2021-12-26T14:44:11.784Z"
   },
   {
    "duration": 177,
    "start_time": "2021-12-26T14:44:11.791Z"
   },
   {
    "duration": 6,
    "start_time": "2021-12-26T14:44:11.970Z"
   },
   {
    "duration": 7,
    "start_time": "2021-12-26T14:44:11.978Z"
   },
   {
    "duration": 12,
    "start_time": "2021-12-26T14:44:11.987Z"
   },
   {
    "duration": 4,
    "start_time": "2021-12-26T14:44:12.000Z"
   },
   {
    "duration": 24,
    "start_time": "2021-12-26T14:44:12.006Z"
   },
   {
    "duration": 29,
    "start_time": "2021-12-26T14:44:12.031Z"
   },
   {
    "duration": 5,
    "start_time": "2021-12-26T14:44:12.061Z"
   },
   {
    "duration": 9,
    "start_time": "2021-12-26T14:44:12.068Z"
   },
   {
    "duration": 6,
    "start_time": "2021-12-26T14:44:12.078Z"
   },
   {
    "duration": 5,
    "start_time": "2021-12-26T14:44:12.085Z"
   },
   {
    "duration": 36,
    "start_time": "2021-12-26T14:44:12.091Z"
   },
   {
    "duration": 5,
    "start_time": "2021-12-26T14:44:12.128Z"
   },
   {
    "duration": 11,
    "start_time": "2021-12-26T14:44:12.134Z"
   },
   {
    "duration": 21,
    "start_time": "2021-12-26T14:44:12.146Z"
   },
   {
    "duration": 13,
    "start_time": "2021-12-26T14:44:12.168Z"
   },
   {
    "duration": 6,
    "start_time": "2021-12-26T14:44:12.183Z"
   },
   {
    "duration": 645,
    "start_time": "2021-12-26T14:44:12.191Z"
   },
   {
    "duration": 3,
    "start_time": "2021-12-26T14:44:12.839Z"
   },
   {
    "duration": 43,
    "start_time": "2021-12-26T14:44:12.843Z"
   },
   {
    "duration": 189,
    "start_time": "2021-12-26T14:44:12.888Z"
   },
   {
    "duration": 4,
    "start_time": "2021-12-26T14:44:13.079Z"
   },
   {
    "duration": 6,
    "start_time": "2021-12-26T14:44:13.085Z"
   },
   {
    "duration": 7,
    "start_time": "2021-12-26T14:44:13.093Z"
   },
   {
    "duration": 4,
    "start_time": "2021-12-26T14:44:13.102Z"
   },
   {
    "duration": 69,
    "start_time": "2021-12-26T14:44:13.108Z"
   },
   {
    "duration": 14,
    "start_time": "2021-12-26T14:44:13.179Z"
   },
   {
    "duration": 41,
    "start_time": "2021-12-26T14:44:13.195Z"
   },
   {
    "duration": 10,
    "start_time": "2021-12-26T14:44:13.237Z"
   },
   {
    "duration": 180,
    "start_time": "2021-12-26T14:44:13.249Z"
   },
   {
    "duration": 7,
    "start_time": "2021-12-26T14:44:13.430Z"
   },
   {
    "duration": 141,
    "start_time": "2021-12-26T14:44:13.438Z"
   },
   {
    "duration": 305,
    "start_time": "2021-12-26T14:44:13.581Z"
   },
   {
    "duration": 443,
    "start_time": "2021-12-26T14:44:13.887Z"
   },
   {
    "duration": -110603,
    "start_time": "2021-12-26T14:46:04.934Z"
   },
   {
    "duration": 657,
    "start_time": "2021-12-26T14:44:36.734Z"
   },
   {
    "duration": 56,
    "start_time": "2021-12-26T14:44:37.393Z"
   },
   {
    "duration": 13,
    "start_time": "2021-12-26T14:44:37.450Z"
   },
   {
    "duration": 18,
    "start_time": "2021-12-26T14:44:37.464Z"
   },
   {
    "duration": 12,
    "start_time": "2021-12-26T14:44:37.483Z"
   },
   {
    "duration": 8,
    "start_time": "2021-12-26T14:44:37.497Z"
   },
   {
    "duration": 5,
    "start_time": "2021-12-26T14:44:37.527Z"
   },
   {
    "duration": 13,
    "start_time": "2021-12-26T14:44:37.534Z"
   },
   {
    "duration": 6,
    "start_time": "2021-12-26T14:44:37.549Z"
   },
   {
    "duration": 7,
    "start_time": "2021-12-26T14:44:37.556Z"
   },
   {
    "duration": 5,
    "start_time": "2021-12-26T14:44:37.565Z"
   },
   {
    "duration": 6112,
    "start_time": "2021-12-26T14:44:37.572Z"
   },
   {
    "duration": 4,
    "start_time": "2021-12-26T14:44:43.685Z"
   },
   {
    "duration": 11,
    "start_time": "2021-12-26T14:44:43.690Z"
   },
   {
    "duration": 5,
    "start_time": "2021-12-26T14:44:43.703Z"
   },
   {
    "duration": 186,
    "start_time": "2021-12-26T14:44:43.709Z"
   },
   {
    "duration": 171,
    "start_time": "2021-12-26T14:44:43.897Z"
   },
   {
    "duration": 193,
    "start_time": "2021-12-26T14:44:44.070Z"
   },
   {
    "duration": 10,
    "start_time": "2021-12-26T14:44:44.265Z"
   },
   {
    "duration": 2,
    "start_time": "2021-12-26T14:44:44.277Z"
   },
   {
    "duration": 226,
    "start_time": "2021-12-26T14:44:44.281Z"
   },
   {
    "duration": 168,
    "start_time": "2021-12-26T14:44:44.509Z"
   },
   {
    "duration": 5,
    "start_time": "2021-12-26T14:44:44.681Z"
   },
   {
    "duration": 3,
    "start_time": "2021-12-26T14:44:44.688Z"
   },
   {
    "duration": 9,
    "start_time": "2021-12-26T14:44:44.692Z"
   },
   {
    "duration": 183,
    "start_time": "2021-12-26T14:44:44.702Z"
   },
   {
    "duration": 8,
    "start_time": "2021-12-26T14:44:44.886Z"
   },
   {
    "duration": 9,
    "start_time": "2021-12-26T14:44:44.895Z"
   },
   {
    "duration": 26,
    "start_time": "2021-12-26T14:44:44.905Z"
   },
   {
    "duration": 4,
    "start_time": "2021-12-26T14:44:44.932Z"
   },
   {
    "duration": 397,
    "start_time": "2021-12-26T14:44:44.938Z"
   },
   {
    "duration": -110606,
    "start_time": "2021-12-26T14:46:35.944Z"
   },
   {
    "duration": -110609,
    "start_time": "2021-12-26T14:46:35.948Z"
   },
   {
    "duration": -110611,
    "start_time": "2021-12-26T14:46:35.951Z"
   },
   {
    "duration": -110612,
    "start_time": "2021-12-26T14:46:35.954Z"
   },
   {
    "duration": -110617,
    "start_time": "2021-12-26T14:46:35.960Z"
   },
   {
    "duration": -110619,
    "start_time": "2021-12-26T14:46:35.964Z"
   },
   {
    "duration": -110621,
    "start_time": "2021-12-26T14:46:35.967Z"
   },
   {
    "duration": -110625,
    "start_time": "2021-12-26T14:46:35.972Z"
   },
   {
    "duration": -110626,
    "start_time": "2021-12-26T14:46:35.975Z"
   },
   {
    "duration": -110629,
    "start_time": "2021-12-26T14:46:35.979Z"
   },
   {
    "duration": -110632,
    "start_time": "2021-12-26T14:46:35.984Z"
   },
   {
    "duration": -110634,
    "start_time": "2021-12-26T14:46:35.987Z"
   },
   {
    "duration": -110636,
    "start_time": "2021-12-26T14:46:35.990Z"
   },
   {
    "duration": -110637,
    "start_time": "2021-12-26T14:46:35.993Z"
   },
   {
    "duration": -110642,
    "start_time": "2021-12-26T14:46:35.999Z"
   },
   {
    "duration": -110643,
    "start_time": "2021-12-26T14:46:36.002Z"
   },
   {
    "duration": -110645,
    "start_time": "2021-12-26T14:46:36.005Z"
   },
   {
    "duration": -110650,
    "start_time": "2021-12-26T14:46:36.011Z"
   },
   {
    "duration": -110651,
    "start_time": "2021-12-26T14:46:36.014Z"
   },
   {
    "duration": -110653,
    "start_time": "2021-12-26T14:46:36.017Z"
   },
   {
    "duration": -110655,
    "start_time": "2021-12-26T14:46:36.020Z"
   },
   {
    "duration": -110659,
    "start_time": "2021-12-26T14:46:36.026Z"
   },
   {
    "duration": -110662,
    "start_time": "2021-12-26T14:46:36.030Z"
   },
   {
    "duration": -110662,
    "start_time": "2021-12-26T14:46:36.032Z"
   },
   {
    "duration": -110667,
    "start_time": "2021-12-26T14:46:36.038Z"
   },
   {
    "duration": -110668,
    "start_time": "2021-12-26T14:46:36.041Z"
   },
   {
    "duration": -110670,
    "start_time": "2021-12-26T14:46:36.044Z"
   },
   {
    "duration": -110672,
    "start_time": "2021-12-26T14:46:36.047Z"
   },
   {
    "duration": -110625,
    "start_time": "2021-12-26T14:46:36.053Z"
   },
   {
    "duration": 686,
    "start_time": "2021-12-26T14:45:00.408Z"
   },
   {
    "duration": 57,
    "start_time": "2021-12-26T14:45:01.096Z"
   },
   {
    "duration": 13,
    "start_time": "2021-12-26T14:45:01.158Z"
   },
   {
    "duration": 20,
    "start_time": "2021-12-26T14:45:01.173Z"
   },
   {
    "duration": 12,
    "start_time": "2021-12-26T14:45:01.195Z"
   },
   {
    "duration": 23,
    "start_time": "2021-12-26T14:45:01.208Z"
   },
   {
    "duration": 6,
    "start_time": "2021-12-26T14:45:01.234Z"
   },
   {
    "duration": 18,
    "start_time": "2021-12-26T14:45:01.242Z"
   },
   {
    "duration": 7,
    "start_time": "2021-12-26T14:45:01.261Z"
   },
   {
    "duration": 19,
    "start_time": "2021-12-26T14:45:01.270Z"
   },
   {
    "duration": 8,
    "start_time": "2021-12-26T14:45:01.291Z"
   },
   {
    "duration": 10762,
    "start_time": "2021-12-26T14:45:01.300Z"
   },
   {
    "duration": 4,
    "start_time": "2021-12-26T14:45:12.063Z"
   },
   {
    "duration": 9,
    "start_time": "2021-12-26T14:45:12.069Z"
   },
   {
    "duration": 6,
    "start_time": "2021-12-26T14:45:12.080Z"
   },
   {
    "duration": 193,
    "start_time": "2021-12-26T14:45:12.088Z"
   },
   {
    "duration": 170,
    "start_time": "2021-12-26T14:45:12.283Z"
   },
   {
    "duration": 161,
    "start_time": "2021-12-26T14:45:12.454Z"
   },
   {
    "duration": 16,
    "start_time": "2021-12-26T14:45:12.616Z"
   },
   {
    "duration": 2,
    "start_time": "2021-12-26T14:45:12.633Z"
   },
   {
    "duration": 207,
    "start_time": "2021-12-26T14:45:12.637Z"
   },
   {
    "duration": 171,
    "start_time": "2021-12-26T14:45:12.848Z"
   },
   {
    "duration": 9,
    "start_time": "2021-12-26T14:45:13.022Z"
   },
   {
    "duration": 2,
    "start_time": "2021-12-26T14:45:13.033Z"
   },
   {
    "duration": 9,
    "start_time": "2021-12-26T14:45:13.037Z"
   },
   {
    "duration": 183,
    "start_time": "2021-12-26T14:45:13.048Z"
   },
   {
    "duration": 8,
    "start_time": "2021-12-26T14:45:13.233Z"
   },
   {
    "duration": 8,
    "start_time": "2021-12-26T14:45:13.242Z"
   },
   {
    "duration": 11,
    "start_time": "2021-12-26T14:45:13.252Z"
   },
   {
    "duration": 4,
    "start_time": "2021-12-26T14:45:13.265Z"
   },
   {
    "duration": 391,
    "start_time": "2021-12-26T14:45:13.271Z"
   },
   {
    "duration": -110610,
    "start_time": "2021-12-26T14:47:04.274Z"
   },
   {
    "duration": -110612,
    "start_time": "2021-12-26T14:47:04.278Z"
   },
   {
    "duration": -110614,
    "start_time": "2021-12-26T14:47:04.281Z"
   },
   {
    "duration": -110618,
    "start_time": "2021-12-26T14:47:04.286Z"
   },
   {
    "duration": -110620,
    "start_time": "2021-12-26T14:47:04.289Z"
   },
   {
    "duration": -110621,
    "start_time": "2021-12-26T14:47:04.292Z"
   },
   {
    "duration": -110626,
    "start_time": "2021-12-26T14:47:04.298Z"
   },
   {
    "duration": -110628,
    "start_time": "2021-12-26T14:47:04.301Z"
   },
   {
    "duration": -110630,
    "start_time": "2021-12-26T14:47:04.304Z"
   },
   {
    "duration": -110631,
    "start_time": "2021-12-26T14:47:04.307Z"
   },
   {
    "duration": -110636,
    "start_time": "2021-12-26T14:47:04.313Z"
   },
   {
    "duration": -110638,
    "start_time": "2021-12-26T14:47:04.316Z"
   },
   {
    "duration": -110640,
    "start_time": "2021-12-26T14:47:04.319Z"
   },
   {
    "duration": -110644,
    "start_time": "2021-12-26T14:47:04.325Z"
   },
   {
    "duration": -110647,
    "start_time": "2021-12-26T14:47:04.329Z"
   },
   {
    "duration": -110648,
    "start_time": "2021-12-26T14:47:04.331Z"
   },
   {
    "duration": -110651,
    "start_time": "2021-12-26T14:47:04.335Z"
   },
   {
    "duration": -110654,
    "start_time": "2021-12-26T14:47:04.340Z"
   },
   {
    "duration": -110656,
    "start_time": "2021-12-26T14:47:04.343Z"
   },
   {
    "duration": -110658,
    "start_time": "2021-12-26T14:47:04.346Z"
   },
   {
    "duration": -110663,
    "start_time": "2021-12-26T14:47:04.352Z"
   },
   {
    "duration": -110665,
    "start_time": "2021-12-26T14:47:04.356Z"
   },
   {
    "duration": -110667,
    "start_time": "2021-12-26T14:47:04.359Z"
   },
   {
    "duration": -110669,
    "start_time": "2021-12-26T14:47:04.362Z"
   },
   {
    "duration": -110673,
    "start_time": "2021-12-26T14:47:04.367Z"
   },
   {
    "duration": -110674,
    "start_time": "2021-12-26T14:47:04.370Z"
   },
   {
    "duration": -110675,
    "start_time": "2021-12-26T14:47:04.373Z"
   },
   {
    "duration": -110679,
    "start_time": "2021-12-26T14:47:04.379Z"
   },
   {
    "duration": -110681,
    "start_time": "2021-12-26T14:47:04.382Z"
   },
   {
    "duration": 724,
    "start_time": "2021-12-26T14:46:53.003Z"
   },
   {
    "duration": 57,
    "start_time": "2021-12-26T14:46:53.729Z"
   },
   {
    "duration": 13,
    "start_time": "2021-12-26T14:46:53.788Z"
   },
   {
    "duration": 16,
    "start_time": "2021-12-26T14:46:53.803Z"
   },
   {
    "duration": 18,
    "start_time": "2021-12-26T14:46:53.820Z"
   },
   {
    "duration": 8,
    "start_time": "2021-12-26T14:46:53.840Z"
   },
   {
    "duration": 4,
    "start_time": "2021-12-26T14:46:53.849Z"
   },
   {
    "duration": 11,
    "start_time": "2021-12-26T14:46:53.856Z"
   },
   {
    "duration": 7,
    "start_time": "2021-12-26T14:46:53.869Z"
   },
   {
    "duration": 6,
    "start_time": "2021-12-26T14:46:53.878Z"
   },
   {
    "duration": 3,
    "start_time": "2021-12-26T14:46:53.886Z"
   },
   {
    "duration": 496,
    "start_time": "2021-12-26T14:46:53.927Z"
   },
   {
    "duration": -110608,
    "start_time": "2021-12-26T14:48:45.034Z"
   },
   {
    "duration": -110610,
    "start_time": "2021-12-26T14:48:45.037Z"
   },
   {
    "duration": -110617,
    "start_time": "2021-12-26T14:48:45.045Z"
   },
   {
    "duration": -110619,
    "start_time": "2021-12-26T14:48:45.048Z"
   },
   {
    "duration": -110626,
    "start_time": "2021-12-26T14:48:45.056Z"
   },
   {
    "duration": -110628,
    "start_time": "2021-12-26T14:48:45.059Z"
   },
   {
    "duration": -110630,
    "start_time": "2021-12-26T14:48:45.062Z"
   },
   {
    "duration": -110638,
    "start_time": "2021-12-26T14:48:45.070Z"
   },
   {
    "duration": -110639,
    "start_time": "2021-12-26T14:48:45.072Z"
   },
   {
    "duration": -110641,
    "start_time": "2021-12-26T14:48:45.075Z"
   },
   {
    "duration": -110643,
    "start_time": "2021-12-26T14:48:45.079Z"
   },
   {
    "duration": -110649,
    "start_time": "2021-12-26T14:48:45.086Z"
   },
   {
    "duration": -110651,
    "start_time": "2021-12-26T14:48:45.089Z"
   },
   {
    "duration": -110653,
    "start_time": "2021-12-26T14:48:45.092Z"
   },
   {
    "duration": -110659,
    "start_time": "2021-12-26T14:48:45.098Z"
   },
   {
    "duration": -110662,
    "start_time": "2021-12-26T14:48:45.102Z"
   },
   {
    "duration": -110664,
    "start_time": "2021-12-26T14:48:45.105Z"
   },
   {
    "duration": -110669,
    "start_time": "2021-12-26T14:48:45.111Z"
   },
   {
    "duration": -110672,
    "start_time": "2021-12-26T14:48:45.115Z"
   },
   {
    "duration": -110673,
    "start_time": "2021-12-26T14:48:45.117Z"
   },
   {
    "duration": -110679,
    "start_time": "2021-12-26T14:48:45.124Z"
   },
   {
    "duration": -110682,
    "start_time": "2021-12-26T14:48:45.128Z"
   },
   {
    "duration": -110683,
    "start_time": "2021-12-26T14:48:45.130Z"
   },
   {
    "duration": -110688,
    "start_time": "2021-12-26T14:48:45.136Z"
   },
   {
    "duration": -110691,
    "start_time": "2021-12-26T14:48:45.139Z"
   },
   {
    "duration": -110692,
    "start_time": "2021-12-26T14:48:45.142Z"
   },
   {
    "duration": -110695,
    "start_time": "2021-12-26T14:48:45.145Z"
   },
   {
    "duration": -110701,
    "start_time": "2021-12-26T14:48:45.152Z"
   },
   {
    "duration": -110703,
    "start_time": "2021-12-26T14:48:45.155Z"
   },
   {
    "duration": -110704,
    "start_time": "2021-12-26T14:48:45.158Z"
   },
   {
    "duration": -110709,
    "start_time": "2021-12-26T14:48:45.164Z"
   },
   {
    "duration": -110712,
    "start_time": "2021-12-26T14:48:45.168Z"
   },
   {
    "duration": -110714,
    "start_time": "2021-12-26T14:48:45.171Z"
   },
   {
    "duration": -110724,
    "start_time": "2021-12-26T14:48:45.182Z"
   },
   {
    "duration": -110726,
    "start_time": "2021-12-26T14:48:45.185Z"
   },
   {
    "duration": -110731,
    "start_time": "2021-12-26T14:48:45.190Z"
   },
   {
    "duration": -110733,
    "start_time": "2021-12-26T14:48:45.193Z"
   },
   {
    "duration": -110736,
    "start_time": "2021-12-26T14:48:45.197Z"
   },
   {
    "duration": -110741,
    "start_time": "2021-12-26T14:48:45.203Z"
   },
   {
    "duration": -110744,
    "start_time": "2021-12-26T14:48:45.207Z"
   },
   {
    "duration": -110744,
    "start_time": "2021-12-26T14:48:45.208Z"
   },
   {
    "duration": -110747,
    "start_time": "2021-12-26T14:48:45.212Z"
   },
   {
    "duration": -110753,
    "start_time": "2021-12-26T14:48:45.218Z"
   },
   {
    "duration": -110755,
    "start_time": "2021-12-26T14:48:45.221Z"
   },
   {
    "duration": -110757,
    "start_time": "2021-12-26T14:48:45.224Z"
   },
   {
    "duration": -110763,
    "start_time": "2021-12-26T14:48:45.231Z"
   },
   {
    "duration": -110765,
    "start_time": "2021-12-26T14:48:45.234Z"
   },
   {
    "duration": -110709,
    "start_time": "2021-12-26T14:48:45.236Z"
   },
   {
    "duration": 695,
    "start_time": "2021-12-26T14:47:29.320Z"
   },
   {
    "duration": 58,
    "start_time": "2021-12-26T14:47:30.017Z"
   },
   {
    "duration": 13,
    "start_time": "2021-12-26T14:47:30.079Z"
   },
   {
    "duration": 22,
    "start_time": "2021-12-26T14:47:30.094Z"
   },
   {
    "duration": 21,
    "start_time": "2021-12-26T14:47:30.118Z"
   },
   {
    "duration": 9,
    "start_time": "2021-12-26T14:47:30.141Z"
   },
   {
    "duration": 5,
    "start_time": "2021-12-26T14:47:30.153Z"
   },
   {
    "duration": 14,
    "start_time": "2021-12-26T14:47:30.160Z"
   },
   {
    "duration": 13,
    "start_time": "2021-12-26T14:47:30.175Z"
   },
   {
    "duration": 10,
    "start_time": "2021-12-26T14:47:30.189Z"
   },
   {
    "duration": 28,
    "start_time": "2021-12-26T14:47:30.200Z"
   },
   {
    "duration": 389,
    "start_time": "2021-12-26T14:47:30.230Z"
   },
   {
    "duration": -110592,
    "start_time": "2021-12-26T14:49:21.214Z"
   },
   {
    "duration": -110594,
    "start_time": "2021-12-26T14:49:21.217Z"
   },
   {
    "duration": -110596,
    "start_time": "2021-12-26T14:49:21.220Z"
   },
   {
    "duration": -110601,
    "start_time": "2021-12-26T14:49:21.227Z"
   },
   {
    "duration": -110603,
    "start_time": "2021-12-26T14:49:21.230Z"
   },
   {
    "duration": -110606,
    "start_time": "2021-12-26T14:49:21.234Z"
   },
   {
    "duration": -110609,
    "start_time": "2021-12-26T14:49:21.239Z"
   },
   {
    "duration": -110611,
    "start_time": "2021-12-26T14:49:21.242Z"
   },
   {
    "duration": -110612,
    "start_time": "2021-12-26T14:49:21.245Z"
   },
   {
    "duration": -110618,
    "start_time": "2021-12-26T14:49:21.252Z"
   },
   {
    "duration": -110620,
    "start_time": "2021-12-26T14:49:21.255Z"
   },
   {
    "duration": -110621,
    "start_time": "2021-12-26T14:49:21.258Z"
   },
   {
    "duration": -110623,
    "start_time": "2021-12-26T14:49:21.261Z"
   },
   {
    "duration": -110627,
    "start_time": "2021-12-26T14:49:21.267Z"
   },
   {
    "duration": -110628,
    "start_time": "2021-12-26T14:49:21.269Z"
   },
   {
    "duration": -110631,
    "start_time": "2021-12-26T14:49:21.273Z"
   },
   {
    "duration": -110635,
    "start_time": "2021-12-26T14:49:21.279Z"
   },
   {
    "duration": -110637,
    "start_time": "2021-12-26T14:49:21.282Z"
   },
   {
    "duration": -110639,
    "start_time": "2021-12-26T14:49:21.285Z"
   },
   {
    "duration": -110643,
    "start_time": "2021-12-26T14:49:21.291Z"
   },
   {
    "duration": -110645,
    "start_time": "2021-12-26T14:49:21.294Z"
   },
   {
    "duration": -110648,
    "start_time": "2021-12-26T14:49:21.298Z"
   },
   {
    "duration": -110648,
    "start_time": "2021-12-26T14:49:21.300Z"
   },
   {
    "duration": -110653,
    "start_time": "2021-12-26T14:49:21.306Z"
   },
   {
    "duration": -110655,
    "start_time": "2021-12-26T14:49:21.309Z"
   },
   {
    "duration": -110658,
    "start_time": "2021-12-26T14:49:21.313Z"
   },
   {
    "duration": -110662,
    "start_time": "2021-12-26T14:49:21.319Z"
   },
   {
    "duration": -110669,
    "start_time": "2021-12-26T14:49:21.327Z"
   },
   {
    "duration": -110674,
    "start_time": "2021-12-26T14:49:21.333Z"
   },
   {
    "duration": -110676,
    "start_time": "2021-12-26T14:49:21.336Z"
   },
   {
    "duration": -110678,
    "start_time": "2021-12-26T14:49:21.340Z"
   },
   {
    "duration": -110683,
    "start_time": "2021-12-26T14:49:21.346Z"
   },
   {
    "duration": -110685,
    "start_time": "2021-12-26T14:49:21.349Z"
   },
   {
    "duration": -110687,
    "start_time": "2021-12-26T14:49:21.352Z"
   },
   {
    "duration": -110691,
    "start_time": "2021-12-26T14:49:21.358Z"
   },
   {
    "duration": -110635,
    "start_time": "2021-12-26T14:49:21.362Z"
   },
   {
    "duration": -110637,
    "start_time": "2021-12-26T14:49:21.365Z"
   },
   {
    "duration": -110643,
    "start_time": "2021-12-26T14:49:21.371Z"
   },
   {
    "duration": -110646,
    "start_time": "2021-12-26T14:49:21.375Z"
   },
   {
    "duration": -110648,
    "start_time": "2021-12-26T14:49:21.378Z"
   },
   {
    "duration": -110658,
    "start_time": "2021-12-26T14:49:21.389Z"
   },
   {
    "duration": -110660,
    "start_time": "2021-12-26T14:49:21.392Z"
   },
   {
    "duration": -110665,
    "start_time": "2021-12-26T14:49:21.398Z"
   },
   {
    "duration": -110668,
    "start_time": "2021-12-26T14:49:21.401Z"
   },
   {
    "duration": -110671,
    "start_time": "2021-12-26T14:49:21.405Z"
   },
   {
    "duration": -110672,
    "start_time": "2021-12-26T14:49:21.407Z"
   },
   {
    "duration": -110678,
    "start_time": "2021-12-26T14:49:21.414Z"
   },
   {
    "duration": -110680,
    "start_time": "2021-12-26T14:49:21.417Z"
   },
   {
    "duration": 676,
    "start_time": "2021-12-26T14:48:15.924Z"
   },
   {
    "duration": 58,
    "start_time": "2021-12-26T14:48:16.601Z"
   },
   {
    "duration": 13,
    "start_time": "2021-12-26T14:48:16.661Z"
   },
   {
    "duration": 17,
    "start_time": "2021-12-26T14:48:16.675Z"
   },
   {
    "duration": 38,
    "start_time": "2021-12-26T14:48:16.693Z"
   },
   {
    "duration": 10,
    "start_time": "2021-12-26T14:48:16.734Z"
   },
   {
    "duration": 5,
    "start_time": "2021-12-26T14:48:16.746Z"
   },
   {
    "duration": 11,
    "start_time": "2021-12-26T14:48:16.755Z"
   },
   {
    "duration": 5,
    "start_time": "2021-12-26T14:48:16.769Z"
   },
   {
    "duration": 8,
    "start_time": "2021-12-26T14:48:16.776Z"
   },
   {
    "duration": 42,
    "start_time": "2021-12-26T14:48:16.785Z"
   },
   {
    "duration": 10510,
    "start_time": "2021-12-26T14:48:16.829Z"
   },
   {
    "duration": 4,
    "start_time": "2021-12-26T14:48:27.340Z"
   },
   {
    "duration": 10,
    "start_time": "2021-12-26T14:48:27.346Z"
   },
   {
    "duration": 5,
    "start_time": "2021-12-26T14:48:27.357Z"
   },
   {
    "duration": 187,
    "start_time": "2021-12-26T14:48:27.363Z"
   },
   {
    "duration": 176,
    "start_time": "2021-12-26T14:48:27.552Z"
   },
   {
    "duration": 173,
    "start_time": "2021-12-26T14:48:27.730Z"
   },
   {
    "duration": 25,
    "start_time": "2021-12-26T14:48:27.905Z"
   },
   {
    "duration": 2,
    "start_time": "2021-12-26T14:48:27.932Z"
   },
   {
    "duration": 213,
    "start_time": "2021-12-26T14:48:27.936Z"
   },
   {
    "duration": 171,
    "start_time": "2021-12-26T14:48:28.151Z"
   },
   {
    "duration": 4,
    "start_time": "2021-12-26T14:48:28.329Z"
   },
   {
    "duration": 2,
    "start_time": "2021-12-26T14:48:28.336Z"
   },
   {
    "duration": 7,
    "start_time": "2021-12-26T14:48:28.340Z"
   },
   {
    "duration": 179,
    "start_time": "2021-12-26T14:48:28.349Z"
   },
   {
    "duration": 6,
    "start_time": "2021-12-26T14:48:28.530Z"
   },
   {
    "duration": 8,
    "start_time": "2021-12-26T14:48:28.537Z"
   },
   {
    "duration": 12,
    "start_time": "2021-12-26T14:48:28.547Z"
   },
   {
    "duration": 4,
    "start_time": "2021-12-26T14:48:28.560Z"
   },
   {
    "duration": 6,
    "start_time": "2021-12-26T14:48:28.565Z"
   },
   {
    "duration": 27,
    "start_time": "2021-12-26T14:48:28.572Z"
   },
   {
    "duration": 6,
    "start_time": "2021-12-26T14:48:28.628Z"
   },
   {
    "duration": 8,
    "start_time": "2021-12-26T14:48:28.636Z"
   },
   {
    "duration": 7,
    "start_time": "2021-12-26T14:48:28.645Z"
   },
   {
    "duration": 7,
    "start_time": "2021-12-26T14:48:28.653Z"
   },
   {
    "duration": 5,
    "start_time": "2021-12-26T14:48:28.661Z"
   },
   {
    "duration": 6,
    "start_time": "2021-12-26T14:48:28.668Z"
   },
   {
    "duration": 11,
    "start_time": "2021-12-26T14:48:28.675Z"
   },
   {
    "duration": 57,
    "start_time": "2021-12-26T14:48:28.687Z"
   },
   {
    "duration": 11,
    "start_time": "2021-12-26T14:48:28.745Z"
   },
   {
    "duration": 4,
    "start_time": "2021-12-26T14:48:28.758Z"
   },
   {
    "duration": 634,
    "start_time": "2021-12-26T14:48:28.765Z"
   },
   {
    "duration": 3,
    "start_time": "2021-12-26T14:48:29.401Z"
   },
   {
    "duration": 54,
    "start_time": "2021-12-26T14:48:29.405Z"
   },
   {
    "duration": 171,
    "start_time": "2021-12-26T14:48:29.461Z"
   },
   {
    "duration": 5,
    "start_time": "2021-12-26T14:48:29.634Z"
   },
   {
    "duration": 8,
    "start_time": "2021-12-26T14:48:29.640Z"
   },
   {
    "duration": 6,
    "start_time": "2021-12-26T14:48:29.649Z"
   },
   {
    "duration": 5,
    "start_time": "2021-12-26T14:48:29.656Z"
   },
   {
    "duration": 83,
    "start_time": "2021-12-26T14:48:29.662Z"
   },
   {
    "duration": 14,
    "start_time": "2021-12-26T14:48:29.747Z"
   },
   {
    "duration": 19,
    "start_time": "2021-12-26T14:48:29.763Z"
   },
   {
    "duration": 10,
    "start_time": "2021-12-26T14:48:29.783Z"
   },
   {
    "duration": 189,
    "start_time": "2021-12-26T14:48:29.795Z"
   },
   {
    "duration": 6,
    "start_time": "2021-12-26T14:48:29.986Z"
   },
   {
    "duration": 144,
    "start_time": "2021-12-26T14:48:29.994Z"
   },
   {
    "duration": 314,
    "start_time": "2021-12-26T14:48:30.139Z"
   },
   {
    "duration": 378,
    "start_time": "2021-12-26T14:48:30.454Z"
   },
   {
    "duration": -110598,
    "start_time": "2021-12-26T14:50:21.432Z"
   },
   {
    "duration": 304,
    "start_time": "2021-12-26T15:03:56.484Z"
   },
   {
    "duration": 8,
    "start_time": "2021-12-26T15:16:26.202Z"
   },
   {
    "duration": 6,
    "start_time": "2021-12-26T15:16:55.307Z"
   },
   {
    "duration": 4,
    "start_time": "2021-12-26T15:18:20.134Z"
   },
   {
    "duration": 6,
    "start_time": "2021-12-26T15:20:52.099Z"
   },
   {
    "duration": 698,
    "start_time": "2021-12-26T15:24:44.940Z"
   },
   {
    "duration": 8,
    "start_time": "2021-12-26T15:24:51.433Z"
   },
   {
    "duration": 7,
    "start_time": "2021-12-26T15:25:11.292Z"
   },
   {
    "duration": 8,
    "start_time": "2021-12-26T15:25:25.014Z"
   },
   {
    "duration": 134,
    "start_time": "2021-12-26T15:26:19.019Z"
   },
   {
    "duration": 122,
    "start_time": "2021-12-26T15:26:51.376Z"
   },
   {
    "duration": 451,
    "start_time": "2021-12-26T15:31:05.958Z"
   },
   {
    "duration": 513,
    "start_time": "2021-12-26T15:33:21.274Z"
   },
   {
    "duration": 128,
    "start_time": "2021-12-26T15:34:31.579Z"
   },
   {
    "duration": 8,
    "start_time": "2021-12-26T15:38:36.112Z"
   },
   {
    "duration": 7691,
    "start_time": "2021-12-26T16:03:57.345Z"
   },
   {
    "duration": 5936,
    "start_time": "2021-12-26T16:04:21.132Z"
   },
   {
    "duration": 8,
    "start_time": "2021-12-26T16:04:42.027Z"
   },
   {
    "duration": 6,
    "start_time": "2021-12-26T16:05:24.386Z"
   },
   {
    "duration": 494,
    "start_time": "2021-12-26T16:11:41.013Z"
   },
   {
    "duration": 448,
    "start_time": "2021-12-26T16:12:45.406Z"
   },
   {
    "duration": 459,
    "start_time": "2021-12-26T16:13:00.756Z"
   },
   {
    "duration": 112,
    "start_time": "2021-12-26T16:14:05.577Z"
   },
   {
    "duration": 102,
    "start_time": "2021-12-26T16:14:19.870Z"
   },
   {
    "duration": 510,
    "start_time": "2021-12-26T16:14:47.927Z"
   },
   {
    "duration": 465,
    "start_time": "2021-12-26T16:19:05.288Z"
   },
   {
    "duration": 381,
    "start_time": "2021-12-26T16:24:59.088Z"
   },
   {
    "duration": 314,
    "start_time": "2021-12-26T16:25:10.819Z"
   },
   {
    "duration": 874,
    "start_time": "2021-12-26T16:25:23.512Z"
   },
   {
    "duration": 88,
    "start_time": "2021-12-26T16:25:24.388Z"
   },
   {
    "duration": 18,
    "start_time": "2021-12-26T16:25:24.479Z"
   },
   {
    "duration": 31,
    "start_time": "2021-12-26T16:25:24.499Z"
   },
   {
    "duration": 12,
    "start_time": "2021-12-26T16:25:24.531Z"
   },
   {
    "duration": 9,
    "start_time": "2021-12-26T16:25:24.545Z"
   },
   {
    "duration": 9,
    "start_time": "2021-12-26T16:25:24.556Z"
   },
   {
    "duration": 12,
    "start_time": "2021-12-26T16:25:24.568Z"
   },
   {
    "duration": 6,
    "start_time": "2021-12-26T16:25:24.582Z"
   },
   {
    "duration": 40,
    "start_time": "2021-12-26T16:25:24.590Z"
   },
   {
    "duration": 5,
    "start_time": "2021-12-26T16:25:24.632Z"
   },
   {
    "duration": 11145,
    "start_time": "2021-12-26T16:25:24.639Z"
   },
   {
    "duration": 4,
    "start_time": "2021-12-26T16:25:35.786Z"
   },
   {
    "duration": 9,
    "start_time": "2021-12-26T16:25:35.791Z"
   },
   {
    "duration": 26,
    "start_time": "2021-12-26T16:25:35.802Z"
   },
   {
    "duration": 172,
    "start_time": "2021-12-26T16:25:35.829Z"
   },
   {
    "duration": 168,
    "start_time": "2021-12-26T16:25:36.003Z"
   },
   {
    "duration": 163,
    "start_time": "2021-12-26T16:25:36.172Z"
   },
   {
    "duration": 7,
    "start_time": "2021-12-26T16:25:36.337Z"
   },
   {
    "duration": 2,
    "start_time": "2021-12-26T16:25:36.346Z"
   },
   {
    "duration": 221,
    "start_time": "2021-12-26T16:25:36.349Z"
   },
   {
    "duration": 171,
    "start_time": "2021-12-26T16:25:36.572Z"
   },
   {
    "duration": 4,
    "start_time": "2021-12-26T16:25:36.747Z"
   },
   {
    "duration": 5,
    "start_time": "2021-12-26T16:25:36.753Z"
   },
   {
    "duration": 11,
    "start_time": "2021-12-26T16:25:36.759Z"
   },
   {
    "duration": 182,
    "start_time": "2021-12-26T16:25:36.771Z"
   },
   {
    "duration": 6,
    "start_time": "2021-12-26T16:25:36.955Z"
   },
   {
    "duration": 8,
    "start_time": "2021-12-26T16:25:36.963Z"
   },
   {
    "duration": 14,
    "start_time": "2021-12-26T16:25:36.973Z"
   },
   {
    "duration": 4,
    "start_time": "2021-12-26T16:25:36.988Z"
   },
   {
    "duration": 5,
    "start_time": "2021-12-26T16:25:36.994Z"
   },
   {
    "duration": 66,
    "start_time": "2021-12-26T16:25:37.000Z"
   },
   {
    "duration": 5,
    "start_time": "2021-12-26T16:25:37.068Z"
   },
   {
    "duration": 7,
    "start_time": "2021-12-26T16:25:37.075Z"
   },
   {
    "duration": 6,
    "start_time": "2021-12-26T16:25:37.083Z"
   },
   {
    "duration": 6,
    "start_time": "2021-12-26T16:25:37.090Z"
   },
   {
    "duration": 6,
    "start_time": "2021-12-26T16:25:37.098Z"
   },
   {
    "duration": 23,
    "start_time": "2021-12-26T16:25:37.105Z"
   },
   {
    "duration": 14,
    "start_time": "2021-12-26T16:25:37.130Z"
   },
   {
    "duration": 30,
    "start_time": "2021-12-26T16:25:37.146Z"
   },
   {
    "duration": 12,
    "start_time": "2021-12-26T16:25:37.178Z"
   },
   {
    "duration": 5,
    "start_time": "2021-12-26T16:25:37.191Z"
   },
   {
    "duration": 640,
    "start_time": "2021-12-26T16:25:37.227Z"
   },
   {
    "duration": 3,
    "start_time": "2021-12-26T16:25:37.869Z"
   },
   {
    "duration": 59,
    "start_time": "2021-12-26T16:25:37.874Z"
   },
   {
    "duration": 173,
    "start_time": "2021-12-26T16:25:37.935Z"
   },
   {
    "duration": 5,
    "start_time": "2021-12-26T16:25:38.111Z"
   },
   {
    "duration": 13,
    "start_time": "2021-12-26T16:25:38.118Z"
   },
   {
    "duration": 7,
    "start_time": "2021-12-26T16:25:38.133Z"
   },
   {
    "duration": 6,
    "start_time": "2021-12-26T16:25:38.141Z"
   },
   {
    "duration": 22,
    "start_time": "2021-12-26T16:25:38.149Z"
   },
   {
    "duration": 99,
    "start_time": "2021-12-26T16:25:38.173Z"
   },
   {
    "duration": 15,
    "start_time": "2021-12-26T16:25:38.274Z"
   },
   {
    "duration": 37,
    "start_time": "2021-12-26T16:25:38.291Z"
   },
   {
    "duration": 12,
    "start_time": "2021-12-26T16:25:38.330Z"
   },
   {
    "duration": 185,
    "start_time": "2021-12-26T16:25:38.344Z"
   },
   {
    "duration": 8,
    "start_time": "2021-12-26T16:25:38.531Z"
   },
   {
    "duration": 144,
    "start_time": "2021-12-26T16:25:38.541Z"
   },
   {
    "duration": 313,
    "start_time": "2021-12-26T16:25:38.687Z"
   },
   {
    "duration": 529,
    "start_time": "2021-12-26T16:25:39.002Z"
   },
   {
    "duration": -110635,
    "start_time": "2021-12-26T16:27:30.168Z"
   },
   {
    "duration": -110640,
    "start_time": "2021-12-26T16:27:30.175Z"
   },
   {
    "duration": -110642,
    "start_time": "2021-12-26T16:27:30.178Z"
   },
   {
    "duration": 8,
    "start_time": "2021-12-26T16:27:37.836Z"
   },
   {
    "duration": 7,
    "start_time": "2021-12-26T16:28:28.939Z"
   },
   {
    "duration": 126,
    "start_time": "2021-12-26T16:28:29.685Z"
   },
   {
    "duration": 7,
    "start_time": "2021-12-26T16:28:35.051Z"
   },
   {
    "duration": 8,
    "start_time": "2021-12-26T16:32:23.140Z"
   },
   {
    "duration": 8,
    "start_time": "2021-12-26T16:35:47.189Z"
   },
   {
    "duration": 692,
    "start_time": "2021-12-26T16:37:38.805Z"
   },
   {
    "duration": 57,
    "start_time": "2021-12-26T16:37:39.499Z"
   },
   {
    "duration": 14,
    "start_time": "2021-12-26T16:37:39.558Z"
   },
   {
    "duration": 17,
    "start_time": "2021-12-26T16:37:39.574Z"
   },
   {
    "duration": 36,
    "start_time": "2021-12-26T16:37:39.592Z"
   },
   {
    "duration": 9,
    "start_time": "2021-12-26T16:37:39.629Z"
   },
   {
    "duration": 5,
    "start_time": "2021-12-26T16:37:39.639Z"
   },
   {
    "duration": 11,
    "start_time": "2021-12-26T16:37:39.645Z"
   },
   {
    "duration": 5,
    "start_time": "2021-12-26T16:37:39.658Z"
   },
   {
    "duration": 7,
    "start_time": "2021-12-26T16:37:39.665Z"
   },
   {
    "duration": 4,
    "start_time": "2021-12-26T16:37:39.673Z"
   },
   {
    "duration": 11049,
    "start_time": "2021-12-26T16:37:39.678Z"
   },
   {
    "duration": 5,
    "start_time": "2021-12-26T16:37:50.729Z"
   },
   {
    "duration": 10,
    "start_time": "2021-12-26T16:37:50.735Z"
   },
   {
    "duration": 6,
    "start_time": "2021-12-26T16:37:50.746Z"
   },
   {
    "duration": 283,
    "start_time": "2021-12-26T16:37:50.753Z"
   },
   {
    "duration": 194,
    "start_time": "2021-12-26T16:37:51.038Z"
   },
   {
    "duration": 193,
    "start_time": "2021-12-26T16:37:51.234Z"
   },
   {
    "duration": 8,
    "start_time": "2021-12-26T16:37:51.429Z"
   },
   {
    "duration": 3,
    "start_time": "2021-12-26T16:37:51.438Z"
   },
   {
    "duration": 217,
    "start_time": "2021-12-26T16:37:51.442Z"
   },
   {
    "duration": 172,
    "start_time": "2021-12-26T16:37:51.660Z"
   },
   {
    "duration": 4,
    "start_time": "2021-12-26T16:37:51.833Z"
   },
   {
    "duration": 3,
    "start_time": "2021-12-26T16:37:51.839Z"
   },
   {
    "duration": 6,
    "start_time": "2021-12-26T16:37:51.844Z"
   },
   {
    "duration": 176,
    "start_time": "2021-12-26T16:37:51.852Z"
   },
   {
    "duration": 6,
    "start_time": "2021-12-26T16:37:52.032Z"
   },
   {
    "duration": 7,
    "start_time": "2021-12-26T16:37:52.040Z"
   },
   {
    "duration": 10,
    "start_time": "2021-12-26T16:37:52.049Z"
   },
   {
    "duration": 5,
    "start_time": "2021-12-26T16:37:52.061Z"
   },
   {
    "duration": 5,
    "start_time": "2021-12-26T16:37:52.068Z"
   },
   {
    "duration": 68,
    "start_time": "2021-12-26T16:37:52.074Z"
   },
   {
    "duration": 7,
    "start_time": "2021-12-26T16:37:52.144Z"
   },
   {
    "duration": 8,
    "start_time": "2021-12-26T16:37:52.152Z"
   },
   {
    "duration": 12,
    "start_time": "2021-12-26T16:37:52.162Z"
   },
   {
    "duration": 7,
    "start_time": "2021-12-26T16:37:52.176Z"
   },
   {
    "duration": 9,
    "start_time": "2021-12-26T16:37:52.185Z"
   },
   {
    "duration": 7,
    "start_time": "2021-12-26T16:37:52.196Z"
   },
   {
    "duration": 33,
    "start_time": "2021-12-26T16:37:52.204Z"
   },
   {
    "duration": 21,
    "start_time": "2021-12-26T16:37:52.239Z"
   },
   {
    "duration": 12,
    "start_time": "2021-12-26T16:37:52.261Z"
   },
   {
    "duration": 5,
    "start_time": "2021-12-26T16:37:52.275Z"
   },
   {
    "duration": 649,
    "start_time": "2021-12-26T16:37:52.282Z"
   },
   {
    "duration": 3,
    "start_time": "2021-12-26T16:37:52.933Z"
   },
   {
    "duration": 59,
    "start_time": "2021-12-26T16:37:52.937Z"
   },
   {
    "duration": 196,
    "start_time": "2021-12-26T16:37:52.998Z"
   },
   {
    "duration": 5,
    "start_time": "2021-12-26T16:37:53.195Z"
   },
   {
    "duration": 7,
    "start_time": "2021-12-26T16:37:53.202Z"
   },
   {
    "duration": 20,
    "start_time": "2021-12-26T16:37:53.210Z"
   },
   {
    "duration": 5,
    "start_time": "2021-12-26T16:37:53.232Z"
   },
   {
    "duration": 13,
    "start_time": "2021-12-26T16:37:53.238Z"
   },
   {
    "duration": 75,
    "start_time": "2021-12-26T16:37:53.252Z"
   },
   {
    "duration": 15,
    "start_time": "2021-12-26T16:37:53.329Z"
   },
   {
    "duration": 22,
    "start_time": "2021-12-26T16:37:53.346Z"
   },
   {
    "duration": 11,
    "start_time": "2021-12-26T16:37:53.370Z"
   },
   {
    "duration": 186,
    "start_time": "2021-12-26T16:37:53.383Z"
   },
   {
    "duration": 7,
    "start_time": "2021-12-26T16:37:53.571Z"
   },
   {
    "duration": 6,
    "start_time": "2021-12-26T16:37:53.580Z"
   },
   {
    "duration": 157,
    "start_time": "2021-12-26T16:37:53.588Z"
   },
   {
    "duration": 9,
    "start_time": "2021-12-26T16:37:53.747Z"
   },
   {
    "duration": 317,
    "start_time": "2021-12-26T16:37:53.757Z"
   },
   {
    "duration": 7,
    "start_time": "2021-12-26T16:37:54.076Z"
   },
   {
    "duration": 8,
    "start_time": "2021-12-26T16:37:54.085Z"
   },
   {
    "duration": 204,
    "start_time": "2021-12-26T16:37:54.094Z"
   },
   {
    "duration": 8,
    "start_time": "2021-12-26T16:37:54.300Z"
   },
   {
    "duration": 7,
    "start_time": "2021-12-26T19:33:20.555Z"
   },
   {
    "duration": 73,
    "start_time": "2021-12-26T20:57:51.110Z"
   },
   {
    "duration": 1341,
    "start_time": "2021-12-26T20:58:45.859Z"
   },
   {
    "duration": 58,
    "start_time": "2021-12-26T20:58:47.201Z"
   },
   {
    "duration": 13,
    "start_time": "2021-12-26T20:58:47.261Z"
   },
   {
    "duration": 26,
    "start_time": "2021-12-26T20:58:47.276Z"
   },
   {
    "duration": 25,
    "start_time": "2021-12-26T20:58:47.303Z"
   },
   {
    "duration": 8,
    "start_time": "2021-12-26T20:58:47.329Z"
   },
   {
    "duration": 4,
    "start_time": "2021-12-26T20:58:47.339Z"
   },
   {
    "duration": 11,
    "start_time": "2021-12-26T20:58:47.345Z"
   },
   {
    "duration": 6,
    "start_time": "2021-12-26T20:58:47.358Z"
   },
   {
    "duration": 7,
    "start_time": "2021-12-26T20:58:47.365Z"
   },
   {
    "duration": 3,
    "start_time": "2021-12-26T20:58:47.374Z"
   },
   {
    "duration": 10514,
    "start_time": "2021-12-26T20:58:47.379Z"
   },
   {
    "duration": 3,
    "start_time": "2021-12-26T20:58:57.895Z"
   },
   {
    "duration": 8,
    "start_time": "2021-12-26T20:58:57.900Z"
   },
   {
    "duration": 18,
    "start_time": "2021-12-26T20:58:57.910Z"
   },
   {
    "duration": 174,
    "start_time": "2021-12-26T20:58:57.930Z"
   },
   {
    "duration": 168,
    "start_time": "2021-12-26T20:58:58.106Z"
   },
   {
    "duration": 163,
    "start_time": "2021-12-26T20:58:58.275Z"
   },
   {
    "duration": 9,
    "start_time": "2021-12-26T20:58:58.439Z"
   },
   {
    "duration": 2,
    "start_time": "2021-12-26T20:58:58.450Z"
   },
   {
    "duration": 217,
    "start_time": "2021-12-26T20:58:58.454Z"
   },
   {
    "duration": 163,
    "start_time": "2021-12-26T20:58:58.673Z"
   },
   {
    "duration": 5,
    "start_time": "2021-12-26T20:58:58.839Z"
   },
   {
    "duration": 3,
    "start_time": "2021-12-26T20:58:58.846Z"
   },
   {
    "duration": 7,
    "start_time": "2021-12-26T20:58:58.851Z"
   },
   {
    "duration": 180,
    "start_time": "2021-12-26T20:58:58.859Z"
   },
   {
    "duration": 8,
    "start_time": "2021-12-26T20:58:59.041Z"
   },
   {
    "duration": 8,
    "start_time": "2021-12-26T20:58:59.051Z"
   },
   {
    "duration": 14,
    "start_time": "2021-12-26T20:58:59.061Z"
   },
   {
    "duration": 4,
    "start_time": "2021-12-26T20:58:59.077Z"
   },
   {
    "duration": 9,
    "start_time": "2021-12-26T20:58:59.083Z"
   },
   {
    "duration": 70,
    "start_time": "2021-12-26T20:58:59.093Z"
   },
   {
    "duration": 6,
    "start_time": "2021-12-26T20:58:59.165Z"
   },
   {
    "duration": 6,
    "start_time": "2021-12-26T20:58:59.173Z"
   },
   {
    "duration": 7,
    "start_time": "2021-12-26T20:58:59.181Z"
   },
   {
    "duration": 7,
    "start_time": "2021-12-26T20:58:59.189Z"
   },
   {
    "duration": 30,
    "start_time": "2021-12-26T20:58:59.198Z"
   },
   {
    "duration": 6,
    "start_time": "2021-12-26T20:58:59.230Z"
   },
   {
    "duration": 12,
    "start_time": "2021-12-26T20:58:59.238Z"
   },
   {
    "duration": 22,
    "start_time": "2021-12-26T20:58:59.251Z"
   },
   {
    "duration": 13,
    "start_time": "2021-12-26T20:58:59.275Z"
   },
   {
    "duration": 40,
    "start_time": "2021-12-26T20:58:59.290Z"
   },
   {
    "duration": 629,
    "start_time": "2021-12-26T20:58:59.332Z"
   },
   {
    "duration": 4,
    "start_time": "2021-12-26T20:58:59.963Z"
   },
   {
    "duration": 73,
    "start_time": "2021-12-26T20:58:59.969Z"
   },
   {
    "duration": 173,
    "start_time": "2021-12-26T20:59:00.044Z"
   },
   {
    "duration": 5,
    "start_time": "2021-12-26T20:59:00.226Z"
   },
   {
    "duration": 8,
    "start_time": "2021-12-26T20:59:00.232Z"
   },
   {
    "duration": 9,
    "start_time": "2021-12-26T20:59:00.241Z"
   },
   {
    "duration": 13,
    "start_time": "2021-12-26T20:59:00.251Z"
   },
   {
    "duration": 15,
    "start_time": "2021-12-26T20:59:00.266Z"
   },
   {
    "duration": 76,
    "start_time": "2021-12-26T20:59:00.282Z"
   },
   {
    "duration": 15,
    "start_time": "2021-12-26T20:59:00.360Z"
   },
   {
    "duration": 22,
    "start_time": "2021-12-26T20:59:00.376Z"
   },
   {
    "duration": 27,
    "start_time": "2021-12-26T20:59:00.400Z"
   },
   {
    "duration": 170,
    "start_time": "2021-12-26T20:59:00.429Z"
   },
   {
    "duration": 7,
    "start_time": "2021-12-26T20:59:00.601Z"
   },
   {
    "duration": 19,
    "start_time": "2021-12-26T20:59:00.610Z"
   },
   {
    "duration": 145,
    "start_time": "2021-12-26T20:59:00.631Z"
   },
   {
    "duration": 8,
    "start_time": "2021-12-26T20:59:00.777Z"
   },
   {
    "duration": 313,
    "start_time": "2021-12-26T20:59:00.787Z"
   },
   {
    "duration": 7,
    "start_time": "2021-12-26T20:59:01.101Z"
   },
   {
    "duration": 22,
    "start_time": "2021-12-26T20:59:01.109Z"
   },
   {
    "duration": 134,
    "start_time": "2021-12-26T20:59:01.133Z"
   },
   {
    "duration": 7,
    "start_time": "2021-12-26T20:59:01.268Z"
   },
   {
    "duration": 907,
    "start_time": "2021-12-27T20:37:40.583Z"
   },
   {
    "duration": 79,
    "start_time": "2021-12-27T20:37:41.492Z"
   },
   {
    "duration": 21,
    "start_time": "2021-12-27T20:37:41.574Z"
   },
   {
    "duration": 54,
    "start_time": "2021-12-27T20:37:41.598Z"
   },
   {
    "duration": 24,
    "start_time": "2021-12-27T20:37:41.655Z"
   },
   {
    "duration": 50,
    "start_time": "2021-12-27T20:37:41.681Z"
   },
   {
    "duration": 9,
    "start_time": "2021-12-27T20:37:41.739Z"
   },
   {
    "duration": 19,
    "start_time": "2021-12-27T20:37:41.753Z"
   },
   {
    "duration": 10,
    "start_time": "2021-12-27T20:37:41.776Z"
   },
   {
    "duration": 52,
    "start_time": "2021-12-27T20:37:41.789Z"
   },
   {
    "duration": 10,
    "start_time": "2021-12-27T20:37:41.844Z"
   },
   {
    "duration": 21911,
    "start_time": "2021-12-27T20:37:41.857Z"
   },
   {
    "duration": 6,
    "start_time": "2021-12-27T20:38:03.771Z"
   },
   {
    "duration": 15,
    "start_time": "2021-12-27T20:38:03.779Z"
   },
   {
    "duration": 37,
    "start_time": "2021-12-27T20:38:03.796Z"
   },
   {
    "duration": 335,
    "start_time": "2021-12-27T20:38:03.836Z"
   },
   {
    "duration": 422,
    "start_time": "2021-12-27T20:38:04.174Z"
   },
   {
    "duration": 329,
    "start_time": "2021-12-27T20:38:04.599Z"
   },
   {
    "duration": 20,
    "start_time": "2021-12-27T20:38:04.931Z"
   },
   {
    "duration": 414,
    "start_time": "2021-12-27T20:38:04.953Z"
   },
   {
    "duration": 294,
    "start_time": "2021-12-27T20:38:05.369Z"
   },
   {
    "duration": 6,
    "start_time": "2021-12-27T20:38:05.666Z"
   },
   {
    "duration": 20,
    "start_time": "2021-12-27T20:38:05.678Z"
   },
   {
    "duration": 39,
    "start_time": "2021-12-27T20:38:05.701Z"
   },
   {
    "duration": 306,
    "start_time": "2021-12-27T20:38:05.742Z"
   },
   {
    "duration": 10,
    "start_time": "2021-12-27T20:38:06.050Z"
   },
   {
    "duration": 25,
    "start_time": "2021-12-27T20:38:06.063Z"
   },
   {
    "duration": 41,
    "start_time": "2021-12-27T20:38:06.092Z"
   },
   {
    "duration": 18,
    "start_time": "2021-12-27T20:38:06.138Z"
   },
   {
    "duration": 29,
    "start_time": "2021-12-27T20:38:06.158Z"
   },
   {
    "duration": 79,
    "start_time": "2021-12-27T20:38:06.190Z"
   },
   {
    "duration": 11,
    "start_time": "2021-12-27T20:38:06.272Z"
   },
   {
    "duration": 30,
    "start_time": "2021-12-27T20:38:06.286Z"
   },
   {
    "duration": 33,
    "start_time": "2021-12-27T20:38:06.319Z"
   },
   {
    "duration": 13,
    "start_time": "2021-12-27T20:38:06.355Z"
   },
   {
    "duration": 26,
    "start_time": "2021-12-27T20:38:06.370Z"
   },
   {
    "duration": 19,
    "start_time": "2021-12-27T20:38:06.399Z"
   },
   {
    "duration": 38,
    "start_time": "2021-12-27T20:38:06.420Z"
   },
   {
    "duration": 36,
    "start_time": "2021-12-27T20:38:06.460Z"
   },
   {
    "duration": 28,
    "start_time": "2021-12-27T20:38:06.498Z"
   },
   {
    "duration": 10,
    "start_time": "2021-12-27T20:38:06.528Z"
   },
   {
    "duration": 991,
    "start_time": "2021-12-27T20:38:06.540Z"
   },
   {
    "duration": 6,
    "start_time": "2021-12-27T20:38:07.534Z"
   },
   {
    "duration": 108,
    "start_time": "2021-12-27T20:38:07.542Z"
   },
   {
    "duration": 296,
    "start_time": "2021-12-27T20:38:07.653Z"
   },
   {
    "duration": 8,
    "start_time": "2021-12-27T20:38:07.952Z"
   },
   {
    "duration": 9,
    "start_time": "2021-12-27T20:38:07.962Z"
   },
   {
    "duration": 15,
    "start_time": "2021-12-27T20:38:07.975Z"
   },
   {
    "duration": 15,
    "start_time": "2021-12-27T20:38:08.032Z"
   },
   {
    "duration": 22,
    "start_time": "2021-12-27T20:38:08.050Z"
   },
   {
    "duration": 132,
    "start_time": "2021-12-27T20:38:08.075Z"
   },
   {
    "duration": 28,
    "start_time": "2021-12-27T20:38:08.209Z"
   },
   {
    "duration": 44,
    "start_time": "2021-12-27T20:38:08.240Z"
   },
   {
    "duration": 50,
    "start_time": "2021-12-27T20:38:08.287Z"
   },
   {
    "duration": 321,
    "start_time": "2021-12-27T20:38:08.340Z"
   },
   {
    "duration": 14,
    "start_time": "2021-12-27T20:38:08.663Z"
   },
   {
    "duration": 46,
    "start_time": "2021-12-27T20:38:08.679Z"
   },
   {
    "duration": 346,
    "start_time": "2021-12-27T20:38:08.727Z"
   },
   {
    "duration": 14,
    "start_time": "2021-12-27T20:38:09.075Z"
   },
   {
    "duration": 590,
    "start_time": "2021-12-27T20:38:09.091Z"
   },
   {
    "duration": 12,
    "start_time": "2021-12-27T20:38:09.683Z"
   },
   {
    "duration": 34,
    "start_time": "2021-12-27T20:38:09.697Z"
   },
   {
    "duration": 238,
    "start_time": "2021-12-27T20:38:09.734Z"
   },
   {
    "duration": 12,
    "start_time": "2021-12-27T20:38:09.974Z"
   },
   {
    "duration": 11,
    "start_time": "2021-12-27T20:47:57.866Z"
   },
   {
    "duration": 230,
    "start_time": "2021-12-27T20:48:51.390Z"
   },
   {
    "duration": 60,
    "start_time": "2021-12-27T20:59:11.534Z"
   },
   {
    "duration": 649,
    "start_time": "2021-12-27T21:18:15.801Z"
   },
   {
    "duration": 64,
    "start_time": "2021-12-27T21:18:16.452Z"
   },
   {
    "duration": 16,
    "start_time": "2021-12-27T21:18:16.518Z"
   },
   {
    "duration": 19,
    "start_time": "2021-12-27T21:18:16.536Z"
   },
   {
    "duration": 49,
    "start_time": "2021-12-27T21:18:16.557Z"
   },
   {
    "duration": 12,
    "start_time": "2021-12-27T21:18:16.610Z"
   },
   {
    "duration": 5,
    "start_time": "2021-12-27T21:18:16.623Z"
   },
   {
    "duration": 13,
    "start_time": "2021-12-27T21:18:16.630Z"
   },
   {
    "duration": 6,
    "start_time": "2021-12-27T21:18:16.645Z"
   },
   {
    "duration": 51,
    "start_time": "2021-12-27T21:18:16.653Z"
   },
   {
    "duration": 4,
    "start_time": "2021-12-27T21:18:16.706Z"
   },
   {
    "duration": 12089,
    "start_time": "2021-12-27T21:18:16.712Z"
   },
   {
    "duration": 5,
    "start_time": "2021-12-27T21:18:28.803Z"
   },
   {
    "duration": 9,
    "start_time": "2021-12-27T21:18:28.809Z"
   },
   {
    "duration": 5,
    "start_time": "2021-12-27T21:18:28.820Z"
   },
   {
    "duration": 213,
    "start_time": "2021-12-27T21:18:28.826Z"
   },
   {
    "duration": 198,
    "start_time": "2021-12-27T21:18:29.040Z"
   },
   {
    "duration": 199,
    "start_time": "2021-12-27T21:18:29.240Z"
   },
   {
    "duration": 8,
    "start_time": "2021-12-27T21:18:29.441Z"
   },
   {
    "duration": 242,
    "start_time": "2021-12-27T21:18:29.451Z"
   },
   {
    "duration": 182,
    "start_time": "2021-12-27T21:18:29.703Z"
   },
   {
    "duration": 9,
    "start_time": "2021-12-27T21:18:29.886Z"
   },
   {
    "duration": 11,
    "start_time": "2021-12-27T21:18:29.901Z"
   },
   {
    "duration": 214,
    "start_time": "2021-12-27T21:18:29.914Z"
   },
   {
    "duration": 8,
    "start_time": "2021-12-27T21:18:30.129Z"
   },
   {
    "duration": 17,
    "start_time": "2021-12-27T21:18:30.138Z"
   },
   {
    "duration": 26,
    "start_time": "2021-12-27T21:18:30.156Z"
   },
   {
    "duration": 13,
    "start_time": "2021-12-27T21:18:30.184Z"
   },
   {
    "duration": 19,
    "start_time": "2021-12-27T21:18:30.199Z"
   },
   {
    "duration": 40,
    "start_time": "2021-12-27T21:18:30.220Z"
   },
   {
    "duration": 6,
    "start_time": "2021-12-27T21:18:30.262Z"
   },
   {
    "duration": 17,
    "start_time": "2021-12-27T21:18:30.269Z"
   },
   {
    "duration": 22,
    "start_time": "2021-12-27T21:18:30.288Z"
   },
   {
    "duration": 9,
    "start_time": "2021-12-27T21:18:30.311Z"
   },
   {
    "duration": 7,
    "start_time": "2021-12-27T21:18:30.321Z"
   },
   {
    "duration": 7,
    "start_time": "2021-12-27T21:18:30.330Z"
   },
   {
    "duration": 18,
    "start_time": "2021-12-27T21:18:30.338Z"
   },
   {
    "duration": 47,
    "start_time": "2021-12-27T21:18:30.358Z"
   },
   {
    "duration": 15,
    "start_time": "2021-12-27T21:18:30.407Z"
   },
   {
    "duration": 8,
    "start_time": "2021-12-27T21:18:30.424Z"
   },
   {
    "duration": 735,
    "start_time": "2021-12-27T21:18:30.434Z"
   },
   {
    "duration": 3,
    "start_time": "2021-12-27T21:18:31.171Z"
   },
   {
    "duration": 63,
    "start_time": "2021-12-27T21:18:31.176Z"
   },
   {
    "duration": 211,
    "start_time": "2021-12-27T21:18:31.242Z"
   },
   {
    "duration": 5,
    "start_time": "2021-12-27T21:18:31.455Z"
   },
   {
    "duration": 18,
    "start_time": "2021-12-27T21:18:31.462Z"
   },
   {
    "duration": 23,
    "start_time": "2021-12-27T21:18:31.482Z"
   },
   {
    "duration": 15,
    "start_time": "2021-12-27T21:18:31.507Z"
   },
   {
    "duration": 17,
    "start_time": "2021-12-27T21:18:31.524Z"
   },
   {
    "duration": 66,
    "start_time": "2021-12-27T21:18:31.542Z"
   },
   {
    "duration": 16,
    "start_time": "2021-12-27T21:18:31.609Z"
   },
   {
    "duration": 31,
    "start_time": "2021-12-27T21:18:31.626Z"
   },
   {
    "duration": 13,
    "start_time": "2021-12-27T21:18:31.659Z"
   },
   {
    "duration": 217,
    "start_time": "2021-12-27T21:18:31.673Z"
   },
   {
    "duration": 11,
    "start_time": "2021-12-27T21:18:31.892Z"
   },
   {
    "duration": 18,
    "start_time": "2021-12-27T21:18:31.905Z"
   },
   {
    "duration": 14,
    "start_time": "2021-12-27T21:18:31.924Z"
   },
   {
    "duration": 168,
    "start_time": "2021-12-27T21:18:31.940Z"
   },
   {
    "duration": 10,
    "start_time": "2021-12-27T21:18:32.112Z"
   },
   {
    "duration": 385,
    "start_time": "2021-12-27T21:18:32.123Z"
   },
   {
    "duration": 8,
    "start_time": "2021-12-27T21:18:32.509Z"
   },
   {
    "duration": 20,
    "start_time": "2021-12-27T21:18:32.518Z"
   },
   {
    "duration": 171,
    "start_time": "2021-12-27T21:18:32.540Z"
   },
   {
    "duration": 8,
    "start_time": "2021-12-27T21:18:32.713Z"
   },
   {
    "duration": 7,
    "start_time": "2021-12-27T21:22:59.238Z"
   },
   {
    "duration": 8,
    "start_time": "2021-12-27T21:23:30.657Z"
   },
   {
    "duration": 188,
    "start_time": "2021-12-27T21:30:43.396Z"
   },
   {
    "duration": 173,
    "start_time": "2021-12-27T21:30:58.293Z"
   },
   {
    "duration": 148,
    "start_time": "2021-12-27T21:31:27.324Z"
   },
   {
    "duration": 229,
    "start_time": "2021-12-27T21:31:49.969Z"
   },
   {
    "duration": 157,
    "start_time": "2021-12-27T21:32:41.842Z"
   },
   {
    "duration": 54353,
    "start_time": "2021-12-27T21:34:01.112Z"
   },
   {
    "duration": -112586,
    "start_time": "2021-12-27T21:36:48.053Z"
   },
   {
    "duration": -112590,
    "start_time": "2021-12-27T21:36:48.058Z"
   },
   {
    "duration": -112591,
    "start_time": "2021-12-27T21:36:48.062Z"
   },
   {
    "duration": 624,
    "start_time": "2021-12-27T21:35:24.138Z"
   },
   {
    "duration": 58,
    "start_time": "2021-12-27T21:35:24.764Z"
   },
   {
    "duration": 15,
    "start_time": "2021-12-27T21:35:24.823Z"
   },
   {
    "duration": 17,
    "start_time": "2021-12-27T21:35:24.840Z"
   },
   {
    "duration": 34,
    "start_time": "2021-12-27T21:35:24.859Z"
   },
   {
    "duration": 9,
    "start_time": "2021-12-27T21:35:24.894Z"
   },
   {
    "duration": 5,
    "start_time": "2021-12-27T21:35:24.904Z"
   },
   {
    "duration": 13,
    "start_time": "2021-12-27T21:35:24.911Z"
   },
   {
    "duration": 6,
    "start_time": "2021-12-27T21:35:24.926Z"
   },
   {
    "duration": 8,
    "start_time": "2021-12-27T21:35:24.934Z"
   },
   {
    "duration": 5,
    "start_time": "2021-12-27T21:35:24.944Z"
   },
   {
    "duration": 11402,
    "start_time": "2021-12-27T21:35:24.951Z"
   },
   {
    "duration": 4,
    "start_time": "2021-12-27T21:35:36.355Z"
   },
   {
    "duration": 12,
    "start_time": "2021-12-27T21:35:36.360Z"
   },
   {
    "duration": 17,
    "start_time": "2021-12-27T21:35:36.374Z"
   },
   {
    "duration": 194,
    "start_time": "2021-12-27T21:35:36.393Z"
   },
   {
    "duration": 193,
    "start_time": "2021-12-27T21:35:36.588Z"
   },
   {
    "duration": 185,
    "start_time": "2021-12-27T21:35:36.783Z"
   },
   {
    "duration": 9,
    "start_time": "2021-12-27T21:35:36.969Z"
   },
   {
    "duration": 237,
    "start_time": "2021-12-27T21:35:36.979Z"
   },
   {
    "duration": 194,
    "start_time": "2021-12-27T21:35:37.218Z"
   },
   {
    "duration": 4,
    "start_time": "2021-12-27T21:35:37.413Z"
   },
   {
    "duration": 6,
    "start_time": "2021-12-27T21:35:37.421Z"
   },
   {
    "duration": 211,
    "start_time": "2021-12-27T21:35:37.429Z"
   },
   {
    "duration": 7,
    "start_time": "2021-12-27T21:35:37.641Z"
   },
   {
    "duration": 10,
    "start_time": "2021-12-27T21:35:37.649Z"
   },
   {
    "duration": 14,
    "start_time": "2021-12-27T21:35:37.661Z"
   },
   {
    "duration": 5,
    "start_time": "2021-12-27T21:35:37.691Z"
   },
   {
    "duration": 7,
    "start_time": "2021-12-27T21:35:37.698Z"
   },
   {
    "duration": 29,
    "start_time": "2021-12-27T21:35:37.707Z"
   },
   {
    "duration": 7,
    "start_time": "2021-12-27T21:35:37.738Z"
   },
   {
    "duration": 9,
    "start_time": "2021-12-27T21:35:37.747Z"
   },
   {
    "duration": 5,
    "start_time": "2021-12-27T21:35:37.758Z"
   },
   {
    "duration": 30,
    "start_time": "2021-12-27T21:35:37.765Z"
   },
   {
    "duration": 6,
    "start_time": "2021-12-27T21:35:37.797Z"
   },
   {
    "duration": 9,
    "start_time": "2021-12-27T21:35:37.804Z"
   },
   {
    "duration": 13,
    "start_time": "2021-12-27T21:35:37.814Z"
   },
   {
    "duration": 22,
    "start_time": "2021-12-27T21:35:37.828Z"
   },
   {
    "duration": 43,
    "start_time": "2021-12-27T21:35:37.852Z"
   },
   {
    "duration": 6,
    "start_time": "2021-12-27T21:35:37.896Z"
   },
   {
    "duration": 676,
    "start_time": "2021-12-27T21:35:37.904Z"
   },
   {
    "duration": 9,
    "start_time": "2021-12-27T21:35:38.582Z"
   },
   {
    "duration": 56,
    "start_time": "2021-12-27T21:35:38.593Z"
   },
   {
    "duration": 182,
    "start_time": "2021-12-27T21:35:38.651Z"
   },
   {
    "duration": 5,
    "start_time": "2021-12-27T21:35:38.835Z"
   },
   {
    "duration": 27,
    "start_time": "2021-12-27T21:35:38.842Z"
   },
   {
    "duration": 14,
    "start_time": "2021-12-27T21:35:38.871Z"
   },
   {
    "duration": 11,
    "start_time": "2021-12-27T21:35:38.887Z"
   },
   {
    "duration": 27,
    "start_time": "2021-12-27T21:35:38.900Z"
   },
   {
    "duration": 74,
    "start_time": "2021-12-27T21:35:38.929Z"
   },
   {
    "duration": 16,
    "start_time": "2021-12-27T21:35:39.005Z"
   },
   {
    "duration": 38,
    "start_time": "2021-12-27T21:35:39.023Z"
   },
   {
    "duration": 26,
    "start_time": "2021-12-27T21:35:39.063Z"
   },
   {
    "duration": 148,
    "start_time": "2021-12-27T21:35:39.090Z"
   },
   {
    "duration": 6,
    "start_time": "2021-12-27T21:35:39.240Z"
   },
   {
    "duration": 17,
    "start_time": "2021-12-27T21:35:39.247Z"
   },
   {
    "duration": 172,
    "start_time": "2021-12-27T21:35:39.266Z"
   },
   {
    "duration": 6,
    "start_time": "2021-12-27T21:35:39.440Z"
   },
   {
    "duration": 160,
    "start_time": "2021-12-27T21:35:39.448Z"
   },
   {
    "duration": 11,
    "start_time": "2021-12-27T21:35:39.610Z"
   },
   {
    "duration": 26,
    "start_time": "2021-12-27T21:35:39.622Z"
   },
   {
    "duration": 154,
    "start_time": "2021-12-27T21:35:39.650Z"
   },
   {
    "duration": 7,
    "start_time": "2021-12-27T21:35:39.805Z"
   },
   {
    "duration": 70,
    "start_time": "2021-12-27T21:45:35.392Z"
   },
   {
    "duration": 507,
    "start_time": "2021-12-27T21:46:23.837Z"
   },
   {
    "duration": 58,
    "start_time": "2021-12-27T21:54:29.369Z"
   },
   {
    "duration": 59,
    "start_time": "2021-12-27T21:57:22.875Z"
   },
   {
    "duration": 7,
    "start_time": "2021-12-27T21:59:17.721Z"
   },
   {
    "duration": 688,
    "start_time": "2021-12-27T22:00:30.568Z"
   },
   {
    "duration": 59,
    "start_time": "2021-12-27T22:00:31.258Z"
   },
   {
    "duration": 16,
    "start_time": "2021-12-27T22:00:31.319Z"
   },
   {
    "duration": 30,
    "start_time": "2021-12-27T22:00:31.337Z"
   },
   {
    "duration": 24,
    "start_time": "2021-12-27T22:00:31.369Z"
   },
   {
    "duration": 10,
    "start_time": "2021-12-27T22:00:31.395Z"
   },
   {
    "duration": 6,
    "start_time": "2021-12-27T22:00:31.407Z"
   },
   {
    "duration": 16,
    "start_time": "2021-12-27T22:00:31.415Z"
   },
   {
    "duration": 8,
    "start_time": "2021-12-27T22:00:31.433Z"
   },
   {
    "duration": 13,
    "start_time": "2021-12-27T22:00:31.443Z"
   },
   {
    "duration": 36,
    "start_time": "2021-12-27T22:00:31.457Z"
   },
   {
    "duration": 10998,
    "start_time": "2021-12-27T22:00:31.494Z"
   },
   {
    "duration": 4,
    "start_time": "2021-12-27T22:00:42.494Z"
   },
   {
    "duration": 16,
    "start_time": "2021-12-27T22:00:42.500Z"
   },
   {
    "duration": 33,
    "start_time": "2021-12-27T22:00:42.517Z"
   },
   {
    "duration": 198,
    "start_time": "2021-12-27T22:00:42.551Z"
   },
   {
    "duration": 187,
    "start_time": "2021-12-27T22:00:42.750Z"
   },
   {
    "duration": 185,
    "start_time": "2021-12-27T22:00:42.939Z"
   },
   {
    "duration": 8,
    "start_time": "2021-12-27T22:00:43.126Z"
   },
   {
    "duration": 231,
    "start_time": "2021-12-27T22:00:43.136Z"
   },
   {
    "duration": 190,
    "start_time": "2021-12-27T22:00:43.368Z"
   },
   {
    "duration": 5,
    "start_time": "2021-12-27T22:00:43.559Z"
   },
   {
    "duration": 5,
    "start_time": "2021-12-27T22:00:43.567Z"
   },
   {
    "duration": 195,
    "start_time": "2021-12-27T22:00:43.574Z"
   },
   {
    "duration": 7,
    "start_time": "2021-12-27T22:00:43.770Z"
   },
   {
    "duration": 15,
    "start_time": "2021-12-27T22:00:43.779Z"
   },
   {
    "duration": 13,
    "start_time": "2021-12-27T22:00:43.795Z"
   },
   {
    "duration": 4,
    "start_time": "2021-12-27T22:00:43.810Z"
   },
   {
    "duration": 6,
    "start_time": "2021-12-27T22:00:43.815Z"
   },
   {
    "duration": 29,
    "start_time": "2021-12-27T22:00:43.823Z"
   },
   {
    "duration": 6,
    "start_time": "2021-12-27T22:00:43.853Z"
   },
   {
    "duration": 35,
    "start_time": "2021-12-27T22:00:43.861Z"
   },
   {
    "duration": 9,
    "start_time": "2021-12-27T22:00:43.897Z"
   },
   {
    "duration": 7,
    "start_time": "2021-12-27T22:00:43.907Z"
   },
   {
    "duration": 7,
    "start_time": "2021-12-27T22:00:43.916Z"
   },
   {
    "duration": 10,
    "start_time": "2021-12-27T22:00:43.924Z"
   },
   {
    "duration": 12,
    "start_time": "2021-12-27T22:00:43.935Z"
   },
   {
    "duration": 50,
    "start_time": "2021-12-27T22:00:43.948Z"
   },
   {
    "duration": 16,
    "start_time": "2021-12-27T22:00:44.000Z"
   },
   {
    "duration": 5,
    "start_time": "2021-12-27T22:00:44.017Z"
   },
   {
    "duration": 691,
    "start_time": "2021-12-27T22:00:44.024Z"
   },
   {
    "duration": 3,
    "start_time": "2021-12-27T22:00:44.717Z"
   },
   {
    "duration": 76,
    "start_time": "2021-12-27T22:00:44.722Z"
   },
   {
    "duration": 200,
    "start_time": "2021-12-27T22:00:44.799Z"
   },
   {
    "duration": 5,
    "start_time": "2021-12-27T22:00:45.001Z"
   },
   {
    "duration": 20,
    "start_time": "2021-12-27T22:00:45.008Z"
   },
   {
    "duration": 13,
    "start_time": "2021-12-27T22:00:45.030Z"
   },
   {
    "duration": 22,
    "start_time": "2021-12-27T22:00:45.045Z"
   },
   {
    "duration": 26,
    "start_time": "2021-12-27T22:00:45.069Z"
   },
   {
    "duration": 61,
    "start_time": "2021-12-27T22:00:45.097Z"
   },
   {
    "duration": 17,
    "start_time": "2021-12-27T22:00:45.160Z"
   },
   {
    "duration": 31,
    "start_time": "2021-12-27T22:00:45.179Z"
   },
   {
    "duration": 165,
    "start_time": "2021-12-27T22:00:45.212Z"
   },
   {
    "duration": 13,
    "start_time": "2021-12-27T22:00:45.378Z"
   },
   {
    "duration": 7,
    "start_time": "2021-12-27T22:00:45.392Z"
   },
   {
    "duration": 172,
    "start_time": "2021-12-27T22:00:45.401Z"
   },
   {
    "duration": 6,
    "start_time": "2021-12-27T22:00:45.574Z"
   },
   {
    "duration": 153,
    "start_time": "2021-12-27T22:00:45.582Z"
   },
   {
    "duration": 7,
    "start_time": "2021-12-27T22:00:45.737Z"
   },
   {
    "duration": 7,
    "start_time": "2021-12-27T22:00:45.745Z"
   },
   {
    "duration": 156,
    "start_time": "2021-12-27T22:00:45.754Z"
   },
   {
    "duration": 9,
    "start_time": "2021-12-27T22:00:45.911Z"
   }
  ],
  "kernelspec": {
   "display_name": "Python 3",
   "language": "python",
   "name": "python3"
  },
  "language_info": {
   "codemirror_mode": {
    "name": "ipython",
    "version": 3
   },
   "file_extension": ".py",
   "mimetype": "text/x-python",
   "name": "python",
   "nbconvert_exporter": "python",
   "pygments_lexer": "ipython3",
   "version": "3.8.8"
  },
  "toc": {
   "base_numbering": 1,
   "nav_menu": {},
   "number_sections": true,
   "sideBar": true,
   "skip_h1_title": true,
   "title_cell": "Table of Contents",
   "title_sidebar": "Contents",
   "toc_cell": false,
   "toc_position": {},
   "toc_section_display": true,
   "toc_window_display": false
  }
 },
 "nbformat": 4,
 "nbformat_minor": 2
}
